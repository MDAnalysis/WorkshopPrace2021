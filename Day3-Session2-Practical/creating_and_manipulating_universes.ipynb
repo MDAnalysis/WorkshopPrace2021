{
 "cells": [
  {
   "cell_type": "markdown",
   "id": "34bc79e7",
   "metadata": {},
   "source": [
    "# Universe creation and manipulation\n",
    "\n",
    "Using MDAnalysis, RDKit, and OpenMM we will create an alpha helix from a sequence of amino acids. There are better tools to do that specific task, but it will make us use various interesting features of MDAnalysis."
   ]
  },
  {
   "cell_type": "code",
   "execution_count": 1,
   "id": "3209a4f7",
   "metadata": {},
   "outputs": [
    {
     "data": {
      "application/vnd.jupyter.widget-view+json": {
       "model_id": "a889011a72cf43d3a469de0a927bee4a",
       "version_major": 2,
       "version_minor": 0
      },
      "text/plain": [
       "_ColormakerRegistry()"
      ]
     },
     "metadata": {},
     "output_type": "display_data"
    }
   ],
   "source": [
    "import MDAnalysis as mda\n",
    "import nglview as nv"
   ]
  },
  {
   "cell_type": "code",
   "execution_count": 2,
   "id": "f537596e",
   "metadata": {},
   "outputs": [],
   "source": [
    "from simtk import openmm, unit\n",
    "from simtk.openmm import app\n",
    "import pdbfixer"
   ]
  },
  {
   "cell_type": "code",
   "execution_count": 3,
   "id": "e6b163c6",
   "metadata": {},
   "outputs": [],
   "source": [
    "import rdkit"
   ]
  },
  {
   "cell_type": "code",
   "execution_count": 4,
   "id": "29acc565",
   "metadata": {},
   "outputs": [],
   "source": [
    "import numpy as np"
   ]
  },
  {
   "cell_type": "markdown",
   "id": "deb73a75",
   "metadata": {
    "solution2": "shown",
    "solution2_first": true
   },
   "source": [
    "## Creating a topology from a sequence using RDKit\n",
    "\n",
    "RDKit can create a peptide from a sequence using [`MolFromSequence`](https://www.rdkit.org/docs/source/rdkit.Chem.rdmolfiles.html#rdkit.Chem.rdmolfiles.MolFromSequence). Create an RDKit molecule for the [WALP peptide](https://en.wikipedia.org/wiki/WALP_peptide) with the sequence GWWLALALALALALALWWA."
   ]
  },
  {
   "cell_type": "code",
   "execution_count": 5,
   "id": "0d805ae6",
   "metadata": {
    "solution2": "shown"
   },
   "outputs": [
    {
     "data": {
      "image/png": "[encoded data removed]",
      "text/plain": [
       "<rdkit.Chem.rdchem.Mol at 0x27c62a46530>"
      ]
     },
     "execution_count": 5,
     "metadata": {},
     "output_type": "execute_result"
    }
   ],
   "source": [
    "peptide = rdkit.Chem.MolFromSequence('GWWLALALALALALALWWA')\n",
    "peptide"
   ]
  },
  {
   "cell_type": "markdown",
   "id": "704faa5c",
   "metadata": {
    "solution2": "shown",
    "solution2_first": true
   },
   "source": [
    "Our peptide has a tolopogy but no coordinates. Ideally, we would create 3D coordinates using [`AllChem.EmbedMolecule`](https://www.rdkit.org/docs/source/rdkit.Chem.rdDistGeom.html?highlight=embedmolecule#rdkit.Chem.rdDistGeom.EmbedMolecule), sadly the method fails with our molecule. Instead, generate 2D coordinates using [`Compute2DCoords`](https://www.rdkit.org/docs/source/rdkit.Chem.rdchem.html?highlight=compute2dcoord#rdkit.Chem.rdchem.Mol.Compute2DCoords)."
   ]
  },
  {
   "cell_type": "code",
   "execution_count": 6,
   "id": "55ee4853",
   "metadata": {
    "solution2": "shown"
   },
   "outputs": [
    {
     "data": {
      "text/plain": [
       "0"
      ]
     },
     "execution_count": 6,
     "metadata": {},
     "output_type": "execute_result"
    }
   ],
   "source": [
    "peptide.Compute2DCoords()"
   ]
  },
  {
   "cell_type": "markdown",
   "id": "8068e31f",
   "metadata": {
    "solution2": "shown"
   },
   "source": [
    "## Fix the backbone with MDAnalysis\n",
    "\n",
    "At this point we have the correct topology, but the coordinates of the atoms are completely wrong. We will first fold the backbone into an helix using MDAnalysis, then we will fix the side chains using OpenMM."
   ]
  },
  {
   "cell_type": "markdown",
   "id": "6a05aa26",
   "metadata": {
    "solution2": "shown",
    "solution2_first": true
   },
   "source": [
    "### Loading the structure in MDAnalysis\n",
    "\n",
    "MDAnalysis tries to be interoperable with as many tools as possible. Since version 2.0.0, it is possible to create a universe from an RDKit molecule, and vice versa.\n",
    "\n",
    "Create a universe `u` from our RDKit peptide, then visualise the universe using NGLview."
   ]
  },
  {
   "cell_type": "code",
   "execution_count": 7,
   "id": "173ae902",
   "metadata": {
    "solution2": "shown"
   },
   "outputs": [],
   "source": [
    "u = mda.Universe(peptide)"
   ]
  },
  {
   "cell_type": "code",
   "execution_count": 8,
   "id": "6ed23492",
   "metadata": {
    "solution2": "shown"
   },
   "outputs": [
    {
     "name": "stderr",
     "output_type": "stream",
     "text": [
      "c:\\users\\dr19502\\dev\\mdanalysis\\package\\MDAnalysis\\coordinates\\PDB.py:749: UserWarning: Unit cell dimensions not found. CRYST1 record set to unitary values.\n",
      "  warnings.warn(\"Unit cell dimensions not found. \"\n",
      "c:\\users\\dr19502\\dev\\mdanalysis\\package\\MDAnalysis\\coordinates\\PDB.py:1083: UserWarning: Found no information for attr: 'record_types' Using default value of 'ATOM'\n",
      "  \"\".format(attrname, default))\n"
     ]
    },
    {
     "data": {
      "application/vnd.jupyter.widget-view+json": {
       "model_id": "9c3d58eb84374417b3a13f388563127e",
       "version_major": 2,
       "version_minor": 0
      },
      "text/plain": [
       "NGLWidget()"
      ]
     },
     "metadata": {},
     "output_type": "display_data"
    }
   ],
   "source": [
    "v = nv.show_mdanalysis(u)\n",
    "v.add_ball_and_stick()\n",
    "v"
   ]
  },
  {
   "cell_type": "markdown",
   "id": "c9277790",
   "metadata": {
    "solution2": "shown",
    "solution2_first": true
   },
   "source": [
    "### Finding the phi angles\n",
    "\n",
    "To create an alpha helix, we need to set the phi, psi, and omega dihedral angles to -60°, -50°, and 180°, respectivelly. The phi angle for a given residue is defined by the atoms `C` of the previous residue, `N`, `CA`, and `C`. The psi angle is defined by the atoms `N`, `C`, `CA`, and `N` from the next residue. Omega is defined by atoms `CA` and `C` of the previous residue, `N`, and `CA`.\n",
    "\n",
    "Before we can set the dihedral angles, we need to find them and get their current values. For each residue, create an atom group containing the 4 defining atoms of the phi angle."
   ]
  },
  {
   "cell_type": "code",
   "execution_count": 9,
   "id": "8f2e38c4",
   "metadata": {
    "solution2": "shown"
   },
   "outputs": [
    {
     "data": {
      "text/plain": [
       "[None,\n",
       " <AtomGroup with 4 atoms>,\n",
       " <AtomGroup with 4 atoms>,\n",
       " <AtomGroup with 4 atoms>,\n",
       " <AtomGroup with 4 atoms>,\n",
       " <AtomGroup with 4 atoms>,\n",
       " <AtomGroup with 4 atoms>,\n",
       " <AtomGroup with 4 atoms>,\n",
       " <AtomGroup with 4 atoms>,\n",
       " <AtomGroup with 4 atoms>,\n",
       " <AtomGroup with 4 atoms>,\n",
       " <AtomGroup with 4 atoms>,\n",
       " <AtomGroup with 4 atoms>,\n",
       " <AtomGroup with 4 atoms>,\n",
       " <AtomGroup with 4 atoms>,\n",
       " <AtomGroup with 4 atoms>,\n",
       " <AtomGroup with 4 atoms>,\n",
       " <AtomGroup with 4 atoms>,\n",
       " <AtomGroup with 4 atoms>]"
      ]
     },
     "execution_count": 9,
     "metadata": {},
     "output_type": "execute_result"
    }
   ],
   "source": [
    "u.residues.phi_selections()"
   ]
  },
  {
   "cell_type": "markdown",
   "id": "0bc5474c",
   "metadata": {
    "solution2": "hidden",
    "solution2_first": true
   },
   "source": [
    "Calculate the angle in degrees for each phi angle."
   ]
  },
  {
   "cell_type": "code",
   "execution_count": 10,
   "id": "7b347e21",
   "metadata": {
    "solution2": "hidden"
   },
   "outputs": [
    {
     "data": {
      "text/plain": [
       "[0.0,\n",
       " 0.0,\n",
       " 0.0,\n",
       " 0.0,\n",
       " 0.0,\n",
       " 180.0,\n",
       " -180.0,\n",
       " 0.0,\n",
       " 0.0,\n",
       " 0.0,\n",
       " 180.0,\n",
       " 180.0,\n",
       " 0.0,\n",
       " 0.0,\n",
       " 0.0,\n",
       " 0.0,\n",
       " 0.0,\n",
       " 0.0]"
      ]
     },
     "execution_count": 10,
     "metadata": {},
     "output_type": "execute_result"
    }
   ],
   "source": [
    "[ag.dihedral.value() for ag in u.residues.phi_selections() if ag is not None]"
   ]
  },
  {
   "cell_type": "markdown",
   "id": "6c5df050",
   "metadata": {},
   "source": [
    "### Rotating around a bond\n",
    "\n"
   ]
  },
  {
   "cell_type": "markdown",
   "id": "6d8dcdb8",
   "metadata": {},
   "source": [
    "### Building the helix"
   ]
  },
  {
   "cell_type": "code",
   "execution_count": 11,
   "id": "32268d10",
   "metadata": {},
   "outputs": [],
   "source": [
    "def set_dihedrals(ag, target_dihedral, dihedral_name):\n",
    "    all_atoms = ag.universe.atoms\n",
    "    \n",
    "    for residue in ag.residues:\n",
    "        if dihedral_name == 'phi':\n",
    "            dihedral_selection = residue.phi_selection()\n",
    "        elif dihedral_name == 'psi':\n",
    "            dihedral_selection = residue.psi_selection()\n",
    "        elif dihedral_name == 'omega':\n",
    "            dihedral_selection = residue.omega_selection()\n",
    "        else:\n",
    "            raise ValueError(f'dihedral_name cannot be \"{dihedral_name}\"')\n",
    "\n",
    "        if dihedral_selection is None:\n",
    "            continue\n",
    "\n",
    "        central_bond = dihedral_selection.intra_bonds[1]\n",
    "        bond_vector = central_bond.atoms[1].position - central_bond.atoms[0].position\n",
    "        center = central_bond.atoms[1].position\n",
    "\n",
    "        mobile = all_atoms[central_bond.atoms[1].ix:] & ag\n",
    "        \n",
    "        dihedral = dihedral_selection.dihedral.value()\n",
    "        dihedral_delta = target_dihedral - dihedral\n",
    "\n",
    "        mobile.rotateby(dihedral_delta, bond_vector, center)"
   ]
  },
  {
   "cell_type": "code",
   "execution_count": 12,
   "id": "a1f7cba4",
   "metadata": {},
   "outputs": [],
   "source": [
    "set_dihedrals(u.atoms, -60, 'phi')"
   ]
  },
  {
   "cell_type": "code",
   "execution_count": 13,
   "id": "8f876467",
   "metadata": {},
   "outputs": [],
   "source": [
    "set_dihedrals(u.atoms, -50, 'psi')"
   ]
  },
  {
   "cell_type": "code",
   "execution_count": 14,
   "id": "429bec65",
   "metadata": {},
   "outputs": [],
   "source": [
    "set_dihedrals(u.atoms, 180, 'omega')"
   ]
  },
  {
   "cell_type": "code",
   "execution_count": 15,
   "id": "75e34374",
   "metadata": {},
   "outputs": [
    {
     "data": {
      "application/vnd.jupyter.widget-view+json": {
       "model_id": "e3afecf466e14d4ebc2a9cf7cf0610cd",
       "version_major": 2,
       "version_minor": 0
      },
      "text/plain": [
       "NGLWidget()"
      ]
     },
     "metadata": {},
     "output_type": "display_data"
    }
   ],
   "source": [
    "v = nv.show_mdanalysis(u)\n",
    "v.add_ball_and_stick()\n",
    "v"
   ]
  },
  {
   "cell_type": "markdown",
   "id": "392fa458",
   "metadata": {},
   "source": [
    "## Fix the side chains with OpenMM\n",
    "\n",
    "The backbone of the peptide is folded as an helix. However the side chains are completely unphysical. To fix this we will use OpenMM to minimize the energy of the system. This requires to setup a simulation system so, first, we will have to add the hydrogen atoms."
   ]
  },
  {
   "cell_type": "markdown",
   "id": "dd668e0d",
   "metadata": {
    "solution2": "hidden",
    "solution2_first": true
   },
   "source": [
    "### Setting a box size\n",
    "\n",
    "We will be able to set the box when builing the OpenMM system. But this is an MDAnalysis workshop so let's do it with MDAnalysis!\n",
    "\n",
    "What is the current box size?"
   ]
  },
  {
   "cell_type": "code",
   "execution_count": 40,
   "id": "7c7b41fe",
   "metadata": {
    "solution2": "hidden"
   },
   "outputs": [
    {
     "data": {
      "text/plain": [
       "array([100., 100., 100.,  90.,  90.,  90.], dtype=float32)"
      ]
     },
     "execution_count": 40,
     "metadata": {},
     "output_type": "execute_result"
    }
   ],
   "source": [
    "u.dimensions"
   ]
  },
  {
   "cell_type": "markdown",
   "id": "09512b21",
   "metadata": {
    "solution2": "hidden",
    "solution2_first": true
   },
   "source": [
    "The `dimension` array contains the length of the box vectors and the box vector angles.\n",
    "\n",
    "We will use an implicit solvent to minimise the energy of our peptide, we could also have done it in vacuum, this means the size of the box does not matter much as long as it is large enough for the peptide not to interact with its periodic image. Set the box for this universe to be cubic with 10 nm sides."
   ]
  },
  {
   "cell_type": "code",
   "execution_count": 16,
   "id": "b42dd940",
   "metadata": {
    "solution2": "hidden"
   },
   "outputs": [],
   "source": [
    "u.dimensions = [100, 100, 100, 90, 90, 90]"
   ]
  },
  {
   "cell_type": "markdown",
   "id": "311bd2fe",
   "metadata": {
    "solution2": "hidden",
    "solution2_first": true
   },
   "source": [
    "### Adding the hydrogen atoms\n",
    "\n",
    "Our peptide does not have any hydrogen atoms. We could have added them earlier with RDKit; instead we will add them using [pdbfixer](https://github.com/openmm/pdbfixer), a tool related to OpenMM.\n",
    "\n",
    "Sadly, we cannot create an OpenMM topology from MDAnalysis, yet. To pass our system from MDAnalysis to OpenMM write it as a PDB file named `walp_broken.pdb`."
   ]
  },
  {
   "cell_type": "code",
   "execution_count": 17,
   "id": "2e1d6e2b",
   "metadata": {
    "solution2": "hidden"
   },
   "outputs": [],
   "source": [
    "u.atoms.write('walp_broken.pdb')"
   ]
  },
  {
   "cell_type": "markdown",
   "id": "be6061b2",
   "metadata": {
    "solution2": "hidden"
   },
   "source": [
    "Now, we can load the PDB in pdbfixer and add the hydrogen atoms. Here is the code to do so."
   ]
  },
  {
   "cell_type": "code",
   "execution_count": 18,
   "id": "68b30ef0",
   "metadata": {
    "solution2": "hidden"
   },
   "outputs": [],
   "source": [
    "u.atoms.write('walp_broken.pdb')"
   ]
  },
  {
   "cell_type": "code",
   "execution_count": 19,
   "id": "9d03a25d",
   "metadata": {
    "solution2": "hidden"
   },
   "outputs": [],
   "source": [
    "# Load the PDB file we just created\n",
    "fixer = pdbfixer.PDBFixer('walp_broken.pdb')\n",
    "# The PDBFixer object first need to find what is missing\n",
    "# in the structure and we need to request it explicitly\n",
    "# to do so.\n",
    "fixer.findMissingResidues()\n",
    "fixer.findMissingAtoms()\n",
    "# Finally! We can add the hydrogen atoms, both in the\n",
    "# topology and the structure.\n",
    "fixer.addMissingHydrogens()"
   ]
  },
  {
   "cell_type": "markdown",
   "id": "c0a6a3f8",
   "metadata": {
    "solution2": "hidden",
    "solution2_first": true
   },
   "source": [
    "### Loading the structure with hydrogen atoms in MDAnalysis\n",
    "\n",
    "MDAnalysis can create a Universe from various OpenMM object including [`Topology`](http://docs.openmm.org/7.0.0/api-python/generated/simtk.openmm.app.topology.Topology.html), [`PDBFile`](http://docs.openmm.org/7.0.0/api-python/generated/simtk.openmm.app.pdbfile.PDBFile.html#), [`PDBxFile`](http://docs.openmm.org/7.0.0/api-python/generated/simtk.openmm.app.pdbxfile.PDBxFile.html#), [`Modeller`](http://docs.openmm.org/7.0.0/api-python/generated/simtk.openmm.app.modeller.Modeller.html#), and [`Simulation`](http://docs.openmm.org/7.0.0/api-python/generated/simtk.openmm.app.simulation.Simulation.html#). It cannot, however, create a Universe from a PDBFixer object. Though, we can create a Universe from an array of coordinate and the topology in the PDBFixer object!\n",
    "\n",
    "The coordinates of the atoms are accessible as `fixer.positions`. Create an numpy array of these positions. Be carefull that pdbfixer uses nanometers by default, while MDAnalysis works in ångströms."
   ]
  },
  {
   "cell_type": "code",
   "execution_count": 22,
   "id": "74b28815",
   "metadata": {
    "solution2": "hidden"
   },
   "outputs": [],
   "source": [
    "position_array = np.array(fixer.positions.value_in_unit(unit.angstrom))"
   ]
  },
  {
   "cell_type": "markdown",
   "id": "f6ed68aa",
   "metadata": {
    "solution2": "hidden",
    "solution2_first": true
   },
   "source": [
    "Now, create an MDAnalysis's Universe from the `fixer.topology` and the array of coordinates you just created. The topology in a PDBFixer object is not exactly an OpenMM topology (it does not use the same python class), but it uses the same interface making it compatible. Because it is not the same class as an OpenMM topology, MDAnalysis does not automatically recognise how to read it; use `topology_format='OPENMMTOPOLOGY'` to specify a topology parser."
   ]
  },
  {
   "cell_type": "code",
   "execution_count": 23,
   "id": "67e79ad5",
   "metadata": {
    "solution2": "hidden"
   },
   "outputs": [],
   "source": [
    "u_hydrogen = mda.Universe(fixer.topology, position_array, topology_format='OPENMMTOPOLOGY')"
   ]
  },
  {
   "cell_type": "markdown",
   "id": "b8e66516",
   "metadata": {
    "solution2": "hidden",
    "solution2_first": true
   },
   "source": [
    "Visualise the new universe. Does it contain hydrogen atoms?"
   ]
  },
  {
   "cell_type": "code",
   "execution_count": 39,
   "id": "6e2f34da",
   "metadata": {
    "solution2": "hidden"
   },
   "outputs": [
    {
     "name": "stderr",
     "output_type": "stream",
     "text": [
      "c:\\users\\dr19502\\dev\\mdanalysis\\package\\MDAnalysis\\coordinates\\PDB.py:749: UserWarning: Unit cell dimensions not found. CRYST1 record set to unitary values.\n",
      "  warnings.warn(\"Unit cell dimensions not found. \"\n",
      "c:\\users\\dr19502\\dev\\mdanalysis\\package\\MDAnalysis\\coordinates\\PDB.py:1083: UserWarning: Found no information for attr: 'altLocs' Using default value of ' '\n",
      "  \"\".format(attrname, default))\n",
      "c:\\users\\dr19502\\dev\\mdanalysis\\package\\MDAnalysis\\coordinates\\PDB.py:1083: UserWarning: Found no information for attr: 'icodes' Using default value of ' '\n",
      "  \"\".format(attrname, default))\n",
      "c:\\users\\dr19502\\dev\\mdanalysis\\package\\MDAnalysis\\coordinates\\PDB.py:1083: UserWarning: Found no information for attr: 'occupancies' Using default value of '1.0'\n",
      "  \"\".format(attrname, default))\n",
      "c:\\users\\dr19502\\dev\\mdanalysis\\package\\MDAnalysis\\coordinates\\PDB.py:1083: UserWarning: Found no information for attr: 'tempfactors' Using default value of '0.0'\n",
      "  \"\".format(attrname, default))\n",
      "c:\\users\\dr19502\\dev\\mdanalysis\\package\\MDAnalysis\\coordinates\\PDB.py:1083: UserWarning: Found no information for attr: 'record_types' Using default value of 'ATOM'\n",
      "  \"\".format(attrname, default))\n"
     ]
    },
    {
     "data": {
      "application/vnd.jupyter.widget-view+json": {
       "model_id": "8eb77d310d3c4200a2c58181194a65ec",
       "version_major": 2,
       "version_minor": 0
      },
      "text/plain": [
       "NGLWidget()"
      ]
     },
     "metadata": {},
     "output_type": "display_data"
    }
   ],
   "source": [
    "v = nv.show_mdanalysis(u_hydrogen)\n",
    "v.add_ball_and_stick()\n",
    "v"
   ]
  },
  {
   "cell_type": "markdown",
   "id": "4f308d43",
   "metadata": {
    "solution2": "hidden"
   },
   "source": [
    "### Buiding the simulation for the energy minimisation\n",
    "\n",
    "Everything is finally ready to setup OpenMM. We will use the Amber10 force field and an implicit solvent."
   ]
  },
  {
   "cell_type": "code",
   "execution_count": 25,
   "id": "9b4d5f29",
   "metadata": {
    "solution2": "hidden"
   },
   "outputs": [],
   "source": [
    "forcefield = app.ForceField('amber10.xml', 'amber10_obc.xml')\n",
    "system = forcefield.createSystem(fixer.topology)\n",
    "# We do not need an integrator, but OpenMM will not create a\n",
    "# simulation system without one.\n",
    "integrator = openmm.LangevinIntegrator(300 * unit.kelvin, 1 / unit.picosecond, 2 * unit.femtosecond)"
   ]
  },
  {
   "cell_type": "markdown",
   "id": "cdb78ff1",
   "metadata": {
    "solution2": "hidden"
   },
   "source": [
    "We spent some time folding the backbone, we do not want the energy minimisation to alter it. We will apply position restraints on the \"N\", \"C\", and \"CA\" atoms of the backbone."
   ]
  },
  {
   "cell_type": "code",
   "execution_count": null,
   "id": "47157fd7",
   "metadata": {
    "solution2": "hidden"
   },
   "outputs": [],
   "source": [
    "force = openmm.CustomExternalForce('k * periodicdistance(x, y, z, x0, y0, z0)^2')\n",
    "force.addGlobalParameter('k', 1e5 * unit.kilocalorie_per_mole / unit.nanometer ** 2)\n",
    "force.addPerParticleParameter('x0')\n",
    "force.addPerParticleParameter('y0')\n",
    "force.addPerParticleParameter('z0')\n",
    "system.addForce(force)"
   ]
  },
  {
   "cell_type": "markdown",
   "id": "779412f0",
   "metadata": {
    "solution2": "hidden",
    "solution2_first": true
   },
   "source": [
    "We need to tell OpenMM to which atoms to apply the position restraints. We will use MDAnalysis to identify these atoms.\n",
    "\n",
    "Create an AtomGroup containing the \"N\", \"CA\", and \"C\" atoms of the peptide bachbone from the universe with hydrogen atoms we built earlier."
   ]
  },
  {
   "cell_type": "code",
   "execution_count": 24,
   "id": "4497affe",
   "metadata": {
    "solution2": "hidden"
   },
   "outputs": [],
   "source": [
    "backbone = u_hydrogen.select_atoms('name N CA C')"
   ]
  },
  {
   "cell_type": "markdown",
   "id": "753aead8",
   "metadata": {
    "solution2": "hidden",
    "solution2_first": true
   },
   "source": [
    "Adding the a particle to the pool of position restraints is done with the `force.addParticle` method. The first argument to that method is the index of the atom in the overall structure (starting from 0), the second argument is a list of the x, y, and z coordinate for the atom in nanometers.\n",
    "\n",
    "Add the backbone atoms we just selected to the position restraints."
   ]
  },
  {
   "cell_type": "code",
   "execution_count": 26,
   "id": "6edb80c5",
   "metadata": {
    "solution2": "hidden"
   },
   "outputs": [],
   "source": [
    "for atom in backbone:\n",
    "    position = [pos / 10 for pos in atom.position]\n",
    "    force.addParticle(int(atom.ix), position)"
   ]
  },
  {
   "cell_type": "markdown",
   "id": "ead61502",
   "metadata": {
    "solution2": "hidden"
   },
   "source": [
    "Now we can run the energy minimisation."
   ]
  },
  {
   "cell_type": "code",
   "execution_count": 29,
   "id": "54427c66",
   "metadata": {
    "solution2": "hidden"
   },
   "outputs": [],
   "source": [
    "# Create the simulation object\n",
    "simulation = app.Simulation(fixer.topology, system, integrator)\n",
    "# Set the position for each atom\n",
    "simulation.context.setPositions(fixer.positions)\n",
    "# Finally minimise the energy of the system\n",
    "simulation.minimizeEnergy()"
   ]
  },
  {
   "cell_type": "markdown",
   "id": "920f538b",
   "metadata": {
    "solution2": "hidden",
    "solution2_first": true
   },
   "source": [
    "## Check the final backbone with MDAnalysis\n",
    "\n",
    "We have a final structure. Load it into MDAnalysis and visualise it with NGLview."
   ]
  },
  {
   "cell_type": "code",
   "execution_count": 33,
   "id": "c1af4ad7",
   "metadata": {
    "solution2": "hidden"
   },
   "outputs": [
    {
     "name": "stderr",
     "output_type": "stream",
     "text": [
      "c:\\users\\dr19502\\dev\\mdanalysis\\package\\MDAnalysis\\coordinates\\base.py:873: UserWarning: Reader has no dt information, set to 1.0 ps\n",
      "  warnings.warn(\"Reader has no dt information, set to 1.0 ps\")\n"
     ]
    }
   ],
   "source": [
    "minimized = mda.Universe(simulation)"
   ]
  },
  {
   "cell_type": "code",
   "execution_count": 34,
   "id": "10bfed47",
   "metadata": {
    "solution2": "hidden"
   },
   "outputs": [
    {
     "name": "stderr",
     "output_type": "stream",
     "text": [
      "c:\\users\\dr19502\\dev\\mdanalysis\\package\\MDAnalysis\\coordinates\\PDB.py:1083: UserWarning: Found no information for attr: 'altLocs' Using default value of ' '\n",
      "  \"\".format(attrname, default))\n",
      "c:\\users\\dr19502\\dev\\mdanalysis\\package\\MDAnalysis\\coordinates\\PDB.py:1083: UserWarning: Found no information for attr: 'icodes' Using default value of ' '\n",
      "  \"\".format(attrname, default))\n",
      "c:\\users\\dr19502\\dev\\mdanalysis\\package\\MDAnalysis\\coordinates\\PDB.py:1083: UserWarning: Found no information for attr: 'occupancies' Using default value of '1.0'\n",
      "  \"\".format(attrname, default))\n",
      "c:\\users\\dr19502\\dev\\mdanalysis\\package\\MDAnalysis\\coordinates\\PDB.py:1083: UserWarning: Found no information for attr: 'tempfactors' Using default value of '0.0'\n",
      "  \"\".format(attrname, default))\n"
     ]
    },
    {
     "data": {
      "application/vnd.jupyter.widget-view+json": {
       "model_id": "3c32cca852b242cb8dd9639db0f8f61f",
       "version_major": 2,
       "version_minor": 0
      },
      "text/plain": [
       "NGLWidget()"
      ]
     },
     "metadata": {},
     "output_type": "display_data"
    }
   ],
   "source": [
    "v = nv.show_mdanalysis(minimized)\n",
    "v.add_ball_and_stick()\n",
    "v"
   ]
  },
  {
   "cell_type": "markdown",
   "id": "e244e3b0",
   "metadata": {
    "solution2": "hidden",
    "solution2_first": true
   },
   "source": [
    "Finally, check that the dihedral angles are the ones we expect: -60°, -50°, and 180° for the phi, psi and omega angles, respectively."
   ]
  },
  {
   "cell_type": "code",
   "execution_count": 35,
   "id": "1e20476c",
   "metadata": {
    "solution2": "hidden"
   },
   "outputs": [
    {
     "data": {
      "text/plain": [
       "[-58.731304305097176,\n",
       " -60.716517905509896,\n",
       " -59.344718452294956,\n",
       " -59.43819952075698,\n",
       " -60.920408237287454,\n",
       " -58.6708707943974,\n",
       " -59.37355658478379,\n",
       " -58.82387486378292,\n",
       " -60.91455791791515,\n",
       " -58.397680766208694,\n",
       " -59.623766573927085,\n",
       " -59.062266032331415,\n",
       " -60.951968246144155,\n",
       " -58.48341057446834,\n",
       " -62.71307847889898,\n",
       " -59.87707849141786,\n",
       " -61.79326803881186,\n",
       " -60.75273031729227]"
      ]
     },
     "execution_count": 35,
     "metadata": {},
     "output_type": "execute_result"
    }
   ],
   "source": [
    "[ag.dihedral.value() for ag in minimized.residues.phi_selections() if ag is not None]"
   ]
  },
  {
   "cell_type": "code",
   "execution_count": 36,
   "id": "2ab4876e",
   "metadata": {
    "solution2": "hidden"
   },
   "outputs": [
    {
     "data": {
      "text/plain": [
       "[-51.82677333512887,\n",
       " -52.05261139532773,\n",
       " -49.46989927526103,\n",
       " -54.69320050670237,\n",
       " -50.56727284191701,\n",
       " -53.78470245384232,\n",
       " -50.82360949138108,\n",
       " -54.36635575188945,\n",
       " -50.68885203085368,\n",
       " -53.66354020016331,\n",
       " -50.799057683786984,\n",
       " -54.3358613992427,\n",
       " -50.1549352563543,\n",
       " -53.71607062873572,\n",
       " -50.559985545694424,\n",
       " -50.79641941861376,\n",
       " -49.26687513189845,\n",
       " -50.15391653980088]"
      ]
     },
     "execution_count": 36,
     "metadata": {},
     "output_type": "execute_result"
    }
   ],
   "source": [
    "[ag.dihedral.value() for ag in minimized.residues.psi_selections() if ag is not None]"
   ]
  },
  {
   "cell_type": "code",
   "execution_count": 37,
   "id": "91c6d43a",
   "metadata": {
    "solution2": "hidden"
   },
   "outputs": [
    {
     "data": {
      "text/plain": [
       "[-178.81415803013851,\n",
       " -178.9114944870656,\n",
       " -179.42329189039694,\n",
       " -177.9122622107268,\n",
       " -178.43510838153966,\n",
       " -177.8453877866217,\n",
       " -179.07395694003256,\n",
       " -178.04079289908984,\n",
       " -178.7577136173959,\n",
       " -178.00418031779256,\n",
       " -179.12057794610078,\n",
       " -177.94725336189208,\n",
       " -179.17182676301772,\n",
       " -177.9395967712022,\n",
       " -178.59145182328385,\n",
       " -179.1509215021304,\n",
       " -179.88706111485502,\n",
       " -179.41296715225764]"
      ]
     },
     "execution_count": 37,
     "metadata": {},
     "output_type": "execute_result"
    }
   ],
   "source": [
    "[ag.dihedral.value() for ag in minimized.residues.omega_selections() if ag is not None]"
   ]
  },
  {
   "cell_type": "markdown",
   "id": "651081e1",
   "metadata": {},
   "source": [
    "## Going further\n",
    "\n",
    "* Progressively relax the position restraints on the backbone during the energy minimisation. We used very strong position restraints on the backbone when minimising the energy of the peptide. This is needed because the unphysical structure yields very high energies. As the side chain are better placed after the first round of energy minimisation, it should be possible to run subsequent energy minimisation steps with weaker position restraints to obtain a more realistic backbone.\n",
    "* Insert the peptide in a lipid bilayer. The peptide we built is called WALP, it is an artificial peptide that have been designed to study how protein behave in lipid bilayers. Get a lipid bilayer from the [NMRlipids project](https://github.com/NMRLipids/Databank), insert the peptide perpendicular to the lipid bilayer, and remove the lipid and solvent molecules that overlap with the peptide."
   ]
  },
  {
   "cell_type": "code",
   "execution_count": null,
   "id": "3b2d5ef0",
   "metadata": {},
   "outputs": [],
   "source": []
  }
 ],
 "metadata": {
  "kernelspec": {
   "display_name": "Python 3",
   "language": "python",
   "name": "python3"
  },
  "language_info": {
   "codemirror_mode": {
    "name": "ipython",
    "version": 3
   },
   "file_extension": ".py",
   "mimetype": "text/x-python",
   "name": "python",
   "nbconvert_exporter": "python",
   "pygments_lexer": "ipython3",
   "version": "3.7.6"
  }
 },
 "nbformat": 4,
 "nbformat_minor": 5
}
