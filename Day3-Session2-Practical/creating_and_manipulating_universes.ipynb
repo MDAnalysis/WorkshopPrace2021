{
 "cells": [
  {
   "cell_type": "markdown",
   "id": "34bc79e7",
   "metadata": {},
   "source": [
    "# Universe creation and manipulation\n",
    "\n",
    "Using MDAnalysis, RDKit, and OpenMM we will create an alpha helix from a sequence of amino acids. There are better tools to do that specific task, but it will make us use various interesting features of MDAnalysis."
   ]
  },
  {
   "cell_type": "code",
   "execution_count": null,
   "id": "3209a4f7",
   "metadata": {},
   "outputs": [],
   "source": [
    "import MDAnalysis as mda\n",
    "import nglview as nv"
   ]
  },
  {
   "cell_type": "code",
   "execution_count": null,
   "id": "f537596e",
   "metadata": {},
   "outputs": [],
   "source": [
    "from simtk import openmm, unit\n",
    "from simtk.openmm import app\n",
    "import pdbfixer"
   ]
  },
  {
   "cell_type": "code",
   "execution_count": null,
   "id": "e6b163c6",
   "metadata": {},
   "outputs": [],
   "source": [
    "import rdkit"
   ]
  },
  {
   "cell_type": "code",
   "execution_count": null,
   "id": "29acc565",
   "metadata": {},
   "outputs": [],
   "source": [
    "import numpy as np"
   ]
  },
  {
   "cell_type": "markdown",
   "id": "deb73a75",
   "metadata": {
    "solution2": "hidden",
    "solution2_first": true
   },
   "source": [
    "## Creating a topology from a sequence using RDKit\n",
    "\n",
    "RDKit can create a peptide from a sequence using [`MolFromSequence`](https://www.rdkit.org/docs/source/rdkit.Chem.rdmolfiles.html#rdkit.Chem.rdmolfiles.MolFromSequence). Create an RDKit molecule for the [WALP peptide](https://en.wikipedia.org/wiki/WALP_peptide) with the sequence GWWLALALALALALALWWA."
   ]
  },
  {
   "cell_type": "code",
   "execution_count": null,
   "id": "0d805ae6",
   "metadata": {
    "solution2": "hidden"
   },
   "outputs": [],
   "source": [
    "peptide = rdkit.Chem.MolFromSequence('GWWLALALALALALALWWA')\n",
    "peptide"
   ]
  },
  {
   "cell_type": "code",
   "execution_count": null,
   "id": "e9f26407",
   "metadata": {},
   "outputs": [],
   "source": []
  },
  {
   "cell_type": "markdown",
   "id": "704faa5c",
   "metadata": {
    "solution2": "hidden",
    "solution2_first": true
   },
   "source": [
    "Our peptide has a topology but no coordinates. Ideally, we would create 3D coordinates using [`AllChem.EmbedMolecule`](https://www.rdkit.org/docs/source/rdkit.Chem.rdDistGeom.html?highlight=embedmolecule#rdkit.Chem.rdDistGeom.EmbedMolecule), sadly the method fails with our molecule. Instead, generate 2D coordinates using [`Compute2DCoords`](https://www.rdkit.org/docs/source/rdkit.Chem.rdchem.html?highlight=compute2dcoord#rdkit.Chem.rdchem.Mol.Compute2DCoords)."
   ]
  },
  {
   "cell_type": "code",
   "execution_count": null,
   "id": "55ee4853",
   "metadata": {
    "solution2": "hidden"
   },
   "outputs": [],
   "source": [
    "peptide.Compute2DCoords()"
   ]
  },
  {
   "cell_type": "code",
   "execution_count": null,
   "id": "e4404a4d",
   "metadata": {},
   "outputs": [],
   "source": []
  },
  {
   "cell_type": "markdown",
   "id": "8068e31f",
   "metadata": {},
   "source": [
    "## Fix the backbone with MDAnalysis\n",
    "\n",
    "At this point we have the correct topology, but the coordinates of the atoms are completely wrong. We will first fold the backbone into an helix using MDAnalysis, then we will fix the side chains using OpenMM."
   ]
  },
  {
   "cell_type": "markdown",
   "id": "6a05aa26",
   "metadata": {
    "solution2": "hidden",
    "solution2_first": true
   },
   "source": [
    "### Loading the structure in MDAnalysis\n",
    "\n",
    "MDAnalysis tries to be interoperable with as many tools as possible. Since version 2.0.0, it is possible to create a universe from an RDKit molecule, and vice versa.\n",
    "\n",
    "Create a universe `u` from our RDKit peptide, then visualise the universe using NGLview."
   ]
  },
  {
   "cell_type": "code",
   "execution_count": null,
   "id": "173ae902",
   "metadata": {
    "solution2": "hidden"
   },
   "outputs": [],
   "source": [
    "u = mda.Universe(peptide)"
   ]
  },
  {
   "cell_type": "code",
   "execution_count": null,
   "id": "6ed23492",
   "metadata": {
    "solution2": "hidden"
   },
   "outputs": [],
   "source": [
    "v = nv.show_mdanalysis(u)\n",
    "v.add_ball_and_stick()\n",
    "v"
   ]
  },
  {
   "cell_type": "code",
   "execution_count": null,
   "id": "dcd85389",
   "metadata": {},
   "outputs": [],
   "source": []
  },
  {
   "cell_type": "markdown",
   "id": "c9277790",
   "metadata": {
    "solution2": "hidden",
    "solution2_first": true
   },
   "source": [
    "### Finding the phi angles\n",
    "\n",
    "To create an alpha helix, we need to set the phi, psi, and omega dihedral angles to -60°, -50°, and 180°, respectively. The phi angle for a given residue is defined by the atoms `C` of the previous residue, `N`, `CA`, and `C`. The psi angle is defined by the atoms `N`, `C`, `CA`, and `N` from the next residue. Omega is defined by atoms `CA` and `C` of the previous residue, `N`, and `CA`.\n",
    "\n",
    "Before we can set the dihedral angles, we need to find them and get their current values. For each residue, create an atom group containing the 4 defining atoms of the phi angle."
   ]
  },
  {
   "cell_type": "code",
   "execution_count": null,
   "id": "8f2e38c4",
   "metadata": {
    "solution2": "hidden"
   },
   "outputs": [],
   "source": [
    "all_phi = u.residues.phi_selections()\n",
    "all_phi"
   ]
  },
  {
   "cell_type": "code",
   "execution_count": null,
   "id": "90eb68ff",
   "metadata": {},
   "outputs": [],
   "source": []
  },
  {
   "cell_type": "markdown",
   "id": "0bc5474c",
   "metadata": {
    "solution2": "hidden",
    "solution2_first": true
   },
   "source": [
    "Calculate the angle in degrees for each phi angle."
   ]
  },
  {
   "cell_type": "code",
   "execution_count": null,
   "id": "7b347e21",
   "metadata": {
    "solution2": "hidden"
   },
   "outputs": [],
   "source": [
    "[ag.dihedral.value() for ag in u.residues.phi_selections() if ag is not None]"
   ]
  },
  {
   "cell_type": "code",
   "execution_count": null,
   "id": "3e46f703",
   "metadata": {},
   "outputs": [],
   "source": []
  },
  {
   "cell_type": "markdown",
   "id": "6c5df050",
   "metadata": {
    "solution2": "hidden",
    "solution2_first": true
   },
   "source": [
    "### Rotating around a bond\n",
    "\n",
    "To fold the backbone, we will rotate the structure around the appropriate bonds to set the dihedral angles to the expected value. Let's start with just one dihedral.\n",
    "\n",
    "To rotate around a bond, we need to:\n",
    "* get the bond vector around which to do the rotation\n",
    "* get the rotation center\n",
    "* identify what are the atoms to move\n",
    "\n",
    "For one of the dihedral angles of one residue, find the bond around which to rotate and compute its vector."
   ]
  },
  {
   "cell_type": "code",
   "execution_count": null,
   "id": "f588c885",
   "metadata": {
    "solution2": "hidden"
   },
   "outputs": [],
   "source": [
    "dihedral_selection = all_phi[4]\n",
    "# The bonds within the selection are C-N, N-CA, CA-C.\n",
    "# The second one is the one we are interested in.\n",
    "central_bond = dihedral_selection.intra_bonds[1]\n",
    "bond_vector = central_bond.atoms[1].position - central_bond.atoms[0].position"
   ]
  },
  {
   "cell_type": "code",
   "execution_count": null,
   "id": "22220350",
   "metadata": {},
   "outputs": [],
   "source": []
  },
  {
   "cell_type": "markdown",
   "id": "79384669",
   "metadata": {
    "solution2": "hidden",
    "solution2_first": true
   },
   "source": [
    "We will set the mobile part of the molecule as what comes *after* the bond. The centre of rotation is the atom that is part of the bond and part of the mobile part. Extract the coordinates of the center."
   ]
  },
  {
   "cell_type": "code",
   "execution_count": null,
   "id": "3af61375",
   "metadata": {
    "solution2": "hidden"
   },
   "outputs": [],
   "source": [
    "centre = central_bond.atoms[1].position"
   ]
  },
  {
   "cell_type": "code",
   "execution_count": null,
   "id": "501d68f7",
   "metadata": {},
   "outputs": [],
   "source": []
  },
  {
   "cell_type": "markdown",
   "id": "26eaae3b",
   "metadata": {
    "solution2": "hidden",
    "solution2_first": true
   },
   "source": [
    "Select the mobile part of the molecule. Here, we can assume that the atoms are ordered such as all the atoms after the bond will move with the rotation."
   ]
  },
  {
   "cell_type": "code",
   "execution_count": null,
   "id": "a94af34f",
   "metadata": {
    "solution2": "hidden"
   },
   "outputs": [],
   "source": [
    "mobile = u.atoms[central_bond.atoms[1].ix:]"
   ]
  },
  {
   "cell_type": "code",
   "execution_count": null,
   "id": "8de678c0",
   "metadata": {},
   "outputs": [],
   "source": []
  },
  {
   "cell_type": "markdown",
   "id": "ebab7d3e",
   "metadata": {
    "solution2": "hidden",
    "solution2_first": true
   },
   "source": [
    "To rotate the atoms, use the [`rotateby`](https://docs.mdanalysis.org/2.0.0-dev0/documentation_pages/core/groups.html?#MDAnalysis.core.groups.AtomGroup.rotateby) method of `AtomGroup`; then look at the structure with NGLview."
   ]
  },
  {
   "cell_type": "code",
   "execution_count": null,
   "id": "4f28370f",
   "metadata": {
    "solution2": "hidden"
   },
   "outputs": [],
   "source": [
    "mobile.rotateby(-60, bond_vector, centre)"
   ]
  },
  {
   "cell_type": "code",
   "execution_count": null,
   "id": "95c1dd11",
   "metadata": {
    "solution2": "hidden"
   },
   "outputs": [],
   "source": [
    "v = nv.show_mdanalysis(u)\n",
    "v.add_ball_and_stick()\n",
    "v"
   ]
  },
  {
   "cell_type": "code",
   "execution_count": null,
   "id": "141cf8fd",
   "metadata": {},
   "outputs": [],
   "source": []
  },
  {
   "cell_type": "markdown",
   "id": "6d8dcdb8",
   "metadata": {
    "solution2": "hidden",
    "solution2_first": true
   },
   "source": [
    "### Building the helix\n",
    "\n",
    "Now repeat that operation for all dihedral angles."
   ]
  },
  {
   "cell_type": "code",
   "execution_count": null,
   "id": "32268d10",
   "metadata": {
    "solution2": "hidden"
   },
   "outputs": [],
   "source": [
    "def set_dihedrals(ag, target_dihedral, dihedral_name):\n",
    "    all_atoms = ag.universe.atoms\n",
    "    \n",
    "    for residue in ag.residues:\n",
    "        if dihedral_name == 'phi':\n",
    "            dihedral_selection = residue.phi_selection()\n",
    "        elif dihedral_name == 'psi':\n",
    "            dihedral_selection = residue.psi_selection()\n",
    "        elif dihedral_name == 'omega':\n",
    "            dihedral_selection = residue.omega_selection()\n",
    "        else:\n",
    "            raise ValueError(f'dihedral_name cannot be \"{dihedral_name}\"')\n",
    "\n",
    "        if dihedral_selection is None:\n",
    "            continue\n",
    "\n",
    "        central_bond = dihedral_selection.intra_bonds[1]\n",
    "        bond_vector = central_bond.atoms[1].position - central_bond.atoms[0].position\n",
    "        centre = central_bond.atoms[1].position\n",
    "\n",
    "        mobile = all_atoms[central_bond.atoms[1].ix:] & ag\n",
    "        \n",
    "        dihedral = dihedral_selection.dihedral.value()\n",
    "        dihedral_delta = target_dihedral - dihedral\n",
    "\n",
    "        mobile.rotateby(dihedral_delta, bond_vector, centre)"
   ]
  },
  {
   "cell_type": "code",
   "execution_count": null,
   "id": "a1f7cba4",
   "metadata": {
    "solution2": "hidden"
   },
   "outputs": [],
   "source": [
    "set_dihedrals(u.atoms, -60, 'phi')"
   ]
  },
  {
   "cell_type": "code",
   "execution_count": null,
   "id": "8f876467",
   "metadata": {
    "solution2": "hidden"
   },
   "outputs": [],
   "source": [
    "set_dihedrals(u.atoms, -50, 'psi')"
   ]
  },
  {
   "cell_type": "code",
   "execution_count": null,
   "id": "429bec65",
   "metadata": {
    "solution2": "hidden"
   },
   "outputs": [],
   "source": [
    "set_dihedrals(u.atoms, 180, 'omega')"
   ]
  },
  {
   "cell_type": "code",
   "execution_count": null,
   "id": "a22a14eb",
   "metadata": {},
   "outputs": [],
   "source": []
  },
  {
   "cell_type": "markdown",
   "id": "bdd8b03c",
   "metadata": {
    "solution2": "hidden",
    "solution2_first": true
   },
   "source": [
    "How does the structure look like now?"
   ]
  },
  {
   "cell_type": "code",
   "execution_count": null,
   "id": "75e34374",
   "metadata": {
    "solution2": "hidden"
   },
   "outputs": [],
   "source": [
    "v = nv.show_mdanalysis(u)\n",
    "v.add_ball_and_stick()\n",
    "v"
   ]
  },
  {
   "cell_type": "code",
   "execution_count": null,
   "id": "e4b68756",
   "metadata": {},
   "outputs": [],
   "source": []
  },
  {
   "cell_type": "markdown",
   "id": "392fa458",
   "metadata": {},
   "source": [
    "## Fix the side chains with OpenMM\n",
    "\n",
    "The backbone of the peptide is folded as an helix. However the side chains are completely unphysical. To fix this we will use OpenMM to minimize the energy of the system. This requires to setup a simulation system so, first, we will have to add the hydrogen atoms."
   ]
  },
  {
   "cell_type": "markdown",
   "id": "dd668e0d",
   "metadata": {
    "solution2": "hidden",
    "solution2_first": true
   },
   "source": [
    "### Setting a box size\n",
    "\n",
    "We will be able to set the box when builing the OpenMM system. But this is an MDAnalysis workshop so let's do it with MDAnalysis!\n",
    "\n",
    "What is the current box size?"
   ]
  },
  {
   "cell_type": "code",
   "execution_count": null,
   "id": "7c7b41fe",
   "metadata": {
    "solution2": "hidden"
   },
   "outputs": [],
   "source": [
    "u.dimensions"
   ]
  },
  {
   "cell_type": "code",
   "execution_count": null,
   "id": "002d9b1a",
   "metadata": {},
   "outputs": [],
   "source": []
  },
  {
   "cell_type": "markdown",
   "id": "09512b21",
   "metadata": {
    "solution2": "hidden",
    "solution2_first": true
   },
   "source": [
    "The `dimension` array contains the length of the box vectors and the box vector angles.\n",
    "\n",
    "We will use an implicit solvent to minimise the energy of our peptide, we could also have done it in vacuum, this means the size of the box does not matter much as long as it is large enough for the peptide not to interact with its periodic image. Set the box for this universe to be cubic with 10 nm sides."
   ]
  },
  {
   "cell_type": "code",
   "execution_count": null,
   "id": "b42dd940",
   "metadata": {
    "solution2": "hidden"
   },
   "outputs": [],
   "source": [
    "u.dimensions = [100, 100, 100, 90, 90, 90]"
   ]
  },
  {
   "cell_type": "code",
   "execution_count": null,
   "id": "4f50558f",
   "metadata": {},
   "outputs": [],
   "source": []
  },
  {
   "cell_type": "markdown",
   "id": "311bd2fe",
   "metadata": {
    "solution2": "hidden",
    "solution2_first": true
   },
   "source": [
    "### Adding the hydrogen atoms\n",
    "\n",
    "Our peptide does not have any hydrogen atoms. We could have added them earlier with RDKit; instead we will add them using [pdbfixer](https://github.com/openmm/pdbfixer), a tool related to OpenMM.\n",
    "\n",
    "Sadly, we cannot create an OpenMM topology from MDAnalysis, yet. To pass our system from MDAnalysis to OpenMM write it as a PDB file named `walp_broken.pdb`."
   ]
  },
  {
   "cell_type": "code",
   "execution_count": null,
   "id": "2e1d6e2b",
   "metadata": {
    "solution2": "hidden"
   },
   "outputs": [],
   "source": [
    "u.atoms.write('walp_broken.pdb')"
   ]
  },
  {
   "cell_type": "markdown",
   "id": "be6061b2",
   "metadata": {
    "solution2": "hidden"
   },
   "source": [
    "Now, we can load the PDB in pdbfixer and add the hydrogen atoms. Here is the code to do so."
   ]
  },
  {
   "cell_type": "code",
   "execution_count": null,
   "id": "68b30ef0",
   "metadata": {
    "solution2": "hidden"
   },
   "outputs": [],
   "source": [
    "u.atoms.write('walp_broken.pdb')"
   ]
  },
  {
   "cell_type": "code",
   "execution_count": null,
   "id": "9d03a25d",
   "metadata": {
    "solution2": "hidden"
   },
   "outputs": [],
   "source": [
    "# Load the PDB file we just created\n",
    "fixer = pdbfixer.PDBFixer('walp_broken.pdb')\n",
    "# The PDBFixer object first need to find what is missing\n",
    "# in the structure and we need to request it explicitly\n",
    "# to do so.\n",
    "fixer.findMissingResidues()\n",
    "fixer.findMissingAtoms()\n",
    "# Finally! We can add the hydrogen atoms, both in the\n",
    "# topology and the structure.\n",
    "fixer.addMissingHydrogens()"
   ]
  },
  {
   "cell_type": "code",
   "execution_count": null,
   "id": "264d8513",
   "metadata": {},
   "outputs": [],
   "source": []
  },
  {
   "cell_type": "markdown",
   "id": "c0a6a3f8",
   "metadata": {
    "solution2": "hidden",
    "solution2_first": true
   },
   "source": [
    "### Loading the structure with hydrogen atoms in MDAnalysis\n",
    "\n",
    "MDAnalysis can create a Universe from various OpenMM object including [`Topology`](http://docs.openmm.org/7.0.0/api-python/generated/simtk.openmm.app.topology.Topology.html), [`PDBFile`](http://docs.openmm.org/7.0.0/api-python/generated/simtk.openmm.app.pdbfile.PDBFile.html#), [`PDBxFile`](http://docs.openmm.org/7.0.0/api-python/generated/simtk.openmm.app.pdbxfile.PDBxFile.html#), [`Modeller`](http://docs.openmm.org/7.0.0/api-python/generated/simtk.openmm.app.modeller.Modeller.html#), and [`Simulation`](http://docs.openmm.org/7.0.0/api-python/generated/simtk.openmm.app.simulation.Simulation.html#). It cannot, however, create a Universe from a PDBFixer object. Though, we can create a Universe from an array of coordinate and the topology in the PDBFixer object!\n",
    "\n",
    "The coordinates of the atoms are accessible as `fixer.positions`. Create an numpy array of these positions. Be carefull that pdbfixer uses nanometers by default, while MDAnalysis works in ångströms."
   ]
  },
  {
   "cell_type": "code",
   "execution_count": null,
   "id": "74b28815",
   "metadata": {
    "solution2": "hidden"
   },
   "outputs": [],
   "source": [
    "position_array = np.array(fixer.positions.value_in_unit(unit.angstrom))"
   ]
  },
  {
   "cell_type": "code",
   "execution_count": null,
   "id": "1f934895",
   "metadata": {},
   "outputs": [],
   "source": []
  },
  {
   "cell_type": "markdown",
   "id": "f6ed68aa",
   "metadata": {
    "solution2": "hidden",
    "solution2_first": true
   },
   "source": [
    "Now, create an MDAnalysis's Universe from the `fixer.topology` and the array of coordinates you just created. The topology in a PDBFixer object is not exactly an OpenMM topology (it does not use the same python class), but it uses the same interface making it compatible. Because it is not the same class as an OpenMM topology, MDAnalysis does not automatically recognise how to read it; use `topology_format='OPENMMTOPOLOGY'` to specify a topology parser."
   ]
  },
  {
   "cell_type": "code",
   "execution_count": null,
   "id": "67e79ad5",
   "metadata": {
    "solution2": "hidden"
   },
   "outputs": [],
   "source": [
    "u_hydrogen = mda.Universe(fixer.topology, position_array, topology_format='OPENMMTOPOLOGY')"
   ]
  },
  {
   "cell_type": "code",
   "execution_count": null,
   "id": "94f54e6e",
   "metadata": {},
   "outputs": [],
   "source": []
  },
  {
   "cell_type": "markdown",
   "id": "b8e66516",
   "metadata": {
    "solution2": "hidden",
    "solution2_first": true
   },
   "source": [
    "Visualise the new universe. Does it contain hydrogen atoms?"
   ]
  },
  {
   "cell_type": "code",
   "execution_count": null,
   "id": "6e2f34da",
   "metadata": {
    "solution2": "hidden"
   },
   "outputs": [],
   "source": [
    "v = nv.show_mdanalysis(u_hydrogen)\n",
    "v.add_ball_and_stick()\n",
    "v"
   ]
  },
  {
   "cell_type": "markdown",
   "id": "4f308d43",
   "metadata": {
    "solution2": "hidden"
   },
   "source": [
    "### Buiding the simulation for the energy minimisation\n",
    "\n",
    "Everything is finally ready to setup OpenMM. We will use the Amber10 force field and an implicit solvent."
   ]
  },
  {
   "cell_type": "code",
   "execution_count": null,
   "id": "9b4d5f29",
   "metadata": {
    "solution2": "hidden"
   },
   "outputs": [],
   "source": [
    "forcefield = app.ForceField('amber10.xml', 'amber10_obc.xml')\n",
    "system = forcefield.createSystem(fixer.topology)\n",
    "# We do not need an integrator, but OpenMM will not create a\n",
    "# simulation system without one.\n",
    "integrator = openmm.LangevinIntegrator(300 * unit.kelvin, 1 / unit.picosecond, 2 * unit.femtosecond)"
   ]
  },
  {
   "cell_type": "markdown",
   "id": "cdb78ff1",
   "metadata": {
    "solution2": "hidden"
   },
   "source": [
    "We spent some time folding the backbone, we do not want the energy minimisation to alter it. We will apply position restraints on the \"N\", \"C\", and \"CA\" atoms of the backbone."
   ]
  },
  {
   "cell_type": "code",
   "execution_count": null,
   "id": "47157fd7",
   "metadata": {
    "solution2": "hidden"
   },
   "outputs": [],
   "source": [
    "force = openmm.CustomExternalForce('k * periodicdistance(x, y, z, x0, y0, z0)^2')\n",
    "force.addGlobalParameter('k', 1e5 * unit.kilocalorie_per_mole / unit.nanometer ** 2)\n",
    "force.addPerParticleParameter('x0')\n",
    "force.addPerParticleParameter('y0')\n",
    "force.addPerParticleParameter('z0')\n",
    "system.addForce(force)"
   ]
  },
  {
   "cell_type": "code",
   "execution_count": null,
   "id": "7313c37f",
   "metadata": {},
   "outputs": [],
   "source": []
  },
  {
   "cell_type": "markdown",
   "id": "779412f0",
   "metadata": {
    "solution2": "hidden",
    "solution2_first": true
   },
   "source": [
    "We need to tell OpenMM to which atoms to apply the position restraints. We will use MDAnalysis to identify these atoms.\n",
    "\n",
    "Create an AtomGroup containing the \"N\", \"CA\", and \"C\" atoms of the peptide bachbone from the universe with hydrogen atoms we built earlier."
   ]
  },
  {
   "cell_type": "code",
   "execution_count": null,
   "id": "4497affe",
   "metadata": {
    "solution2": "hidden"
   },
   "outputs": [],
   "source": [
    "backbone = u_hydrogen.select_atoms('name N CA C')"
   ]
  },
  {
   "cell_type": "code",
   "execution_count": null,
   "id": "7e29c0bb",
   "metadata": {},
   "outputs": [],
   "source": []
  },
  {
   "cell_type": "markdown",
   "id": "753aead8",
   "metadata": {
    "solution2": "hidden",
    "solution2_first": true
   },
   "source": [
    "Adding the a particle to the pool of position restraints is done with the `force.addParticle` method. The first argument to that method is the index of the atom in the overall structure (starting from 0), the second argument is a list of the x, y, and z coordinate for the atom in nanometers.\n",
    "\n",
    "Add the backbone atoms we just selected to the position restraints."
   ]
  },
  {
   "cell_type": "code",
   "execution_count": null,
   "id": "6edb80c5",
   "metadata": {
    "solution2": "hidden"
   },
   "outputs": [],
   "source": [
    "for atom in backbone:\n",
    "    position = [pos / 10 for pos in atom.position]\n",
    "    force.addParticle(int(atom.ix), position)"
   ]
  },
  {
   "cell_type": "markdown",
   "id": "ead61502",
   "metadata": {
    "solution2": "hidden"
   },
   "source": [
    "Now we can run the energy minimisation."
   ]
  },
  {
   "cell_type": "code",
   "execution_count": null,
   "id": "54427c66",
   "metadata": {
    "solution2": "hidden"
   },
   "outputs": [],
   "source": [
    "# Create the simulation object\n",
    "simulation = app.Simulation(fixer.topology, system, integrator)\n",
    "# Set the position for each atom\n",
    "simulation.context.setPositions(fixer.positions)\n",
    "# Finally minimise the energy of the system\n",
    "simulation.minimizeEnergy()"
   ]
  },
  {
   "cell_type": "code",
   "execution_count": null,
   "id": "82b491fd",
   "metadata": {},
   "outputs": [],
   "source": []
  },
  {
   "cell_type": "markdown",
   "id": "920f538b",
   "metadata": {
    "solution2": "hidden",
    "solution2_first": true
   },
   "source": [
    "## Check the final backbone with MDAnalysis\n",
    "\n",
    "We have a final structure. Load it into MDAnalysis and visualise it with NGLview."
   ]
  },
  {
   "cell_type": "code",
   "execution_count": null,
   "id": "c1af4ad7",
   "metadata": {
    "solution2": "hidden"
   },
   "outputs": [],
   "source": [
    "minimized = mda.Universe(simulation)"
   ]
  },
  {
   "cell_type": "code",
   "execution_count": null,
   "id": "10bfed47",
   "metadata": {
    "solution2": "hidden"
   },
   "outputs": [],
   "source": [
    "v = nv.show_mdanalysis(minimized)\n",
    "v.add_ball_and_stick()\n",
    "v"
   ]
  },
  {
   "cell_type": "code",
   "execution_count": null,
   "id": "fac59907",
   "metadata": {},
   "outputs": [],
   "source": []
  },
  {
   "cell_type": "markdown",
   "id": "e244e3b0",
   "metadata": {
    "solution2": "hidden",
    "solution2_first": true
   },
   "source": [
    "Finally, check that the dihedral angles are the ones we expect: -60°, -50°, and 180° for the phi, psi and omega angles, respectively."
   ]
  },
  {
   "cell_type": "code",
   "execution_count": null,
   "id": "1e20476c",
   "metadata": {
    "solution2": "hidden"
   },
   "outputs": [],
   "source": [
    "[ag.dihedral.value() for ag in minimized.residues.phi_selections() if ag is not None]"
   ]
  },
  {
   "cell_type": "code",
   "execution_count": null,
   "id": "2ab4876e",
   "metadata": {
    "solution2": "hidden"
   },
   "outputs": [],
   "source": [
    "[ag.dihedral.value() for ag in minimized.residues.psi_selections() if ag is not None]"
   ]
  },
  {
   "cell_type": "code",
   "execution_count": null,
   "id": "91c6d43a",
   "metadata": {
    "solution2": "hidden"
   },
   "outputs": [],
   "source": [
    "[ag.dihedral.value() for ag in minimized.residues.omega_selections() if ag is not None]"
   ]
  },
  {
   "cell_type": "code",
   "execution_count": null,
   "id": "d02a7064",
   "metadata": {},
   "outputs": [],
   "source": []
  },
  {
   "cell_type": "markdown",
   "id": "651081e1",
   "metadata": {},
   "source": [
    "## Going further\n",
    "\n",
    "* Progressively relax the position restraints on the backbone during the energy minimisation. We used very strong position restraints on the backbone when minimising the energy of the peptide. This is needed because the unphysical structure yields very high energies. As the side chain are better placed after the first round of energy minimisation, it should be possible to run subsequent energy minimisation steps with weaker position restraints to obtain a more realistic backbone.\n",
    "* Insert the peptide in a lipid bilayer. The peptide we built is called WALP, it is an artificial peptide that have been designed to study how protein behave in lipid bilayers. Get a lipid bilayer from the [NMRlipids project](https://github.com/NMRLipids/Databank), insert the peptide perpendicular to the lipid bilayer, and remove the lipid and solvent molecules that overlap with the peptide."
   ]
  },
  {
   "cell_type": "code",
   "execution_count": null,
   "id": "3b2d5ef0",
   "metadata": {},
   "outputs": [],
   "source": []
  }
 ],
 "metadata": {
  "kernelspec": {
   "display_name": "Python 3",
   "language": "python",
   "name": "python3"
  },
  "language_info": {
   "codemirror_mode": {
    "name": "ipython",
    "version": 3
   },
   "file_extension": ".py",
   "mimetype": "text/x-python",
   "name": "python",
   "nbconvert_exporter": "python",
   "pygments_lexer": "ipython3",
   "version": "3.7.6"
  }
 },
 "nbformat": 4,
 "nbformat_minor": 5
}
