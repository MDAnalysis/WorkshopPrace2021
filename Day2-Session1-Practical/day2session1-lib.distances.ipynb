{
 "cells": [
  {
   "cell_type": "markdown",
   "metadata": {},
   "source": [
    "## Using lib.distances to identify hydrogen bonds\n",
    "\n",
    "This notebook walks through how to use various functions in MDAnalysis.lib.distances to identify hydrogen bonding between certain residues and the water solvent.\n",
    "\n",
    "A hydrogen bond (in the context of this analysis) will be defined as an interaction between three atoms:\n",
    "- An acceptor, which is attracting the hydrogen\n",
    "- A hydrogen, which is being pulled into the acceptor\n",
    "- A donor, which is bonded to the hydrogen and being dragged along for the ride.\n",
    "\n",
    "We will use a geometric criteria:\n",
    "- a hydrogen-acceptor distance of 3.0A \n",
    "- an acceptor-hydrogen-donor angle of greater than 120 degrees.\n",
    "\n",
    "This notebook is quite dense, feel free to go slowly and make sure that you understand each step.\n",
    "For each step, try and understand what is being put into each function, and what comes out of each function.\n",
    "Feel free to explore and change the inputs to see how this affects results.\n",
    "\n",
    "We start with the usual imports and loading our system (here TPR and TRR)."
   ]
  },
  {
   "cell_type": "code",
   "execution_count": null,
   "metadata": {},
   "outputs": [],
   "source": [
    "import MDAnalysis as mda\n",
    "from MDAnalysisTests.datafiles import TPR, TRR\n",
    "\n",
    "import numpy as np"
   ]
  },
  {
   "cell_type": "code",
   "execution_count": null,
   "metadata": {},
   "outputs": [],
   "source": [
    "u = mda.Universe(TPR, TRR)"
   ]
  },
  {
   "cell_type": "markdown",
   "metadata": {},
   "source": [
    "We then select our groups of interest.\n",
    "Firstly we grab all the oxygen atoms on either ASP or GLU residues."
   ]
  },
  {
   "cell_type": "code",
   "execution_count": null,
   "metadata": {},
   "outputs": [],
   "source": [
    "sidegroups = u.select_atoms('resname ASP GLU')\n",
    "\n",
    "acceptors = sidegroups.select_atoms('element O')"
   ]
  },
  {
   "cell_type": "markdown",
   "metadata": {},
   "source": [
    "Then we select the hydrogen atoms from the SOL (solvent) molecules."
   ]
  },
  {
   "cell_type": "code",
   "execution_count": null,
   "metadata": {},
   "outputs": [],
   "source": [
    "solvent = u.select_atoms('resname SOL')\n",
    "\n",
    "hydrogens = solvent.select_atoms('element H')"
   ]
  },
  {
   "cell_type": "markdown",
   "metadata": {},
   "source": [
    "## Distance criteria\n",
    "\n",
    "We first want to identify hydrogens and acceptors that are within our distance criteria of 3.0 angstrom.\n",
    "A naive approach is to calculate a distance array between all acceptors and all hydrogens.:"
   ]
  },
  {
   "cell_type": "code",
   "execution_count": null,
   "metadata": {},
   "outputs": [],
   "source": [
    "%%time\n",
    "\n",
    "da = mda.lib.distances.distance_array(acceptors.positions, hydrogens.positions, box=u.dimensions)"
   ]
  },
  {
   "cell_type": "markdown",
   "metadata": {},
   "source": [
    "**Hint** `np.where` is a handy function for returning the *indices* of where a condition is True.  Here we use it to extract the row and column numbers of where an entry in a distance matrix is less than 3.0."
   ]
  },
  {
   "cell_type": "code",
   "execution_count": null,
   "metadata": {},
   "outputs": [],
   "source": [
    "acc_idx, hyd_idx = np.where(da < 3.0)"
   ]
  },
  {
   "cell_type": "markdown",
   "metadata": {},
   "source": [
    "## Using capped distance\n",
    "\n",
    "This is a great example of where we're not interested in all distances, but instead only those up to a given cutoff - Using `capped_distance` is much quicker here!\n",
    "\n",
    "**Reminder**: The output of `capped_distance` is no longer a matrix, but an array of indices and the distance values at those indices.  This can be thought of as a sparse matrix.\n",
    "\n",
    "Try experimenting with the cutoff distance to see how the time required varies."
   ]
  },
  {
   "cell_type": "code",
   "execution_count": null,
   "metadata": {},
   "outputs": [],
   "source": [
    "%%time \n",
    "\n",
    "idx, dists = mda.lib.distances.capped_distance(acceptors.positions, hydrogens.positions, max_cutoff=3.0,\n",
    "                                            box=u.dimensions)"
   ]
  },
  {
   "cell_type": "markdown",
   "metadata": {},
   "source": [
    "The `idx` array is a `(n, 2)` array of indices; to grab the first and second column, we can transpose the array (`.T`) and assign each row to a varaible, `acc_idx` for the *indices* of the acceptors and `hyd_idx` for the *indices* of the hydrogen atoms."
   ]
  },
  {
   "cell_type": "code",
   "execution_count": null,
   "metadata": {},
   "outputs": [],
   "source": [
    "acc_idx, hyd_idx = idx.T"
   ]
  },
  {
   "cell_type": "markdown",
   "metadata": {},
   "source": [
    "Remembering that we can slice AtomGroups with numpy arrays, we can use these indices arrays to slice our original AtomGroups to filter them down and make them smaller."
   ]
  },
  {
   "cell_type": "code",
   "execution_count": null,
   "metadata": {},
   "outputs": [],
   "source": [
    "# select potential hydrogen bonds to check angles\n",
    "potential_hbond_acceptors = acceptors[acc_idx]\n",
    "potential_hbond_hydrogens = hydrogens[hyd_idx]"
   ]
  },
  {
   "cell_type": "markdown",
   "metadata": {},
   "source": [
    "To get the **donors** for each hydrogen bond is slightly trickier.\n",
    "We can use the fact that hydrogens will only have one covalent bond, and simply loop over the hydrogen atoms, grabbing the first (and only) bonded atom of each. \n",
    "\n",
    "**Reminder** `sum()` over `MDAnalysis.Atom` objects will produce an `AtomGroup`!"
   ]
  },
  {
   "cell_type": "code",
   "execution_count": null,
   "metadata": {},
   "outputs": [],
   "source": [
    "potential_hbond_donors = sum(h.bonded_atoms[0] for h in potential_hbond_hydrogens)"
   ]
  },
  {
   "cell_type": "markdown",
   "metadata": {},
   "source": [
    "## Checking the angle criteria\n",
    "\n",
    "Now that we've identified hydrogens and acceptors which are close enough for a hydrogen bond, we can now check our angular criteria.\n",
    "The angle formed by the acceptor-hydrogen-donor must be greater than 120 degrees!\n",
    "\n",
    "**Reminder**: The input to `calc_angles` must be in the correct order, with the second array of positions being the vertex of the angle.  Results are returned in radians!\n",
    "\n",
    "By first checking the distance criteria and filtering down our input, we greatly reduce the number of angles we must calculate.\n",
    "This is important as angles calculations are computationally more expensive than distance calculations."
   ]
  },
  {
   "cell_type": "code",
   "execution_count": null,
   "metadata": {},
   "outputs": [],
   "source": [
    "angles = np.rad2deg(\n",
    "    mda.lib.distances.calc_angles(potential_hbond_acceptors.positions,\n",
    "                                  potential_hbond_hydrogens.positions,\n",
    "                                  potential_hbond_donors.positions, box=u.dimensions)\n",
    ")"
   ]
  },
  {
   "cell_type": "markdown",
   "metadata": {},
   "source": [
    "Again we can use `np.where` to get the *indices* of where a condition is True, here if a value is above 120."
   ]
  },
  {
   "cell_type": "code",
   "execution_count": null,
   "metadata": {},
   "outputs": [],
   "source": [
    "angle_idx = np.where(angles >= 120.0)"
   ]
  },
  {
   "cell_type": "markdown",
   "metadata": {},
   "source": [
    "Finally, we can slice our list of candidate atoms with `angle_idx` to get three AtomGroups, each representing a different component in a hydrogen bond."
   ]
  },
  {
   "cell_type": "code",
   "execution_count": null,
   "metadata": {},
   "outputs": [],
   "source": [
    "hbond_acceptors = potential_hbond_acceptors[angle_idx]\n",
    "hbond_hydrogens = potential_hbond_hydrogens[angle_idx]\n",
    "hbond_donors = potential_hbond_donors[angle_idx]"
   ]
  },
  {
   "cell_type": "code",
   "execution_count": null,
   "metadata": {},
   "outputs": [],
   "source": [
    "hbond_donors"
   ]
  },
  {
   "cell_type": "markdown",
   "metadata": {},
   "source": [
    "## Extension work\n",
    "\n",
    "The `lib.distances` module is used heavily throughout MDAnalysis.\n",
    "\n",
    "For further exercises:\n",
    "\n",
    "- Currently bonds are guessed based upon distances between atoms.  Which functions could you use to find all pairs of atoms that are close enough to be bonded?\n",
    "\n",
    "- A radial distribution function can be calculated using a histogram of distances.  Using `np.hist` (to make a histogram) how could you calculate the distribution of distances between two AtomGroups?"
   ]
  },
  {
   "cell_type": "markdown",
   "metadata": {},
   "source": [
    "### The Analysis class way\n",
    "\n",
    "Because hydrogen bond analysis is so common, it already exists as an Analysis class.\n",
    "I'm sorry about making you write it all over again,\n",
    "but perhaps it teaches another lesson about checking for existing solutions before writing your own."
   ]
  },
  {
   "cell_type": "code",
   "execution_count": null,
   "metadata": {},
   "outputs": [],
   "source": [
    "from MDAnalysis.analysis.hydrogenbonds import HydrogenBondAnalysis"
   ]
  },
  {
   "cell_type": "code",
   "execution_count": null,
   "metadata": {},
   "outputs": [],
   "source": [
    "hbonds = HydrogenBondAnalysis(u,\n",
    "                             acceptors_sel='resname ASP GLU and element O',\n",
    "                             hydrogens_sel='resname SOL and element H')"
   ]
  },
  {
   "cell_type": "markdown",
   "metadata": {},
   "source": [
    "We can then run analysis for the first 5 frames of the trajectory.\n",
    "\n",
    "**Reminder** By default all frames will be analysed, defining `start`, `stop`, `step` in `run()` will control how the trajectory is sliced."
   ]
  },
  {
   "cell_type": "code",
   "execution_count": null,
   "metadata": {},
   "outputs": [],
   "source": [
    "hbonds.run(stop=5)"
   ]
  },
  {
   "cell_type": "markdown",
   "metadata": {},
   "source": [
    "Results are then available through the `.results` attribute.\n",
    "The format of this is slightly confusing, from the documentation:\n",
    "\n",
    "\"\n",
    "Hydrogen bond data are returned in a numpy.ndarray on a “one line, one observation” basis and can be accessed via HydrogenBondAnalysis.hbonds:\n",
    "\n",
    "```\n",
    "results = [\n",
    "    [\n",
    "        <frame>,\n",
    "        <donor index (0-based)>,\n",
    "        <hydrogen index (0-based)>,\n",
    "        <acceptor index (0-based)>,\n",
    "        <distance>,\n",
    "        <angle>\n",
    "    ],\n",
    "    ...\n",
    "]\n",
    "```\n",
    "\""
   ]
  },
  {
   "cell_type": "code",
   "execution_count": null,
   "metadata": {},
   "outputs": [],
   "source": [
    "hbonds.results.hbonds[0]"
   ]
  },
  {
   "cell_type": "markdown",
   "metadata": {},
   "source": [
    "The second to fourth values are actually integers..."
   ]
  },
  {
   "cell_type": "code",
   "execution_count": null,
   "metadata": {},
   "outputs": [],
   "source": [
    "u.atoms[3561]"
   ]
  },
  {
   "cell_type": "code",
   "execution_count": null,
   "metadata": {},
   "outputs": [],
   "source": [
    "u.atoms[3563]"
   ]
  },
  {
   "cell_type": "code",
   "execution_count": null,
   "metadata": {},
   "outputs": [],
   "source": [
    "u.atoms[2492]"
   ]
  },
  {
   "cell_type": "code",
   "execution_count": null,
   "metadata": {},
   "outputs": [],
   "source": []
  }
 ],
 "metadata": {
  "kernelspec": {
   "display_name": "Python 3",
   "language": "python",
   "name": "python3"
  },
  "language_info": {
   "codemirror_mode": {
    "name": "ipython",
    "version": 3
   },
   "file_extension": ".py",
   "mimetype": "text/x-python",
   "name": "python",
   "nbconvert_exporter": "python",
   "pygments_lexer": "ipython3",
   "version": "3.6.10"
  }
 },
 "nbformat": 4,
 "nbformat_minor": 4
}
