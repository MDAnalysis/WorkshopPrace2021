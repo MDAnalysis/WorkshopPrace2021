{
 "cells": [
  {
   "cell_type": "markdown",
   "metadata": {},
   "source": [
    "## Using lib.distances to identify hydrogen bonds\n",
    "\n",
    "This notebook walks through how to use various functions in MDAnalysis.lib.distances to identify hydrogen bonding between certain residues and the water solvent.\n",
    "Hydrogen bonds are here defined by a geometric criteria, a hydrogen-acceptor distance of 3.0A and an acceptor-hydrogen-donor angle of greater than 120 degrees.\n",
    "\n",
    "We start with the usual imports and loading our system (here TPR and TRR)."
   ]
  },
  {
   "cell_type": "code",
   "execution_count": 74,
   "metadata": {},
   "outputs": [],
   "source": [
    "import MDAnalysis as mda\n",
    "from MDAnalysisTests.datafiles import TPR, TRR\n",
    "\n",
    "import numpy as np"
   ]
  },
  {
   "cell_type": "code",
   "execution_count": 75,
   "metadata": {},
   "outputs": [],
   "source": [
    "u = mda.Universe(TPR, TRR)"
   ]
  },
  {
   "cell_type": "markdown",
   "metadata": {},
   "source": [
    "We then select our groups of interest.\n",
    "Firstly we grab all the oxygen atoms on either ASP or GLU residues."
   ]
  },
  {
   "cell_type": "code",
   "execution_count": 20,
   "metadata": {},
   "outputs": [],
   "source": [
    "sidegroups = u.select_atoms('resname ASP GLU')\n",
    "\n",
    "acceptors = sidegroups.select_atoms('element O')"
   ]
  },
  {
   "cell_type": "markdown",
   "metadata": {},
   "source": [
    "Then we select the hydrogen atoms from the SOL (solvent) molecules."
   ]
  },
  {
   "cell_type": "code",
   "execution_count": 22,
   "metadata": {},
   "outputs": [],
   "source": [
    "solvent = u.select_atoms('resname SOL')\n",
    "\n",
    "hydrogens = solvent.select_atoms('element H')"
   ]
  },
  {
   "cell_type": "markdown",
   "metadata": {},
   "source": [
    "## Distance criteria\n",
    "\n",
    "We first want to identify hydrogens and acceptors that are within our distance criteria of 3.0 angstrom.\n",
    "A naive approach is to calculate a distance array between all acceptors and all hydrogens.:"
   ]
  },
  {
   "cell_type": "code",
   "execution_count": 76,
   "metadata": {},
   "outputs": [
    {
     "name": "stdout",
     "output_type": "stream",
     "text": [
      "CPU times: user 135 ms, sys: 7.98 ms, total: 143 ms\n",
      "Wall time: 143 ms\n"
     ]
    }
   ],
   "source": [
    "%%time\n",
    "\n",
    "da = mda.lib.distances.distance_array(acceptors.positions, hydrogens.positions, box=u.dimensions)"
   ]
  },
  {
   "cell_type": "code",
   "execution_count": 77,
   "metadata": {},
   "outputs": [],
   "source": [
    "acc_idx, hyd_idx = np.where(da < 3.0)"
   ]
  },
  {
   "cell_type": "markdown",
   "metadata": {},
   "source": [
    "## Using capped distance\n",
    "\n",
    "This is an example of where we're not interested in all distances, but instead only those up to a given cutoff.  Using `capped_distance` is much quicker here."
   ]
  },
  {
   "cell_type": "code",
   "execution_count": 68,
   "metadata": {},
   "outputs": [
    {
     "name": "stdout",
     "output_type": "stream",
     "text": [
      "CPU times: user 1.6 ms, sys: 3.7 ms, total: 5.3 ms\n",
      "Wall time: 4.22 ms\n"
     ]
    }
   ],
   "source": [
    "%%time \n",
    "\n",
    "idx, dists = mda.lib.distances.capped_distance(acceptors.positions, hydrogens.positions, max_cutoff=3.0,\n",
    "                                            box=u.dimensions)"
   ]
  },
  {
   "cell_type": "code",
   "execution_count": 51,
   "metadata": {},
   "outputs": [],
   "source": [
    "acc_idx, hyd_idx = idx.T"
   ]
  },
  {
   "cell_type": "code",
   "execution_count": 69,
   "metadata": {},
   "outputs": [],
   "source": [
    "# select potential hydrogen bonds to check angles\n",
    "hbond_acceptors = acceptors[acc_idx]\n",
    "hbond_hydrogens = hydrogens[hyd_idx]\n",
    "# this is slightly complex\n",
    "# we need the donor atom for each hydrogen\n",
    "# we can get this by grabbing the first (and only) bonded atom for each hydrogen atom \n",
    "hbond_donors = sum(h.bonded_atoms[0] for h in hbond_hydrogens)"
   ]
  },
  {
   "cell_type": "markdown",
   "metadata": {},
   "source": [
    "## Checking the angle criteria"
   ]
  },
  {
   "cell_type": "code",
   "execution_count": 71,
   "metadata": {},
   "outputs": [],
   "source": [
    "angles = np.rad2deg(\n",
    "    mda.lib.distances.calc_angles(hbond_acceptors.positions, hbond_hydrogens.positions, hbond_donors.positions, box=u.dimensions)\n",
    ")"
   ]
  },
  {
   "cell_type": "code",
   "execution_count": 73,
   "metadata": {},
   "outputs": [
    {
     "data": {
      "text/plain": [
       "(array([  0,   1,   3,   4,   5,   6,   8,   9,  11,  12,  14,  15,  16,\n",
       "         17,  19,  20,  21,  24,  25,  28,  29,  30,  32,  33,  36,  37,\n",
       "         38,  39,  40,  41,  43,  44,  46,  48,  49,  50,  51,  53,  54,\n",
       "         55,  57,  58,  60,  62,  63,  64,  66,  67,  68,  69,  70,  71,\n",
       "         72,  73,  74,  75,  76,  77,  78,  80,  81,  82,  83,  86,  88,\n",
       "         90,  91,  92,  93,  94,  95,  96,  98, 100, 101, 103, 104, 105,\n",
       "        106, 108, 109, 110, 111, 112, 113, 115, 117, 118, 120, 121, 123,\n",
       "        124, 125, 126, 128, 129, 130, 131, 132, 133, 134, 136, 137, 138,\n",
       "        140, 141, 142, 143, 144, 145, 146, 147, 148, 150, 153, 154, 155,\n",
       "        157, 158, 160, 161, 163, 164, 166, 167, 168, 169, 172, 173, 174,\n",
       "        175, 176, 178, 180, 181, 183, 184, 186, 188, 189, 190, 191, 192,\n",
       "        193, 194, 195, 197, 198, 199, 200, 201, 202, 203, 204, 205, 206,\n",
       "        209, 211, 212, 213, 214, 215, 216, 217, 218, 219, 220, 221, 222,\n",
       "        223, 224, 225, 227, 228, 229, 230, 232, 233, 234, 236, 237, 238,\n",
       "        239, 240, 241, 242, 243, 245, 247, 248, 250, 251, 252, 253, 254,\n",
       "        255, 256, 257, 258, 260, 261, 262, 264, 266, 269, 270, 271, 273,\n",
       "        275, 276, 277, 278, 280, 281, 283, 285, 286, 287, 288, 289, 290,\n",
       "        291, 292, 294, 295, 296, 297, 298, 299, 300, 301, 303, 304, 305,\n",
       "        306, 307, 308, 310, 311, 312, 313, 314, 316, 317, 319, 320, 321,\n",
       "        322]),)"
      ]
     },
     "execution_count": 73,
     "metadata": {},
     "output_type": "execute_result"
    }
   ],
   "source": [
    "np.where(angles >= 120.0)"
   ]
  }
 ],
 "metadata": {
  "kernelspec": {
   "display_name": "Python 3",
   "language": "python",
   "name": "python3"
  },
  "language_info": {
   "codemirror_mode": {
    "name": "ipython",
    "version": 3
   },
   "file_extension": ".py",
   "mimetype": "text/x-python",
   "name": "python",
   "nbconvert_exporter": "python",
   "pygments_lexer": "ipython3",
   "version": "3.6.10"
  }
 },
 "nbformat": 4,
 "nbformat_minor": 4
}
