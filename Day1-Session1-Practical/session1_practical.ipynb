{
 "cells": [
  {
   "cell_type": "markdown",
   "metadata": {},
   "source": [
    "# Day 1, Practical 1\n",
    "## Introducting MDAnalysis and working with molecules"
   ]
  },
  {
   "cell_type": "markdown",
   "metadata": {},
   "source": [
    "**This notebook introduces the fundamental objects of `MDAnalysis`:**\n",
    "\n",
    " - the `Universe`,\n",
    " - `AtomGroup`, and `Atom` objects.\n",
    " - selecting and manipulating `AtomGroup`s\n",
    " - `Residue`s and `Segment`s\n",
    " - `Bond` `Angle` and `Dihedral`\n",
    "\n",
    "\n",
    "**Additional resources**\n",
    " - During the workshop, feel free to ask questions at any time\n",
    " - For more on how to use MDAnalysis, see the [User Guide](https://userguide.mdanalysis.org/2.0.0-dev0/) and [documentation](https://docs.mdanalysis.org/2.0.0-dev0/)\n",
    " - Ask questions on the [user mailing list](https://groups.google.com/group/mdnalysis-discussion) or on [Discord](https://discord.gg/fXTSfDJyxE)\n",
    " - Report bugs on [GitHub](https://github.com/MDAnalysis/mdanalysis/issues?)"
   ]
  },
  {
   "cell_type": "markdown",
   "metadata": {},
   "source": [
    "# 1. Fundamental MDAnalysis objects\n",
    "\n",
    "## Universe loading 101\n",
    "\n",
    "> \"If you wish to make an apple pie from scratch, you must first invent the Universe.\" \n",
    "\n",
    "> ~ Carl Sagan\n",
    "\n",
    "First, we need to import `MDAnalysis`, giving us access to all the components in its namespace:"
   ]
  },
  {
   "cell_type": "code",
   "execution_count": null,
   "metadata": {},
   "outputs": [],
   "source": [
    "import MDAnalysis as mda"
   ]
  },
  {
   "cell_type": "markdown",
   "metadata": {},
   "source": [
    "One of the most fundamental objects in the `MDAnalysis` data model is the `Universe` object.\n",
    "A `Universe` can be thought of as an interface to all the data of a simulation;\n",
    "it contains all of a simulations' topology information (names, charges, masses etc) at the least,\n",
    "but usually also includes trajectory information (positions, velocities etc) as well."
   ]
  },
  {
   "cell_type": "markdown",
   "metadata": {},
   "source": [
    "In order to do anything, we do need some actual molecular dynamics data to work with. Let's load an example (the protein adenylate kinase, or AdK) from the MDAnalysis tests data:"
   ]
  },
  {
   "cell_type": "code",
   "execution_count": null,
   "metadata": {},
   "outputs": [],
   "source": [
    "from MDAnalysis.tests.datafiles import PSF, DCD"
   ]
  },
  {
   "cell_type": "markdown",
   "metadata": {},
   "source": [
    "To make a `Universe`, we need at the very least a topology file - see the [topology readers](https://docs.mdanalysis.org/2.0.0-dev0/documentation_pages/topology/init.html) documentation for a list of supported file formats. \n",
    "\n",
    "Since the type of topology file we're using in this example (a PSF file) doesn't contain coordinates, we'll also need to load a trajectory file (in this case a DCD file) so we have some position data to work with later. You'll learn more about working with trajectories in the next session. \n"
   ]
  },
  {
   "cell_type": "code",
   "execution_count": null,
   "metadata": {},
   "outputs": [],
   "source": [
    "u = mda.Universe(PSF, DCD)\n",
    "\n",
    "print(u)"
   ]
  },
  {
   "cell_type": "markdown",
   "metadata": {},
   "source": [
    "## AtomGroups"
   ]
  },
  {
   "cell_type": "markdown",
   "metadata": {},
   "source": [
    "We now have a `Universe` object. Since the topology (PSF) file we loaded contained both atom identities and bond information, the `Universe` is able to access these details.\n",
    "\n"
   ]
  },
  {
   "cell_type": "markdown",
   "metadata": {},
   "source": [
    "We can access all atoms in the `Universe` through the `Universe.atoms` attribute.\n",
    "This returns an `AtomGroup`, which is probably the most important class we will learn about."
   ]
  },
  {
   "cell_type": "code",
   "execution_count": null,
   "metadata": {},
   "outputs": [],
   "source": [
    "ag = u.atoms\n",
    "type(ag)"
   ]
  },
  {
   "cell_type": "markdown",
   "metadata": {},
   "source": [
    "An `AtomGroup` is like an array of atoms, and offers access to the data of these atoms through various attributes:"
   ]
  },
  {
   "cell_type": "code",
   "execution_count": null,
   "metadata": {},
   "outputs": [],
   "source": [
    "ag.indices"
   ]
  },
  {
   "cell_type": "code",
   "execution_count": null,
   "metadata": {},
   "outputs": [],
   "source": [
    "ag.names"
   ]
  },
  {
   "cell_type": "code",
   "execution_count": null,
   "metadata": {},
   "outputs": [],
   "source": [
    "ag.resnames"
   ]
  },
  {
   "cell_type": "code",
   "execution_count": null,
   "metadata": {},
   "outputs": [],
   "source": [
    "ag.resids"
   ]
  },
  {
   "cell_type": "code",
   "execution_count": null,
   "metadata": {},
   "outputs": [],
   "source": [
    "ag.charges"
   ]
  },
  {
   "cell_type": "code",
   "execution_count": null,
   "metadata": {},
   "outputs": [],
   "source": [
    "ag.masses"
   ]
  },
  {
   "cell_type": "code",
   "execution_count": null,
   "metadata": {},
   "outputs": [],
   "source": [
    "ag.types"
   ]
  },
  {
   "cell_type": "markdown",
   "metadata": {},
   "source": [
    "All of these attributes of an `AtomGroup` return numpy arrays of the same length as the `AtomGroup` itself;\n",
    "that is, each element corresponds to each atom in the `AtomGroup`, in order."
   ]
  },
  {
   "cell_type": "code",
   "execution_count": null,
   "metadata": {},
   "outputs": [],
   "source": [
    "print(ag.n_atoms)\n",
    "print(len(ag.names))"
   ]
  },
  {
   "cell_type": "markdown",
   "metadata": {},
   "source": [
    "In general, `MDAnalysis` will try and extract as much information as possible from the files given to `Universe`. The [topology readers](https://docs.mdanalysis.org/2.0.0-dev0/documentation_pages/topology/init.html) documentation lists the attributes that are extracted from each filetype."
   ]
  },
  {
   "cell_type": "markdown",
   "metadata": {},
   "source": [
    "## Working with individual atoms\n",
    "\n",
    "By slicing an `AtomGroup` we can access individual `Atom` objects.\n",
    "These `Atom` objects will have singular versions of the various attributes of `AtomGroup`s.\n",
    "\n",
    "In general working with individual `Atom` objects is discouraged as it is inefficient and will lead to poor performance."
   ]
  },
  {
   "cell_type": "code",
   "execution_count": null,
   "metadata": {},
   "outputs": [],
   "source": [
    "u = mda.Universe(PSF, DCD)\n",
    "a = u.atoms[0]\n",
    "print(a)"
   ]
  },
  {
   "cell_type": "code",
   "execution_count": null,
   "metadata": {},
   "outputs": [],
   "source": [
    "print(\"name:\", a.name)\n",
    "print(\"resid:\", a.resid)\n",
    "print(\"resname:\", a.resname)"
   ]
  },
  {
   "cell_type": "markdown",
   "metadata": {},
   "source": [
    "## ResidueGroups and SegmentGroups"
   ]
  },
  {
   "cell_type": "markdown",
   "metadata": {},
   "source": [
    "The `Universe` also gives higher-order topology objects, including `ResidueGroups` and `SegmentGroups`. We can access all residues in the `Universe` with:"
   ]
  },
  {
   "cell_type": "code",
   "execution_count": null,
   "metadata": {},
   "outputs": [],
   "source": [
    "u.residues"
   ]
  },
  {
   "cell_type": "markdown",
   "metadata": {},
   "source": [
    "And all segments with:"
   ]
  },
  {
   "cell_type": "code",
   "execution_count": null,
   "metadata": {},
   "outputs": [],
   "source": [
    "u.segments"
   ]
  },
  {
   "cell_type": "markdown",
   "metadata": {},
   "source": [
    "`ResidueGroups` and `SegmentGroups` also behave similarly to `AtomGroups`, with many of their methods returning `numpy` arrays with each element corresponding to a single residue or segment, respectively."
   ]
  },
  {
   "cell_type": "code",
   "execution_count": null,
   "metadata": {},
   "outputs": [],
   "source": [
    "u.residues.resnames"
   ]
  },
  {
   "cell_type": "code",
   "execution_count": null,
   "metadata": {},
   "outputs": [],
   "source": [
    "u.segments.segids"
   ]
  },
  {
   "cell_type": "markdown",
   "metadata": {},
   "source": [
    "You can also create a `ResidueGroup` from an `AtomGroup`:"
   ]
  },
  {
   "cell_type": "code",
   "execution_count": null,
   "metadata": {},
   "outputs": [],
   "source": [
    "ag.residues"
   ]
  },
  {
   "cell_type": "markdown",
   "metadata": {
    "solution2": "hidden",
    "solution2_first": true
   },
   "source": [
    "## Exercise 1\n",
    "\n",
    "**1a. Load the GRO topology file from `MDAnalysis.tests.datafiles` and count how many atoms, residues and segments it contains.**"
   ]
  },
  {
   "cell_type": "code",
   "execution_count": null,
   "metadata": {
    "solution2": "hidden"
   },
   "outputs": [],
   "source": [
    "from MDAnalysis.tests.datafiles import GRO\n",
    "u_gro = mda.Universe(GRO)\n",
    "print('Atoms: ', u_gro.atoms.n_atoms)\n",
    "print('Residues: ', u_gro.residues.n_residues)\n",
    "print('Segments: ', u_gro.segments.n_segments)"
   ]
  },
  {
   "cell_type": "code",
   "execution_count": null,
   "metadata": {},
   "outputs": [],
   "source": [
    "# Exercise 1a\n"
   ]
  },
  {
   "cell_type": "markdown",
   "metadata": {
    "solution2": "hidden",
    "solution2_first": true
   },
   "source": [
    "**1b. From the above universe, find the name of the:**\n",
    "  - first segment\n",
    "  - last atom\n",
    "  - 10th residue."
   ]
  },
  {
   "cell_type": "code",
   "execution_count": null,
   "metadata": {
    "solution2": "hidden"
   },
   "outputs": [],
   "source": [
    "print('First segment:', u_gro.segments[0].segid)\n",
    "print('Last atom: ', u_gro.atoms[-1].name)\n",
    "print('10th residue: ', u_gro.residues[9].resname)"
   ]
  },
  {
   "cell_type": "code",
   "execution_count": null,
   "metadata": {},
   "outputs": [],
   "source": [
    "# Exercise 1b\n"
   ]
  },
  {
   "cell_type": "markdown",
   "metadata": {},
   "source": [
    "# 2. Selecting atoms\n",
    "\n",
    "It is also rare that we want to operate on all atoms in the system!\n",
    "\n",
    "`MDAnalysis` offers a few different ways to select atoms,\n",
    "in this section we will go over the most useful methods."
   ]
  },
  {
   "cell_type": "markdown",
   "metadata": {},
   "source": [
    "## Numpy style selections\n",
    "\n",
    "As previously mentioned, an `AtomGroup` is like an array of atoms,\n",
    "and therefore we can slice it exactly like we would slice a `numpy` array.\n",
    "\n",
    "### Fancy indexing\n",
    "\n",
    "The simplest option to select specific atom is to use fancy indexing. You can specify the atoms in a list"
   ]
  },
  {
   "cell_type": "code",
   "execution_count": null,
   "metadata": {},
   "outputs": [],
   "source": [
    "u = mda.Universe(PSF, DCD)\n",
    "u.atoms[[1, 4, 5 , 0]]"
   ]
  },
  {
   "cell_type": "markdown",
   "metadata": {},
   "source": [
    "or as a range"
   ]
  },
  {
   "cell_type": "code",
   "execution_count": null,
   "metadata": {},
   "outputs": [],
   "source": [
    "u.atoms[1:10]"
   ]
  },
  {
   "cell_type": "markdown",
   "metadata": {},
   "source": [
    "### Boolean indexing\n",
    "\n",
    "You can also create an array with `True`/`False` values of the same length as the `AtomGroup`. Every atom for which the array is set to `True` will be selected.\n",
    "\n",
    "We can create such a boolean array by doing a comparison of a `numpy` array:"
   ]
  },
  {
   "cell_type": "code",
   "execution_count": null,
   "metadata": {},
   "outputs": [],
   "source": [
    "selection_ar = u.atoms.resnames == 'GLY'\n",
    "print(\"selection array = \", selection_ar)\n",
    "u.atoms[selection_ar]"
   ]
  },
  {
   "cell_type": "markdown",
   "metadata": {},
   "source": [
    "or shorter:"
   ]
  },
  {
   "cell_type": "code",
   "execution_count": null,
   "metadata": {},
   "outputs": [],
   "source": [
    "u.atoms[u.atoms.resnames == 'GLY']"
   ]
  },
  {
   "cell_type": "markdown",
   "metadata": {},
   "source": [
    "We can also do this with `ResidueGroup`s and `SegmentGroup`s, e.g.:"
   ]
  },
  {
   "cell_type": "code",
   "execution_count": null,
   "metadata": {},
   "outputs": [],
   "source": [
    "u.residues[u.residues.resnames == 'GLY']"
   ]
  },
  {
   "cell_type": "markdown",
   "metadata": {},
   "source": [
    "## Selection Strings and `select_atoms`\n",
    "\n",
    "We've already seen that complex selections can be performed on `AtomGroups` using numpy style indexing.\n",
    "However, `MDAnalysis` also features a CHARMM-style atom selection mechanism that is often more convenient.\n",
    "We can consult the docstring for `select_atoms` to see the available selection keywords:"
   ]
  },
  {
   "cell_type": "code",
   "execution_count": null,
   "metadata": {},
   "outputs": [],
   "source": [
    "u.atoms.select_atoms?"
   ]
  },
  {
   "cell_type": "markdown",
   "metadata": {},
   "source": [
    "You can also see them in the docs [here](https://docs.mdanalysis.org/2.0.0-dev0/documentation_pages/selections.html).\n",
    "\n",
    "Although boolean selections work well enough for selecting out atoms from AtomGroups, the selection language makes more complex selections possible with probably less effort.\n",
    "\n",
    "For example, we can select all glycines by:"
   ]
  },
  {
   "cell_type": "code",
   "execution_count": null,
   "metadata": {},
   "outputs": [],
   "source": [
    "glycines = u.select_atoms(\"resname GLY\")\n",
    "glycines"
   ]
  },
  {
   "cell_type": "markdown",
   "metadata": {},
   "source": [
    "If selecting by residue number, we can specify a range:"
   ]
  },
  {
   "cell_type": "code",
   "execution_count": null,
   "metadata": {},
   "outputs": [],
   "source": [
    "first10resids = u.select_atoms(\"resid 1-10\")\n",
    "first10resids"
   ]
  },
  {
   "cell_type": "markdown",
   "metadata": {},
   "source": [
    "We can use `and`/`or`/`not` with [logical conjunctions](https://en.wikipedia.org/wiki/Logical_conjunction):"
   ]
  },
  {
   "cell_type": "code",
   "execution_count": null,
   "metadata": {},
   "outputs": [],
   "source": [
    "acidic = u.select_atoms(\"resname GLU or resname ASP\")\n",
    "acidic"
   ]
  },
  {
   "cell_type": "markdown",
   "metadata": {},
   "source": [
    "For name like selections, we can also Unix shell-style wildcards such as `*`. Here for example `name OD*` would select atoms named `OD1, OD2, OD3` etc:"
   ]
  },
  {
   "cell_type": "code",
   "execution_count": null,
   "metadata": {},
   "outputs": [],
   "source": [
    "acidic_o = acidic.select_atoms('name OD* or name OE*')\n",
    "acidic_o"
   ]
  },
  {
   "cell_type": "markdown",
   "metadata": {},
   "source": [
    "As a shortcut, multiple values can be given and these will be implicitly OR'd together.\n",
    "To select all atoms with name NZ or NH* in residues named LYS or ARG:"
   ]
  },
  {
   "cell_type": "code",
   "execution_count": null,
   "metadata": {},
   "outputs": [],
   "source": [
    "basic_n = u.select_atoms(\"(resname LYS ARG) and (name NZ NH*)\")\n",
    "basic_n"
   ]
  },
  {
   "cell_type": "markdown",
   "metadata": {},
   "source": [
    "There are also several preset keywords for useful selections such as `backbone`, which selects all CA, C, O and N atoms:"
   ]
  },
  {
   "cell_type": "code",
   "execution_count": null,
   "metadata": {},
   "outputs": [],
   "source": [
    "backbone_1 = u.select_atoms('backbone')\n",
    "backbone_2 = u.select_atoms('name CA C O N')\n",
    "backbone_1 == backbone_2"
   ]
  },
  {
   "cell_type": "markdown",
   "metadata": {},
   "source": [
    "### Geometric selections\n",
    "\n",
    "The `select_atoms` method also has various geometric keywords that make selecting atoms based on geometric criteria much easier.\n",
    "\n",
    "For example, we can look for salt bridges by using the `around` selection operator to specify only atoms within 4 angstroms of a particular selection. Note we can simplify selection strings by referring to previous `AtomGroups`."
   ]
  },
  {
   "cell_type": "code",
   "execution_count": null,
   "metadata": {},
   "outputs": [],
   "source": [
    "acidic = u.select_atoms(\"group acidic and around 4 group basic\", acidic=acidic_o, basic=basic_n)\n",
    "acidic"
   ]
  },
  {
   "cell_type": "markdown",
   "metadata": {},
   "source": [
    "You can also select atoms based on absolute position using `prop`, e.g.:"
   ]
  },
  {
   "cell_type": "code",
   "execution_count": null,
   "metadata": {},
   "outputs": [],
   "source": [
    "upper_z = u.select_atoms('prop z > 10')\n",
    "upper_z"
   ]
  },
  {
   "cell_type": "markdown",
   "metadata": {},
   "source": [
    "## Set operations\n",
    "\n",
    "`AtomGroup`s can also be combined using `&` for \"and\" and `|` for \"or\":"
   ]
  },
  {
   "cell_type": "code",
   "execution_count": null,
   "metadata": {},
   "outputs": [],
   "source": [
    "heavy = u.atoms[u.atoms.masses > 10]\n",
    "arg = u.atoms[u.atoms.resnames == 'ARG']\n",
    "print(len(heavy), len(arg))\n",
    "print(len(heavy & arg))"
   ]
  },
  {
   "cell_type": "markdown",
   "metadata": {},
   "source": [
    "These two selections are identical:"
   ]
  },
  {
   "cell_type": "code",
   "execution_count": null,
   "metadata": {},
   "outputs": [],
   "source": [
    "ag1 = u.atoms.select_atoms('resname LYS ARG')\n",
    "ag2 = u.atoms.select_atoms('resname LYS') | u.atoms.select_atoms('resname ARG')\n",
    "\n",
    "ag1 == ag2"
   ]
  },
  {
   "cell_type": "markdown",
   "metadata": {},
   "source": [
    "We can also concatenate atomgroups with `+` and subtract with `-`; the following two selections are also identical: "
   ]
  },
  {
   "cell_type": "code",
   "execution_count": null,
   "metadata": {},
   "outputs": [],
   "source": [
    "no_H1 = u.atoms.select_atoms('resname LYS ARG and not name H*')\n",
    "no_H2 = u.atoms.select_atoms('resname LYS ARG') - u.atoms.select_atoms('name H*')\n",
    "\n",
    "no_H1 == no_H2"
   ]
  },
  {
   "cell_type": "markdown",
   "metadata": {},
   "source": [
    "By design, an `AtomGroup` can have repeats of the same atom, for example through this selection:"
   ]
  },
  {
   "cell_type": "code",
   "execution_count": null,
   "metadata": {},
   "outputs": [],
   "source": [
    "ag = u.atoms[[0, 0, 1, 2, 4, 4, 5]]\n",
    "ag"
   ]
  },
  {
   "cell_type": "markdown",
   "metadata": {},
   "source": [
    "The `unique` property will return a version of the `AtomGroup` with only one of each Atom:"
   ]
  },
  {
   "cell_type": "code",
   "execution_count": null,
   "metadata": {},
   "outputs": [],
   "source": [
    "ag.unique"
   ]
  },
  {
   "cell_type": "markdown",
   "metadata": {
    "solution2": "hidden",
    "solution2_first": true
   },
   "source": [
    "## Exercise 2\n",
    "\n",
    "**2a. Select residues 100 to 200, first using indexing and then using a selection string, and confirm you get the same selection.**"
   ]
  },
  {
   "cell_type": "code",
   "execution_count": null,
   "metadata": {
    "solution2": "hidden"
   },
   "outputs": [],
   "source": [
    "ag1 = u.residues[99:200]\n",
    "ag2 = u.select_atoms(\"resid 100-200\").residues\n",
    "ag1 == ag2"
   ]
  },
  {
   "cell_type": "code",
   "execution_count": null,
   "metadata": {},
   "outputs": [],
   "source": [
    "# Exercise 2a\n"
   ]
  },
  {
   "cell_type": "markdown",
   "metadata": {},
   "source": [
    "What might be some reasons to prefer one method over the other?"
   ]
  },
  {
   "cell_type": "markdown",
   "metadata": {
    "cell_style": "center",
    "solution2": "hidden",
    "solution2_first": true
   },
   "source": [
    "**2b. Count the number of arginine residues**"
   ]
  },
  {
   "cell_type": "code",
   "execution_count": null,
   "metadata": {
    "solution2": "hidden"
   },
   "outputs": [],
   "source": [
    "ag = u.select_atoms('resname ARG')\n",
    "print(len(ag.residues))"
   ]
  },
  {
   "cell_type": "code",
   "execution_count": null,
   "metadata": {},
   "outputs": [],
   "source": [
    "# Exercise 2b\n"
   ]
  },
  {
   "cell_type": "markdown",
   "metadata": {
    "solution2": "hidden",
    "solution2_first": true
   },
   "source": [
    "**2c. Select all nitrogen atoms within 5.0A of a carbon atom**"
   ]
  },
  {
   "cell_type": "code",
   "execution_count": null,
   "metadata": {
    "solution2": "hidden"
   },
   "outputs": [],
   "source": [
    "ag = u.select_atoms('name N* and around 5 name CA')\n",
    "print(ag)"
   ]
  },
  {
   "cell_type": "code",
   "execution_count": null,
   "metadata": {},
   "outputs": [],
   "source": [
    "# Exercise 2c\n"
   ]
  },
  {
   "cell_type": "markdown",
   "metadata": {
    "solution2": "hidden",
    "solution2_first": true
   },
   "source": [
    "**2d. Select all hydrogens that are bonded to an alpha carbon**\n",
    "\n",
    "*Hint: Look through the `select_atoms` docstring above or [here](https://docs.mdanalysis.org/2.0.0-dev0/documentation_pages/selections.html) for keywords that might help!*"
   ]
  },
  {
   "cell_type": "code",
   "execution_count": null,
   "metadata": {
    "solution2": "hidden"
   },
   "outputs": [],
   "source": [
    "ag = u.select_atoms('name H* and bonded name CA')\n",
    "print(ag)"
   ]
  },
  {
   "cell_type": "code",
   "execution_count": null,
   "metadata": {},
   "outputs": [],
   "source": [
    "# Exercise 2d\n"
   ]
  },
  {
   "cell_type": "markdown",
   "metadata": {},
   "source": [
    "# 3. Visualization with nglview"
   ]
  },
  {
   "cell_type": "markdown",
   "metadata": {},
   "source": [
    "[nglview](https://github.com/nglviewer/nglview#usage) is a package that allows to visualize a MDAnalysis `Universe` or `AtomGroup` directly on the jupyter notebook. First we load the structure:"
   ]
  },
  {
   "cell_type": "code",
   "execution_count": null,
   "metadata": {},
   "outputs": [],
   "source": [
    "import nglview as nv\n",
    "\n",
    "view_u = nv.show_mdanalysis(u)\n",
    "view_u.camera = 'orthographic'"
   ]
  },
  {
   "cell_type": "markdown",
   "metadata": {},
   "source": [
    "And now we can launch the viewer:"
   ]
  },
  {
   "cell_type": "code",
   "execution_count": null,
   "metadata": {},
   "outputs": [],
   "source": [
    "view_u"
   ]
  },
  {
   "cell_type": "markdown",
   "metadata": {},
   "source": [
    "Have a play around - you can rotate, zoom (and play through the trajectory) to view the structure. You can also select atoms to display their information."
   ]
  },
  {
   "cell_type": "markdown",
   "metadata": {},
   "source": [
    "nglview can be useful to check that we are indeed selecting the correct `AtomGroup`:"
   ]
  },
  {
   "cell_type": "code",
   "execution_count": null,
   "metadata": {},
   "outputs": [],
   "source": [
    "helix_1 = u.select_atoms('resid 12-25')\n",
    "view_ag = nv.show_mdanalysis(helix_1)\n",
    "\n",
    "view_ag"
   ]
  },
  {
   "cell_type": "markdown",
   "metadata": {},
   "source": [
    "To add another selection to the same view:"
   ]
  },
  {
   "cell_type": "code",
   "execution_count": null,
   "metadata": {},
   "outputs": [],
   "source": [
    "resid_20 = u.select_atoms('resid 20')\n",
    "view_ag.add_trajectory(resid_20)"
   ]
  },
  {
   "cell_type": "markdown",
   "metadata": {},
   "source": [
    "### Exercise 3"
   ]
  },
  {
   "cell_type": "markdown",
   "metadata": {
    "solution2": "hidden",
    "solution2_first": true
   },
   "source": [
    "Show all atoms that are below the plane x=4.0"
   ]
  },
  {
   "cell_type": "code",
   "execution_count": null,
   "metadata": {
    "solution2": "hidden"
   },
   "outputs": [],
   "source": [
    "ag = u.select_atoms('prop x < 4')\n",
    "view_ex3 = nv.show_mdanalysis(ag)\n",
    "view_ex3"
   ]
  },
  {
   "cell_type": "code",
   "execution_count": null,
   "metadata": {},
   "outputs": [],
   "source": [
    "# Exercise 3\n"
   ]
  },
  {
   "cell_type": "markdown",
   "metadata": {},
   "source": [
    "# 4. Accessing coordinates\n",
    "\n",
    "The most important attribute of your atoms is undoubtedly their positions! The position information is made available via an `AtomGroup` in the `positions` attribute:"
   ]
  },
  {
   "cell_type": "code",
   "execution_count": null,
   "metadata": {},
   "outputs": [],
   "source": [
    "Ca = u.select_atoms('type CA')\n",
    "\n",
    "Ca.positions"
   ]
  },
  {
   "cell_type": "markdown",
   "metadata": {},
   "source": [
    "This returns a `numpy` array, which can be easily manipulated. For example, we can could calulate the center of geometry by:"
   ]
  },
  {
   "cell_type": "code",
   "execution_count": null,
   "metadata": {},
   "outputs": [],
   "source": [
    "import numpy as np\n",
    "ca = u.select_atoms('name CA')\n",
    "cog = np.mean(ca.positions, axis=0)\n",
    "print(cog)"
   ]
  },
  {
   "cell_type": "markdown",
   "metadata": {},
   "source": [
    "Alternatively, we can use the built-in method:"
   ]
  },
  {
   "cell_type": "code",
   "execution_count": null,
   "metadata": {},
   "outputs": [],
   "source": [
    "ca.center_of_geometry()"
   ]
  },
  {
   "cell_type": "markdown",
   "metadata": {},
   "source": [
    "Other convenient methods for common calculations based on positions include `center_of_mass()`, `radius_of_gyration()` and `principal_axes()`."
   ]
  },
  {
   "cell_type": "markdown",
   "metadata": {},
   "source": [
    "### Exercise 4"
   ]
  },
  {
   "cell_type": "markdown",
   "metadata": {
    "cell_style": "split"
   },
   "source": [
    "\n",
    "Let's look in more detail at the AdK protein. AdK has three domains:\n",
    "\n",
    " - CORE (residues 1-29, 60-121, 160-214)\n",
    " - NMP (residues 30-59)\n",
    " - LID (residues 122-159)\n"
   ]
  },
  {
   "cell_type": "markdown",
   "metadata": {
    "cell_style": "split"
   },
   "source": [
    "<center><img src=\"imgs/adk.png\" alt=\"mda\" style=\"width: 300px;\"/></center>"
   ]
  },
  {
   "cell_type": "markdown",
   "metadata": {
    "cell_style": "center",
    "solution2": "hidden",
    "solution2_first": true
   },
   "source": [
    "**4a. Calculate the center of mass of each of the three domains**"
   ]
  },
  {
   "cell_type": "code",
   "execution_count": null,
   "metadata": {
    "solution2": "hidden"
   },
   "outputs": [],
   "source": [
    "domains = {\n",
    "           'CORE': u.select_atoms(\"resid 1-29 60-121 160-214\"),\n",
    "           'NMP': u.select_atoms(\"resid 30-59\"),\n",
    "           'LID': u.select_atoms(\"resid 122-159\")\n",
    "          }\n",
    "cogs = {name: ag.center_of_mass() for name,ag in domains.items()} \n",
    "print(cogs)"
   ]
  },
  {
   "cell_type": "code",
   "execution_count": null,
   "metadata": {},
   "outputs": [],
   "source": [
    "# Exercise 4a\n"
   ]
  },
  {
   "cell_type": "markdown",
   "metadata": {},
   "source": [
    "How do these differ from the centers of geometry?"
   ]
  },
  {
   "cell_type": "markdown",
   "metadata": {
    "solution2": "hidden",
    "solution2_first": true
   },
   "source": [
    "Angles between these domains can be used to distinguish open and closed states of the protein (see the figure above) [1]. These angles are defined between the center of geometry of the backbone and C$_\\beta$ atoms of the following groups of atoms:\n",
    "\n",
    " - $\\theta_{NMP}$ is defined between residues:\n",
    "   - A: 115-125 \n",
    "   - B: 90-100\n",
    "   - C: 35-55\n",
    " - $\\theta_{LIC}$ is defined between residues:\n",
    "   - A: 179-185\n",
    "   - B: 112-125\n",
    "   - C: 125-153 \n",
    " \n",
    "**4b. Calculate the current values of these angles**\n",
    "\n",
    "Hints:\n",
    " - The angle between two vectors is given by:\n",
    "$$\n",
    "\\theta = arccos\\left( \\frac{\\vec{BA}\\cdot\\vec{BC}}{|\\vec{BA}||\\vec{BC}|} \\right)\n",
    "$$\n",
    "\n",
    "- You can use numpy `numpy.linalg.norm()` to calculate the norm of a vector. Numpy also has functions `numpy.arccos()` and `numpy.dot()`."
   ]
  },
  {
   "cell_type": "code",
   "execution_count": null,
   "metadata": {
    "solution2": "hidden"
   },
   "outputs": [],
   "source": [
    "import numpy as np\n",
    "from numpy.linalg import norm\n",
    "\n",
    "A_NMP = u.select_atoms('resid 115-125 and (backbone or name CB)').center_of_geometry()\n",
    "B_NMP = u.select_atoms('resid 90-100 and (backbone or name CB)').center_of_geometry()\n",
    "C_NMP = u.select_atoms('resid 35-55 and (backbone or name CB)').center_of_geometry()\n",
    "BA_NMP = A_NMP - B_NMP\n",
    "BC_NMP = C_NMP - B_NMP\n",
    "theta_NMP = np.arccos(np.dot(BA_NMP, BC_NMP)/(norm(BA_NMP)*norm(BC_NMP)))\n",
    "print('theta_NMP: ', np.rad2deg(theta_NMP))\n",
    "\n",
    "\n",
    "A_LID = u.select_atoms('resid 179-185 and (backbone or name CB)').center_of_geometry()\n",
    "B_LID = u.select_atoms('resid 112-125 and (backbone or name CB)').center_of_geometry()\n",
    "C_LID = u.select_atoms('resid 125-153 and (backbone or name CB)').center_of_geometry()\n",
    "BA_LID = A_LID - B_LID\n",
    "BC_LID = C_LID - B_LID\n",
    "theta_LID = np.arccos(np.dot(BA_LID, BC_LID)/(norm(BA_LID)*norm(BC_LID)))\n",
    "print('theta_LID: ', np.rad2deg(theta_LID))"
   ]
  },
  {
   "cell_type": "code",
   "execution_count": null,
   "metadata": {},
   "outputs": [],
   "source": [
    "# Exercise 4b\n"
   ]
  },
  {
   "cell_type": "markdown",
   "metadata": {},
   "source": [
    "Currently, we're just looking at a static, single frame, so we only get one set of angle values. In the next Session you'll learn how we can get a timeseries of data from a trajectory."
   ]
  },
  {
   "cell_type": "markdown",
   "metadata": {},
   "source": [
    "[1] O Beckstein. EJ Denning, JR Perilla, and TB Woolf. Zipping and Unzipping of Adenylate Kinase: Atomistic Insights into the Ensemble of Open/Closed Transitions. J Mol Biol 394 (2009), 160–176. doi:10.1016/j.jmb.2009.09.009"
   ]
  },
  {
   "cell_type": "markdown",
   "metadata": {},
   "source": [
    "# 5. Bonds, angles, and dihedrals\n",
    "\n",
    "We can also get at connectivity information between atoms, such as bonds, angles, and dihedrals "
   ]
  },
  {
   "cell_type": "code",
   "execution_count": null,
   "metadata": {},
   "outputs": [],
   "source": [
    "u.atoms.bonds"
   ]
  },
  {
   "cell_type": "code",
   "execution_count": null,
   "metadata": {},
   "outputs": [],
   "source": [
    "u.atoms.angles"
   ]
  },
  {
   "cell_type": "code",
   "execution_count": null,
   "metadata": {},
   "outputs": [],
   "source": [
    "u.atoms.dihedrals"
   ]
  },
  {
   "cell_type": "code",
   "execution_count": null,
   "metadata": {},
   "outputs": [],
   "source": [
    "u.bonds[3]"
   ]
  },
  {
   "cell_type": "markdown",
   "metadata": {},
   "source": [
    "To get the actual value:"
   ]
  },
  {
   "cell_type": "code",
   "execution_count": null,
   "metadata": {},
   "outputs": [],
   "source": [
    "u.bonds[3].value()"
   ]
  },
  {
   "cell_type": "markdown",
   "metadata": {},
   "source": [
    "We can plot the distribution of bond lengths using matplotlib:"
   ]
  },
  {
   "cell_type": "code",
   "execution_count": null,
   "metadata": {},
   "outputs": [],
   "source": [
    "import matplotlib.pyplot as plt\n",
    "%matplotlib inline\n",
    "\n",
    "plt.hist(u.bonds.values(), bins=30)"
   ]
  },
  {
   "cell_type": "markdown",
   "metadata": {},
   "source": [
    "These work the same way as `AtomGroup`s. They're sliceable, and indexing them works too to give individual bonds, angles, dihedrals."
   ]
  },
  {
   "cell_type": "markdown",
   "metadata": {},
   "source": [
    "# 6. Optional Tasks"
   ]
  },
  {
   "cell_type": "markdown",
   "metadata": {},
   "source": [
    "- If you haven't already, read through the [selection documentation](https://docs.mdanalysis.org/2.0.0-dev0/documentation_pages/selections.html) and play around with all the selection options not covered above\n",
    "\n",
    "\n",
    "- [nglview](https://github.com/nglviewer/nglview#usage) has a lot of options for visualising - you can add multiple selections to one view, change their colour and representation style and more - look through their documentaiton and see what you can create!"
   ]
  },
  {
   "cell_type": "code",
   "execution_count": null,
   "metadata": {},
   "outputs": [],
   "source": []
  }
 ],
 "metadata": {
  "hide_input": false,
  "kernelspec": {
   "display_name": "Python 3",
   "language": "python",
   "name": "python3"
  },
  "language_info": {
   "codemirror_mode": {
    "name": "ipython",
    "version": 3
   },
   "file_extension": ".py",
   "mimetype": "text/x-python",
   "name": "python",
   "nbconvert_exporter": "python",
   "pygments_lexer": "ipython3",
   "version": "3.7.10"
  },
  "toc": {
   "base_numbering": 1,
   "nav_menu": {},
   "number_sections": false,
   "sideBar": true,
   "skip_h1_title": true,
   "title_cell": "Table of Contents",
   "title_sidebar": "Contents",
   "toc_cell": false,
   "toc_position": {},
   "toc_section_display": true,
   "toc_window_display": false
  }
 },
 "nbformat": 4,
 "nbformat_minor": 2
}
