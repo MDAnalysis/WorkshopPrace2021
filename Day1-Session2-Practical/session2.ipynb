{
 "cells": [
  {
   "cell_type": "markdown",
   "metadata": {},
   "source": [
    "# Day 1, Practical 2: Handling simulation trajectory data\n",
    "\n",
    "This practical focuses on the basics of handling dynamic simulation data in MDAnalysis.\n",
    "\n",
    "In the first session, you explored the information that MDAnalysis loads from a topology -- the static, identifying information that doesn't change over a simulation, such as atom names. MDAnalysis is also able to read a wide variety of different simulation coordinate formats. A full list of these can be seen in the [coordinates documentation](https://docs.mdanalysis.org/stable/documentation_pages/coordinates/init.html#supported-coordinate-formats). These coordinate or trajectory formats hold the dynamic, temporal information from simulations such as coordinates, dimensions, velocities, and forces.\n",
    "\n",
    "Here we demonstrate how one can use MDAnalysis to read, explore, and write trajectory data.\n",
    "\n",
    "As ever, please feel free to reach out to any of the below resources for more help:\n",
    "\n",
    "* [User guide](https://userguide.mdanalysis.org/2.0.0-dev0/)\n",
    "* [API documentation](docs.mdanalysis.org/2.0.0-dev0/)\n",
    "* [Discussion / user mailing list](https://groups.google.com/group/mdnalysis-discussion)\n",
    "* [Developer mailing list](https://groups.google.com/g/mdnalysis-devel)\n",
    "* [Discord](https://discord.gg/fXTSfDJyxE)\n",
    "\n",
    "See a bug? Tell us on GitHub!\n",
    "\n",
    "* [GitHub Issue tracker](https://github.com/MDAnalysis/mdanalysis/issues?)"
   ]
  },
  {
   "cell_type": "code",
   "execution_count": 1,
   "metadata": {
    "ExecuteTime": {
     "end_time": "2021-05-25T08:41:03.071835Z",
     "start_time": "2021-05-25T08:41:01.403474Z"
    }
   },
   "outputs": [
    {
     "data": {
      "application/vnd.jupyter.widget-view+json": {
       "model_id": "ba819fac841a4f2fa62ae0596210f717",
       "version_major": 2,
       "version_minor": 0
      },
      "text/plain": []
     },
     "metadata": {},
     "output_type": "display_data"
    }
   ],
   "source": [
    "import MDAnalysis as mda\n",
    "import numpy as np\n",
    "import matplotlib.pyplot as plt\n",
    "import nglview as nv\n",
    "%matplotlib inline"
   ]
  },
  {
   "cell_type": "markdown",
   "metadata": {},
   "source": [
    "## Reading a trajectory"
   ]
  },
  {
   "cell_type": "markdown",
   "metadata": {},
   "source": [
    "Loading a trajectory is done in the same way as loading any type of coordinates (as shown in session 1). All you have to do is create a `Universe` object by passing it a topology and the trajectory (here in this case a PSF file and DCD trajectory respectively)."
   ]
  },
  {
   "cell_type": "code",
   "execution_count": 2,
   "metadata": {
    "ExecuteTime": {
     "end_time": "2021-05-25T08:41:03.667327Z",
     "start_time": "2021-05-25T08:41:03.073445Z"
    }
   },
   "outputs": [],
   "source": [
    "# First let's load a PSF and DCD from the MDAnalysis test data\n",
    "from MDAnalysis.tests.datafiles import PSF, DCD\n",
    "u = mda.Universe(PSF, DCD)"
   ]
  },
  {
   "cell_type": "markdown",
   "metadata": {},
   "source": [
    "Trajectory functionality is centered around the `Universe.trajectory` object."
   ]
  },
  {
   "cell_type": "code",
   "execution_count": 3,
   "metadata": {
    "ExecuteTime": {
     "end_time": "2021-05-25T08:41:03.676342Z",
     "start_time": "2021-05-25T08:41:03.669447Z"
    }
   },
   "outputs": [
    {
     "data": {
      "text/plain": [
       "<DCDReader /Users/lily/anaconda3/envs/mda-user-guide/lib/python3.7/site-packages/MDAnalysisTests/data/adk_dims.dcd with 98 frames of 3341 atoms>"
      ]
     },
     "execution_count": 3,
     "metadata": {},
     "output_type": "execute_result"
    }
   ],
   "source": [
    "u.trajectory"
   ]
  },
  {
   "cell_type": "markdown",
   "metadata": {},
   "source": [
    "This `trajectory` object has a length in `frames` and a time unit of **picoseconds** (more information about the [MDAnalysis base units](https://docs.mdanalysis.org/2.0.0-dev0/documentation_pages/units.html#id4) is in the docs).\n",
    "\n",
    "The `trajectory` object has many useful attributes, such as the the number of frames `n_frames`, the time between frames `dt`, the total trajectory time `totaltime`."
   ]
  },
  {
   "cell_type": "code",
   "execution_count": 4,
   "metadata": {
    "ExecuteTime": {
     "end_time": "2021-05-25T08:41:03.681947Z",
     "start_time": "2021-05-25T08:41:03.678754Z"
    }
   },
   "outputs": [
    {
     "data": {
      "text/plain": [
       "98"
      ]
     },
     "execution_count": 4,
     "metadata": {},
     "output_type": "execute_result"
    }
   ],
   "source": [
    "# print the number of frames\n",
    "u.trajectory.n_frames"
   ]
  },
  {
   "cell_type": "code",
   "execution_count": 5,
   "metadata": {
    "ExecuteTime": {
     "end_time": "2021-05-25T08:41:03.687499Z",
     "start_time": "2021-05-25T08:41:03.684002Z"
    }
   },
   "outputs": [
    {
     "data": {
      "text/plain": [
       "98"
      ]
     },
     "execution_count": 5,
     "metadata": {},
     "output_type": "execute_result"
    }
   ],
   "source": [
    "# You can also get the number of frames by calling `len` on the trajectory object\n",
    "len(u.trajectory)"
   ]
  },
  {
   "cell_type": "code",
   "execution_count": 6,
   "metadata": {
    "ExecuteTime": {
     "end_time": "2021-05-25T08:41:03.693143Z",
     "start_time": "2021-05-25T08:41:03.689504Z"
    }
   },
   "outputs": [
    {
     "data": {
      "text/plain": [
       "0.9999999119200186"
      ]
     },
     "execution_count": 6,
     "metadata": {},
     "output_type": "execute_result"
    }
   ],
   "source": [
    "# We can get the time between frames with `dt`\n",
    "u.trajectory.dt"
   ]
  },
  {
   "cell_type": "code",
   "execution_count": 7,
   "metadata": {
    "ExecuteTime": {
     "end_time": "2021-05-25T08:41:03.698732Z",
     "start_time": "2021-05-25T08:41:03.695333Z"
    }
   },
   "outputs": [
    {
     "data": {
      "text/plain": [
       "96.9999914562418"
      ]
     },
     "execution_count": 7,
     "metadata": {},
     "output_type": "execute_result"
    }
   ],
   "source": [
    "# And the total simulation time from `totaltime`\n",
    "u.trajectory.totaltime"
   ]
  },
  {
   "cell_type": "code",
   "execution_count": 8,
   "metadata": {
    "ExecuteTime": {
     "end_time": "2021-05-25T08:41:03.705320Z",
     "start_time": "2021-05-25T08:41:03.702500Z"
    }
   },
   "outputs": [
    {
     "data": {
      "text/plain": [
       "'DCD'"
      ]
     },
     "execution_count": 8,
     "metadata": {},
     "output_type": "execute_result"
    }
   ],
   "source": [
    "# The trajectory object has a ton of other attributes not shown here\n",
    "# for example you can get the file format through `format`\n",
    "u.trajectory.format"
   ]
  },
  {
   "cell_type": "markdown",
   "metadata": {
    "solution2": "hidden",
    "solution2_first": true
   },
   "source": [
    "### Exercise 1\n",
    "\n",
    "From `MDAnalysis.tests.datafiles` get the GRO topology and XTC trajectory (called `GRO` and `XTC`) respectively, in the same way as we obtained the `PSF` and `DCD` files. Work out the total number of frames, and the total simulation length of the trajectory."
   ]
  },
  {
   "cell_type": "code",
   "execution_count": 9,
   "metadata": {
    "ExecuteTime": {
     "end_time": "2021-05-25T08:41:04.055249Z",
     "start_time": "2021-05-25T08:41:03.709042Z"
    },
    "solution2": "hidden"
   },
   "outputs": [
    {
     "name": "stdout",
     "output_type": "stream",
     "text": [
      "number of frames:  10\n",
      "total time:  900.0000686645508\n"
     ]
    }
   ],
   "source": [
    "# Exercise 1 solution\n",
    "from MDAnalysis.tests.datafiles import GRO, XTC\n",
    "u_new = mda.Universe(GRO, XTC)\n",
    "print('number of frames: ', u_new.trajectory.n_frames)\n",
    "print('total time: ', u_new.trajectory.totaltime)"
   ]
  },
  {
   "cell_type": "code",
   "execution_count": 10,
   "metadata": {
    "ExecuteTime": {
     "end_time": "2021-05-25T08:41:04.059408Z",
     "start_time": "2021-05-25T08:41:04.057149Z"
    }
   },
   "outputs": [],
   "source": [
    "# Exercise 1"
   ]
  },
  {
   "cell_type": "markdown",
   "metadata": {},
   "source": [
    "It's also possible to load / concatenate multiple trajectories together in one go using MDAnalysis' [ChainReader](https://docs.mdanalysis.org/2.0.0-dev0/documentation_pages/coordinates/chain.html?highlight=chainreader#chainreader-mdanalysis-coordinates-chain).\n",
    "\n",
    "This can be done simply by passing several trajectories to the Universe when creating the object."
   ]
  },
  {
   "cell_type": "code",
   "execution_count": 11,
   "metadata": {
    "ExecuteTime": {
     "end_time": "2021-05-25T08:41:04.145662Z",
     "start_time": "2021-05-25T08:41:04.061407Z"
    }
   },
   "outputs": [
    {
     "name": "stdout",
     "output_type": "stream",
     "text": [
      "196\n"
     ]
    }
   ],
   "source": [
    "# Let's assume we wanted to load several DCD files\n",
    "u_multi = mda.Universe(PSF, DCD, DCD)\n",
    "\n",
    "# Now we have 2 times the number of frames [ 98 frames per DCD trajectory ]\n",
    "print(u_multi.trajectory.n_frames)"
   ]
  },
  {
   "cell_type": "code",
   "execution_count": 12,
   "metadata": {
    "ExecuteTime": {
     "end_time": "2021-05-25T08:41:04.280846Z",
     "start_time": "2021-05-25T08:41:04.147584Z"
    }
   },
   "outputs": [
    {
     "name": "stdout",
     "output_type": "stream",
     "text": [
      "294\n"
     ]
    }
   ],
   "source": [
    "# We can also just load a list of trajectories\n",
    "traj_list = [DCD, DCD, DCD]\n",
    "\n",
    "u_multi = mda.Universe(PSF, traj_list)\n",
    "\n",
    "# Now we have concatenated the trajectory 3 times\n",
    "print(u_multi.trajectory.n_frames)"
   ]
  },
  {
   "cell_type": "markdown",
   "metadata": {},
   "source": [
    "## The Timestep object"
   ]
  },
  {
   "cell_type": "markdown",
   "metadata": {},
   "source": [
    "One of the key components of trajectories is the *Timestep* object `ts`. This is the object that holds the trajectory information **specific to the current frame**.\n",
    "\n",
    "This information mainly includes:\n",
    "* The frame number and time\n",
    "* Unitcell dimensions as `[A, B, C, alpha, beta, gamma]` (or `None` if not available)\n",
    "* The positions (also forces and/or velocities if available)\n"
   ]
  },
  {
   "cell_type": "code",
   "execution_count": 13,
   "metadata": {
    "ExecuteTime": {
     "end_time": "2021-05-25T08:41:04.319570Z",
     "start_time": "2021-05-25T08:41:04.282705Z"
    }
   },
   "outputs": [],
   "source": [
    "# Here we load the an AMBER topology and trajectory with coordinate, velocity and forces information\n",
    "from MDAnalysis.tests.datafiles import PRM_NCBOX, TRJ_NCBOX\n",
    "u = mda.Universe(PRM_NCBOX, TRJ_NCBOX)"
   ]
  },
  {
   "cell_type": "code",
   "execution_count": 14,
   "metadata": {
    "ExecuteTime": {
     "end_time": "2021-05-25T08:41:04.325829Z",
     "start_time": "2021-05-25T08:41:04.320861Z"
    }
   },
   "outputs": [
    {
     "data": {
      "text/plain": [
       "< Timestep 0 with unit cell dimensions [28.818764 28.278753 27.726164 90.       90.       90.      ] >"
      ]
     },
     "execution_count": 14,
     "metadata": {},
     "output_type": "execute_result"
    }
   ],
   "source": [
    "# Timestep is available via `ts`\n",
    "u.trajectory.ts"
   ]
  },
  {
   "cell_type": "code",
   "execution_count": 15,
   "metadata": {
    "ExecuteTime": {
     "end_time": "2021-05-25T08:41:04.333500Z",
     "start_time": "2021-05-25T08:41:04.328925Z"
    }
   },
   "outputs": [
    {
     "data": {
      "text/plain": [
       "0"
      ]
     },
     "execution_count": 15,
     "metadata": {},
     "output_type": "execute_result"
    }
   ],
   "source": [
    "# Getting the current frame from `ts`\n",
    "u.trajectory.ts.frame"
   ]
  },
  {
   "cell_type": "code",
   "execution_count": 16,
   "metadata": {
    "ExecuteTime": {
     "end_time": "2021-05-25T08:41:04.339385Z",
     "start_time": "2021-05-25T08:41:04.335594Z"
    }
   },
   "outputs": [
    {
     "data": {
      "text/plain": [
       "1.0"
      ]
     },
     "execution_count": 16,
     "metadata": {},
     "output_type": "execute_result"
    }
   ],
   "source": [
    "# Getting the current time from `ts`\n",
    "u.trajectory.ts.time"
   ]
  },
  {
   "cell_type": "code",
   "execution_count": 17,
   "metadata": {
    "ExecuteTime": {
     "end_time": "2021-05-25T08:41:04.345930Z",
     "start_time": "2021-05-25T08:41:04.341777Z"
    }
   },
   "outputs": [
    {
     "data": {
      "text/plain": [
       "array([28.818764, 28.278753, 27.726164, 90.      , 90.      , 90.      ],\n",
       "      dtype=float32)"
      ]
     },
     "execution_count": 17,
     "metadata": {},
     "output_type": "execute_result"
    }
   ],
   "source": [
    "# Getting the dimensions from `ts`\n",
    "u.trajectory.ts.dimensions"
   ]
  },
  {
   "cell_type": "code",
   "execution_count": 18,
   "metadata": {
    "ExecuteTime": {
     "end_time": "2021-05-25T08:41:04.352474Z",
     "start_time": "2021-05-25T08:41:04.348373Z"
    }
   },
   "outputs": [
    {
     "data": {
      "text/plain": [
       "array([[15.249873 , 12.578178 , 15.191731 ],\n",
       "       [14.925511 , 13.58888  , 14.944009 ],\n",
       "       [15.285703 , 14.3409605, 15.645962 ],\n",
       "       ...,\n",
       "       [ 3.9575078, 14.525827 , 16.14651  ],\n",
       "       [ 4.6214457, 14.670319 , 15.472312 ],\n",
       "       [ 4.3571763, 14.856422 , 16.950998 ]], dtype=float32)"
      ]
     },
     "execution_count": 18,
     "metadata": {},
     "output_type": "execute_result"
    }
   ],
   "source": [
    "# `ts` also holds positions\n",
    "u.trajectory.ts.positions"
   ]
  },
  {
   "cell_type": "code",
   "execution_count": 19,
   "metadata": {
    "ExecuteTime": {
     "end_time": "2021-05-25T08:41:04.358674Z",
     "start_time": "2021-05-25T08:41:04.354477Z"
    }
   },
   "outputs": [
    {
     "name": "stdout",
     "output_type": "stream",
     "text": [
      "True\n",
      "[[  35.912895     7.5411134  -62.774    ]\n",
      " [ -90.35279    163.55951     27.480358 ]\n",
      " [  18.25486    -50.773525    18.73405  ]\n",
      " ...\n",
      " [-211.5503    -127.57705     14.248226 ]\n",
      " [  65.75678     44.437996   -59.866737 ]\n",
      " [  65.71979     47.376717    45.049736 ]]\n"
     ]
    }
   ],
   "source": [
    "# `ts` has a convenient `has_forces` attribute to let you know that forces are available\n",
    "print(u.trajectory.ts.has_forces)\n",
    "print(u.trajectory.ts.forces)"
   ]
  },
  {
   "cell_type": "markdown",
   "metadata": {
    "solution2": "hidden",
    "solution2_first": true
   },
   "source": [
    "### Exercise 2\n",
    "\n",
    "Check if the Timestep has `velocities`. If so, print them out."
   ]
  },
  {
   "cell_type": "code",
   "execution_count": 20,
   "metadata": {
    "ExecuteTime": {
     "end_time": "2021-05-25T08:41:04.365680Z",
     "start_time": "2021-05-25T08:41:04.361647Z"
    },
    "solution2": "hidden"
   },
   "outputs": [
    {
     "name": "stdout",
     "output_type": "stream",
     "text": [
      "[[-10.8446045   -3.3365366   -6.420965  ]\n",
      " [  0.03857359   0.51404047  -5.497332  ]\n",
      " [ 17.19698      1.9232591  -15.253312  ]\n",
      " ...\n",
      " [  3.362785     3.7809153    3.04019   ]\n",
      " [  8.890362   -26.293007     0.64297414]\n",
      " [  4.1646843   23.021692    -4.7289677 ]]\n"
     ]
    }
   ],
   "source": [
    "# Exercise 2 - solution\n",
    "if u.trajectory.ts.has_velocities:\n",
    "    print(u.trajectory.ts.velocities)"
   ]
  },
  {
   "cell_type": "code",
   "execution_count": 21,
   "metadata": {
    "ExecuteTime": {
     "end_time": "2021-05-25T08:41:04.371228Z",
     "start_time": "2021-05-25T08:41:04.368417Z"
    }
   },
   "outputs": [],
   "source": [
    "# Exercise 2"
   ]
  },
  {
   "cell_type": "markdown",
   "metadata": {},
   "source": [
    "Whilst the *Timestep* information is available, one would normally not access the information it contains by calling `Universe.trajectory.ts` directly.\n",
    "\n",
    "Instead, as shown in session 1, the information contained in the *Timestep* is passed along to other parts of the `Universe`.\n",
    "\n",
    "For example, as shown in session 1, coordinate/velocity/forces data is directly accessible via AtomGroups instead."
   ]
  },
  {
   "cell_type": "code",
   "execution_count": 22,
   "metadata": {
    "ExecuteTime": {
     "end_time": "2021-05-25T08:41:04.379916Z",
     "start_time": "2021-05-25T08:41:04.373348Z"
    }
   },
   "outputs": [
    {
     "name": "stdout",
     "output_type": "stream",
     "text": [
      "AtomGroup positions:\n",
      " [[15.249873  12.578178  15.191731 ]\n",
      " [14.925511  13.58888   14.944009 ]\n",
      " [15.285703  14.3409605 15.645962 ]\n",
      " ...\n",
      " [ 3.9575078 14.525827  16.14651  ]\n",
      " [ 4.6214457 14.670319  15.472312 ]\n",
      " [ 4.3571763 14.856422  16.950998 ]]\n",
      "ts positions:\n",
      " [[15.249873  12.578178  15.191731 ]\n",
      " [14.925511  13.58888   14.944009 ]\n",
      " [15.285703  14.3409605 15.645962 ]\n",
      " ...\n",
      " [ 3.9575078 14.525827  16.14651  ]\n",
      " [ 4.6214457 14.670319  15.472312 ]\n",
      " [ 4.3571763 14.856422  16.950998 ]]\n"
     ]
    }
   ],
   "source": [
    "# create an atomgroup from all the atoms\n",
    "ag = u.atoms\n",
    "print(\"AtomGroup positions:\\n\", ag.positions)\n",
    "print(\"ts positions:\\n\", u.trajectory.ts.positions)"
   ]
  },
  {
   "cell_type": "markdown",
   "metadata": {},
   "source": [
    "Similarly, the `dimensions` can be accessed directly from `Universe`."
   ]
  },
  {
   "cell_type": "code",
   "execution_count": 23,
   "metadata": {
    "ExecuteTime": {
     "end_time": "2021-05-25T08:41:04.396550Z",
     "start_time": "2021-05-25T08:41:04.391450Z"
    },
    "scrolled": true
   },
   "outputs": [
    {
     "name": "stdout",
     "output_type": "stream",
     "text": [
      "Universe dimensions:  [28.818764 28.278753 27.726164 90.       90.       90.      ]\n",
      "ts dimensions:  [28.818764 28.278753 27.726164 90.       90.       90.      ]\n"
     ]
    }
   ],
   "source": [
    "print(\"Universe dimensions: \", u.dimensions)\n",
    "print(\"ts dimensions: \", u.trajectory.ts.dimensions)"
   ]
  },
  {
   "cell_type": "markdown",
   "metadata": {},
   "source": [
    "## Traversing through a trajectory"
   ]
  },
  {
   "cell_type": "markdown",
   "metadata": {},
   "source": [
    "Up until this point, we have primarily been inspecting only a single frame of the `trajectory` object. By default when creating a `Universe`, the *Timestep* is loaded with the information from the first (zero-th) frame in the trajectory.\n",
    "\n",
    "Here we look at how we can traverse through the trajectory and access the data from different frames.\n",
    "\n",
    "We can consider the `trajectory` object to be an iterator that loads trajectory data from a source (i.e. in most cases the input trajectory file), and feeds the relevant data to the *Timestep* object.\n",
    "\n",
    "The following operations can be done to access the trajectory:\n",
    "* Random access via trajectory indexing\n",
    "* Iterating over all frames\n",
    "* Slicing to iterate over a sub-section of the trajectory\n",
    "\n",
    "**Note:** As is standard in python, `trajectory` access is done via **0-based indices**. So the first frame is `0`, and the final frame is `n_frames - 1`."
   ]
  },
  {
   "cell_type": "markdown",
   "metadata": {},
   "source": [
    "### Trajectory indexing\n",
    "\n",
    "It is possible to randomly access any frame along a trajectory by passing the index of the frame to the trajectory."
   ]
  },
  {
   "cell_type": "code",
   "execution_count": 24,
   "metadata": {
    "ExecuteTime": {
     "end_time": "2021-05-25T08:41:04.429528Z",
     "start_time": "2021-05-25T08:41:04.401626Z"
    }
   },
   "outputs": [
    {
     "name": "stdout",
     "output_type": "stream",
     "text": [
      "current frame:  0\n",
      "total number of frames:  10\n"
     ]
    }
   ],
   "source": [
    "# First let's create a new universe using PRM_NCBOX and TRJ_NCBOX\n",
    "u = mda.Universe(PRM_NCBOX, TRJ_NCBOX)\n",
    "\n",
    "# as we can see on creation we access the first frame in the trajectory\n",
    "print('current frame: ', u.trajectory.frame)\n",
    "print('total number of frames: ', u.trajectory.n_frames)"
   ]
  },
  {
   "cell_type": "code",
   "execution_count": 25,
   "metadata": {
    "ExecuteTime": {
     "end_time": "2021-05-25T08:41:04.437222Z",
     "start_time": "2021-05-25T08:41:04.432899Z"
    }
   },
   "outputs": [
    {
     "name": "stdout",
     "output_type": "stream",
     "text": [
      "[[15.249873 12.578178 15.191731]\n",
      " [14.925511 13.58888  14.944009]]\n"
     ]
    }
   ],
   "source": [
    "# Let's create an atomgroup for the first two atoms in the Universe\n",
    "# and check their current position at frame 0\n",
    "first_two_atoms = u.atoms[:2]\n",
    "print(first_two_atoms.positions)"
   ]
  },
  {
   "cell_type": "code",
   "execution_count": 26,
   "metadata": {
    "ExecuteTime": {
     "end_time": "2021-05-25T08:41:04.447126Z",
     "start_time": "2021-05-25T08:41:04.440321Z"
    }
   },
   "outputs": [
    {
     "data": {
      "text/plain": [
       "< Timestep 6 with unit cell dimensions [27.78876 27.26805 26.73521 90.      90.      90.     ] >"
      ]
     },
     "execution_count": 26,
     "metadata": {},
     "output_type": "execute_result"
    }
   ],
   "source": [
    "# Now let's move to the 7th frame\n",
    "u.trajectory[6]"
   ]
  },
  {
   "cell_type": "code",
   "execution_count": 27,
   "metadata": {
    "ExecuteTime": {
     "end_time": "2021-05-25T08:41:04.457212Z",
     "start_time": "2021-05-25T08:41:04.451387Z"
    }
   },
   "outputs": [
    {
     "name": "stdout",
     "output_type": "stream",
     "text": [
      "current frame:  6\n"
     ]
    }
   ],
   "source": [
    "# As we can see the frame number as now updated accordingly\n",
    "print('current frame: ', u.trajectory.frame)"
   ]
  },
  {
   "cell_type": "code",
   "execution_count": 28,
   "metadata": {
    "ExecuteTime": {
     "end_time": "2021-05-25T08:41:04.466802Z",
     "start_time": "2021-05-25T08:41:04.460195Z"
    }
   },
   "outputs": [
    {
     "name": "stdout",
     "output_type": "stream",
     "text": [
      "[[15.79226   12.6949625 15.421089 ]\n",
      " [15.945778  13.682353  14.985668 ]]\n"
     ]
    }
   ],
   "source": [
    "# The AtomGroup also automatically updates with the new Timestep data\n",
    "print(first_two_atoms.positions)"
   ]
  },
  {
   "cell_type": "markdown",
   "metadata": {},
   "source": [
    "<div class=\"alert alert-info\">\n",
    "    \n",
    "**Note**\n",
    "\n",
    "It is particularly important to remember that AtomGroups are not static objects. Whilst the atoms they represent do not change (see UpdatingAtomGroup for when this is not the case), the positions (and forces or velocities if available) will change as you traverse through the trajectory.\n",
    "\n",
    "</div>"
   ]
  },
  {
   "cell_type": "markdown",
   "metadata": {},
   "source": [
    "\n",
    "Unless the trajectory is held in memory (see **Section 4**) any changes to variables that change with `Timestep`, are *temporary*.\n",
    "\n",
    "For example, if you were to override the position of an AtomGroup for a given frame, then seek to another frame and come back to the original frame, the positions would be updated back to reflect the contents of the trajectory file:"
   ]
  },
  {
   "cell_type": "code",
   "execution_count": 29,
   "metadata": {
    "ExecuteTime": {
     "end_time": "2021-05-25T08:41:04.474722Z",
     "start_time": "2021-05-25T08:41:04.469456Z"
    },
    "scrolled": true
   },
   "outputs": [
    {
     "name": "stdout",
     "output_type": "stream",
     "text": [
      "frame 0 positions:  [[15.249873 12.578178 15.191731]\n",
      " [14.925511 13.58888  14.944009]]\n",
      "zeroed positions:  [[0. 0. 0.]\n",
      " [0. 0. 0.]]\n"
     ]
    }
   ],
   "source": [
    "# Let's start from frame 0 and override the positions of `first_two_atoms`\n",
    "u.trajectory[0]\n",
    "\n",
    "# `first_two_atoms` positions beforehand\n",
    "print('frame 0 positions: ', first_two_atoms.positions)\n",
    "\n",
    "# `first_two_atoms` after being zeroed\n",
    "first_two_atoms.positions = 0\n",
    "print('zeroed positions: ', first_two_atoms.positions)"
   ]
  },
  {
   "cell_type": "code",
   "execution_count": 30,
   "metadata": {
    "ExecuteTime": {
     "end_time": "2021-05-25T08:41:04.485071Z",
     "start_time": "2021-05-25T08:41:04.477756Z"
    }
   },
   "outputs": [
    {
     "data": {
      "text/plain": [
       "array([[14.799454, 15.214347, 14.714555],\n",
       "       [15.001984, 15.870884, 13.868363]], dtype=float32)"
      ]
     },
     "execution_count": 30,
     "metadata": {},
     "output_type": "execute_result"
    }
   ],
   "source": [
    "# Now let's go the second last frame\n",
    "u.trajectory[-2]\n",
    "first_two_atoms.positions"
   ]
  },
  {
   "cell_type": "code",
   "execution_count": 31,
   "metadata": {
    "ExecuteTime": {
     "end_time": "2021-05-25T08:41:04.491463Z",
     "start_time": "2021-05-25T08:41:04.487125Z"
    }
   },
   "outputs": [
    {
     "data": {
      "text/plain": [
       "array([[15.249873, 12.578178, 15.191731],\n",
       "       [14.925511, 13.58888 , 14.944009]], dtype=float32)"
      ]
     },
     "execution_count": 31,
     "metadata": {},
     "output_type": "execute_result"
    }
   ],
   "source": [
    "# And now we come back to frame 0\n",
    "u.trajectory[0]\n",
    "\n",
    "# positions are no longer zeroed\n",
    "first_two_atoms.positions"
   ]
  },
  {
   "cell_type": "markdown",
   "metadata": {
    "solution2": "hidden",
    "solution2_first": true
   },
   "source": [
    "### Exercise 3\n",
    "\n",
    "Run these two assertions in a separate cell. Is the output what you expect? Why or why not?\n",
    "\n",
    "```python\n",
    "print(\"Equality\", first_two_atoms.positions == first_two_atoms.positions)\n",
    "print(\"Same object in memory\", first_two_atoms.positions is first_two_atoms.positions)\n",
    "```\n",
    "\n",
    "What consequences might arise? e.g. if you wanted to set all Z positions to 0, is the below statement feasible?\n",
    "\n",
    "```python\n",
    "first_two_atoms.positions[:, 2] = 0\n",
    "print(first_two_atoms.positions)\n",
    "```\n",
    "\n",
    "How might you get around this?"
   ]
  },
  {
   "cell_type": "markdown",
   "metadata": {
    "solution2": "hidden"
   },
   "source": [
    "Running the first pair of statements gives a perplexing result.\n",
    "\n",
    "```ipython\n",
    ">>> print(\"Equality\", first_two_atoms.positions == first_two_atoms.positions)\n",
    "True\n",
    ">>> print(\"Same object in memory\", first_two_atoms.positions is first_two_atoms.positions)\n",
    "False\n",
    "```\n",
    "\n",
    "Even though MDAnalysis makes it look as though the `positions` array is a static property that belongs to `first_two_atoms`, remember that the fundamental object that stores dynamic data such as `positions` is the *Timestep*. This means that every time you ask an AtomGroup for its `positions`, the AtomGroup actually asks the Timestep for the positions of *all* the atoms, and then only returns the ones for that atoms inside the group. Therefore, every time you call `AtomGroup.positions`, you are returned a new array.\n",
    "\n",
    "This also explains why directly changing the Z coordinates of `AtomGroup.positions` does not seem to have any effect -- you have modified the values of the the returned copy, not the underlying positions array stored in `Timestep`. So how do you modify the coordinates of an AtomGroup? Well, *setting* the `AtomGroup.positions` attribute will transmit the change to the underlying Timestep. So, the general construct should be:\n",
    "\n",
    "```python\n",
    ">>> coordinates = first_two_atoms.positions\n",
    ">>> coordinates[:, 2] = 0\n",
    ">>> first_two_atoms.positions = coordinates\n",
    ">>> print(first_two_atoms.positions)\n",
    "[[15.249873 12.578178  0.      ]\n",
    " [14.925511 13.58888   0.      ]]\n",
    "```\n",
    "\n",
    "But remember, these changed coordinates will be gone when you switch the active frame, unless the trajectory is in memory."
   ]
  },
  {
   "cell_type": "code",
   "execution_count": null,
   "metadata": {},
   "outputs": [],
   "source": [
    "# Exercise 3"
   ]
  },
  {
   "cell_type": "markdown",
   "metadata": {},
   "source": [
    "### Iterating through the trajectory\n",
    "\n",
    "Iterating through a trajectory is the most common way to traverse a trajectory.\n",
    "\n",
    "For example one could access every frame in the trajectory and store the current time using the following:"
   ]
  },
  {
   "cell_type": "code",
   "execution_count": 32,
   "metadata": {
    "ExecuteTime": {
     "end_time": "2021-05-25T08:41:04.505834Z",
     "start_time": "2021-05-25T08:41:04.493446Z"
    }
   },
   "outputs": [
    {
     "name": "stdout",
     "output_type": "stream",
     "text": [
      "[1.0, 2.0, 3.0, 4.0, 5.0, 6.0, 7.0, 8.0, 9.0, 10.0]\n"
     ]
    }
   ],
   "source": [
    "# Create a list for the times\n",
    "times = []\n",
    "\n",
    "for ts in u.trajectory:\n",
    "    times.append(u.trajectory.time)\n",
    "    \n",
    "print(times)"
   ]
  },
  {
   "cell_type": "markdown",
   "metadata": {},
   "source": [
    "### Trajectory slicing\n",
    "\n",
    "Rather than iterating through the entire trajectory, it is possible to slice the trajectory using a `[start:stop:step]` pattern."
   ]
  },
  {
   "cell_type": "code",
   "execution_count": 33,
   "metadata": {
    "ExecuteTime": {
     "end_time": "2021-05-25T08:41:04.514368Z",
     "start_time": "2021-05-25T08:41:04.508302Z"
    }
   },
   "outputs": [
    {
     "name": "stdout",
     "output_type": "stream",
     "text": [
      "[2.0, 4.0, 6.0, 8.0]\n"
     ]
    }
   ],
   "source": [
    "# Let's slice starting at the second frame, ending on the before last frame\n",
    "# and skipping every other frame\n",
    "\n",
    "times = []\n",
    "\n",
    "for ts in u.trajectory[1:-2:2]:\n",
    "    times.append(u.trajectory.time)\n",
    "    \n",
    "print(times)"
   ]
  },
  {
   "cell_type": "markdown",
   "metadata": {},
   "source": [
    "It is also possible to use fancy indexing to access frames in a given order"
   ]
  },
  {
   "cell_type": "code",
   "execution_count": 34,
   "metadata": {
    "ExecuteTime": {
     "end_time": "2021-05-25T08:41:04.521105Z",
     "start_time": "2021-05-25T08:41:04.516154Z"
    }
   },
   "outputs": [
    {
     "name": "stdout",
     "output_type": "stream",
     "text": [
      "[10.0, 6.0, 5.0, 9.0, 2.0]\n"
     ]
    }
   ],
   "source": [
    "# indices of frames to access\n",
    "indices = [9, 5, 4, 8, 1]\n",
    "\n",
    "times = []\n",
    "\n",
    "for ts in u.trajectory[indices]:\n",
    "    times.append(u.trajectory.time)\n",
    "    \n",
    "print(times)"
   ]
  },
  {
   "cell_type": "markdown",
   "metadata": {
    "solution2": "hidden",
    "solution2_first": true
   },
   "source": [
    "### Exercise 4\n",
    "\n",
    "Create a reversed list of the trajectory times"
   ]
  },
  {
   "cell_type": "code",
   "execution_count": 35,
   "metadata": {
    "ExecuteTime": {
     "end_time": "2021-05-25T08:41:04.529945Z",
     "start_time": "2021-05-25T08:41:04.523295Z"
    },
    "solution2": "hidden"
   },
   "outputs": [
    {
     "name": "stdout",
     "output_type": "stream",
     "text": [
      "[10.0, 9.0, 8.0, 7.0, 6.0, 5.0, 4.0, 3.0, 2.0, 1.0]\n"
     ]
    }
   ],
   "source": [
    "# Exercise 3 -- solution\n",
    "times = []\n",
    "\n",
    "for ts in u.trajectory[::-1]:\n",
    "    times.append(u.trajectory.time)\n",
    "    \n",
    "print(times)"
   ]
  },
  {
   "cell_type": "code",
   "execution_count": 36,
   "metadata": {
    "ExecuteTime": {
     "end_time": "2021-05-25T08:41:04.534407Z",
     "start_time": "2021-05-25T08:41:04.531995Z"
    }
   },
   "outputs": [],
   "source": [
    "# Exercise 3"
   ]
  },
  {
   "cell_type": "markdown",
   "metadata": {},
   "source": [
    "## Transferring to memory\n",
    "\n",
    "By default MDAnalysis uses an iterative I/O model. That is to say that it loads trajectory data from disk as necessary. This is done so that very large trajectories can still be read by MDAnalysis without filling up the machine's RAM.\n",
    "\n",
    "In some cases it can be useful to instead hold the trajectory data in memory:\n",
    "1. It is much faster to iterate through an in-memory trajectory\n",
    "2. Changes to the trajectory data is not overwritten\n"
   ]
  },
  {
   "cell_type": "markdown",
   "metadata": {},
   "source": [
    "You can create an in-memory trajectory directly on `Universe` creation by setting the `in_memory` keyword."
   ]
  },
  {
   "cell_type": "code",
   "execution_count": 37,
   "metadata": {
    "ExecuteTime": {
     "end_time": "2021-05-25T08:41:04.579935Z",
     "start_time": "2021-05-25T08:41:04.536472Z"
    }
   },
   "outputs": [],
   "source": [
    "u = mda.Universe(PRM_NCBOX, TRJ_NCBOX, in_memory=True)"
   ]
  },
  {
   "cell_type": "code",
   "execution_count": 38,
   "metadata": {
    "ExecuteTime": {
     "end_time": "2021-05-25T08:41:04.588511Z",
     "start_time": "2021-05-25T08:41:04.584114Z"
    }
   },
   "outputs": [
    {
     "data": {
      "text/plain": [
       "'MEMORY'"
      ]
     },
     "execution_count": 38,
     "metadata": {},
     "output_type": "execute_result"
    }
   ],
   "source": [
    "# Note how the trajectory is now stored in 'MEMORY' format\n",
    "# instead of the input ['NCDF', 'NC'] input format\n",
    "u.trajectory.format"
   ]
  },
  {
   "cell_type": "markdown",
   "metadata": {},
   "source": [
    "It's also possible to transfer the trajectory to memory after creating the `Universe` using `transfer_to_memory`."
   ]
  },
  {
   "cell_type": "code",
   "execution_count": 39,
   "metadata": {
    "ExecuteTime": {
     "end_time": "2021-05-25T08:41:04.629832Z",
     "start_time": "2021-05-25T08:41:04.591057Z"
    }
   },
   "outputs": [
    {
     "name": "stdout",
     "output_type": "stream",
     "text": [
      "starting format:  ['NCDF', 'NC']\n",
      "new format:  MEMORY\n"
     ]
    }
   ],
   "source": [
    "# It's also possible to transfer\n",
    "u = mda.Universe(PRM_NCBOX, TRJ_NCBOX)\n",
    "print('starting format: ', u.trajectory.format)\n",
    "\n",
    "u.transfer_to_memory()\n",
    "print('new format: ', u.trajectory.format)"
   ]
  },
  {
   "cell_type": "markdown",
   "metadata": {},
   "source": [
    "When in-memory, changes to trajectory data like `positions` do not get overwritten if you change frames."
   ]
  },
  {
   "cell_type": "code",
   "execution_count": 40,
   "metadata": {
    "ExecuteTime": {
     "end_time": "2021-05-25T08:41:04.640004Z",
     "start_time": "2021-05-25T08:41:04.633100Z"
    }
   },
   "outputs": [
    {
     "name": "stdout",
     "output_type": "stream",
     "text": [
      "current frame:  0\n",
      "current positions:  [[15.249873  12.578178  15.191731 ]\n",
      " [14.925511  13.58888   14.944009 ]\n",
      " [15.285703  14.3409605 15.645962 ]\n",
      " ...\n",
      " [ 3.9575078 14.525827  16.14651  ]\n",
      " [ 4.6214457 14.670319  15.472312 ]\n",
      " [ 4.3571763 14.856422  16.950998 ]]\n",
      "zeroed positions:  [[0. 0. 0.]\n",
      " [0. 0. 0.]\n",
      " [0. 0. 0.]\n",
      " ...\n",
      " [0. 0. 0.]\n",
      " [0. 0. 0.]\n",
      " [0. 0. 0.]]\n"
     ]
    }
   ],
   "source": [
    "print('current frame: ', u.trajectory.frame)\n",
    "print('current positions: ', u.atoms.positions)\n",
    "\n",
    "# zero the positions\n",
    "u.atoms.positions = 0\n",
    "print('zeroed positions: ', u.atoms.positions)"
   ]
  },
  {
   "cell_type": "code",
   "execution_count": 41,
   "metadata": {
    "ExecuteTime": {
     "end_time": "2021-05-25T08:41:04.650284Z",
     "start_time": "2021-05-25T08:41:04.643708Z"
    }
   },
   "outputs": [
    {
     "name": "stdout",
     "output_type": "stream",
     "text": [
      "frame -1 positions:  [[14.392319  16.360231  14.511796 ]\n",
      " [13.606518  17.076824  14.27282  ]\n",
      " [14.025402  18.076998  14.383686 ]\n",
      " ...\n",
      " [ 5.8899493 16.821993   7.454993 ]\n",
      " [ 6.58759   17.260208   6.967657 ]\n",
      " [ 5.7498684 15.999697   6.9854836]]\n",
      "frame 0 positions:  [[0. 0. 0.]\n",
      " [0. 0. 0.]\n",
      " [0. 0. 0.]\n",
      " ...\n",
      " [0. 0. 0.]\n",
      " [0. 0. 0.]\n",
      " [0. 0. 0.]]\n"
     ]
    }
   ],
   "source": [
    "# Seek to a new frame\n",
    "u.trajectory[-1]\n",
    "print('frame -1 positions: ', u.atoms.positions)\n",
    "\n",
    "# See back to frame 0\n",
    "u.trajectory[0]\n",
    "\n",
    "# positions remain zero for frame 0\n",
    "print('frame 0 positions: ', u.atoms.positions)"
   ]
  },
  {
   "cell_type": "markdown",
   "metadata": {
    "solution2": "hidden",
    "solution2_first": true
   },
   "source": [
    "### Exercise 5\n",
    "\n",
    "Evaluate how much faster you can retrieve trajectory times from an in-memory trajectory compared to reading from file.\n",
    "\n",
    "*Hint:* use %timeit"
   ]
  },
  {
   "cell_type": "code",
   "execution_count": 42,
   "metadata": {
    "ExecuteTime": {
     "end_time": "2021-05-25T08:41:04.702694Z",
     "start_time": "2021-05-25T08:41:04.652640Z"
    },
    "solution2": "hidden"
   },
   "outputs": [],
   "source": [
    "# Exercise 4 -- solution\n",
    "u_memory = mda.Universe(PRM_NCBOX, TRJ_NCBOX, in_memory=True)\n",
    "u_disk = mda.Universe(PRM_NCBOX, TRJ_NCBOX)"
   ]
  },
  {
   "cell_type": "code",
   "execution_count": 43,
   "metadata": {
    "ExecuteTime": {
     "end_time": "2021-05-25T08:41:10.123062Z",
     "start_time": "2021-05-25T08:41:04.704393Z"
    },
    "solution2": "hidden"
   },
   "outputs": [
    {
     "name": "stdout",
     "output_type": "stream",
     "text": [
      "65.2 µs ± 607 ns per loop (mean ± std. dev. of 7 runs, 10000 loops each)\n"
     ]
    }
   ],
   "source": [
    "%timeit [ts.time for ts in u_memory.trajectory]"
   ]
  },
  {
   "cell_type": "code",
   "execution_count": 44,
   "metadata": {
    "ExecuteTime": {
     "end_time": "2021-05-25T08:41:12.874001Z",
     "start_time": "2021-05-25T08:41:10.125034Z"
    },
    "solution2": "hidden"
   },
   "outputs": [
    {
     "name": "stdout",
     "output_type": "stream",
     "text": [
      "335 µs ± 3.91 µs per loop (mean ± std. dev. of 7 runs, 1000 loops each)\n"
     ]
    }
   ],
   "source": [
    "%timeit [ts.time for ts in u_disk.trajectory]"
   ]
  },
  {
   "cell_type": "code",
   "execution_count": 45,
   "metadata": {
    "ExecuteTime": {
     "end_time": "2021-05-25T08:41:12.877631Z",
     "start_time": "2021-05-25T08:41:12.875583Z"
    }
   },
   "outputs": [],
   "source": [
    "# Exercise 4"
   ]
  },
  {
   "cell_type": "markdown",
   "metadata": {},
   "source": [
    "## Visualizing a trajectory"
   ]
  },
  {
   "cell_type": "markdown",
   "metadata": {},
   "source": [
    "As we did in the previous session, it is possible to use NGLView to traverse through the trajectory visually."
   ]
  },
  {
   "cell_type": "code",
   "execution_count": 46,
   "metadata": {
    "ExecuteTime": {
     "end_time": "2021-05-25T08:41:13.569558Z",
     "start_time": "2021-05-25T08:41:12.879967Z"
    }
   },
   "outputs": [
    {
     "data": {
      "application/vnd.jupyter.widget-view+json": {
       "model_id": "253c81afc3ed448eb80edf21bc3640fe",
       "version_major": 2,
       "version_minor": 0
      },
      "text/plain": [
       "NGLWidget(max_frame=97)"
      ]
     },
     "metadata": {},
     "output_type": "display_data"
    }
   ],
   "source": [
    "from MDAnalysis.tests.datafiles import PSF, DCD\n",
    "adk = mda.Universe(PSF, DCD)\n",
    "nv.show_mdanalysis(adk)"
   ]
  },
  {
   "cell_type": "markdown",
   "metadata": {},
   "source": [
    "## Updating AtomGroups"
   ]
  },
  {
   "cell_type": "markdown",
   "metadata": {},
   "source": [
    "In **section 3** we discuss how AtomGroups have a static set of atoms but have positions (forces, velocities, etc..) that update as you traverse through a trajectory.\n",
    "\n",
    "There is a special type of the `AtomGroup` class which allows for a dynamic selection of atoms that changes as you traverse through the trajectory. This class it called the `UpdatingAtomGroup`. To use it, you must pass the `updating=True` flag to `select_atoms`.\n",
    "\n",
    "To illustrate this, we look at an ACE residue in a box of water. We create a selection based on the number of waters within 5 Angstroms of the ACE residue. As we traverse through the trajectory, the `UpdatingAtomGroup` will change in the number of atoms it contains, whilst the `AtomGroup` will not."
   ]
  },
  {
   "cell_type": "code",
   "execution_count": 47,
   "metadata": {
    "ExecuteTime": {
     "end_time": "2021-05-25T08:41:13.612933Z",
     "start_time": "2021-05-25T08:41:13.571758Z"
    }
   },
   "outputs": [],
   "source": [
    "# ACE residue in a box of water\n",
    "u = mda.Universe(PRM_NCBOX, TRJ_NCBOX)\n",
    "\n",
    "# Create a normal atom group\n",
    "ag = u.select_atoms('resname WAT and around 5 resname ACE')\n",
    "# Create an updating atom group\n",
    "updating_ag = u.select_atoms('resname WAT and around 5 resname ACE', updating=True)"
   ]
  },
  {
   "cell_type": "code",
   "execution_count": 48,
   "metadata": {
    "ExecuteTime": {
     "end_time": "2021-05-25T08:41:13.628485Z",
     "start_time": "2021-05-25T08:41:13.615115Z"
    }
   },
   "outputs": [
    {
     "name": "stdout",
     "output_type": "stream",
     "text": [
      "[87, 87, 87, 87, 87, 87, 87, 87, 87, 87]\n",
      "[87, 81, 78, 84, 76, 79, 83, 90, 83, 72]\n"
     ]
    }
   ],
   "source": [
    "ag_atoms = []\n",
    "updating_ag_atoms = []\n",
    "\n",
    "for ts in u.trajectory:\n",
    "    ag_atoms.append(len(ag.atoms))\n",
    "    updating_ag_atoms.append(len(updating_ag.atoms))\n",
    "\n",
    "# These number of atoms remains the same\n",
    "print(ag_atoms)\n",
    "\n",
    "# The number of atoms changes\n",
    "print(updating_ag_atoms)"
   ]
  },
  {
   "cell_type": "markdown",
   "metadata": {},
   "source": [
    "**Note:** Whilst `UpdatingAtomGroup` are sometimes very useful, they are also much more computational expensive to use as the selection (in this case a distance search around the ACE residue) has to be done at every step along the trajectory. We recommend using these sparsely."
   ]
  },
  {
   "cell_type": "markdown",
   "metadata": {},
   "source": [
    "## Writing files out"
   ]
  },
  {
   "cell_type": "markdown",
   "metadata": {},
   "source": [
    "### Single-frame output\n",
    "\n",
    "Aside from reading coordinate (trajectory) files in, MDAnalysis is also able to write them out. A list of formats which can be written to is shown in the [supported formats documentation](https://docs.mdanalysis.org/dev/documentation_pages/coordinates/init.html#id23). To write out static (one-frame) coordinates, the easiest way is to use the `AtomGroup.write` method. For example, if we wanted to separate the ACE residue from the water, we could write that group out to a GRO file."
   ]
  },
  {
   "cell_type": "code",
   "execution_count": 64,
   "metadata": {
    "ExecuteTime": {
     "end_time": "2021-05-25T08:48:38.986624Z",
     "start_time": "2021-05-25T08:48:38.981735Z"
    }
   },
   "outputs": [],
   "source": [
    "ag = u.select_atoms(\"resname ACE\")  # can also use u.select_atoms(\"protein\")\n",
    "\n",
    "# the file format is inferred from the extension\n",
    "ag.write(\"ace.gro\")"
   ]
  },
  {
   "cell_type": "markdown",
   "metadata": {},
   "source": [
    "### Trajectory output"
   ]
  },
  {
   "cell_type": "markdown",
   "metadata": {},
   "source": [
    "The most common way to write trajectories out to files is by using the `Writer` class as a context manager.\n",
    "\n",
    "Below we show an example of reading in an AMBER netcdf trajectory (ACE residue in a box of water used in previous sections), and writing it out to a DCD trajectory.\n",
    "\n",
    "The basic `Writer` usage pattern is:\n",
    "1. Create a context manager for the Writer using `with`\n",
    "  * Needs passing the number of atoms that will be written to file with the `n_atoms` argument\n",
    "  * Can optionally pass `format` to specific which file format will be used, otherwise the output file extension will be used\n",
    "2. Iterate through the trajectory frames you wish to write\n",
    "3. Pass the `AtomGroup` to write out at each frame to the `write()` method\n",
    "4. Close the output trajectory file (done automatically via the context manager)\n",
    "\n",
    "There are other ways to write out coordinates, these can be seen in the [user guide entry on trajectory writing](https://userguide.mdanalysis.org/stable/reading_and_writing.html#frames-and-trajectories)."
   ]
  },
  {
   "cell_type": "code",
   "execution_count": 49,
   "metadata": {
    "ExecuteTime": {
     "end_time": "2021-05-25T08:41:13.668708Z",
     "start_time": "2021-05-25T08:41:13.631165Z"
    }
   },
   "outputs": [],
   "source": [
    "with mda.Writer('ace.dcd', n_atoms=ag.n_atoms, format='DCD') as W:\n",
    "    # Iterate through the trajectory and write at every step\n",
    "    for ts in u.trajectory:\n",
    "        W.write(ag)"
   ]
  },
  {
   "cell_type": "markdown",
   "metadata": {},
   "source": [
    "Loading the file back into a new universe, you can work with the ACE residue only."
   ]
  },
  {
   "cell_type": "code",
   "execution_count": null,
   "metadata": {},
   "outputs": [],
   "source": [
    "ace_only = mda.Universe(\"ace.gro\", \"ace.dcd\")"
   ]
  },
  {
   "cell_type": "markdown",
   "metadata": {},
   "source": [
    "## Case study 1: RVX-OH binding to BRD4(1)"
   ]
  },
  {
   "cell_type": "markdown",
   "metadata": {},
   "source": [
    "Here we have a 20 ns simulation of the binding of the RVX-OH ligand to the first bromodomain of human BRD4. The simulation is based on the crystal structure [4MR3](https://www.rcsb.org/structure/4mr3)."
   ]
  },
  {
   "cell_type": "code",
   "execution_count": 50,
   "metadata": {
    "ExecuteTime": {
     "end_time": "2021-05-25T08:41:14.123045Z",
     "start_time": "2021-05-25T08:41:13.671091Z"
    },
    "scrolled": true
   },
   "outputs": [
    {
     "data": {
      "application/vnd.jupyter.widget-view+json": {
       "model_id": "75058409e7534fd6a93133b849bf07ee",
       "version_major": 2,
       "version_minor": 0
      },
      "text/plain": [
       "NGLWidget(max_frame=400)"
      ]
     },
     "metadata": {},
     "output_type": "display_data"
    }
   ],
   "source": [
    "# Note; due to trajectory conversion dt was lost, we set it manually to 50 ps\n",
    "rvx_oh = mda.Universe('data/rvx-oh.pdb', 'data/rvx-oh.dcd', dt=50)\n",
    "nv.show_mdanalysis(rvx_oh)"
   ]
  },
  {
   "cell_type": "markdown",
   "metadata": {
    "solution2": "hidden",
    "solution2_first": true
   },
   "source": [
    "### Exercise 6\n",
    "\n",
    "When looking at protein-ligand complexes, a common analysis is to look at how far the ligand moves out of the binding site. One way to do this is to purely look at the center of mass distances between the ligand and the binding site residues.\n",
    "\n",
    "Using this trajectory, calculate and plot the center of mass distances between the ligand (`'resname LIG'`) and the binding site defined as the residues within 5 Angstrom of the ligand (`'byres protein and around 5 resname LIG'`).\n",
    "\n",
    "**Notes:** MDAnalysis AtomGroups have a convenient `center_of_mass()` method to get their center of mass at the current frame. Additionally, `MDAnalysis.lib.distances` has a `calc_bonds` method which allows users to calculate periodic aware distances between two sets of positions."
   ]
  },
  {
   "cell_type": "code",
   "execution_count": 51,
   "metadata": {
    "ExecuteTime": {
     "end_time": "2021-05-25T08:41:14.842775Z",
     "start_time": "2021-05-25T08:41:14.126041Z"
    },
    "solution2": "hidden"
   },
   "outputs": [
    {
     "data": {
      "text/plain": [
       "Text(0.5, 0, 'Simulation time (ns)')"
      ]
     },
     "execution_count": 51,
     "metadata": {},
     "output_type": "execute_result"
    },
    {
     "data": {
      "image/png": "[encoded data removed]",
      "text/plain": [
       "<Figure size 432x288 with 1 Axes>"
      ]
     },
     "metadata": {
      "needs_background": "light"
     },
     "output_type": "display_data"
    }
   ],
   "source": [
    "# Exercise 5 -- solution\n",
    "from MDAnalysis.lib.distances import calc_bonds\n",
    "\n",
    "ligand = rvx_oh.select_atoms('resname LIG')\n",
    "# Extra question - using an UpdatingAtomGroup is slow, how could you speed this up?\n",
    "# Hint: MDAnalysis.lib.distances has a capped_distance method which could be useful\n",
    "binding_site = rvx_oh.select_atoms('byres protein and around 5 resname LIG', updating=True)\n",
    "\n",
    "com_distances = np.empty(rvx_oh.trajectory.n_frames)\n",
    "times = com_distances.copy()\n",
    "\n",
    "for i, ts in enumerate(rvx_oh.trajectory):\n",
    "    com_distances[i] = calc_bonds(coords1=ligand.center_of_mass(),\n",
    "                                  coords2=binding_site.center_of_mass(),\n",
    "                                  box=rvx_oh.dimensions)\n",
    "    times[i] = ts.time / 1000 # get time in ns\n",
    "\n",
    "plt.plot(times, com_distances)\n",
    "plt.ylabel('Ligand - Binding Site COM distance')\n",
    "plt.xlabel('Simulation time (ns)')"
   ]
  },
  {
   "cell_type": "code",
   "execution_count": 52,
   "metadata": {
    "ExecuteTime": {
     "end_time": "2021-05-25T08:41:14.846479Z",
     "start_time": "2021-05-25T08:41:14.844562Z"
    }
   },
   "outputs": [],
   "source": [
    "# Exercise 6"
   ]
  },
  {
   "cell_type": "markdown",
   "metadata": {},
   "source": [
    "What other metrics could you use to analyze binding here? If you have time, have a play with the data to see what other insights you could get from it."
   ]
  },
  {
   "cell_type": "code",
   "execution_count": 53,
   "metadata": {
    "ExecuteTime": {
     "end_time": "2021-05-25T08:41:14.851208Z",
     "start_time": "2021-05-25T08:41:14.848732Z"
    }
   },
   "outputs": [],
   "source": [
    "# Optional - what other metrics could you extract?"
   ]
  },
  {
   "cell_type": "markdown",
   "metadata": {},
   "source": [
    "## Case study 2: Conformational transisitions of ADK"
   ]
  },
  {
   "cell_type": "markdown",
   "metadata": {},
   "source": [
    "First introduced in **Session 1 Exercise 4**, the enzyme *adenylate kinase* catalyzes the reaction ATP + AMP <-> 2 ADP. It undergoes a *conformational transition* beteween a closed ([1AKE](https://www.rcsb.org/structure/1AKE)) and open ([4AKE](https://www.rcsb.org/structure/4AKE)) conformational state [1], even in the absence of substrates.\n",
    "\n",
    "![AdK conformations (from [2])](figs/angle_defs.png)\n",
    "\n",
    "1. S. L. Seyler and O. Beckstein. Sampling of large conformational transitions: Adenylate kinase as a testing ground. Molec. Simul., 40(10–11):855–877, 2014. doi: 10.1080/08927022.2014.919497\n",
    "2. O. Beckstein, E. J. Denning, J. R. Perilla, and T. B. Woolf. Zipping and unzipping of adenylate kinase: Atomistic insights into the ensemble of open ↔ closed transitions. 394(1):160–176, 2009. doi: 10.1016/j.jmb.2009.09.009\n",
    "3. Perilla JR, Beckstein O, Denning EJ, Woolf TB. Computing ensembles of transitions from stable states: Dynamic importance sampling. J Comput Chem. 2011 30 Jan;32(2):196–209. doi: 10.1002/jcc.21564"
   ]
  },
  {
   "cell_type": "markdown",
   "metadata": {},
   "source": [
    "Here we begin by looking at an ensemble of 200 trajectories of varying length generated via dynamic importance sampling [3]."
   ]
  },
  {
   "cell_type": "code",
   "execution_count": 54,
   "metadata": {
    "ExecuteTime": {
     "end_time": "2021-05-25T08:42:49.391675Z",
     "start_time": "2021-05-25T08:41:14.853740Z"
    }
   },
   "outputs": [
    {
     "name": "stderr",
     "output_type": "stream",
     "text": [
      "DIMS.tar.gz:   4%|▍         | 28.9M/731M [00:23<03:33, 3.29MB/s]   "
     ]
    },
    {
     "data": {
      "text/html": [
       "<b>limit_output extension: Maximum message size of 10000 exceeded with 10030 characters</b>"
      ]
     },
     "metadata": {},
     "output_type": "display_data"
    },
    {
     "ename": "KeyboardInterrupt",
     "evalue": "",
     "output_type": "error",
     "traceback": [
      "\u001b[0;31m---------------------------------------------------------------------------\u001b[0m",
      "\u001b[0;31mKeyboardInterrupt\u001b[0m                         Traceback (most recent call last)",
      "\u001b[0;32m<ipython-input-54-3fece866ac30>\u001b[0m in \u001b[0;36m<module>\u001b[0;34m\u001b[0m\n\u001b[1;32m      2\u001b[0m \u001b[0;32mfrom\u001b[0m \u001b[0mMDAnalysisData\u001b[0m\u001b[0;34m.\u001b[0m\u001b[0mdatasets\u001b[0m \u001b[0;32mimport\u001b[0m \u001b[0mfetch_adk_transitions_DIMS\u001b[0m\u001b[0;34m\u001b[0m\u001b[0;34m\u001b[0m\u001b[0m\n\u001b[1;32m      3\u001b[0m \u001b[0;34m\u001b[0m\u001b[0m\n\u001b[0;32m----> 4\u001b[0;31m \u001b[0madk\u001b[0m \u001b[0;34m=\u001b[0m \u001b[0mfetch_adk_transitions_DIMS\u001b[0m\u001b[0;34m(\u001b[0m\u001b[0;34m)\u001b[0m\u001b[0;34m\u001b[0m\u001b[0;34m\u001b[0m\u001b[0m\n\u001b[0m",
      "\u001b[0;32m~/anaconda3/envs/mda-user-guide/lib/python3.7/site-packages/MDAnalysisData/adk_transitions.py\u001b[0m in \u001b[0;36mfetch_adk_transitions_DIMS\u001b[0;34m(data_home, download_if_missing)\u001b[0m\n\u001b[1;32m     87\u001b[0m     return _fetch_adk_transitions(METADATA['DIMS'],\n\u001b[1;32m     88\u001b[0m                                   \u001b[0mdata_home\u001b[0m\u001b[0;34m=\u001b[0m\u001b[0mdata_home\u001b[0m\u001b[0;34m,\u001b[0m\u001b[0;34m\u001b[0m\u001b[0;34m\u001b[0m\u001b[0m\n\u001b[0;32m---> 89\u001b[0;31m                                   download_if_missing=download_if_missing)\n\u001b[0m\u001b[1;32m     90\u001b[0m \u001b[0;34m\u001b[0m\u001b[0m\n\u001b[1;32m     91\u001b[0m \u001b[0;32mdef\u001b[0m \u001b[0mfetch_adk_transitions_FRODA\u001b[0m\u001b[0;34m(\u001b[0m\u001b[0mdata_home\u001b[0m\u001b[0;34m=\u001b[0m\u001b[0;32mNone\u001b[0m\u001b[0;34m,\u001b[0m \u001b[0mdownload_if_missing\u001b[0m\u001b[0;34m=\u001b[0m\u001b[0;32mTrue\u001b[0m\u001b[0;34m)\u001b[0m\u001b[0;34m:\u001b[0m\u001b[0;34m\u001b[0m\u001b[0;34m\u001b[0m\u001b[0m\n",
      "\u001b[0;32m~/anaconda3/envs/mda-user-guide/lib/python3.7/site-packages/MDAnalysisData/adk_transitions.py\u001b[0m in \u001b[0;36m_fetch_adk_transitions\u001b[0;34m(metadata, data_home, download_if_missing)\u001b[0m\n\u001b[1;32m    171\u001b[0m         logger.info(\"Downloading {0}: {1} -> {2}...\".format(\n\u001b[1;32m    172\u001b[0m             \"tarfile\", meta.url, local_path))\n\u001b[0;32m--> 173\u001b[0;31m         \u001b[0marchive_path\u001b[0m \u001b[0;34m=\u001b[0m \u001b[0m_fetch_remote\u001b[0m\u001b[0;34m(\u001b[0m\u001b[0mmeta\u001b[0m\u001b[0;34m,\u001b[0m \u001b[0mdirname\u001b[0m\u001b[0;34m=\u001b[0m\u001b[0mdata_location\u001b[0m\u001b[0;34m)\u001b[0m\u001b[0;34m\u001b[0m\u001b[0;34m\u001b[0m\u001b[0m\n\u001b[0m\u001b[1;32m    174\u001b[0m \u001b[0;34m\u001b[0m\u001b[0m\n\u001b[1;32m    175\u001b[0m         \u001b[0mlogger\u001b[0m\u001b[0;34m.\u001b[0m\u001b[0minfo\u001b[0m\u001b[0;34m(\u001b[0m\u001b[0;34m\"Unpacking {}...\"\u001b[0m\u001b[0;34m.\u001b[0m\u001b[0mformat\u001b[0m\u001b[0;34m(\u001b[0m\u001b[0marchive_path\u001b[0m\u001b[0;34m)\u001b[0m\u001b[0;34m)\u001b[0m\u001b[0;34m\u001b[0m\u001b[0;34m\u001b[0m\u001b[0m\n",
      "\u001b[0;32m~/anaconda3/envs/mda-user-guide/lib/python3.7/site-packages/MDAnalysisData/base.py\u001b[0m in \u001b[0;36m_fetch_remote\u001b[0;34m(remote, dirname)\u001b[0m\n\u001b[1;32m    183\u001b[0m                   desc=remote.filename) as t:\n\u001b[1;32m    184\u001b[0m         urlretrieve(remote.url, filename=file_path,\n\u001b[0;32m--> 185\u001b[0;31m                     reporthook=t.update_to, data=None)\n\u001b[0m\u001b[1;32m    186\u001b[0m     \u001b[0mchecksum\u001b[0m \u001b[0;34m=\u001b[0m \u001b[0m_sha256\u001b[0m\u001b[0;34m(\u001b[0m\u001b[0mfile_path\u001b[0m\u001b[0;34m)\u001b[0m\u001b[0;34m\u001b[0m\u001b[0;34m\u001b[0m\u001b[0m\n\u001b[1;32m    187\u001b[0m     \u001b[0;32mif\u001b[0m \u001b[0mremote\u001b[0m\u001b[0;34m.\u001b[0m\u001b[0mchecksum\u001b[0m \u001b[0;34m!=\u001b[0m \u001b[0mchecksum\u001b[0m\u001b[0;34m:\u001b[0m\u001b[0;34m\u001b[0m\u001b[0;34m\u001b[0m\u001b[0m\n",
      "\u001b[0;32m~/anaconda3/envs/mda-user-guide/lib/python3.7/urllib/request.py\u001b[0m in \u001b[0;36murlretrieve\u001b[0;34m(url, filename, reporthook, data)\u001b[0m\n\u001b[1;32m    274\u001b[0m \u001b[0;34m\u001b[0m\u001b[0m\n\u001b[1;32m    275\u001b[0m             \u001b[0;32mwhile\u001b[0m \u001b[0;32mTrue\u001b[0m\u001b[0;34m:\u001b[0m\u001b[0;34m\u001b[0m\u001b[0;34m\u001b[0m\u001b[0m\n\u001b[0;32m--> 276\u001b[0;31m                 \u001b[0mblock\u001b[0m \u001b[0;34m=\u001b[0m \u001b[0mfp\u001b[0m\u001b[0;34m.\u001b[0m\u001b[0mread\u001b[0m\u001b[0;34m(\u001b[0m\u001b[0mbs\u001b[0m\u001b[0;34m)\u001b[0m\u001b[0;34m\u001b[0m\u001b[0;34m\u001b[0m\u001b[0m\n\u001b[0m\u001b[1;32m    277\u001b[0m                 \u001b[0;32mif\u001b[0m \u001b[0;32mnot\u001b[0m \u001b[0mblock\u001b[0m\u001b[0;34m:\u001b[0m\u001b[0;34m\u001b[0m\u001b[0;34m\u001b[0m\u001b[0m\n\u001b[1;32m    278\u001b[0m                     \u001b[0;32mbreak\u001b[0m\u001b[0;34m\u001b[0m\u001b[0;34m\u001b[0m\u001b[0m\n",
      "\u001b[0;32m~/anaconda3/envs/mda-user-guide/lib/python3.7/http/client.py\u001b[0m in \u001b[0;36mread\u001b[0;34m(self, amt)\u001b[0m\n\u001b[1;32m    459\u001b[0m             \u001b[0;31m# Amount is given, implement using readinto\u001b[0m\u001b[0;34m\u001b[0m\u001b[0;34m\u001b[0m\u001b[0;34m\u001b[0m\u001b[0m\n\u001b[1;32m    460\u001b[0m             \u001b[0mb\u001b[0m \u001b[0;34m=\u001b[0m \u001b[0mbytearray\u001b[0m\u001b[0;34m(\u001b[0m\u001b[0mamt\u001b[0m\u001b[0;34m)\u001b[0m\u001b[0;34m\u001b[0m\u001b[0;34m\u001b[0m\u001b[0m\n\u001b[0;32m--> 461\u001b[0;31m             \u001b[0mn\u001b[0m \u001b[0;34m=\u001b[0m \u001b[0mself\u001b[0m\u001b[0;34m.\u001b[0m\u001b[0mreadinto\u001b[0m\u001b[0;34m(\u001b[0m\u001b[0mb\u001b[0m\u001b[0;34m)\u001b[0m\u001b[0;34m\u001b[0m\u001b[0;34m\u001b[0m\u001b[0m\n\u001b[0m\u001b[1;32m    462\u001b[0m             \u001b[0;32mreturn\u001b[0m \u001b[0mmemoryview\u001b[0m\u001b[0;34m(\u001b[0m\u001b[0mb\u001b[0m\u001b[0;34m)\u001b[0m\u001b[0;34m[\u001b[0m\u001b[0;34m:\u001b[0m\u001b[0mn\u001b[0m\u001b[0;34m]\u001b[0m\u001b[0;34m.\u001b[0m\u001b[0mtobytes\u001b[0m\u001b[0;34m(\u001b[0m\u001b[0;34m)\u001b[0m\u001b[0;34m\u001b[0m\u001b[0;34m\u001b[0m\u001b[0m\n\u001b[1;32m    463\u001b[0m         \u001b[0;32melse\u001b[0m\u001b[0;34m:\u001b[0m\u001b[0;34m\u001b[0m\u001b[0;34m\u001b[0m\u001b[0m\n",
      "\u001b[0;32m~/anaconda3/envs/mda-user-guide/lib/python3.7/http/client.py\u001b[0m in \u001b[0;36mreadinto\u001b[0;34m(self, b)\u001b[0m\n\u001b[1;32m    503\u001b[0m         \u001b[0;31m# connection, and the user is reading more bytes than will be provided\u001b[0m\u001b[0;34m\u001b[0m\u001b[0;34m\u001b[0m\u001b[0;34m\u001b[0m\u001b[0m\n\u001b[1;32m    504\u001b[0m         \u001b[0;31m# (for example, reading in 1k chunks)\u001b[0m\u001b[0;34m\u001b[0m\u001b[0;34m\u001b[0m\u001b[0;34m\u001b[0m\u001b[0m\n\u001b[0;32m--> 505\u001b[0;31m         \u001b[0mn\u001b[0m \u001b[0;34m=\u001b[0m \u001b[0mself\u001b[0m\u001b[0;34m.\u001b[0m\u001b[0mfp\u001b[0m\u001b[0;34m.\u001b[0m\u001b[0mreadinto\u001b[0m\u001b[0;34m(\u001b[0m\u001b[0mb\u001b[0m\u001b[0;34m)\u001b[0m\u001b[0;34m\u001b[0m\u001b[0;34m\u001b[0m\u001b[0m\n\u001b[0m\u001b[1;32m    506\u001b[0m         \u001b[0;32mif\u001b[0m \u001b[0;32mnot\u001b[0m \u001b[0mn\u001b[0m \u001b[0;32mand\u001b[0m \u001b[0mb\u001b[0m\u001b[0;34m:\u001b[0m\u001b[0;34m\u001b[0m\u001b[0;34m\u001b[0m\u001b[0m\n\u001b[1;32m    507\u001b[0m             \u001b[0;31m# Ideally, we would raise IncompleteRead if the content-length\u001b[0m\u001b[0;34m\u001b[0m\u001b[0;34m\u001b[0m\u001b[0;34m\u001b[0m\u001b[0m\n",
      "\u001b[0;32m~/anaconda3/envs/mda-user-guide/lib/python3.7/socket.py\u001b[0m in \u001b[0;36mreadinto\u001b[0;34m(self, b)\u001b[0m\n\u001b[1;32m    587\u001b[0m         \u001b[0;32mwhile\u001b[0m \u001b[0;32mTrue\u001b[0m\u001b[0;34m:\u001b[0m\u001b[0;34m\u001b[0m\u001b[0;34m\u001b[0m\u001b[0m\n\u001b[1;32m    588\u001b[0m             \u001b[0;32mtry\u001b[0m\u001b[0;34m:\u001b[0m\u001b[0;34m\u001b[0m\u001b[0;34m\u001b[0m\u001b[0m\n\u001b[0;32m--> 589\u001b[0;31m                 \u001b[0;32mreturn\u001b[0m \u001b[0mself\u001b[0m\u001b[0;34m.\u001b[0m\u001b[0m_sock\u001b[0m\u001b[0;34m.\u001b[0m\u001b[0mrecv_into\u001b[0m\u001b[0;34m(\u001b[0m\u001b[0mb\u001b[0m\u001b[0;34m)\u001b[0m\u001b[0;34m\u001b[0m\u001b[0;34m\u001b[0m\u001b[0m\n\u001b[0m\u001b[1;32m    590\u001b[0m             \u001b[0;32mexcept\u001b[0m \u001b[0mtimeout\u001b[0m\u001b[0;34m:\u001b[0m\u001b[0;34m\u001b[0m\u001b[0;34m\u001b[0m\u001b[0m\n\u001b[1;32m    591\u001b[0m                 \u001b[0mself\u001b[0m\u001b[0;34m.\u001b[0m\u001b[0m_timeout_occurred\u001b[0m \u001b[0;34m=\u001b[0m \u001b[0;32mTrue\u001b[0m\u001b[0;34m\u001b[0m\u001b[0;34m\u001b[0m\u001b[0m\n",
      "\u001b[0;32m~/anaconda3/envs/mda-user-guide/lib/python3.7/ssl.py\u001b[0m in \u001b[0;36mrecv_into\u001b[0;34m(self, buffer, nbytes, flags)\u001b[0m\n\u001b[1;32m   1069\u001b[0m                   \u001b[0;34m\"non-zero flags not allowed in calls to recv_into() on %s\"\u001b[0m \u001b[0;34m%\u001b[0m\u001b[0;34m\u001b[0m\u001b[0;34m\u001b[0m\u001b[0m\n\u001b[1;32m   1070\u001b[0m                   self.__class__)\n\u001b[0;32m-> 1071\u001b[0;31m             \u001b[0;32mreturn\u001b[0m \u001b[0mself\u001b[0m\u001b[0;34m.\u001b[0m\u001b[0mread\u001b[0m\u001b[0;34m(\u001b[0m\u001b[0mnbytes\u001b[0m\u001b[0;34m,\u001b[0m \u001b[0mbuffer\u001b[0m\u001b[0;34m)\u001b[0m\u001b[0;34m\u001b[0m\u001b[0;34m\u001b[0m\u001b[0m\n\u001b[0m\u001b[1;32m   1072\u001b[0m         \u001b[0;32melse\u001b[0m\u001b[0;34m:\u001b[0m\u001b[0;34m\u001b[0m\u001b[0;34m\u001b[0m\u001b[0m\n\u001b[1;32m   1073\u001b[0m             \u001b[0;32mreturn\u001b[0m \u001b[0msuper\u001b[0m\u001b[0;34m(\u001b[0m\u001b[0;34m)\u001b[0m\u001b[0;34m.\u001b[0m\u001b[0mrecv_into\u001b[0m\u001b[0;34m(\u001b[0m\u001b[0mbuffer\u001b[0m\u001b[0;34m,\u001b[0m \u001b[0mnbytes\u001b[0m\u001b[0;34m,\u001b[0m \u001b[0mflags\u001b[0m\u001b[0;34m)\u001b[0m\u001b[0;34m\u001b[0m\u001b[0;34m\u001b[0m\u001b[0m\n",
      "\u001b[0;32m~/anaconda3/envs/mda-user-guide/lib/python3.7/ssl.py\u001b[0m in \u001b[0;36mread\u001b[0;34m(self, len, buffer)\u001b[0m\n\u001b[1;32m    927\u001b[0m         \u001b[0;32mtry\u001b[0m\u001b[0;34m:\u001b[0m\u001b[0;34m\u001b[0m\u001b[0;34m\u001b[0m\u001b[0m\n\u001b[1;32m    928\u001b[0m             \u001b[0;32mif\u001b[0m \u001b[0mbuffer\u001b[0m \u001b[0;32mis\u001b[0m \u001b[0;32mnot\u001b[0m \u001b[0;32mNone\u001b[0m\u001b[0;34m:\u001b[0m\u001b[0;34m\u001b[0m\u001b[0;34m\u001b[0m\u001b[0m\n\u001b[0;32m--> 929\u001b[0;31m                 \u001b[0;32mreturn\u001b[0m \u001b[0mself\u001b[0m\u001b[0;34m.\u001b[0m\u001b[0m_sslobj\u001b[0m\u001b[0;34m.\u001b[0m\u001b[0mread\u001b[0m\u001b[0;34m(\u001b[0m\u001b[0mlen\u001b[0m\u001b[0;34m,\u001b[0m \u001b[0mbuffer\u001b[0m\u001b[0;34m)\u001b[0m\u001b[0;34m\u001b[0m\u001b[0;34m\u001b[0m\u001b[0m\n\u001b[0m\u001b[1;32m    930\u001b[0m             \u001b[0;32melse\u001b[0m\u001b[0;34m:\u001b[0m\u001b[0;34m\u001b[0m\u001b[0;34m\u001b[0m\u001b[0m\n\u001b[1;32m    931\u001b[0m                 \u001b[0;32mreturn\u001b[0m \u001b[0mself\u001b[0m\u001b[0;34m.\u001b[0m\u001b[0m_sslobj\u001b[0m\u001b[0;34m.\u001b[0m\u001b[0mread\u001b[0m\u001b[0;34m(\u001b[0m\u001b[0mlen\u001b[0m\u001b[0;34m)\u001b[0m\u001b[0;34m\u001b[0m\u001b[0;34m\u001b[0m\u001b[0m\n",
      "\u001b[0;31mKeyboardInterrupt\u001b[0m: "
     ]
    }
   ],
   "source": [
    "# Get the data\n",
    "from MDAnalysisData.datasets import fetch_adk_transitions_DIMS\n",
    "\n",
    "adk = fetch_adk_transitions_DIMS()"
   ]
  },
  {
   "cell_type": "code",
   "execution_count": null,
   "metadata": {
    "ExecuteTime": {
     "end_time": "2021-05-25T08:42:49.393791Z",
     "start_time": "2021-05-25T08:41:01.576Z"
    }
   },
   "outputs": [],
   "source": [
    "# Let's look at more information about this data\n",
    "adk.DESCR??"
   ]
  },
  {
   "cell_type": "markdown",
   "metadata": {},
   "source": [
    "Analyzing the full ensemble can be time consuming, so we will only look at the first 50 trajectories."
   ]
  },
  {
   "cell_type": "code",
   "execution_count": null,
   "metadata": {
    "ExecuteTime": {
     "end_time": "2021-05-25T08:42:49.395392Z",
     "start_time": "2021-05-25T08:41:01.580Z"
    }
   },
   "outputs": [],
   "source": [
    "# Let's create an universe and visualise the protein\n",
    "adk_u = mda.Universe(adk.topology, adk.trajectories[:50])\n",
    "nv.show_mdanalysis(adk_u)"
   ]
  },
  {
   "cell_type": "markdown",
   "metadata": {},
   "source": [
    "### Exercise 7\n",
    "\n",
    "As we can see from the above trajectory, ADK rapidly goes from a closed to an open conformation.\n",
    "\n",
    "Expanding on the work done in **Session 1 Exercise 4**, using the below given definition of the LID and NMR theta angles (`theta_LID()` and `theta_NMP()` respectively), plot:\n",
    "1. The timeseries of the angles\n",
    "2. The angles against each other"
   ]
  },
  {
   "cell_type": "code",
   "execution_count": null,
   "metadata": {
    "ExecuteTime": {
     "end_time": "2021-05-25T08:42:49.396680Z",
     "start_time": "2021-05-25T08:41:01.583Z"
    },
    "solution2": "hidden",
    "solution2_first": true
   },
   "outputs": [],
   "source": [
    "from numpy.linalg import norm\n",
    "\n",
    "def theta_NMP(ag):\n",
    "    \"\"\"Calculate the NMP-CORE angle for E. coli AdK in degrees\n",
    "    \n",
    "    Parameters\n",
    "    ----------\n",
    "    ag : MDAnalysis.Universe or MDAnalysis.AtomGroup\n",
    "    \"\"\"\n",
    "    C = ag.select_atoms(\"resid 115:125 and backbone\").center_of_geometry()\n",
    "    B = ag.select_atoms(\"resid 90:100 and backbone\").center_of_geometry()\n",
    "    A = ag.select_atoms(\"resid 35:55 and backbone\").center_of_geometry()\n",
    "    BA = A - B\n",
    "    BC = C - B\n",
    "    theta = np.arccos(np.dot(BA, BC)/(norm(BA)*norm(BC)))\n",
    "    return np.rad2deg(theta)\n",
    "\n",
    "def theta_LID(ag):\n",
    "    \"\"\"Calculate the LID-CORE angle for E. coli AdK in degrees\n",
    "    \n",
    "    Parameters\n",
    "    ----------\n",
    "    ag : MDAnalysis.Universe or MDAnalysis.AtomGroup\n",
    "    \"\"\"\n",
    "    C = ag.select_atoms(\"resid 179:185 and backbone\").center_of_geometry()\n",
    "    B = ag.select_atoms(\"resid 115:125 and backbone\").center_of_geometry()\n",
    "    A = ag.select_atoms(\"resid 125:153 and backbone\").center_of_geometry()\n",
    "    BA = A - B\n",
    "    BC = C - B\n",
    "    theta = np.arccos(np.dot(BA, BC)/(norm(BA)*norm(BC)))\n",
    "    return np.rad2deg(theta)"
   ]
  },
  {
   "cell_type": "code",
   "execution_count": null,
   "metadata": {
    "ExecuteTime": {
     "end_time": "2021-05-25T08:42:49.398397Z",
     "start_time": "2021-05-25T08:41:01.586Z"
    },
    "solution2": "hidden"
   },
   "outputs": [],
   "source": [
    "# Exercise 6 -- solution\n",
    "times = np.empty(adk_u.trajectory.n_frames)\n",
    "LID = np.empty(adk_u.trajectory.n_frames)\n",
    "NMP = np.empty(adk_u.trajectory.n_frames)\n",
    "\n",
    "# iterate through the trajectory and gather data\n",
    "for i, ts in enumerate(adk_u.trajectory):\n",
    "    times[i] = ts.time\n",
    "    LID[i] = theta_LID(adk_u)\n",
    "    NMP[i] = theta_NMP(adk_u)\n",
    "\n",
    "# plot\n",
    "ax1 = plt.subplot(121)\n",
    "ax1.scatter(times, NMP, label=\"NMP\", s=2)\n",
    "ax1.scatter(times, LID, label=\"LID\", s=2)\n",
    "ax1.set_xlabel(\"time (ps)\")\n",
    "ax1.set_ylabel(\"angle (degree)\")\n",
    "ax1.legend(loc=\"best\")\n",
    "ax2 = plt.subplot(122)\n",
    "ax2.scatter(NMP, LID, s=2)\n",
    "ax2.set_xlabel(r\"$\\theta_\\mathrm{NMP}$\")\n",
    "ax2.set_ylabel(r\"$\\theta_\\mathrm{LID}$\")\n",
    "ax2.set_aspect(1)\n",
    "plt.tight_layout()"
   ]
  },
  {
   "cell_type": "code",
   "execution_count": null,
   "metadata": {
    "ExecuteTime": {
     "end_time": "2021-05-25T08:42:49.399611Z",
     "start_time": "2021-05-25T08:41:01.589Z"
    }
   },
   "outputs": [],
   "source": [
    "# Exercise 7"
   ]
  },
  {
   "cell_type": "markdown",
   "metadata": {
    "solution2": "hidden",
    "solution2_first": true
   },
   "source": [
    "**Bonus exercise** - `MDAnalysisData.datasets` also contains a 1 microsecond equilibrium calculation of ADK which is accessible under `fetch_adk_equilibrium`. Calculate and plot the same angles. Do the results differ? If so, why do you think that might be?"
   ]
  },
  {
   "cell_type": "code",
   "execution_count": null,
   "metadata": {
    "ExecuteTime": {
     "end_time": "2021-05-25T08:42:49.400625Z",
     "start_time": "2021-05-25T08:41:01.592Z"
    },
    "solution2": "hidden"
   },
   "outputs": [],
   "source": [
    "# Bonus exercise -- solution\n",
    "from MDAnalysisData.datasets import fetch_adk_equilibrium\n",
    "adk_eq = fetch_adk_equilibrium()\n",
    "\n",
    "eq_u = mda.Universe(adk_eq.topology, adk_eq.trajectory)\n",
    "\n",
    "eq_times = np.empty(eq_u.trajectory.n_frames)\n",
    "eq_LID = np.empty(eq_u.trajectory.n_frames)\n",
    "eq_NMP = np.empty(eq_u.trajectory.n_frames)\n",
    "\n",
    "# iterate through the trajectory and gather data\n",
    "for i, ts in enumerate(eq_u.trajectory):\n",
    "    eq_times[i] = ts.time / 1000\n",
    "    eq_LID[i] = theta_LID(eq_u)\n",
    "    eq_NMP[i] = theta_NMP(eq_u)\n",
    "\n",
    "# plot\n",
    "ax1 = plt.subplot(121)\n",
    "ax1.scatter(eq_times, eq_NMP, label=\"NMP\", s=2)\n",
    "ax1.scatter(eq_times, eq_LID, label=\"LID\", s=2)\n",
    "ax1.set_xlabel(\"time (ns)\")\n",
    "ax1.set_ylabel(\"angle (degree)\")\n",
    "ax1.legend(loc=\"best\")\n",
    "ax2 = plt.subplot(122)\n",
    "ax2.scatter(eq_NMP, eq_LID, s=2)\n",
    "ax2.set_xlabel(r\"$\\theta_\\mathrm{NMP}$\")\n",
    "ax2.set_ylabel(r\"$\\theta_\\mathrm{LID}$\")\n",
    "ax2.set_aspect(1)\n",
    "plt.tight_layout()"
   ]
  },
  {
   "cell_type": "code",
   "execution_count": null,
   "metadata": {
    "ExecuteTime": {
     "end_time": "2021-05-25T08:42:49.401836Z",
     "start_time": "2021-05-25T08:41:01.594Z"
    }
   },
   "outputs": [],
   "source": [
    "# Bonus exercise"
   ]
  },
  {
   "cell_type": "markdown",
   "metadata": {
    "solution2": "hidden",
    "solution2_first": true
   },
   "source": [
    "**Bonus exercise 2** - Could you use these metrics (or others) to create a pseudo trajectory of the closed state for the ensemble of simulations?"
   ]
  },
  {
   "cell_type": "code",
   "execution_count": null,
   "metadata": {
    "ExecuteTime": {
     "end_time": "2021-05-25T08:42:49.403576Z",
     "start_time": "2021-05-25T08:41:01.597Z"
    },
    "solution2": "hidden"
   },
   "outputs": [],
   "source": [
    "# Bonus exercise 2\n",
    "# Let's define the closed state as theta LID < 110, and theta NMP < 50 (a bit abitrary, could be refined)\n",
    "\n",
    "indices = []\n",
    "\n",
    "# Using the previously defined `LID` and `NMP` arrays\n",
    "for i, (lid_angle, nmp_angle) in enumerate(zip(LID, NMP)):\n",
    "    if lid_angle < 110 and nmp_angle < 50:\n",
    "        indices.append(i)\n",
    "        \n",
    "# now write using the indices\n",
    "with mda.Writer('closed.dcd', n_atoms=adk_u.trajectory.n_atoms) as W:\n",
    "    for ts in adk_u.trajectory[indices]:\n",
    "        W.write(adk_u)\n",
    "        \n",
    "# now let's load the new trajectory and visualise it\n",
    "closed_adk_u = mda.Universe(adk.topology, 'closed.dcd')\n",
    "nv.show_mdanalysis(closed_adk_u)"
   ]
  },
  {
   "cell_type": "code",
   "execution_count": null,
   "metadata": {
    "ExecuteTime": {
     "end_time": "2021-05-25T08:42:49.405397Z",
     "start_time": "2021-05-25T08:41:01.600Z"
    }
   },
   "outputs": [],
   "source": [
    "# Bonus exercise 2"
   ]
  }
 ],
 "metadata": {
  "kernelspec": {
   "display_name": "Python 3",
   "language": "python",
   "name": "python3"
  },
  "language_info": {
   "codemirror_mode": {
    "name": "ipython",
    "version": 3
   },
   "file_extension": ".py",
   "mimetype": "text/x-python",
   "name": "python",
   "nbconvert_exporter": "python",
   "pygments_lexer": "ipython3",
   "version": "3.7.7"
  },
  "toc": {
   "base_numbering": 1,
   "nav_menu": {},
   "number_sections": true,
   "sideBar": true,
   "skip_h1_title": true,
   "title_cell": "Table of Contents",
   "title_sidebar": "Contents",
   "toc_cell": false,
   "toc_position": {},
   "toc_section_display": true,
   "toc_window_display": true
  }
 },
 "nbformat": 4,
 "nbformat_minor": 4
}
