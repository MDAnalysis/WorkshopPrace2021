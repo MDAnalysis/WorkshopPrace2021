{
 "cells": [
  {
   "cell_type": "markdown",
   "metadata": {},
   "source": [
    "# Day 1, Practical 2\n",
    "## Handling simulation trajectory data"
   ]
  },
  {
   "cell_type": "markdown",
   "metadata": {},
   "source": [
    "MDAnalysis is able to read a wide variety of different simulation coordinate formats. A full list of these can be seen in the [coordinates documentation](https://docs.mdanalysis.org/stable/documentation_pages/coordinates/init.html#supported-coordinate-formats). Of these, many are trajectory formats which hold temporal information from simulations such as coordinates, dimensions, velocities, and forces.\n",
    "\n",
    "Here we demonstrate how one can use MDAnalysis to read, explore, and write trajectory data."
   ]
  },
  {
   "cell_type": "markdown",
   "metadata": {},
   "source": [
    "### Package imports"
   ]
  },
  {
   "cell_type": "code",
   "execution_count": 2,
   "metadata": {},
   "outputs": [],
   "source": [
    "import MDAnalysis as mda\n",
    "import numpy as np\n",
    "import matplotlib.pyplot as plt\n",
    "%matplotlib inline"
   ]
  },
  {
   "cell_type": "markdown",
   "metadata": {},
   "source": [
    "## 1. Reading a trajectory"
   ]
  },
  {
   "cell_type": "markdown",
   "metadata": {},
   "source": [
    "Loading a trajectory is done in the same way as loading any type of coordinates (as shown in session 1). All you have to do is create a `Universe` object by passing it a topology and the trajectory (here in this case a PSF file and DCD trajectory respectively)."
   ]
  },
  {
   "cell_type": "code",
   "execution_count": 44,
   "metadata": {},
   "outputs": [],
   "source": [
    "# First let's load a PSF and DCD from the MDAnalysis test data\n",
    "from MDAnalysis.tests.datafiles import PSF, DCD\n",
    "\n",
    "# Now let's load the XTC trajectory\n",
    "u = mda.Universe(PSF, DCD)"
   ]
  },
  {
   "cell_type": "markdown",
   "metadata": {},
   "source": [
    "Trajectory functionality is centered around the `Universe.trajectory` object."
   ]
  },
  {
   "cell_type": "code",
   "execution_count": 45,
   "metadata": {},
   "outputs": [
    {
     "data": {
      "text/plain": [
       "<DCDReader /home/bioc1523/software/anaconda/install/envs/all/lib/python3.7/site-packages/MDAnalysisTests/data/adk_dims.dcd with 98 frames of 3341 atoms>"
      ]
     },
     "execution_count": 45,
     "metadata": {},
     "output_type": "execute_result"
    }
   ],
   "source": [
    "u.trajectory"
   ]
  },
  {
   "cell_type": "markdown",
   "metadata": {},
   "source": [
    "This `trajectory` object has a length in `frames` and a time unit of **picoseconds** (see here for more information about the [MDAnalysis base units](https://docs.mdanalysis.org/2.0.0-dev0/documentation_pages/units.html#id4).\n",
    "\n",
    "The `trajectory` object has many useful attributes, such as the the number of frames `n_frames`, the time between frames `dt`, the total trajectory time `totaltime`."
   ]
  },
  {
   "cell_type": "code",
   "execution_count": 46,
   "metadata": {},
   "outputs": [
    {
     "data": {
      "text/plain": [
       "98"
      ]
     },
     "execution_count": 46,
     "metadata": {},
     "output_type": "execute_result"
    }
   ],
   "source": [
    "# print the number of frames\n",
    "u.trajectory.n_frames"
   ]
  },
  {
   "cell_type": "code",
   "execution_count": 47,
   "metadata": {},
   "outputs": [
    {
     "data": {
      "text/plain": [
       "98"
      ]
     },
     "execution_count": 47,
     "metadata": {},
     "output_type": "execute_result"
    }
   ],
   "source": [
    "# You can also get the number of frames by calling `len` on the trajectory object\n",
    "len(u.trajectory)"
   ]
  },
  {
   "cell_type": "code",
   "execution_count": 48,
   "metadata": {},
   "outputs": [
    {
     "data": {
      "text/plain": [
       "0.9999999119200186"
      ]
     },
     "execution_count": 48,
     "metadata": {},
     "output_type": "execute_result"
    }
   ],
   "source": [
    "# We can get the time between frames with `dt`\n",
    "u.trajectory.dt"
   ]
  },
  {
   "cell_type": "code",
   "execution_count": 49,
   "metadata": {},
   "outputs": [
    {
     "data": {
      "text/plain": [
       "96.9999914562418"
      ]
     },
     "execution_count": 49,
     "metadata": {},
     "output_type": "execute_result"
    }
   ],
   "source": [
    "# And the total simulation time from `totaltime`\n",
    "u.trajectory.totaltime"
   ]
  },
  {
   "cell_type": "code",
   "execution_count": 50,
   "metadata": {},
   "outputs": [
    {
     "data": {
      "text/plain": [
       "'DCD'"
      ]
     },
     "execution_count": 50,
     "metadata": {},
     "output_type": "execute_result"
    }
   ],
   "source": [
    "# The trajectory object has a ton of other attributes not shown here\n",
    "# for example you can get the file format through `format`\n",
    "u.trajectory.format"
   ]
  },
  {
   "cell_type": "markdown",
   "metadata": {
    "solution2": "hidden",
    "solution2_first": true
   },
   "source": [
    "### Exercise 1\n",
    "\n",
    "From MDAnalysis.tests.datafiles get the GRO topology and XTC trajectory. Work out the total number of frames, and the total simulation length of the trajectory."
   ]
  },
  {
   "cell_type": "code",
   "execution_count": 51,
   "metadata": {
    "solution2": "hidden"
   },
   "outputs": [
    {
     "name": "stdout",
     "output_type": "stream",
     "text": [
      "number of frames:  10\n",
      "total time:  900.0000686645508\n"
     ]
    }
   ],
   "source": [
    "# Exercise 1 solution\n",
    "from MDAnalysis.tests.datafiles import GRO, XTC\n",
    "u_new = mda.Universe(GRO, XTC)\n",
    "print('number of frames: ', u_new.trajectory.n_frames)\n",
    "print('total time: ', u_new.trajectory.totaltime)"
   ]
  },
  {
   "cell_type": "code",
   "execution_count": null,
   "metadata": {},
   "outputs": [],
   "source": [
    "# Exercise 1"
   ]
  },
  {
   "cell_type": "markdown",
   "metadata": {},
   "source": [
    "It's also possible to load / concatenate multiple trajectories together in one go using MDAnalysis' [ChainReader](https://docs.mdanalysis.org/2.0.0-dev0/documentation_pages/coordinates/chain.html?highlight=chainreader#chainreader-mdanalysis-coordinates-chain).\n",
    "\n",
    "This can be done simply by passing several trajectories to the Universe when creating the object."
   ]
  },
  {
   "cell_type": "code",
   "execution_count": 53,
   "metadata": {},
   "outputs": [
    {
     "name": "stdout",
     "output_type": "stream",
     "text": [
      "196\n"
     ]
    }
   ],
   "source": [
    "# Let's assume we wanted to load several DCD files\n",
    "u_multi = mda.Universe(PSF, DCD, DCD)\n",
    "\n",
    "# Now we have 2 times the number of frames [ 98 frames per DCD trajectory ]\n",
    "print(u_multi.trajectory.n_frames)"
   ]
  },
  {
   "cell_type": "code",
   "execution_count": 54,
   "metadata": {},
   "outputs": [
    {
     "name": "stdout",
     "output_type": "stream",
     "text": [
      "294\n"
     ]
    }
   ],
   "source": [
    "# We can also just load a list of trajectories\n",
    "traj_list = [DCD, DCD, DCD]\n",
    "\n",
    "u_multi = mda.Universe(PSF, traj_list)\n",
    "\n",
    "# Now we have concatenated the trajectory 3 times\n",
    "print(u_multi.trajectory.n_frames)"
   ]
  },
  {
   "cell_type": "markdown",
   "metadata": {},
   "source": [
    "## 2. The Timestep object"
   ]
  },
  {
   "cell_type": "markdown",
   "metadata": {},
   "source": [
    "One of the key components of trajectories is the *Timestep* object `ts`. This is the object that holds the trajectory information **specific to the current frame**.\n",
    "\n",
    "This information mainly includes:\n",
    "* The frame number and time\n",
    "* Unitcell dimensions as `[A, B, C, alpha, beta, gamma]` (or `None` if not available)\n",
    "* The positions (also forces and/or velocities if available)\n"
   ]
  },
  {
   "cell_type": "code",
   "execution_count": 66,
   "metadata": {},
   "outputs": [],
   "source": [
    "# Here we load the an AMBER topology and trajectory with coordinate, velocity and forces information\n",
    "from MDAnalysis.tests.datafiles import PRM_NCBOX, TRJ_NCBOX\n",
    "u = mda.Universe(PRM_NCBOX, TRJ_NCBOX)"
   ]
  },
  {
   "cell_type": "code",
   "execution_count": 83,
   "metadata": {},
   "outputs": [
    {
     "data": {
      "text/plain": [
       "< Timestep 0 with unit cell dimensions [28.818764 28.278753 27.726164 90.       90.       90.      ] >"
      ]
     },
     "execution_count": 83,
     "metadata": {},
     "output_type": "execute_result"
    }
   ],
   "source": [
    "# Timestep is available via `ts`\n",
    "u.trajectory.ts"
   ]
  },
  {
   "cell_type": "code",
   "execution_count": 84,
   "metadata": {},
   "outputs": [
    {
     "data": {
      "text/plain": [
       "0"
      ]
     },
     "execution_count": 84,
     "metadata": {},
     "output_type": "execute_result"
    }
   ],
   "source": [
    "# Getting the current frame from `ts`\n",
    "u.trajectory.ts.frame"
   ]
  },
  {
   "cell_type": "code",
   "execution_count": 85,
   "metadata": {},
   "outputs": [
    {
     "data": {
      "text/plain": [
       "1.0"
      ]
     },
     "execution_count": 85,
     "metadata": {},
     "output_type": "execute_result"
    }
   ],
   "source": [
    "# Getting the current time from `ts`\n",
    "u.trajectory.ts.time"
   ]
  },
  {
   "cell_type": "code",
   "execution_count": 86,
   "metadata": {},
   "outputs": [
    {
     "data": {
      "text/plain": [
       "array([28.818764, 28.278753, 27.726164, 90.      , 90.      , 90.      ],\n",
       "      dtype=float32)"
      ]
     },
     "execution_count": 86,
     "metadata": {},
     "output_type": "execute_result"
    }
   ],
   "source": [
    "# Getting the dimensions from `ts`\n",
    "u.trajectory.ts.dimensions"
   ]
  },
  {
   "cell_type": "code",
   "execution_count": 87,
   "metadata": {},
   "outputs": [
    {
     "data": {
      "text/plain": [
       "array([[15.249873 , 12.578178 , 15.191731 ],\n",
       "       [14.925511 , 13.58888  , 14.944009 ],\n",
       "       [15.285703 , 14.3409605, 15.645962 ],\n",
       "       ...,\n",
       "       [ 3.9575078, 14.525827 , 16.14651  ],\n",
       "       [ 4.6214457, 14.670319 , 15.472312 ],\n",
       "       [ 4.3571763, 14.856422 , 16.950998 ]], dtype=float32)"
      ]
     },
     "execution_count": 87,
     "metadata": {},
     "output_type": "execute_result"
    }
   ],
   "source": [
    "# `ts` also holds positions\n",
    "u.trajectory.ts.positions"
   ]
  },
  {
   "cell_type": "code",
   "execution_count": 88,
   "metadata": {},
   "outputs": [
    {
     "name": "stdout",
     "output_type": "stream",
     "text": [
      "True\n",
      "[[  35.912895     7.5411134  -62.774    ]\n",
      " [ -90.35279    163.55951     27.480358 ]\n",
      " [  18.25486    -50.773525    18.73405  ]\n",
      " ...\n",
      " [-211.5503    -127.57705     14.248226 ]\n",
      " [  65.75678     44.437996   -59.866737 ]\n",
      " [  65.71979     47.376717    45.049736 ]]\n"
     ]
    }
   ],
   "source": [
    "# `ts` has a convenient `has_forces` attribute to let you know that forces are available\n",
    "print(u.trajectory.ts.has_forces)\n",
    "print(u.trajectory.ts.forces)"
   ]
  },
  {
   "cell_type": "markdown",
   "metadata": {
    "solution2": "hidden",
    "solution2_first": true
   },
   "source": [
    "### Exercise 2\n",
    "\n",
    "Check if the Timestep has velocities and print them out"
   ]
  },
  {
   "cell_type": "code",
   "execution_count": 94,
   "metadata": {
    "solution2": "hidden"
   },
   "outputs": [
    {
     "name": "stdout",
     "output_type": "stream",
     "text": [
      "[[-10.8446045   -3.3365366   -6.420965  ]\n",
      " [  0.03857359   0.51404047  -5.497332  ]\n",
      " [ 17.19698      1.9232591  -15.253312  ]\n",
      " ...\n",
      " [  3.362785     3.7809153    3.04019   ]\n",
      " [  8.890362   -26.293007     0.64297414]\n",
      " [  4.1646843   23.021692    -4.7289677 ]]\n"
     ]
    }
   ],
   "source": [
    "# Exercise 2 - solution\n",
    "if u.trajectory.ts.has_velocities:\n",
    "    print(u.trajectory.ts.velocities)"
   ]
  },
  {
   "cell_type": "code",
   "execution_count": null,
   "metadata": {},
   "outputs": [],
   "source": [
    "# Exercise 2"
   ]
  },
  {
   "cell_type": "markdown",
   "metadata": {},
   "source": [
    "Whilst the *Timestep* information is available, one would normally not access the information it contains by calling `Universe.trajectory.ts` directly.\n",
    "\n",
    "Instead, as shown in session 1, the information contained in the *Timestep* is passed along to other parts of the `Universe`.\n",
    "\n",
    "For example, as shown in session 1, coordinate/velocity/forces data is directly accessible via AtomGroups instead."
   ]
  },
  {
   "cell_type": "code",
   "execution_count": 101,
   "metadata": {},
   "outputs": [
    {
     "name": "stdout",
     "output_type": "stream",
     "text": [
      "AtomGroup positions:\n",
      " [[15.249873  12.578178  15.191731 ]\n",
      " [14.925511  13.58888   14.944009 ]\n",
      " [15.285703  14.3409605 15.645962 ]\n",
      " ...\n",
      " [ 3.9575078 14.525827  16.14651  ]\n",
      " [ 4.6214457 14.670319  15.472312 ]\n",
      " [ 4.3571763 14.856422  16.950998 ]]\n",
      "ts positions:\n",
      " [[15.249873  12.578178  15.191731 ]\n",
      " [14.925511  13.58888   14.944009 ]\n",
      " [15.285703  14.3409605 15.645962 ]\n",
      " ...\n",
      " [ 3.9575078 14.525827  16.14651  ]\n",
      " [ 4.6214457 14.670319  15.472312 ]\n",
      " [ 4.3571763 14.856422  16.950998 ]]\n"
     ]
    }
   ],
   "source": [
    "# create an atomgroup from all the atoms\n",
    "ag = u.atoms\n",
    "print(\"AtomGroup positions:\\n\", ag.positions)\n",
    "print(\"ts positions:\\n\", u.trajectory.ts.positions)"
   ]
  },
  {
   "cell_type": "markdown",
   "metadata": {},
   "source": [
    "Similarly, the `dimensions` can be accessed directly from `Universe`."
   ]
  },
  {
   "cell_type": "code",
   "execution_count": 102,
   "metadata": {},
   "outputs": [
    {
     "name": "stdout",
     "output_type": "stream",
     "text": [
      "Universe dimensions:  [28.818764 28.278753 27.726164 90.       90.       90.      ]\n",
      "ts dimensions:  [28.818764 28.278753 27.726164 90.       90.       90.      ]\n"
     ]
    }
   ],
   "source": [
    "print(\"Universe dimensions: \", u.dimensions)\n",
    "print(\"ts dimensions: \", u.trajectory.ts.dimensions)"
   ]
  },
  {
   "cell_type": "code",
   "execution_count": 89,
   "metadata": {
    "solution2": "hidden"
   },
   "outputs": [
    {
     "name": "stdout",
     "output_type": "stream",
     "text": [
      "[[-10.8446045   -3.3365366   -6.420965  ]\n",
      " [  0.03857359   0.51404047  -5.497332  ]\n",
      " [ 17.19698      1.9232591  -15.253312  ]\n",
      " ...\n",
      " [  3.362785     3.7809153    3.04019   ]\n",
      " [  8.890362   -26.293007     0.64297414]\n",
      " [  4.1646843   23.021692    -4.7289677 ]]\n"
     ]
    }
   ],
   "source": [
    "# Exercise 2 - solution\n",
    "if u.trajectory.ts.has_velocities:\n",
    "    print(u.trajectory.ts.velocities)"
   ]
  },
  {
   "cell_type": "markdown",
   "metadata": {},
   "source": [
    "## 3. Traversing through a trajectory"
   ]
  },
  {
   "cell_type": "markdown",
   "metadata": {},
   "source": [
    "Up until this point, we have primarily been inspecting only a single frame of the `trajectory` object. By default when creating a `Universe`, the *Timestep* is loaded with the information from the first (zero-th) frame in the trajectory.\n",
    "\n",
    "Here we look at how we can traverse through the trajectory and access the data from different frames.\n",
    "\n",
    "We can consider the `trajectory` object to be an iterator that loads trajectory data from a source (i.e. in most cases the input trajectory file), and feeds the relevant data to the *Timestep* object.\n",
    "\n",
    "The following operations can be done to access the trajectory:\n",
    "* Random access via trajectory indexing\n",
    "* Iterating over all frames\n",
    "* Slicing to iterate over a sub-section of the trajectory\n",
    "\n",
    "**Note:** As is standard in python, `trajectory` access is done via **0-based indices**. So the first frame is `0`, and the final frame is `n_frames - 1`."
   ]
  },
  {
   "cell_type": "markdown",
   "metadata": {},
   "source": [
    "### 3.1 Trajectory indexing\n",
    "\n",
    "It is possible to randomly access any frame along a trajectory by passing the index of the frame to the trajectory."
   ]
  },
  {
   "cell_type": "code",
   "execution_count": 131,
   "metadata": {},
   "outputs": [
    {
     "name": "stdout",
     "output_type": "stream",
     "text": [
      "current frame:  0\n",
      "total number of frames:  10\n"
     ]
    }
   ],
   "source": [
    "# First let's create a new universe using PRM_NCBOX and TRJ_NCBOX\n",
    "u = mda.Universe(PRM_NCBOX, TRJ_NCBOX)\n",
    "\n",
    "# as we can see on creation we access the first frame in the trajectory\n",
    "print('current frame: ', u.trajectory.frame)\n",
    "print('total number of frames: ', u.trajectory.n_frames)"
   ]
  },
  {
   "cell_type": "code",
   "execution_count": 132,
   "metadata": {},
   "outputs": [
    {
     "name": "stdout",
     "output_type": "stream",
     "text": [
      "[[15.249873 12.578178 15.191731]\n",
      " [14.925511 13.58888  14.944009]]\n"
     ]
    }
   ],
   "source": [
    "# Let's create an atomgroup for the first two atoms in the Universe\n",
    "# and check their current position at frame 0\n",
    "first_two_atoms = u.atoms[:2]\n",
    "print(first_two_atoms.positions)"
   ]
  },
  {
   "cell_type": "code",
   "execution_count": 133,
   "metadata": {},
   "outputs": [
    {
     "data": {
      "text/plain": [
       "< Timestep 6 with unit cell dimensions [27.78876 27.26805 26.73521 90.      90.      90.     ] >"
      ]
     },
     "execution_count": 133,
     "metadata": {},
     "output_type": "execute_result"
    }
   ],
   "source": [
    "# Now let's move to the 7th frame\n",
    "u.trajectory[6]"
   ]
  },
  {
   "cell_type": "code",
   "execution_count": 134,
   "metadata": {},
   "outputs": [
    {
     "name": "stdout",
     "output_type": "stream",
     "text": [
      "current frame:  6\n"
     ]
    }
   ],
   "source": [
    "# As we can see the frame number as now updated accordingly\n",
    "print('current frame: ', u.trajectory.frame)"
   ]
  },
  {
   "cell_type": "code",
   "execution_count": 135,
   "metadata": {},
   "outputs": [
    {
     "name": "stdout",
     "output_type": "stream",
     "text": [
      "[[15.79226   12.6949625 15.421089 ]\n",
      " [15.945778  13.682353  14.985668 ]]\n"
     ]
    }
   ],
   "source": [
    "# The AtomGroup also automatically updates with the new Timestep data\n",
    "print(first_two_atoms.positions)"
   ]
  },
  {
   "cell_type": "markdown",
   "metadata": {},
   "source": [
    "**Note:** It is particularly important to remember that AtomGroups are not static objects. Whilst the atoms they represent do not change (see UpdatingAtomGroup for when this is not the case), the positions (and forces or velocities if available) will change as you traverse through the trajectory."
   ]
  },
  {
   "cell_type": "markdown",
   "metadata": {},
   "source": [
    "\n",
    "It is also worth noting that unless the trajectory is held in memory (see **Section 4**) any changes to variables that change with `Timestep` are temporary.\n",
    "\n",
    "For example, if you were to override the position of an AtomGroup for a given frame, then seek to another frame and come back to the original frame, the positions would be updated back to reflect the contents of the trajectory file:"
   ]
  },
  {
   "cell_type": "code",
   "execution_count": 136,
   "metadata": {},
   "outputs": [
    {
     "name": "stdout",
     "output_type": "stream",
     "text": [
      "frame 0 positions:  [[15.249873 12.578178 15.191731]\n",
      " [14.925511 13.58888  14.944009]]\n",
      "zeroed positions:  [[0. 0. 0.]\n",
      " [0. 0. 0.]]\n"
     ]
    }
   ],
   "source": [
    "# Let's start from frame 0 and override the positions of `first_two_atoms`\n",
    "u.trajectory[0]\n",
    "\n",
    "# `first_two_atoms` positions beforehand\n",
    "print('frame 0 positions: ', first_two_atoms.positions)\n",
    "\n",
    "# `first_two_atoms` after being zeroed\n",
    "first_two_atoms.positions = 0\n",
    "print('zeroed positions: ', first_two_atoms.positions)"
   ]
  },
  {
   "cell_type": "code",
   "execution_count": 140,
   "metadata": {},
   "outputs": [
    {
     "data": {
      "text/plain": [
       "array([[14.799454, 15.214347, 14.714555],\n",
       "       [15.001984, 15.870884, 13.868363]], dtype=float32)"
      ]
     },
     "execution_count": 140,
     "metadata": {},
     "output_type": "execute_result"
    }
   ],
   "source": [
    "# Now let's go the before last frame\n",
    "u.trajectory[-2]\n",
    "first_two_atoms.positions"
   ]
  },
  {
   "cell_type": "code",
   "execution_count": 141,
   "metadata": {},
   "outputs": [
    {
     "data": {
      "text/plain": [
       "array([[15.249873, 12.578178, 15.191731],\n",
       "       [14.925511, 13.58888 , 14.944009]], dtype=float32)"
      ]
     },
     "execution_count": 141,
     "metadata": {},
     "output_type": "execute_result"
    }
   ],
   "source": [
    "# And now we come back to frame 0\n",
    "u.trajectory[0]\n",
    "\n",
    "# positions are no longer zeroed\n",
    "first_two_atoms.positions"
   ]
  },
  {
   "cell_type": "markdown",
   "metadata": {},
   "source": [
    "### 3.2 Iterating through the trajectory\n",
    "\n",
    "Iterating through a trajectory is the most common way to traverse a trajectory.\n",
    "\n",
    "For example one could access every frame in the trajectory and store the current time using the following:"
   ]
  },
  {
   "cell_type": "code",
   "execution_count": 119,
   "metadata": {},
   "outputs": [
    {
     "name": "stdout",
     "output_type": "stream",
     "text": [
      "[1.0, 2.0, 3.0, 4.0, 5.0, 6.0, 7.0, 8.0, 9.0, 10.0]\n"
     ]
    }
   ],
   "source": [
    "# Create a list for the times\n",
    "times = []\n",
    "\n",
    "for ts in u.trajectory:\n",
    "    times.append(u.trajectory.time)\n",
    "    \n",
    "print(times)"
   ]
  },
  {
   "cell_type": "markdown",
   "metadata": {},
   "source": [
    "### 3.3 Trajectory slicing\n",
    "\n",
    "Rather than iterating through the entire trajectory, it is possible to slice the trajectory using a `[start:stop:step]` pattern."
   ]
  },
  {
   "cell_type": "code",
   "execution_count": 120,
   "metadata": {},
   "outputs": [
    {
     "name": "stdout",
     "output_type": "stream",
     "text": [
      "[2.0, 4.0, 6.0, 8.0]\n"
     ]
    }
   ],
   "source": [
    "# Let's slice starting at the second frame, ending on the before last frame\n",
    "# and skipping every other frame\n",
    "\n",
    "times = []\n",
    "\n",
    "for ts in u.trajectory[1:-2:2]:\n",
    "    times.append(u.trajectory.time)\n",
    "    \n",
    "print(times)"
   ]
  },
  {
   "cell_type": "markdown",
   "metadata": {},
   "source": [
    "It is also possible to use fancy indexing to access frames in a given order"
   ]
  },
  {
   "cell_type": "code",
   "execution_count": 121,
   "metadata": {},
   "outputs": [
    {
     "name": "stdout",
     "output_type": "stream",
     "text": [
      "[10.0, 6.0, 5.0, 9.0, 2.0]\n"
     ]
    }
   ],
   "source": [
    "# indices of frames to access\n",
    "indices = [9, 5, 4, 8, 1]\n",
    "\n",
    "times = []\n",
    "\n",
    "for ts in u.trajectory[indices]:\n",
    "    times.append(u.trajectory.time)\n",
    "    \n",
    "print(times)"
   ]
  },
  {
   "cell_type": "markdown",
   "metadata": {
    "solution2": "hidden",
    "solution2_first": true
   },
   "source": [
    "### Exercise 3\n",
    "\n",
    "Create a reversed list of the trajectory times"
   ]
  },
  {
   "cell_type": "code",
   "execution_count": 122,
   "metadata": {
    "solution2": "hidden"
   },
   "outputs": [
    {
     "name": "stdout",
     "output_type": "stream",
     "text": [
      "[10.0, 9.0, 8.0, 7.0, 6.0, 5.0, 4.0, 3.0, 2.0, 1.0]\n"
     ]
    }
   ],
   "source": [
    "# Exercise 3 -- solution\n",
    "times = []\n",
    "\n",
    "for ts in u.trajectory[::-1]:\n",
    "    times.append(u.trajectory.time)\n",
    "    \n",
    "print(times)"
   ]
  },
  {
   "cell_type": "code",
   "execution_count": null,
   "metadata": {},
   "outputs": [],
   "source": [
    "# Exercise 3"
   ]
  },
  {
   "cell_type": "markdown",
   "metadata": {},
   "source": [
    "## 4. Transfering to memory\n",
    "\n",
    "By default MDAnalysis uses an iterative I/O model. That is to say that it loads trajectory data from disk as necessary. This is done so that very large trajectories can still be read by MDAnalysis without filling up the machine's RAM.\n",
    "\n",
    "In some cases it can be useful to instead hold the trajectory data in memory:\n",
    "1. It is much faster to iterate through an in-memory trajectory\n",
    "2. Changes to the trajectory data is not overwritten\n"
   ]
  },
  {
   "cell_type": "markdown",
   "metadata": {},
   "source": [
    "You can create an in-memory trajectory directly on `Universe` creation by setting the `in_memory` keyword."
   ]
  },
  {
   "cell_type": "code",
   "execution_count": 149,
   "metadata": {},
   "outputs": [],
   "source": [
    "u = mda.Universe(PRM_NCBOX, TRJ_NCBOX, in_memory=True)"
   ]
  },
  {
   "cell_type": "code",
   "execution_count": 150,
   "metadata": {},
   "outputs": [
    {
     "data": {
      "text/plain": [
       "'MEMORY'"
      ]
     },
     "execution_count": 150,
     "metadata": {},
     "output_type": "execute_result"
    }
   ],
   "source": [
    "# Note how the trajectory is now stored in 'MEMORY' format\n",
    "# instead of the input ['NCDF', 'NC'] input format\n",
    "u.trajectory.format"
   ]
  },
  {
   "cell_type": "markdown",
   "metadata": {},
   "source": [
    "It's also possible to transfer the trajectory to memory after creating the `Universe` using `transfer_to_memory`."
   ]
  },
  {
   "cell_type": "code",
   "execution_count": 151,
   "metadata": {},
   "outputs": [
    {
     "name": "stdout",
     "output_type": "stream",
     "text": [
      "starting format:  ['NCDF', 'NC']\n",
      "new format:  MEMORY\n"
     ]
    }
   ],
   "source": [
    "# It's also possible to transfer\n",
    "u = mda.Universe(PRM_NCBOX, TRJ_NCBOX)\n",
    "print('starting format: ', u.trajectory.format)\n",
    "\n",
    "u.transfer_to_memory()\n",
    "print('new format: ', u.trajectory.format)"
   ]
  },
  {
   "cell_type": "markdown",
   "metadata": {},
   "source": [
    "When in-memory, changes to trajectory data like `positions` do not get overwritten if you change frames."
   ]
  },
  {
   "cell_type": "code",
   "execution_count": 152,
   "metadata": {},
   "outputs": [
    {
     "name": "stdout",
     "output_type": "stream",
     "text": [
      "current frame:  0\n",
      "current positions:  [[15.249873  12.578178  15.191731 ]\n",
      " [14.925511  13.58888   14.944009 ]\n",
      " [15.285703  14.3409605 15.645962 ]\n",
      " ...\n",
      " [ 3.9575078 14.525827  16.14651  ]\n",
      " [ 4.6214457 14.670319  15.472312 ]\n",
      " [ 4.3571763 14.856422  16.950998 ]]\n",
      "zeroed positions:  [[0. 0. 0.]\n",
      " [0. 0. 0.]\n",
      " [0. 0. 0.]\n",
      " ...\n",
      " [0. 0. 0.]\n",
      " [0. 0. 0.]\n",
      " [0. 0. 0.]]\n"
     ]
    }
   ],
   "source": [
    "print('current frame: ', u.trajectory.frame)\n",
    "print('current positions: ', u.atoms.positions)\n",
    "\n",
    "# zero the positions\n",
    "u.atoms.positions = 0\n",
    "print('zeroed positions: ', u.atoms.positions)"
   ]
  },
  {
   "cell_type": "code",
   "execution_count": 154,
   "metadata": {},
   "outputs": [
    {
     "name": "stdout",
     "output_type": "stream",
     "text": [
      "frame -1 positions:  [[14.392319  16.360231  14.511796 ]\n",
      " [13.606518  17.076824  14.27282  ]\n",
      " [14.025402  18.076998  14.383686 ]\n",
      " ...\n",
      " [ 5.8899493 16.821993   7.454993 ]\n",
      " [ 6.58759   17.260208   6.967657 ]\n",
      " [ 5.7498684 15.999697   6.9854836]]\n",
      "frame 0 positions:  [[0. 0. 0.]\n",
      " [0. 0. 0.]\n",
      " [0. 0. 0.]\n",
      " ...\n",
      " [0. 0. 0.]\n",
      " [0. 0. 0.]\n",
      " [0. 0. 0.]]\n"
     ]
    }
   ],
   "source": [
    "# Seek to a new frame\n",
    "u.trajectory[-1]\n",
    "print('frame -1 positions: ', u.atoms.positions)\n",
    "\n",
    "# See back to frame 0\n",
    "u.trajectory[0]\n",
    "\n",
    "# positions remain zero for frame 0\n",
    "print('frame 0 positions: ', u.atoms.positions)"
   ]
  },
  {
   "cell_type": "markdown",
   "metadata": {
    "solution2": "hidden",
    "solution2_first": true
   },
   "source": [
    "### Exercise 4\n",
    "\n",
    "Evaluate how much faster you can retrieve trajectory times from an in-memory trajectory compared to reading from file.\n",
    "\n",
    "*Hint:* use %timeit"
   ]
  },
  {
   "cell_type": "code",
   "execution_count": 155,
   "metadata": {
    "solution2": "hidden"
   },
   "outputs": [],
   "source": [
    "# Exercise 4 -- solution\n",
    "u_memory = mda.Universe(PRM_NCBOX, TRJ_NCBOX, in_memory=True)\n",
    "u_disk = mda.Universe(PRM_NCBOX, TRJ_NCBOX)"
   ]
  },
  {
   "cell_type": "code",
   "execution_count": 156,
   "metadata": {
    "solution2": "hidden"
   },
   "outputs": [
    {
     "name": "stdout",
     "output_type": "stream",
     "text": [
      "145 µs ± 3.71 µs per loop (mean ± std. dev. of 7 runs, 10000 loops each)\n"
     ]
    }
   ],
   "source": [
    "%timeit [ts.time for ts in u_memory.trajectory]"
   ]
  },
  {
   "cell_type": "code",
   "execution_count": 157,
   "metadata": {
    "solution2": "hidden"
   },
   "outputs": [
    {
     "name": "stdout",
     "output_type": "stream",
     "text": [
      "1.02 ms ± 24.6 µs per loop (mean ± std. dev. of 7 runs, 1000 loops each)\n"
     ]
    }
   ],
   "source": [
    "%timeit [ts.time for ts in u_disk.trajectory]"
   ]
  },
  {
   "cell_type": "code",
   "execution_count": null,
   "metadata": {},
   "outputs": [],
   "source": [
    "# Exercise 4"
   ]
  },
  {
   "cell_type": "markdown",
   "metadata": {},
   "source": [
    "## 5. Visualizing a trajectory"
   ]
  },
  {
   "cell_type": "markdown",
   "metadata": {},
   "source": [
    "As we did in the previous session, it is possible to use NGLView to traverse through the trajectory visually."
   ]
  },
  {
   "cell_type": "code",
   "execution_count": 158,
   "metadata": {},
   "outputs": [
    {
     "data": {
      "application/vnd.jupyter.widget-view+json": {
       "model_id": "40d9284a88a44ddebba6641a55b930ee",
       "version_major": 2,
       "version_minor": 0
      },
      "text/plain": []
     },
     "metadata": {},
     "output_type": "display_data"
    },
    {
     "data": {
      "application/vnd.jupyter.widget-view+json": {
       "model_id": "799343527bf64ffeae05051859c7289b",
       "version_major": 2,
       "version_minor": 0
      },
      "text/plain": [
       "NGLWidget(max_frame=97)"
      ]
     },
     "metadata": {},
     "output_type": "display_data"
    }
   ],
   "source": [
    "import nglview as nv\n",
    "from MDAnalysis.tests.datafiles import PSF, DCD\n",
    "adk = mda.Universe(PSF, DCD)\n",
    "nv.show_mdanalysis(adk)"
   ]
  },
  {
   "cell_type": "markdown",
   "metadata": {},
   "source": [
    "## 6. Updating AtomGroups"
   ]
  },
  {
   "cell_type": "markdown",
   "metadata": {},
   "source": [
    "In **section 3** we discuss how AtomGroups have a static set of atoms but have positions (forces, velocities, etc..) that update as you traverse through a trajectory.\n",
    "\n",
    "There is a special type of the `AtomGroup` class which allows for a dynamic selection of atoms that changes as you traverse through the trajectory. This class it called the `UpdatingAtomGroup`. To use it, you must pass the `updating` flag to `select_atoms`.\n",
    "\n",
    "To illustrate this, we look at an ACE residue in a box of water. We create a selection based on the number of waters within 5 Angstroms of the ACE residue. As we traverse through the trajectory, the `UpdatingAtomGroup` will change in the number of atoms it contains, whilst the `AtomGroup` will not."
   ]
  },
  {
   "cell_type": "code",
   "execution_count": 169,
   "metadata": {},
   "outputs": [],
   "source": [
    "# ACE residue in a box of water\n",
    "u = mda.Universe(PRM_NCBOX, TRJ_NCBOX)\n",
    "\n",
    "# Create a normal atom group\n",
    "ag = u.select_atoms('resname WAT and around 5 resname ACE')\n",
    "updating_ag = u.select_atoms('resname WAT and around 5 resname ACE', updating=True)"
   ]
  },
  {
   "cell_type": "code",
   "execution_count": 171,
   "metadata": {},
   "outputs": [
    {
     "name": "stdout",
     "output_type": "stream",
     "text": [
      "[87, 87, 87, 87, 87, 87, 87, 87, 87, 87]\n",
      "[87, 81, 78, 84, 76, 79, 83, 90, 83, 72]\n"
     ]
    }
   ],
   "source": [
    "ag_atoms = []\n",
    "updating_ag_atoms = []\n",
    "\n",
    "for ts in u.trajectory:\n",
    "    ag_atoms.append(len(ag.atoms))\n",
    "    updating_ag_atoms.append(len(updating_ag.atoms))\n",
    "\n",
    "# These number of atoms remains the same\n",
    "print(ag_atoms)\n",
    "\n",
    "# The number of atoms changes\n",
    "print(updating_ag_atoms)"
   ]
  },
  {
   "cell_type": "markdown",
   "metadata": {},
   "source": [
    "**Note:** Whilst `UpdatingAtomGroup` are sometimes very useful, they are also much more computational expensive to use as the selection (in this case a distance search around the ACE residue) has to be done at every step along the trajectory. We recommend using these sparsely."
   ]
  },
  {
   "cell_type": "markdown",
   "metadata": {},
   "source": [
    "## 7. Writing trajectory files"
   ]
  },
  {
   "cell_type": "markdown",
   "metadata": {},
   "source": [
    "Aside from reading trajectories, MDAnalysis is also able to write them out. A list of formats which can be written to is shown in the [supported formats documentation](https://docs.mdanalysis.org/dev/documentation_pages/coordinates/init.html#id23)."
   ]
  },
  {
   "cell_type": "markdown",
   "metadata": {},
   "source": [
    "The most common way to write out files is by using the `Writer` class as a context manager.\n",
    "\n",
    "Below we show an example of reading in an AMBER netcdf trajectory (ACE residue in a box of water used in previous sections), and writing it out to a DCD trajectory.\n",
    "\n",
    "The basic `Writer` usage pattern is:\n",
    "1. Create a context manager for the Writer using `with`\n",
    "  * Needs passing the number of atoms that will be written to file\n",
    "  * Can optionally pass `format` to specific which file format will be used, otherwise the output file extension will be used\n",
    "2. Iterate through the trajectory frames you wish to write\n",
    "3. Pass the `AtomGroup` to write out at each frame to the `write()` method\n",
    "4. Close the output trajectory file (done automatically via the context manager)\n",
    "\n",
    "There are other ways to write out coordinates, these can be seen in the [user guide entry on trajectory writing](https://userguide.mdanalysis.org/stable/reading_and_writing.html#frames-and-trajectories)."
   ]
  },
  {
   "cell_type": "code",
   "execution_count": 172,
   "metadata": {},
   "outputs": [],
   "source": [
    "u = mda.Universe(PRM_NCBOX, TRJ_NCBOX)\n",
    "\n",
    "# Writer requires passing the number of atoms `n_atoms`\n",
    "# as a keyword argument, this is usually the number of \n",
    "# atoms in the atomgroup to write here it will be all\n",
    "# the atoms in the universe.\n",
    "ag = u.atoms\n",
    "\n",
    "# The format argument is not necessary, as it is taken from\n",
    "# the extension of the output file, but can sometimes be useful\n",
    "with mda.Writer('test.dcd', n_atoms=ag.n_atoms, format='DCD') as W:\n",
    "    # Iterate through the trajectory and write at every step\n",
    "    for ts in u.trajectory:\n",
    "        W.write(ag)"
   ]
  },
  {
   "cell_type": "markdown",
   "metadata": {},
   "source": [
    "## 8. Case study 1: FRET distances"
   ]
  },
  {
   "cell_type": "markdown",
   "metadata": {},
   "source": [
    "## 9. Case study 2: ???"
   ]
  },
  {
   "cell_type": "markdown",
   "metadata": {},
   "source": [
    "# ~ here be dragons ~"
   ]
  },
  {
   "cell_type": "markdown",
   "metadata": {},
   "source": [
    "### Working with AtomGroups: FRET distances"
   ]
  },
  {
   "cell_type": "markdown",
   "metadata": {},
   "source": [
    "Experimental FRET labels: distances\n",
    "\n",
    "<div>\n",
    "<img src=\"figures/fret_distances_adk.png\" alt=\"FRET distances\" width=\"250\"/>\n",
    "</div>\n",
    "\n",
    "\n",
    "* I52 - K145\n",
    "* A55 - V169\n",
    "* A127 - A194\n",
    "\n",
    "Calculate the C$_\\beta$ distances as proxies for the spin-label distances.\n",
    "\n",
    "Sampling large conformational is challenging with standard equilibrium MD. Therefore we used an enhanced sampling method (\"dynamic importance sampling\", DIMS) to generate transitions between closed and open apo AdK [2, 3] in addition to \"brute force\" equilibrium MD (on PSC Anton).\n"
   ]
  },
  {
   "cell_type": "code",
   "execution_count": null,
   "metadata": {},
   "outputs": [],
   "source": [
    "beta = closed_to_open.select_atoms(\"name CB\")\n",
    "\n",
    "donors = beta.select_atoms(\"resname ILE and resid 52\", \n",
    "                           \"resname ALA and resid 55\",\n",
    "                           \"resname ALA and resid 127\")\n",
    "acceptors = beta.select_atoms(\"resname LYS and resid 145\", \n",
    "                           \"resname VAL and resid 169\",\n",
    "                           \"resname ALA and resid 194\")"
   ]
  },
  {
   "cell_type": "markdown",
   "metadata": {},
   "source": [
    "Indexing the trajectory sets the active frame to that index."
   ]
  },
  {
   "cell_type": "code",
   "execution_count": null,
   "metadata": {},
   "outputs": [],
   "source": [
    "closed_to_open.trajectory[0]\n",
    "print(f\"Frame: {closed_to_open.trajectory.frame}\")\n",
    "print(f\"Time: {closed_to_open.trajectory.time}\")"
   ]
  },
  {
   "cell_type": "code",
   "execution_count": null,
   "metadata": {},
   "outputs": [],
   "source": [
    "closed_to_open.trajectory[-1]\n",
    "print(f\"Frame: {closed_to_open.trajectory.frame}\")\n",
    "print(f\"Time: {closed_to_open.trajectory.time}\")"
   ]
  },
  {
   "cell_type": "markdown",
   "metadata": {},
   "source": [
    "Setting the frame updates dynamic data such as positions. Note that the positions array itself does not update."
   ]
  },
  {
   "cell_type": "code",
   "execution_count": null,
   "metadata": {},
   "outputs": [],
   "source": [
    "closed_to_open.trajectory[0]\n",
    "print(closed_to_open.trajectory.frame)\n",
    "donor_positions = donors.positions\n",
    "donor_positions"
   ]
  },
  {
   "cell_type": "code",
   "execution_count": null,
   "metadata": {},
   "outputs": [],
   "source": [
    "closed_to_open.trajectory[-1]\n",
    "print(closed_to_open.trajectory.frame)\n",
    "donor_positions"
   ]
  },
  {
   "cell_type": "markdown",
   "metadata": {},
   "source": [
    "Rather, it's the AtomGroup that updates."
   ]
  },
  {
   "cell_type": "code",
   "execution_count": null,
   "metadata": {},
   "outputs": [],
   "source": [
    "donors.positions"
   ]
  },
  {
   "cell_type": "markdown",
   "metadata": {},
   "source": [
    "The more common way to traverse through a trajectory (e.g. for analysis) is to iterate through it."
   ]
  },
  {
   "cell_type": "code",
   "execution_count": null,
   "metadata": {},
   "outputs": [],
   "source": [
    "for ts in closed_to_open.trajectory:\n",
    "    print(f\"Frame: {ts.frame}, time: {ts.time}\")"
   ]
  },
  {
   "cell_type": "markdown",
   "metadata": {},
   "source": [
    "You can also easily slice the trajectory."
   ]
  },
  {
   "cell_type": "code",
   "execution_count": null,
   "metadata": {},
   "outputs": [],
   "source": [
    "for ts in closed_to_open.trajectory[2:92:8]:\n",
    "    print(f\"Frame: {ts.frame}, time: {ts.time}\")"
   ]
  },
  {
   "cell_type": "markdown",
   "metadata": {},
   "source": [
    "Let's apply this to the FRET analysis we did earlier. First, for convenience, let's codify the analysis into a function. The arguments (`donors`, `acceptors`) are `AtomGroup`s so that we can work the the updated positions arrays for each frame."
   ]
  },
  {
   "cell_type": "code",
   "execution_count": null,
   "metadata": {},
   "outputs": [],
   "source": [
    "def calculate_fret_distances(donors, acceptors):\n",
    "    return np.linalg.norm(donors.positions - acceptors.positions, axis=1)"
   ]
  },
  {
   "cell_type": "code",
   "execution_count": null,
   "metadata": {},
   "outputs": [],
   "source": [
    "distances = []\n",
    "times = []\n",
    "for ts in closed_to_open.trajectory:\n",
    "    d = calculate_fret_distances(donors, acceptors)\n",
    "    distances.append(d)\n",
    "    times.append(ts.time)\n",
    "print(distances[:3])"
   ]
  },
  {
   "cell_type": "code",
   "execution_count": null,
   "metadata": {},
   "outputs": [],
   "source": [
    "import matplotlib.pyplot as plt\n",
    "\n",
    "plt.plot(times, distances)\n",
    "plt.legend((\"I52-K145\", \"A55-V169\", \"A127-A194\"))\n",
    "plt.xlabel(\"Time (ps)\")\n",
    "plt.ylabel(r\"Distance (Å)\");"
   ]
  },
  {
   "cell_type": "markdown",
   "metadata": {},
   "source": [
    "### Working with UpdatingAtomGroups: solvent shells"
   ]
  },
  {
   "cell_type": "code",
   "execution_count": null,
   "metadata": {},
   "outputs": [],
   "source": [
    "from MDAnalysisData import datasets\n",
    "ifabp_data = datasets.fetch_ifabp_water()\n",
    "ifabp = mda.Universe(ifabp_data.topology, ifabp_data.trajectory)"
   ]
  },
  {
   "cell_type": "code",
   "execution_count": null,
   "metadata": {},
   "outputs": [],
   "source": [
    "solvshell_static = ifabp.select_atoms(\"resname TIP3 and around 5.0 protein\")\n",
    "solvshell_static"
   ]
  },
  {
   "cell_type": "code",
   "execution_count": null,
   "metadata": {},
   "outputs": [],
   "source": [
    "ifabp.trajectory[-1]\n",
    "solvshell_static"
   ]
  },
  {
   "cell_type": "code",
   "execution_count": null,
   "metadata": {},
   "outputs": [],
   "source": [
    "solvshell_updating = ifabp.select_atoms(\"resname TIP3 and around 5.0 protein\", updating=True)\n",
    "solvshell_updating"
   ]
  },
  {
   "cell_type": "code",
   "execution_count": null,
   "metadata": {},
   "outputs": [],
   "source": [
    "ifabp.trajectory[0]\n",
    "solvshell_updating"
   ]
  },
  {
   "cell_type": "code",
   "execution_count": null,
   "metadata": {},
   "outputs": [],
   "source": [
    "times = []\n",
    "n_waters = []\n",
    "for ts in ifabp.trajectory:\n",
    "    times.append(ts.time)\n",
    "    n_waters.append(len(solvshell_updating.residues))\n",
    "print(n_waters[:3])"
   ]
  },
  {
   "cell_type": "markdown",
   "metadata": {},
   "source": [
    "# uhhh why are the times negative"
   ]
  },
  {
   "cell_type": "code",
   "execution_count": null,
   "metadata": {},
   "outputs": [],
   "source": [
    "plt.plot(times, n_waters)\n",
    "plt.xlabel(\"Time (ps)\")\n",
    "plt.ylabel(r\"# waters within 5 $\\AA$ of protein\");"
   ]
  },
  {
   "cell_type": "code",
   "execution_count": null,
   "metadata": {},
   "outputs": [],
   "source": []
  }
 ],
 "metadata": {
  "kernelspec": {
   "display_name": "Python 3",
   "language": "python",
   "name": "python3"
  },
  "language_info": {
   "codemirror_mode": {
    "name": "ipython",
    "version": 3
   },
   "file_extension": ".py",
   "mimetype": "text/x-python",
   "name": "python",
   "nbconvert_exporter": "python",
   "pygments_lexer": "ipython3",
   "version": "3.7.7"
  }
 },
 "nbformat": 4,
 "nbformat_minor": 4
}
