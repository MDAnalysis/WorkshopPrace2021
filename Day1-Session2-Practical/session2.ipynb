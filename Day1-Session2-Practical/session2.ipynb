{
 "cells": [
  {
   "cell_type": "markdown",
   "metadata": {},
   "source": [
    "# Day 1, Lecture 2\n",
    "## Handling simulation trajectory data"
   ]
  },
  {
   "cell_type": "markdown",
   "metadata": {},
   "source": [
    "### Global imports"
   ]
  },
  {
   "cell_type": "code",
   "execution_count": null,
   "metadata": {},
   "outputs": [],
   "source": [
    "import MDAnalysis as mda\n",
    "import numpy as np\n",
    "import matplotlib.pyplot as plt\n",
    "%matplotlib inline"
   ]
  },
  {
   "cell_type": "markdown",
   "metadata": {},
   "source": [
    "## 1. Reading a trajectory"
   ]
  },
  {
   "cell_type": "markdown",
   "metadata": {},
   "source": [
    "MDAnalysis is able to read a wide variety of different simulation coordinate formats. A full list of these can be seen in the [coordinates documentation](https://docs.mdanalysis.org/stable/documentation_pages/coordinates/init.html#supported-coordinate-formats). A large majority of these formats store temporal coordinates (and somethings also forces and velocities), which MDAnalysis allows users to explore."
   ]
  },
  {
   "cell_type": "markdown",
   "metadata": {},
   "source": [
    "#### 1.1 Creating a universe from a trajectory file\n",
    "\n",
    "< Here we essentially say that as per session 1, we load trajectories in by creating a universe >"
   ]
  },
  {
   "cell_type": "code",
   "execution_count": null,
   "metadata": {},
   "outputs": [],
   "source": [
    "# Here we add an example showing how a simple trajectory can be read\n",
    "# We also show an example of how one could read a trajectory after universe construction"
   ]
  },
  {
   "cell_type": "markdown",
   "metadata": {},
   "source": [
    "#### 1.2 Creating a universe by loading multiple trajectory files\n",
    "\n",
    "< Here we describe the ChainReader case - loading a series of trajectories by passing a list of trajectories >"
   ]
  },
  {
   "cell_type": "code",
   "execution_count": null,
   "metadata": {},
   "outputs": [],
   "source": [
    "# We also add an example of chain reading"
   ]
  },
  {
   "cell_type": "markdown",
   "metadata": {},
   "source": [
    "## 2. Traversing through a trajectory"
   ]
  },
  {
   "cell_type": "markdown",
   "metadata": {},
   "source": [
    "< Here we describe universe.trajectory. We mention about how MDAnalysis uses an iterative IO model whereby as we travery the trajectory object, in most cases data is loaded from the disk and used to update temporal data in the universe and associated data groups (i.e. AtomGroups) >"
   ]
  },
  {
   "cell_type": "markdown",
   "metadata": {},
   "source": [
    "#### 2.1 Random seeking\n",
    "\n",
    "< Here we describe how trajectories can be randomly seeked by directly indexing the trajectory frame we want to access >"
   ]
  },
  {
   "cell_type": "code",
   "execution_count": null,
   "metadata": {},
   "outputs": [],
   "source": [
    "# Show off random seeking\n",
    "# First create a universe and then an atomgroup from it, show the current time and the positions of the atomgroup\n",
    "# Then seek to a random part of the trajectory and show how the time and the positions have been updated"
   ]
  },
  {
   "cell_type": "markdown",
   "metadata": {},
   "source": [
    "#### 2.2 Iterating through the trajectory\n",
    "\n",
    "< Here we describe about how a iterating through the trajectory is the most common approach for looping through it and capturing how parts of the system have changed >"
   ]
  },
  {
   "cell_type": "code",
   "execution_count": null,
   "metadata": {},
   "outputs": [],
   "source": [
    "# Here we show off iterating through a trajectory\n",
    "# We show how information such as the box volume can be obtained and plotted by iterating through the trajectory"
   ]
  },
  {
   "cell_type": "markdown",
   "metadata": {},
   "source": [
    "#### 2.3 Trajectory slicing\n",
    "\n",
    "< We quickly mention about how the trajectory class can be sliced so as to allow both truncation of frames at the start and end of the trajectory, but also skipping a given set of frames >"
   ]
  },
  {
   "cell_type": "code",
   "execution_count": null,
   "metadata": {},
   "outputs": [],
   "source": [
    "# Quickly show off trajectory slicing"
   ]
  },
  {
   "cell_type": "markdown",
   "metadata": {},
   "source": [
    "#### 2.4 Transfer to memory\n",
    "< Here we explain about how it is possible to bypass the iterative I/O model by transferring all the trajectory data to memory. This can be quite useful in reducing overheads, but does means that any changes that happen to an in-memory trajectory is permanent."
   ]
  },
  {
   "cell_type": "code",
   "execution_count": null,
   "metadata": {},
   "outputs": [],
   "source": [
    "# Give an example of transfer to memory,"
   ]
  },
  {
   "cell_type": "markdown",
   "metadata": {},
   "source": [
    "## 3. Visualizing a trajectory"
   ]
  },
  {
   "cell_type": "markdown",
   "metadata": {},
   "source": [
    "< Here we mention about how, in the same way as we did for single frames in session 1, we can visualize trajectories using NGLView >"
   ]
  },
  {
   "cell_type": "code",
   "execution_count": null,
   "metadata": {},
   "outputs": [],
   "source": [
    "# NGLView code to observe a simulation trajectory"
   ]
  },
  {
   "cell_type": "markdown",
   "metadata": {},
   "source": [
    "## 4. Updating AtomGroups"
   ]
  },
  {
   "cell_type": "markdown",
   "metadata": {},
   "source": [
    "< Here we mention that whilst AtomGroups (see session 1), are static (i.e. based on an initial selection, they will not change as you traverse a trajectory), we also offer the UpdatingAtomGroup class. This allows users to select atoms from a Universe based on a given metric and then have this atom selection update as you traverse through a trajectory >"
   ]
  },
  {
   "cell_type": "code",
   "execution_count": null,
   "metadata": {},
   "outputs": [],
   "source": [
    "# Add an example of an UpdatingAtomGroup"
   ]
  },
  {
   "cell_type": "markdown",
   "metadata": {},
   "source": [
    "## 5. Writing trajectory files"
   ]
  },
  {
   "cell_type": "markdown",
   "metadata": {},
   "source": [
    "< here we discuss the writers we have and how they are usually accessed >"
   ]
  },
  {
   "cell_type": "code",
   "execution_count": null,
   "metadata": {},
   "outputs": [],
   "source": [
    "# Some examples of the different ways users can write out a trajectory;\n",
    "## a) Use the write class\n",
    "## b) Write from the atom group\n",
    "## c) etc..."
   ]
  },
  {
   "cell_type": "markdown",
   "metadata": {},
   "source": [
    "## 6. Exercises"
   ]
  },
  {
   "cell_type": "markdown",
   "metadata": {},
   "source": [
    "Exercises we could make the students do:\n",
    "1) Use trajectory traversing - FRET stuff below?\n",
    "\n",
    "2) Get them to write out a trajectory in a different file format\n",
    "  - Just a few select frames, etc...\n",
    "\n",
    "3) Use the UpdatingAtomGroup to explore solvation shell (as below)\n",
    "\n",
    "4) Using the chainreader?"
   ]
  },
  {
   "cell_type": "code",
   "execution_count": null,
   "metadata": {},
   "outputs": [],
   "source": [
    "import MDAnalysis as mda\n",
    "import nglview as nv\n",
    "from MDAnalysis.tests.datafiles import PSF, DCD"
   ]
  },
  {
   "cell_type": "markdown",
   "metadata": {},
   "source": [
    "As in the earlier session, we can use NGLView to traverse through the trajectory visually."
   ]
  },
  {
   "cell_type": "code",
   "execution_count": null,
   "metadata": {
    "scrolled": false
   },
   "outputs": [],
   "source": [
    "closed_to_open = mda.Universe(PSF, DCD)\n",
    "nv.show_mdanalysis(closed_to_open)"
   ]
  },
  {
   "cell_type": "markdown",
   "metadata": {},
   "source": [
    "### Working with AtomGroups: FRET distances"
   ]
  },
  {
   "cell_type": "markdown",
   "metadata": {},
   "source": [
    "Experimental FRET labels: distances\n",
    "\n",
    "<div>\n",
    "<img src=\"figures/fret_distances_adk.png\" alt=\"FRET distances\" width=\"250\"/>\n",
    "</div>\n",
    "\n",
    "\n",
    "* I52 - K145\n",
    "* A55 - V169\n",
    "* A127 - A194\n",
    "\n",
    "Calculate the C$_\\beta$ distances as proxies for the spin-label distances.\n",
    "\n",
    "Sampling large conformational is challenging with standard equilibrium MD. Therefore we used an enhanced sampling method (\"dynamic importance sampling\", DIMS) to generate transitions between closed and open apo AdK [2, 3] in addition to \"brute force\" equilibrium MD (on PSC Anton).\n"
   ]
  },
  {
   "cell_type": "code",
   "execution_count": null,
   "metadata": {},
   "outputs": [],
   "source": [
    "beta = closed_to_open.select_atoms(\"name CB\")\n",
    "\n",
    "donors = beta.select_atoms(\"resname ILE and resid 52\", \n",
    "                           \"resname ALA and resid 55\",\n",
    "                           \"resname ALA and resid 127\")\n",
    "acceptors = beta.select_atoms(\"resname LYS and resid 145\", \n",
    "                           \"resname VAL and resid 169\",\n",
    "                           \"resname ALA and resid 194\")"
   ]
  },
  {
   "cell_type": "markdown",
   "metadata": {},
   "source": [
    "Indexing the trajectory sets the active frame to that index."
   ]
  },
  {
   "cell_type": "code",
   "execution_count": null,
   "metadata": {},
   "outputs": [],
   "source": [
    "closed_to_open.trajectory[0]\n",
    "print(f\"Frame: {closed_to_open.trajectory.frame}\")\n",
    "print(f\"Time: {closed_to_open.trajectory.time}\")"
   ]
  },
  {
   "cell_type": "code",
   "execution_count": null,
   "metadata": {},
   "outputs": [],
   "source": [
    "closed_to_open.trajectory[-1]\n",
    "print(f\"Frame: {closed_to_open.trajectory.frame}\")\n",
    "print(f\"Time: {closed_to_open.trajectory.time}\")"
   ]
  },
  {
   "cell_type": "markdown",
   "metadata": {},
   "source": [
    "Setting the frame updates dynamic data such as positions. Note that the positions array itself does not update."
   ]
  },
  {
   "cell_type": "code",
   "execution_count": null,
   "metadata": {},
   "outputs": [],
   "source": [
    "closed_to_open.trajectory[0]\n",
    "print(closed_to_open.trajectory.frame)\n",
    "donor_positions = donors.positions\n",
    "donor_positions"
   ]
  },
  {
   "cell_type": "code",
   "execution_count": null,
   "metadata": {},
   "outputs": [],
   "source": [
    "closed_to_open.trajectory[-1]\n",
    "print(closed_to_open.trajectory.frame)\n",
    "donor_positions"
   ]
  },
  {
   "cell_type": "markdown",
   "metadata": {},
   "source": [
    "Rather, it's the AtomGroup that updates."
   ]
  },
  {
   "cell_type": "code",
   "execution_count": null,
   "metadata": {},
   "outputs": [],
   "source": [
    "donors.positions"
   ]
  },
  {
   "cell_type": "markdown",
   "metadata": {},
   "source": [
    "The more common way to traverse through a trajectory (e.g. for analysis) is to iterate through it."
   ]
  },
  {
   "cell_type": "code",
   "execution_count": null,
   "metadata": {},
   "outputs": [],
   "source": [
    "for ts in closed_to_open.trajectory:\n",
    "    print(f\"Frame: {ts.frame}, time: {ts.time}\")"
   ]
  },
  {
   "cell_type": "markdown",
   "metadata": {},
   "source": [
    "You can also easily slice the trajectory."
   ]
  },
  {
   "cell_type": "code",
   "execution_count": null,
   "metadata": {},
   "outputs": [],
   "source": [
    "for ts in closed_to_open.trajectory[2:92:8]:\n",
    "    print(f\"Frame: {ts.frame}, time: {ts.time}\")"
   ]
  },
  {
   "cell_type": "markdown",
   "metadata": {},
   "source": [
    "Let's apply this to the FRET analysis we did earlier. First, for convenience, let's codify the analysis into a function. The arguments (`donors`, `acceptors`) are `AtomGroup`s so that we can work the the updated positions arrays for each frame."
   ]
  },
  {
   "cell_type": "code",
   "execution_count": null,
   "metadata": {},
   "outputs": [],
   "source": [
    "def calculate_fret_distances(donors, acceptors):\n",
    "    return np.linalg.norm(donors.positions - acceptors.positions, axis=1)"
   ]
  },
  {
   "cell_type": "code",
   "execution_count": null,
   "metadata": {},
   "outputs": [],
   "source": [
    "distances = []\n",
    "times = []\n",
    "for ts in closed_to_open.trajectory:\n",
    "    d = calculate_fret_distances(donors, acceptors)\n",
    "    distances.append(d)\n",
    "    times.append(ts.time)\n",
    "print(distances[:3])"
   ]
  },
  {
   "cell_type": "code",
   "execution_count": null,
   "metadata": {},
   "outputs": [],
   "source": [
    "import matplotlib.pyplot as plt\n",
    "\n",
    "plt.plot(times, distances)\n",
    "plt.legend((\"I52-K145\", \"A55-V169\", \"A127-A194\"))\n",
    "plt.xlabel(\"Time (ps)\")\n",
    "plt.ylabel(r\"Distance (Å)\");"
   ]
  },
  {
   "cell_type": "markdown",
   "metadata": {},
   "source": [
    "### Working with UpdatingAtomGroups: solvent shells"
   ]
  },
  {
   "cell_type": "code",
   "execution_count": null,
   "metadata": {},
   "outputs": [],
   "source": [
    "from MDAnalysisData import datasets\n",
    "ifabp_data = datasets.fetch_ifabp_water()\n",
    "ifabp = mda.Universe(ifabp_data.topology, ifabp_data.trajectory)"
   ]
  },
  {
   "cell_type": "code",
   "execution_count": null,
   "metadata": {},
   "outputs": [],
   "source": [
    "solvshell_static = ifabp.select_atoms(\"resname TIP3 and around 5.0 protein\")\n",
    "solvshell_static"
   ]
  },
  {
   "cell_type": "code",
   "execution_count": null,
   "metadata": {},
   "outputs": [],
   "source": [
    "ifabp.trajectory[-1]\n",
    "solvshell_static"
   ]
  },
  {
   "cell_type": "code",
   "execution_count": null,
   "metadata": {},
   "outputs": [],
   "source": [
    "solvshell_updating = ifabp.select_atoms(\"resname TIP3 and around 5.0 protein\", updating=True)\n",
    "solvshell_updating"
   ]
  },
  {
   "cell_type": "code",
   "execution_count": null,
   "metadata": {},
   "outputs": [],
   "source": [
    "ifabp.trajectory[0]\n",
    "solvshell_updating"
   ]
  },
  {
   "cell_type": "code",
   "execution_count": null,
   "metadata": {},
   "outputs": [],
   "source": [
    "times = []\n",
    "n_waters = []\n",
    "for ts in ifabp.trajectory:\n",
    "    times.append(ts.time)\n",
    "    n_waters.append(len(solvshell_updating.residues))\n",
    "print(n_waters[:3])"
   ]
  },
  {
   "cell_type": "markdown",
   "metadata": {},
   "source": [
    "# uhhh why are the times negative"
   ]
  },
  {
   "cell_type": "code",
   "execution_count": null,
   "metadata": {},
   "outputs": [],
   "source": [
    "plt.plot(times, n_waters)\n",
    "plt.xlabel(\"Time (ps)\")\n",
    "plt.ylabel(r\"# waters within 5 $\\AA$ of protein\");"
   ]
  },
  {
   "cell_type": "code",
   "execution_count": null,
   "metadata": {},
   "outputs": [],
   "source": []
  }
 ],
 "metadata": {
  "kernelspec": {
   "display_name": "Python 3",
   "language": "python",
   "name": "python3"
  },
  "language_info": {
   "codemirror_mode": {
    "name": "ipython",
    "version": 3
   },
   "file_extension": ".py",
   "mimetype": "text/x-python",
   "name": "python",
   "nbconvert_exporter": "python",
   "pygments_lexer": "ipython3",
   "version": "3.7.7"
  }
 },
 "nbformat": 4,
 "nbformat_minor": 4
}
