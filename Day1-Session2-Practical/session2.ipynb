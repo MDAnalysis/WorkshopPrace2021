{
 "cells": [
  {
   "cell_type": "markdown",
   "metadata": {},
   "source": [
    "# Day 1, Practical 2: Handling simulation trajectory data\n",
    "\n",
    "This practical focuses on the basics of handling dynamic simulation data in MDAnalysis.\n",
    "\n",
    "In the first session, you explored the information that MDAnalysis loads from a topology -- the static, identifying information that doesn't change over a simulation, such as atom names. MDAnalysis is also able to read a wide variety of different simulation coordinate formats. A full list of these can be seen in the [coordinates documentation](https://docs.mdanalysis.org/stable/documentation_pages/coordinates/init.html#supported-coordinate-formats). These coordinate or trajectory formats hold the dynamic, temporal information from simulations such as coordinates, dimensions, velocities, and forces.\n",
    "\n",
    "Here we demonstrate how one can use MDAnalysis to read, explore, and write trajectory data.\n",
    "\n",
    "As ever, please feel free to reach out to any of the below resources for more help:\n",
    "\n",
    "* [User guide](https://userguide.mdanalysis.org/2.0.0-dev0/)\n",
    "* [API documentation](docs.mdanalysis.org/2.0.0-dev0/)\n",
    "* [Discussion / user mailing list](https://groups.google.com/group/mdnalysis-discussion)\n",
    "* [Developer mailing list](https://groups.google.com/g/mdnalysis-devel)\n",
    "* [Discord](https://discord.gg/fXTSfDJyxE)\n",
    "\n",
    "See a bug? Tell us on GitHub!\n",
    "\n",
    "* [GitHub Issue tracker](https://github.com/MDAnalysis/mdanalysis/issues?)"
   ]
  },
  {
   "cell_type": "code",
   "execution_count": null,
   "metadata": {
    "ExecuteTime": {
     "end_time": "2021-05-25T08:41:03.071835Z",
     "start_time": "2021-05-25T08:41:01.403474Z"
    }
   },
   "outputs": [],
   "source": [
    "import MDAnalysis as mda\n",
    "import numpy as np\n",
    "import matplotlib.pyplot as plt\n",
    "import nglview as nv\n",
    "%matplotlib inline"
   ]
  },
  {
   "cell_type": "markdown",
   "metadata": {},
   "source": [
    "## Reading a trajectory"
   ]
  },
  {
   "cell_type": "markdown",
   "metadata": {},
   "source": [
    "Loading a trajectory is done in the same way as loading any type of coordinates (as shown in session 1). All you have to do is create a `Universe` object by passing it a topology and the trajectory (here in this case a PSF file and DCD trajectory respectively)."
   ]
  },
  {
   "cell_type": "code",
   "execution_count": null,
   "metadata": {
    "ExecuteTime": {
     "end_time": "2021-05-25T08:41:03.667327Z",
     "start_time": "2021-05-25T08:41:03.073445Z"
    }
   },
   "outputs": [],
   "source": [
    "# First let's load a PSF and DCD from the MDAnalysis test data\n",
    "from MDAnalysis.tests.datafiles import PSF, DCD\n",
    "u = mda.Universe(PSF, DCD)"
   ]
  },
  {
   "cell_type": "markdown",
   "metadata": {},
   "source": [
    "Trajectory functionality is centered around the `Universe.trajectory` object."
   ]
  },
  {
   "cell_type": "code",
   "execution_count": null,
   "metadata": {
    "ExecuteTime": {
     "end_time": "2021-05-25T08:41:03.676342Z",
     "start_time": "2021-05-25T08:41:03.669447Z"
    }
   },
   "outputs": [],
   "source": [
    "u.trajectory"
   ]
  },
  {
   "cell_type": "markdown",
   "metadata": {},
   "source": [
    "This `trajectory` object has a length in `frames` and a time unit of **picoseconds** (more information about the [MDAnalysis base units](https://docs.mdanalysis.org/2.0.0-dev0/documentation_pages/units.html#id4) is in the docs).\n",
    "\n",
    "The `trajectory` object has many useful attributes, such as the the number of frames `n_frames`, the time between frames `dt`, the total trajectory time `totaltime`."
   ]
  },
  {
   "cell_type": "code",
   "execution_count": null,
   "metadata": {
    "ExecuteTime": {
     "end_time": "2021-05-25T08:41:03.681947Z",
     "start_time": "2021-05-25T08:41:03.678754Z"
    }
   },
   "outputs": [],
   "source": [
    "# print the number of frames\n",
    "u.trajectory.n_frames"
   ]
  },
  {
   "cell_type": "code",
   "execution_count": null,
   "metadata": {
    "ExecuteTime": {
     "end_time": "2021-05-25T08:41:03.687499Z",
     "start_time": "2021-05-25T08:41:03.684002Z"
    }
   },
   "outputs": [],
   "source": [
    "# You can also get the number of frames by calling `len` on the trajectory object\n",
    "len(u.trajectory)"
   ]
  },
  {
   "cell_type": "code",
   "execution_count": null,
   "metadata": {
    "ExecuteTime": {
     "end_time": "2021-05-25T08:41:03.693143Z",
     "start_time": "2021-05-25T08:41:03.689504Z"
    }
   },
   "outputs": [],
   "source": [
    "# We can get the time between frames with `dt`\n",
    "u.trajectory.dt"
   ]
  },
  {
   "cell_type": "code",
   "execution_count": null,
   "metadata": {
    "ExecuteTime": {
     "end_time": "2021-05-25T08:41:03.698732Z",
     "start_time": "2021-05-25T08:41:03.695333Z"
    }
   },
   "outputs": [],
   "source": [
    "# And the total simulation time from `totaltime`\n",
    "u.trajectory.totaltime"
   ]
  },
  {
   "cell_type": "code",
   "execution_count": null,
   "metadata": {
    "ExecuteTime": {
     "end_time": "2021-05-25T08:41:03.705320Z",
     "start_time": "2021-05-25T08:41:03.702500Z"
    }
   },
   "outputs": [],
   "source": [
    "# The trajectory object has a ton of other attributes not shown here\n",
    "# for example you can get the file format through `format`\n",
    "u.trajectory.format"
   ]
  },
  {
   "cell_type": "markdown",
   "metadata": {
    "solution2": "hidden",
    "solution2_first": true
   },
   "source": [
    "### Exercise 1\n",
    "\n",
    "From `MDAnalysis.tests.datafiles` get the GRO topology and XTC trajectory (called `GRO` and `XTC`) respectively, in the same way as we obtained the `PSF` and `DCD` files. Work out the total number of frames, and the total simulation length of the trajectory."
   ]
  },
  {
   "cell_type": "code",
   "execution_count": null,
   "metadata": {
    "ExecuteTime": {
     "end_time": "2021-05-25T08:41:04.055249Z",
     "start_time": "2021-05-25T08:41:03.709042Z"
    },
    "solution2": "hidden"
   },
   "outputs": [],
   "source": [
    "# Exercise 1 solution\n",
    "from MDAnalysis.tests.datafiles import GRO, XTC\n",
    "u_new = mda.Universe(GRO, XTC)\n",
    "print('number of frames: ', u_new.trajectory.n_frames)\n",
    "print('total time: ', u_new.trajectory.totaltime)"
   ]
  },
  {
   "cell_type": "code",
   "execution_count": null,
   "metadata": {
    "ExecuteTime": {
     "end_time": "2021-05-25T08:41:04.059408Z",
     "start_time": "2021-05-25T08:41:04.057149Z"
    }
   },
   "outputs": [],
   "source": [
    "# Exercise 1"
   ]
  },
  {
   "cell_type": "markdown",
   "metadata": {},
   "source": [
    "It's also possible to load / concatenate multiple trajectories together in one go using MDAnalysis' [ChainReader](https://docs.mdanalysis.org/2.0.0-dev0/documentation_pages/coordinates/chain.html?highlight=chainreader#chainreader-mdanalysis-coordinates-chain).\n",
    "\n",
    "This can be done simply by passing several trajectories to the Universe when creating the object."
   ]
  },
  {
   "cell_type": "code",
   "execution_count": null,
   "metadata": {
    "ExecuteTime": {
     "end_time": "2021-05-25T08:41:04.145662Z",
     "start_time": "2021-05-25T08:41:04.061407Z"
    }
   },
   "outputs": [],
   "source": [
    "# Let's assume we wanted to load several DCD files\n",
    "u_multi = mda.Universe(PSF, DCD, DCD)\n",
    "\n",
    "# Now we have 2 times the number of frames [ 98 frames per DCD trajectory ]\n",
    "print(u_multi.trajectory.n_frames)"
   ]
  },
  {
   "cell_type": "code",
   "execution_count": null,
   "metadata": {
    "ExecuteTime": {
     "end_time": "2021-05-25T08:41:04.280846Z",
     "start_time": "2021-05-25T08:41:04.147584Z"
    }
   },
   "outputs": [],
   "source": [
    "# We can also just load a list of trajectories\n",
    "traj_list = [DCD, DCD, DCD]\n",
    "\n",
    "u_multi = mda.Universe(PSF, traj_list)\n",
    "\n",
    "# Now we have concatenated the trajectory 3 times\n",
    "print(u_multi.trajectory.n_frames)"
   ]
  },
  {
   "cell_type": "markdown",
   "metadata": {},
   "source": [
    "## The Timestep object"
   ]
  },
  {
   "cell_type": "markdown",
   "metadata": {},
   "source": [
    "One of the key components of trajectories is the *Timestep* object `ts`. This is the object that holds the trajectory information **specific to the current frame**.\n",
    "\n",
    "This information mainly includes:\n",
    "* The frame number and time\n",
    "* Unitcell dimensions as `[A, B, C, alpha, beta, gamma]` (or `None` if not available)\n",
    "* The positions (also forces and/or velocities if available)\n"
   ]
  },
  {
   "cell_type": "code",
   "execution_count": null,
   "metadata": {
    "ExecuteTime": {
     "end_time": "2021-05-25T08:41:04.319570Z",
     "start_time": "2021-05-25T08:41:04.282705Z"
    }
   },
   "outputs": [],
   "source": [
    "# Here we load the an AMBER topology and trajectory with coordinate, velocity and forces information\n",
    "from MDAnalysis.tests.datafiles import PRM_NCBOX, TRJ_NCBOX\n",
    "u = mda.Universe(PRM_NCBOX, TRJ_NCBOX)"
   ]
  },
  {
   "cell_type": "code",
   "execution_count": null,
   "metadata": {
    "ExecuteTime": {
     "end_time": "2021-05-25T08:41:04.325829Z",
     "start_time": "2021-05-25T08:41:04.320861Z"
    }
   },
   "outputs": [],
   "source": [
    "# Timestep is available via `ts`\n",
    "u.trajectory.ts"
   ]
  },
  {
   "cell_type": "code",
   "execution_count": null,
   "metadata": {
    "ExecuteTime": {
     "end_time": "2021-05-25T08:41:04.333500Z",
     "start_time": "2021-05-25T08:41:04.328925Z"
    }
   },
   "outputs": [],
   "source": [
    "# Getting the current frame from `ts`\n",
    "u.trajectory.ts.frame"
   ]
  },
  {
   "cell_type": "code",
   "execution_count": null,
   "metadata": {
    "ExecuteTime": {
     "end_time": "2021-05-25T08:41:04.339385Z",
     "start_time": "2021-05-25T08:41:04.335594Z"
    }
   },
   "outputs": [],
   "source": [
    "# Getting the current time from `ts`\n",
    "u.trajectory.ts.time"
   ]
  },
  {
   "cell_type": "code",
   "execution_count": null,
   "metadata": {
    "ExecuteTime": {
     "end_time": "2021-05-25T08:41:04.345930Z",
     "start_time": "2021-05-25T08:41:04.341777Z"
    }
   },
   "outputs": [],
   "source": [
    "# Getting the dimensions from `ts`\n",
    "u.trajectory.ts.dimensions"
   ]
  },
  {
   "cell_type": "code",
   "execution_count": null,
   "metadata": {
    "ExecuteTime": {
     "end_time": "2021-05-25T08:41:04.352474Z",
     "start_time": "2021-05-25T08:41:04.348373Z"
    }
   },
   "outputs": [],
   "source": [
    "# `ts` also holds positions\n",
    "u.trajectory.ts.positions"
   ]
  },
  {
   "cell_type": "code",
   "execution_count": null,
   "metadata": {
    "ExecuteTime": {
     "end_time": "2021-05-25T08:41:04.358674Z",
     "start_time": "2021-05-25T08:41:04.354477Z"
    }
   },
   "outputs": [],
   "source": [
    "# `ts` has a convenient `has_forces` attribute to let you know that forces are available\n",
    "print(u.trajectory.ts.has_forces)\n",
    "print(u.trajectory.ts.forces)"
   ]
  },
  {
   "cell_type": "markdown",
   "metadata": {
    "solution2": "hidden",
    "solution2_first": true
   },
   "source": [
    "### Exercise 2\n",
    "\n",
    "Check if the Timestep has `velocities`. If so, print them out."
   ]
  },
  {
   "cell_type": "code",
   "execution_count": null,
   "metadata": {
    "ExecuteTime": {
     "end_time": "2021-05-25T08:41:04.365680Z",
     "start_time": "2021-05-25T08:41:04.361647Z"
    },
    "solution2": "hidden"
   },
   "outputs": [],
   "source": [
    "# Exercise 2 - solution\n",
    "if u.trajectory.ts.has_velocities:\n",
    "    print(u.trajectory.ts.velocities)"
   ]
  },
  {
   "cell_type": "code",
   "execution_count": null,
   "metadata": {
    "ExecuteTime": {
     "end_time": "2021-05-25T08:41:04.371228Z",
     "start_time": "2021-05-25T08:41:04.368417Z"
    }
   },
   "outputs": [],
   "source": [
    "# Exercise 2"
   ]
  },
  {
   "cell_type": "markdown",
   "metadata": {},
   "source": [
    "Whilst the *Timestep* information is available, one would normally not access the information it contains by calling `Universe.trajectory.ts` directly.\n",
    "\n",
    "Instead, as shown in session 1, the information contained in the *Timestep* is passed along to other parts of the `Universe`.\n",
    "\n",
    "For example, as shown in session 1, coordinate/velocity/forces data is directly accessible via AtomGroups instead."
   ]
  },
  {
   "cell_type": "code",
   "execution_count": null,
   "metadata": {
    "ExecuteTime": {
     "end_time": "2021-05-25T08:41:04.379916Z",
     "start_time": "2021-05-25T08:41:04.373348Z"
    }
   },
   "outputs": [],
   "source": [
    "# create an atomgroup from all the atoms\n",
    "ag = u.atoms\n",
    "print(\"AtomGroup positions:\\n\", ag.positions)\n",
    "print(\"ts positions:\\n\", u.trajectory.ts.positions)"
   ]
  },
  {
   "cell_type": "markdown",
   "metadata": {},
   "source": [
    "Similarly, the `dimensions` can be accessed directly from `Universe`."
   ]
  },
  {
   "cell_type": "code",
   "execution_count": null,
   "metadata": {
    "ExecuteTime": {
     "end_time": "2021-05-25T08:41:04.396550Z",
     "start_time": "2021-05-25T08:41:04.391450Z"
    }
   },
   "outputs": [],
   "source": [
    "print(\"Universe dimensions: \", u.dimensions)\n",
    "print(\"ts dimensions: \", u.trajectory.ts.dimensions)"
   ]
  },
  {
   "cell_type": "markdown",
   "metadata": {},
   "source": [
    "## Traversing through a trajectory"
   ]
  },
  {
   "cell_type": "markdown",
   "metadata": {},
   "source": [
    "Up until this point, we have primarily been inspecting only a single frame of the `trajectory` object. By default when creating a `Universe`, the *Timestep* is loaded with the information from the first (zero-th) frame in the trajectory.\n",
    "\n",
    "Here we look at how we can traverse through the trajectory and access the data from different frames.\n",
    "\n",
    "We can consider the `trajectory` object to be an iterator that loads trajectory data from a source (i.e. in most cases the input trajectory file), and feeds the relevant data to the *Timestep* object.\n",
    "\n",
    "The following operations can be done to access the trajectory:\n",
    "* Random access via trajectory indexing\n",
    "* Iterating over all frames\n",
    "* Slicing to iterate over a sub-section of the trajectory\n",
    "\n",
    "**Note:** As is standard in python, `trajectory` access is done via **0-based indices**. So the first frame is `0`, and the final frame is `n_frames - 1`."
   ]
  },
  {
   "cell_type": "markdown",
   "metadata": {},
   "source": [
    "### Trajectory indexing\n",
    "\n",
    "It is possible to randomly access any frame along a trajectory by passing the index of the frame to the trajectory."
   ]
  },
  {
   "cell_type": "code",
   "execution_count": null,
   "metadata": {
    "ExecuteTime": {
     "end_time": "2021-05-25T08:41:04.429528Z",
     "start_time": "2021-05-25T08:41:04.401626Z"
    }
   },
   "outputs": [],
   "source": [
    "# First let's create a new universe using PRM_NCBOX and TRJ_NCBOX\n",
    "u = mda.Universe(PRM_NCBOX, TRJ_NCBOX)\n",
    "\n",
    "# as we can see on creation we access the first frame in the trajectory\n",
    "print('current frame: ', u.trajectory.frame)\n",
    "print('total number of frames: ', u.trajectory.n_frames)"
   ]
  },
  {
   "cell_type": "code",
   "execution_count": null,
   "metadata": {
    "ExecuteTime": {
     "end_time": "2021-05-25T08:41:04.437222Z",
     "start_time": "2021-05-25T08:41:04.432899Z"
    }
   },
   "outputs": [],
   "source": [
    "# Let's create an atomgroup for the first two atoms in the Universe\n",
    "# and check their current position at frame 0\n",
    "first_two_atoms = u.atoms[:2]\n",
    "print(first_two_atoms.positions)"
   ]
  },
  {
   "cell_type": "code",
   "execution_count": null,
   "metadata": {
    "ExecuteTime": {
     "end_time": "2021-05-25T08:41:04.447126Z",
     "start_time": "2021-05-25T08:41:04.440321Z"
    }
   },
   "outputs": [],
   "source": [
    "# Now let's move to the 7th frame\n",
    "u.trajectory[6]"
   ]
  },
  {
   "cell_type": "code",
   "execution_count": null,
   "metadata": {
    "ExecuteTime": {
     "end_time": "2021-05-25T08:41:04.457212Z",
     "start_time": "2021-05-25T08:41:04.451387Z"
    }
   },
   "outputs": [],
   "source": [
    "# As we can see the frame number as now updated accordingly\n",
    "print('current frame: ', u.trajectory.frame)"
   ]
  },
  {
   "cell_type": "code",
   "execution_count": null,
   "metadata": {
    "ExecuteTime": {
     "end_time": "2021-05-25T08:41:04.466802Z",
     "start_time": "2021-05-25T08:41:04.460195Z"
    }
   },
   "outputs": [],
   "source": [
    "# The AtomGroup also automatically updates with the new Timestep data\n",
    "print(first_two_atoms.positions)"
   ]
  },
  {
   "cell_type": "markdown",
   "metadata": {},
   "source": [
    "<div class=\"alert alert-info\">\n",
    "    \n",
    "**Note**\n",
    "\n",
    "It is particularly important to remember that AtomGroups are not static objects. Whilst the atoms they represent do not change (see UpdatingAtomGroup for when this is not the case), the positions (and forces or velocities if available) will change as you traverse through the trajectory.\n",
    "\n",
    "</div>"
   ]
  },
  {
   "cell_type": "markdown",
   "metadata": {},
   "source": [
    "\n",
    "Unless the trajectory is held in memory (see **Section 4**) any changes to variables that change with `Timestep`, are *temporary*.\n",
    "\n",
    "For example, if you were to override the position of an AtomGroup for a given frame, then seek to another frame and come back to the original frame, the positions would be updated back to reflect the contents of the trajectory file:"
   ]
  },
  {
   "cell_type": "code",
   "execution_count": null,
   "metadata": {
    "ExecuteTime": {
     "end_time": "2021-05-25T08:41:04.474722Z",
     "start_time": "2021-05-25T08:41:04.469456Z"
    }
   },
   "outputs": [],
   "source": [
    "# Let's start from frame 0 and override the positions of `first_two_atoms`\n",
    "u.trajectory[0]\n",
    "\n",
    "# `first_two_atoms` positions beforehand\n",
    "print('frame 0 positions: ', first_two_atoms.positions)\n",
    "\n",
    "# `first_two_atoms` after being zeroed\n",
    "first_two_atoms.positions = 0\n",
    "print('zeroed positions: ', first_two_atoms.positions)"
   ]
  },
  {
   "cell_type": "code",
   "execution_count": null,
   "metadata": {
    "ExecuteTime": {
     "end_time": "2021-05-25T08:41:04.485071Z",
     "start_time": "2021-05-25T08:41:04.477756Z"
    }
   },
   "outputs": [],
   "source": [
    "# Now let's go the second last frame\n",
    "u.trajectory[-2]\n",
    "first_two_atoms.positions"
   ]
  },
  {
   "cell_type": "code",
   "execution_count": null,
   "metadata": {
    "ExecuteTime": {
     "end_time": "2021-05-25T08:41:04.491463Z",
     "start_time": "2021-05-25T08:41:04.487125Z"
    }
   },
   "outputs": [],
   "source": [
    "# And now we come back to frame 0\n",
    "u.trajectory[0]\n",
    "\n",
    "# positions are no longer zeroed\n",
    "first_two_atoms.positions"
   ]
  },
  {
   "cell_type": "markdown",
   "metadata": {
    "solution2": "hidden",
    "solution2_first": true
   },
   "source": [
    "### Exercise 3\n",
    "\n",
    "Run these two assertions in a separate cell. Is the output what you expect? Why or why not?\n",
    "\n",
    "```python\n",
    "print(\"Equality\", first_two_atoms.positions == first_two_atoms.positions)\n",
    "print(\"Same object in memory\", first_two_atoms.positions is first_two_atoms.positions)\n",
    "```\n",
    "\n",
    "What consequences might arise? e.g. if you wanted to set all Z positions to 0, is the below statement feasible?\n",
    "\n",
    "```python\n",
    "first_two_atoms.positions[:, 2] = 0\n",
    "print(first_two_atoms.positions)\n",
    "```\n",
    "\n",
    "How might you get around this?"
   ]
  },
  {
   "cell_type": "markdown",
   "metadata": {
    "solution2": "hidden"
   },
   "source": [
    "Running the first pair of statements gives a perplexing result.\n",
    "\n",
    "```ipython\n",
    ">>> print(\"Equality\", first_two_atoms.positions == first_two_atoms.positions)\n",
    "Equality [[ True  True  True]\n",
    " [ True  True  True]]\n",
    ">>> print(\"Same object in memory\", first_two_atoms.positions is first_two_atoms.positions)\n",
    "Equality False\n",
    "```\n",
    "\n",
    "Even though MDAnalysis makes it look as though the `positions` array is a static property that belongs to `first_two_atoms`, remember that the fundamental object that stores dynamic data such as `positions` is the *Timestep*. This means that every time you ask an AtomGroup for its `positions`, the AtomGroup actually asks the Timestep for the positions of *all* the atoms, and then only returns the ones for that atoms inside the group. Therefore, every time you call `AtomGroup.positions`, you are returned a new array.\n",
    "\n",
    "This also explains why directly changing the Z coordinates of `AtomGroup.positions` does not seem to have any effect -- you have modified the values of the the returned copy, not the underlying positions array stored in `Timestep`. So how do you modify the coordinates of an AtomGroup? Well, *setting* the `AtomGroup.positions` attribute will transmit the change to the underlying Timestep. So, the general construct should be:\n",
    "\n",
    "```python\n",
    ">>> coordinates = first_two_atoms.positions\n",
    ">>> coordinates[:, 2] = 0\n",
    ">>> first_two_atoms.positions = coordinates\n",
    ">>> print(first_two_atoms.positions)\n",
    "[[15.249873 12.578178  0.      ]\n",
    " [14.925511 13.58888   0.      ]]\n",
    "```\n",
    "\n",
    "But remember, these changed coordinates will be gone when you switch the active frame, unless the trajectory is in memory."
   ]
  },
  {
   "cell_type": "code",
   "execution_count": null,
   "metadata": {},
   "outputs": [],
   "source": [
    "# Exercise 3"
   ]
  },
  {
   "cell_type": "markdown",
   "metadata": {},
   "source": [
    "### Iterating through the trajectory\n",
    "\n",
    "Iterating through a trajectory is the most common way to traverse a trajectory.\n",
    "\n",
    "For example one could access every frame in the trajectory and store the current time using the following:"
   ]
  },
  {
   "cell_type": "code",
   "execution_count": null,
   "metadata": {
    "ExecuteTime": {
     "end_time": "2021-05-25T08:41:04.505834Z",
     "start_time": "2021-05-25T08:41:04.493446Z"
    }
   },
   "outputs": [],
   "source": [
    "# Create a list for the times\n",
    "times = []\n",
    "\n",
    "for ts in u.trajectory:\n",
    "    times.append(u.trajectory.time)\n",
    "    \n",
    "print(times)"
   ]
  },
  {
   "cell_type": "markdown",
   "metadata": {},
   "source": [
    "### Trajectory slicing\n",
    "\n",
    "Rather than iterating through the entire trajectory, it is possible to slice the trajectory using a `[start:stop:step]` pattern."
   ]
  },
  {
   "cell_type": "code",
   "execution_count": null,
   "metadata": {
    "ExecuteTime": {
     "end_time": "2021-05-25T08:41:04.514368Z",
     "start_time": "2021-05-25T08:41:04.508302Z"
    }
   },
   "outputs": [],
   "source": [
    "# Let's slice starting at the second frame, ending on the before last frame\n",
    "# and skipping every other frame\n",
    "\n",
    "times = []\n",
    "\n",
    "for ts in u.trajectory[1:-2:2]:\n",
    "    times.append(u.trajectory.time)\n",
    "    \n",
    "print(times)"
   ]
  },
  {
   "cell_type": "markdown",
   "metadata": {},
   "source": [
    "It is also possible to use fancy indexing to access frames in a given order"
   ]
  },
  {
   "cell_type": "code",
   "execution_count": null,
   "metadata": {
    "ExecuteTime": {
     "end_time": "2021-05-25T08:41:04.521105Z",
     "start_time": "2021-05-25T08:41:04.516154Z"
    }
   },
   "outputs": [],
   "source": [
    "# indices of frames to access\n",
    "indices = [9, 5, 4, 8, 1]\n",
    "\n",
    "times = []\n",
    "\n",
    "for ts in u.trajectory[indices]:\n",
    "    times.append(u.trajectory.time)\n",
    "    \n",
    "print(times)"
   ]
  },
  {
   "cell_type": "markdown",
   "metadata": {
    "solution2": "hidden",
    "solution2_first": true
   },
   "source": [
    "### Exercise 4\n",
    "\n",
    "Create a reversed list of the trajectory times"
   ]
  },
  {
   "cell_type": "code",
   "execution_count": null,
   "metadata": {
    "ExecuteTime": {
     "end_time": "2021-05-25T08:41:04.529945Z",
     "start_time": "2021-05-25T08:41:04.523295Z"
    },
    "solution2": "hidden"
   },
   "outputs": [],
   "source": [
    "# Exercise 3 -- solution\n",
    "times = []\n",
    "\n",
    "for ts in u.trajectory[::-1]:\n",
    "    times.append(u.trajectory.time)\n",
    "    \n",
    "print(times)"
   ]
  },
  {
   "cell_type": "code",
   "execution_count": null,
   "metadata": {
    "ExecuteTime": {
     "end_time": "2021-05-25T08:41:04.534407Z",
     "start_time": "2021-05-25T08:41:04.531995Z"
    }
   },
   "outputs": [],
   "source": [
    "# Exercise 3"
   ]
  },
  {
   "cell_type": "markdown",
   "metadata": {},
   "source": [
    "## Transferring to memory\n",
    "\n",
    "By default MDAnalysis uses an iterative I/O model. That is to say that it loads trajectory data from disk as necessary. This is done so that very large trajectories can still be read by MDAnalysis without filling up the machine's RAM.\n",
    "\n",
    "In some cases it can be useful to instead hold the trajectory data in memory:\n",
    "1. It is much faster to iterate through an in-memory trajectory\n",
    "2. Changes to the trajectory data is not overwritten\n"
   ]
  },
  {
   "cell_type": "markdown",
   "metadata": {},
   "source": [
    "You can create an in-memory trajectory directly on `Universe` creation by setting the `in_memory` keyword."
   ]
  },
  {
   "cell_type": "code",
   "execution_count": null,
   "metadata": {
    "ExecuteTime": {
     "end_time": "2021-05-25T08:41:04.579935Z",
     "start_time": "2021-05-25T08:41:04.536472Z"
    }
   },
   "outputs": [],
   "source": [
    "u = mda.Universe(PRM_NCBOX, TRJ_NCBOX, in_memory=True)"
   ]
  },
  {
   "cell_type": "code",
   "execution_count": null,
   "metadata": {
    "ExecuteTime": {
     "end_time": "2021-05-25T08:41:04.588511Z",
     "start_time": "2021-05-25T08:41:04.584114Z"
    }
   },
   "outputs": [],
   "source": [
    "# Note how the trajectory is now stored in 'MEMORY' format\n",
    "# instead of the input ['NCDF', 'NC'] input format\n",
    "u.trajectory.format"
   ]
  },
  {
   "cell_type": "markdown",
   "metadata": {},
   "source": [
    "It's also possible to transfer the trajectory to memory after creating the `Universe` using `transfer_to_memory`."
   ]
  },
  {
   "cell_type": "code",
   "execution_count": null,
   "metadata": {
    "ExecuteTime": {
     "end_time": "2021-05-25T08:41:04.629832Z",
     "start_time": "2021-05-25T08:41:04.591057Z"
    }
   },
   "outputs": [],
   "source": [
    "# It's also possible to transfer\n",
    "u = mda.Universe(PRM_NCBOX, TRJ_NCBOX)\n",
    "print('starting format: ', u.trajectory.format)\n",
    "\n",
    "u.transfer_to_memory()\n",
    "print('new format: ', u.trajectory.format)"
   ]
  },
  {
   "cell_type": "markdown",
   "metadata": {},
   "source": [
    "When in-memory, changes to trajectory data like `positions` do not get overwritten if you change frames."
   ]
  },
  {
   "cell_type": "code",
   "execution_count": null,
   "metadata": {
    "ExecuteTime": {
     "end_time": "2021-05-25T08:41:04.640004Z",
     "start_time": "2021-05-25T08:41:04.633100Z"
    }
   },
   "outputs": [],
   "source": [
    "print('current frame: ', u.trajectory.frame)\n",
    "print('current positions: ', u.atoms.positions)\n",
    "\n",
    "# zero the positions\n",
    "u.atoms.positions = 0\n",
    "print('zeroed positions: ', u.atoms.positions)"
   ]
  },
  {
   "cell_type": "code",
   "execution_count": null,
   "metadata": {
    "ExecuteTime": {
     "end_time": "2021-05-25T08:41:04.650284Z",
     "start_time": "2021-05-25T08:41:04.643708Z"
    }
   },
   "outputs": [],
   "source": [
    "# Seek to a new frame\n",
    "u.trajectory[-1]\n",
    "print('frame -1 positions: ', u.atoms.positions)\n",
    "\n",
    "# See back to frame 0\n",
    "u.trajectory[0]\n",
    "\n",
    "# positions remain zero for frame 0\n",
    "print('frame 0 positions: ', u.atoms.positions)"
   ]
  },
  {
   "cell_type": "markdown",
   "metadata": {
    "solution2": "hidden",
    "solution2_first": true
   },
   "source": [
    "### Exercise 5\n",
    "\n",
    "Evaluate how much faster you can retrieve trajectory times from an in-memory trajectory compared to reading from file.\n",
    "\n",
    "*Hint:* use %timeit"
   ]
  },
  {
   "cell_type": "code",
   "execution_count": null,
   "metadata": {
    "ExecuteTime": {
     "end_time": "2021-05-25T08:41:04.702694Z",
     "start_time": "2021-05-25T08:41:04.652640Z"
    },
    "solution2": "hidden"
   },
   "outputs": [],
   "source": [
    "# Exercise 4 -- solution\n",
    "u_memory = mda.Universe(PRM_NCBOX, TRJ_NCBOX, in_memory=True)\n",
    "u_disk = mda.Universe(PRM_NCBOX, TRJ_NCBOX)"
   ]
  },
  {
   "cell_type": "code",
   "execution_count": null,
   "metadata": {
    "ExecuteTime": {
     "end_time": "2021-05-25T08:41:10.123062Z",
     "start_time": "2021-05-25T08:41:04.704393Z"
    },
    "solution2": "hidden"
   },
   "outputs": [],
   "source": [
    "%timeit [ts.time for ts in u_memory.trajectory]"
   ]
  },
  {
   "cell_type": "code",
   "execution_count": null,
   "metadata": {
    "ExecuteTime": {
     "end_time": "2021-05-25T08:41:12.874001Z",
     "start_time": "2021-05-25T08:41:10.125034Z"
    },
    "solution2": "hidden"
   },
   "outputs": [],
   "source": [
    "%timeit [ts.time for ts in u_disk.trajectory]"
   ]
  },
  {
   "cell_type": "code",
   "execution_count": null,
   "metadata": {
    "ExecuteTime": {
     "end_time": "2021-05-25T08:41:12.877631Z",
     "start_time": "2021-05-25T08:41:12.875583Z"
    }
   },
   "outputs": [],
   "source": [
    "# Exercise 4"
   ]
  },
  {
   "cell_type": "markdown",
   "metadata": {},
   "source": [
    "## Visualizing a trajectory"
   ]
  },
  {
   "cell_type": "markdown",
   "metadata": {},
   "source": [
    "As we did in the previous session, it is possible to use NGLView to traverse through the trajectory visually."
   ]
  },
  {
   "cell_type": "code",
   "execution_count": null,
   "metadata": {
    "ExecuteTime": {
     "end_time": "2021-05-25T08:41:13.569558Z",
     "start_time": "2021-05-25T08:41:12.879967Z"
    }
   },
   "outputs": [],
   "source": [
    "from MDAnalysis.tests.datafiles import PSF, DCD\n",
    "adk = mda.Universe(PSF, DCD)\n",
    "nv.show_mdanalysis(adk)"
   ]
  },
  {
   "cell_type": "markdown",
   "metadata": {},
   "source": [
    "## Updating AtomGroups"
   ]
  },
  {
   "cell_type": "markdown",
   "metadata": {},
   "source": [
    "In **section 3** we discuss how AtomGroups have a static set of atoms but have positions (forces, velocities, etc..) that update as you traverse through a trajectory.\n",
    "\n",
    "There is a special type of the `AtomGroup` class which allows for a dynamic selection of atoms that changes as you traverse through the trajectory. This class it called the `UpdatingAtomGroup`. To use it, you must pass the `updating=True` flag to `select_atoms`.\n",
    "\n",
    "To illustrate this, we look at an ACE residue in a box of water. We create a selection based on the number of waters within 5 Angstroms of the ACE residue. As we traverse through the trajectory, the `UpdatingAtomGroup` will change in the number of atoms it contains, whilst the `AtomGroup` will not."
   ]
  },
  {
   "cell_type": "code",
   "execution_count": null,
   "metadata": {
    "ExecuteTime": {
     "end_time": "2021-05-25T08:41:13.612933Z",
     "start_time": "2021-05-25T08:41:13.571758Z"
    }
   },
   "outputs": [],
   "source": [
    "# ACE residue in a box of water\n",
    "u = mda.Universe(PRM_NCBOX, TRJ_NCBOX)\n",
    "\n",
    "# Create a normal atom group\n",
    "ag = u.select_atoms('resname WAT and around 5 resname ACE')\n",
    "# Create an updating atom group\n",
    "updating_ag = u.select_atoms('resname WAT and around 5 resname ACE', updating=True)"
   ]
  },
  {
   "cell_type": "code",
   "execution_count": null,
   "metadata": {
    "ExecuteTime": {
     "end_time": "2021-05-25T08:41:13.628485Z",
     "start_time": "2021-05-25T08:41:13.615115Z"
    }
   },
   "outputs": [],
   "source": [
    "ag_atoms = []\n",
    "updating_ag_atoms = []\n",
    "\n",
    "for ts in u.trajectory:\n",
    "    ag_atoms.append(len(ag.atoms))\n",
    "    updating_ag_atoms.append(len(updating_ag.atoms))\n",
    "\n",
    "# These number of atoms remains the same\n",
    "print(ag_atoms)\n",
    "\n",
    "# The number of atoms changes\n",
    "print(updating_ag_atoms)"
   ]
  },
  {
   "cell_type": "markdown",
   "metadata": {},
   "source": [
    "**Note:** Whilst `UpdatingAtomGroup` are sometimes very useful, they are also much more computational expensive to use as the selection (in this case a distance search around the ACE residue) has to be done at every step along the trajectory. We recommend using these sparsely."
   ]
  },
  {
   "cell_type": "markdown",
   "metadata": {},
   "source": [
    "## Writing files out"
   ]
  },
  {
   "cell_type": "markdown",
   "metadata": {},
   "source": [
    "### Single-frame output\n",
    "\n",
    "Aside from reading coordinate (trajectory) files in, MDAnalysis is also able to write them out. A list of formats which can be written to is shown in the [supported formats documentation](https://docs.mdanalysis.org/dev/documentation_pages/coordinates/init.html#id23). To write out static (one-frame) coordinates, the easiest way is to use the `AtomGroup.write` method. For example, if we wanted to separate the ACE residue from the water, we could write that group out to a GRO file."
   ]
  },
  {
   "cell_type": "code",
   "execution_count": null,
   "metadata": {
    "ExecuteTime": {
     "end_time": "2021-05-25T08:48:38.986624Z",
     "start_time": "2021-05-25T08:48:38.981735Z"
    }
   },
   "outputs": [],
   "source": [
    "ag = u.select_atoms(\"resname ACE\")  # can also use u.select_atoms(\"protein\")\n",
    "\n",
    "# the file format is inferred from the extension\n",
    "ag.write(\"ace.gro\")"
   ]
  },
  {
   "cell_type": "markdown",
   "metadata": {},
   "source": [
    "### Trajectory output"
   ]
  },
  {
   "cell_type": "markdown",
   "metadata": {},
   "source": [
    "The most common way to write trajectories out to files is by using the `Writer` class as a context manager.\n",
    "\n",
    "Below we show an example of reading in an AMBER netcdf trajectory (ACE residue in a box of water used in previous sections), and writing it out to a DCD trajectory.\n",
    "\n",
    "The basic `Writer` usage pattern is:\n",
    "1. Create a context manager for the Writer using `with`\n",
    "  * Needs passing the number of atoms that will be written to file with the `n_atoms` argument\n",
    "  * Can optionally pass `format` to specific which file format will be used, otherwise the output file extension will be used\n",
    "2. Iterate through the trajectory frames you wish to write\n",
    "3. Pass the `AtomGroup` to write out at each frame to the `write()` method\n",
    "4. Close the output trajectory file (done automatically via the context manager)\n",
    "\n",
    "There are other ways to write out coordinates, these can be seen in the [user guide entry on trajectory writing](https://userguide.mdanalysis.org/stable/reading_and_writing.html#frames-and-trajectories)."
   ]
  },
  {
   "cell_type": "code",
   "execution_count": null,
   "metadata": {
    "ExecuteTime": {
     "end_time": "2021-05-25T08:41:13.668708Z",
     "start_time": "2021-05-25T08:41:13.631165Z"
    }
   },
   "outputs": [],
   "source": [
    "with mda.Writer('ace.dcd', n_atoms=ag.n_atoms, format='DCD') as W:\n",
    "    # Iterate through the trajectory and write at every step\n",
    "    for ts in u.trajectory:\n",
    "        W.write(ag)"
   ]
  },
  {
   "cell_type": "markdown",
   "metadata": {},
   "source": [
    "Loading the file back into a new universe, you can work with the ACE residue only."
   ]
  },
  {
   "cell_type": "code",
   "execution_count": null,
   "metadata": {},
   "outputs": [],
   "source": [
    "ace_only = mda.Universe(\"ace.gro\", \"ace.dcd\")"
   ]
  },
  {
   "cell_type": "markdown",
   "metadata": {},
   "source": [
    "## Case study 1: RVX-OH binding to BRD4(1)"
   ]
  },
  {
   "cell_type": "markdown",
   "metadata": {},
   "source": [
    "Here we have a 20 ns simulation of the binding of the RVX-OH ligand to the first bromodomain of human BRD4. The simulation is based on the crystal structure [4MR3](https://www.rcsb.org/structure/4mr3)."
   ]
  },
  {
   "cell_type": "code",
   "execution_count": null,
   "metadata": {
    "ExecuteTime": {
     "end_time": "2021-05-25T08:41:14.123045Z",
     "start_time": "2021-05-25T08:41:13.671091Z"
    }
   },
   "outputs": [],
   "source": [
    "# Note; due to trajectory conversion dt was lost, we set it manually to 50 ps\n",
    "rvx_oh = mda.Universe('data/rvx-oh.pdb', 'data/rvx-oh.dcd', dt=50)\n",
    "nv.show_mdanalysis(rvx_oh)"
   ]
  },
  {
   "cell_type": "markdown",
   "metadata": {
    "solution2": "hidden",
    "solution2_first": true
   },
   "source": [
    "### Exercise 6\n",
    "\n",
    "When looking at protein-ligand complexes, a common analysis is to look at how far the ligand moves out of the binding site. One way to do this is to purely look at the center of mass distances between the ligand and the binding site residues.\n",
    "\n",
    "Using this trajectory, calculate and plot the center of mass distances between the ligand (`'resname LIG'`) and the binding site defined as the residues within 5 Angstrom of the ligand (`'byres protein and around 5 resname LIG'`).\n",
    "\n",
    "**Notes:** MDAnalysis AtomGroups have a convenient `center_of_mass()` method to get their center of mass at the current frame. Additionally, `MDAnalysis.lib.distances` has a `calc_bonds` method which allows users to calculate periodic aware distances between two sets of positions."
   ]
  },
  {
   "cell_type": "code",
   "execution_count": null,
   "metadata": {
    "ExecuteTime": {
     "end_time": "2021-05-25T08:41:14.842775Z",
     "start_time": "2021-05-25T08:41:14.126041Z"
    },
    "solution2": "hidden"
   },
   "outputs": [],
   "source": [
    "# Exercise 5 -- solution\n",
    "from MDAnalysis.lib.distances import calc_bonds\n",
    "\n",
    "ligand = rvx_oh.select_atoms('resname LIG')\n",
    "# Extra question - using an UpdatingAtomGroup is slow, how could you speed this up?\n",
    "# Hint: MDAnalysis.lib.distances has a capped_distance method which could be useful\n",
    "binding_site = rvx_oh.select_atoms('byres protein and around 5 resname LIG', updating=True)\n",
    "\n",
    "com_distances = np.empty(rvx_oh.trajectory.n_frames)\n",
    "times = com_distances.copy()\n",
    "\n",
    "for i, ts in enumerate(rvx_oh.trajectory):\n",
    "    com_distances[i] = calc_bonds(coords1=ligand.center_of_mass(),\n",
    "                                  coords2=binding_site.center_of_mass(),\n",
    "                                  box=rvx_oh.dimensions)\n",
    "    times[i] = ts.time / 1000 # get time in ns\n",
    "\n",
    "plt.plot(times, com_distances)\n",
    "plt.ylabel('Ligand - Binding Site COM distance')\n",
    "plt.xlabel('Simulation time (ns)')"
   ]
  },
  {
   "cell_type": "code",
   "execution_count": null,
   "metadata": {
    "ExecuteTime": {
     "end_time": "2021-05-25T08:41:14.846479Z",
     "start_time": "2021-05-25T08:41:14.844562Z"
    }
   },
   "outputs": [],
   "source": [
    "# Exercise 6"
   ]
  },
  {
   "cell_type": "markdown",
   "metadata": {},
   "source": [
    "What other metrics could you use to analyze binding here? If you have time, have a play with the data to see what other insights you could get from it."
   ]
  },
  {
   "cell_type": "code",
   "execution_count": null,
   "metadata": {
    "ExecuteTime": {
     "end_time": "2021-05-25T08:41:14.851208Z",
     "start_time": "2021-05-25T08:41:14.848732Z"
    }
   },
   "outputs": [],
   "source": [
    "# Optional - what other metrics could you extract?"
   ]
  },
  {
   "cell_type": "markdown",
   "metadata": {},
   "source": [
    "## Case study 2: Conformational transisitions of ADK"
   ]
  },
  {
   "cell_type": "markdown",
   "metadata": {},
   "source": [
    "First introduced in **Session 1 Exercise 4**, the enzyme *adenylate kinase* catalyzes the reaction ATP + AMP <-> 2 ADP. It undergoes a *conformational transition* beteween a closed ([1AKE](https://www.rcsb.org/structure/1AKE)) and open ([4AKE](https://www.rcsb.org/structure/4AKE)) conformational state [1], even in the absence of substrates.\n",
    "\n",
    "![AdK conformations (from [2])](figs/angle_defs.png)\n",
    "\n",
    "1. S. L. Seyler and O. Beckstein. Sampling of large conformational transitions: Adenylate kinase as a testing ground. Molec. Simul., 40(10–11):855–877, 2014. doi: 10.1080/08927022.2014.919497\n",
    "2. O. Beckstein, E. J. Denning, J. R. Perilla, and T. B. Woolf. Zipping and unzipping of adenylate kinase: Atomistic insights into the ensemble of open ↔ closed transitions. 394(1):160–176, 2009. doi: 10.1016/j.jmb.2009.09.009\n",
    "3. Perilla JR, Beckstein O, Denning EJ, Woolf TB. Computing ensembles of transitions from stable states: Dynamic importance sampling. J Comput Chem. 2011 30 Jan;32(2):196–209. doi: 10.1002/jcc.21564"
   ]
  },
  {
   "cell_type": "markdown",
   "metadata": {},
   "source": [
    "Here we begin by looking at an ensemble of 200 trajectories of varying length generated via dynamic importance sampling [3]."
   ]
  },
  {
   "cell_type": "code",
   "execution_count": null,
   "metadata": {
    "ExecuteTime": {
     "end_time": "2021-05-25T08:42:49.391675Z",
     "start_time": "2021-05-25T08:41:14.853740Z"
    }
   },
   "outputs": [],
   "source": [
    "# Get the data\n",
    "from MDAnalysisData.datasets import fetch_adk_transitions_DIMS\n",
    "\n",
    "adk = fetch_adk_transitions_DIMS()"
   ]
  },
  {
   "cell_type": "code",
   "execution_count": null,
   "metadata": {
    "ExecuteTime": {
     "end_time": "2021-05-25T08:42:49.393791Z",
     "start_time": "2021-05-25T08:41:01.576Z"
    }
   },
   "outputs": [],
   "source": [
    "# Let's look at more information about this data\n",
    "adk.DESCR??"
   ]
  },
  {
   "cell_type": "markdown",
   "metadata": {},
   "source": [
    "Analyzing the full ensemble can be time consuming, so we will only look at the first 50 trajectories."
   ]
  },
  {
   "cell_type": "code",
   "execution_count": null,
   "metadata": {
    "ExecuteTime": {
     "end_time": "2021-05-25T08:42:49.395392Z",
     "start_time": "2021-05-25T08:41:01.580Z"
    }
   },
   "outputs": [],
   "source": [
    "# Let's create an universe and visualise the protein\n",
    "adk_u = mda.Universe(adk.topology, adk.trajectories[:50])\n",
    "nv.show_mdanalysis(adk_u)"
   ]
  },
  {
   "cell_type": "markdown",
   "metadata": {},
   "source": [
    "### Exercise 7\n",
    "\n",
    "As we can see from the above trajectory, ADK rapidly goes from a closed to an open conformation.\n",
    "\n",
    "Expanding on the work done in **Session 1 Exercise 4**, using the below given definition of the LID and NMR theta angles (`theta_LID()` and `theta_NMP()` respectively), plot:\n",
    "1. The timeseries of the angles\n",
    "2. The angles against each other"
   ]
  },
  {
   "cell_type": "code",
   "execution_count": null,
   "metadata": {
    "ExecuteTime": {
     "end_time": "2021-05-25T08:42:49.396680Z",
     "start_time": "2021-05-25T08:41:01.583Z"
    },
    "solution2": "hidden",
    "solution2_first": true
   },
   "outputs": [],
   "source": [
    "from numpy.linalg import norm\n",
    "\n",
    "def theta_NMP(ag):\n",
    "    \"\"\"Calculate the NMP-CORE angle for E. coli AdK in degrees\n",
    "    \n",
    "    Parameters\n",
    "    ----------\n",
    "    ag : MDAnalysis.Universe or MDAnalysis.AtomGroup\n",
    "    \"\"\"\n",
    "    C = ag.select_atoms(\"resid 115:125 and backbone\").center_of_geometry()\n",
    "    B = ag.select_atoms(\"resid 90:100 and backbone\").center_of_geometry()\n",
    "    A = ag.select_atoms(\"resid 35:55 and backbone\").center_of_geometry()\n",
    "    BA = A - B\n",
    "    BC = C - B\n",
    "    theta = np.arccos(np.dot(BA, BC)/(norm(BA)*norm(BC)))\n",
    "    return np.rad2deg(theta)\n",
    "\n",
    "def theta_LID(ag):\n",
    "    \"\"\"Calculate the LID-CORE angle for E. coli AdK in degrees\n",
    "    \n",
    "    Parameters\n",
    "    ----------\n",
    "    ag : MDAnalysis.Universe or MDAnalysis.AtomGroup\n",
    "    \"\"\"\n",
    "    C = ag.select_atoms(\"resid 179:185 and backbone\").center_of_geometry()\n",
    "    B = ag.select_atoms(\"resid 115:125 and backbone\").center_of_geometry()\n",
    "    A = ag.select_atoms(\"resid 125:153 and backbone\").center_of_geometry()\n",
    "    BA = A - B\n",
    "    BC = C - B\n",
    "    theta = np.arccos(np.dot(BA, BC)/(norm(BA)*norm(BC)))\n",
    "    return np.rad2deg(theta)"
   ]
  },
  {
   "cell_type": "code",
   "execution_count": null,
   "metadata": {
    "ExecuteTime": {
     "end_time": "2021-05-25T08:42:49.398397Z",
     "start_time": "2021-05-25T08:41:01.586Z"
    },
    "solution2": "hidden"
   },
   "outputs": [],
   "source": [
    "# Exercise 6 -- solution\n",
    "times = np.empty(adk_u.trajectory.n_frames)\n",
    "LID = np.empty(adk_u.trajectory.n_frames)\n",
    "NMP = np.empty(adk_u.trajectory.n_frames)\n",
    "\n",
    "# iterate through the trajectory and gather data\n",
    "for i, ts in enumerate(adk_u.trajectory):\n",
    "    times[i] = ts.time\n",
    "    LID[i] = theta_LID(adk_u)\n",
    "    NMP[i] = theta_NMP(adk_u)\n",
    "\n",
    "# plot\n",
    "ax1 = plt.subplot(121)\n",
    "ax1.scatter(times, NMP, label=\"NMP\", s=2)\n",
    "ax1.scatter(times, LID, label=\"LID\", s=2)\n",
    "ax1.set_xlabel(\"time (ps)\")\n",
    "ax1.set_ylabel(\"angle (degree)\")\n",
    "ax1.legend(loc=\"best\")\n",
    "ax2 = plt.subplot(122)\n",
    "ax2.scatter(NMP, LID, s=2)\n",
    "ax2.set_xlabel(r\"$\\theta_\\mathrm{NMP}$\")\n",
    "ax2.set_ylabel(r\"$\\theta_\\mathrm{LID}$\")\n",
    "ax2.set_aspect(1)\n",
    "plt.tight_layout()"
   ]
  },
  {
   "cell_type": "code",
   "execution_count": null,
   "metadata": {
    "ExecuteTime": {
     "end_time": "2021-05-25T08:42:49.399611Z",
     "start_time": "2021-05-25T08:41:01.589Z"
    }
   },
   "outputs": [],
   "source": [
    "# Exercise 7"
   ]
  },
  {
   "cell_type": "markdown",
   "metadata": {
    "solution2": "hidden",
    "solution2_first": true
   },
   "source": [
    "**Bonus exercise** - `MDAnalysisData.datasets` also contains a 1 microsecond equilibrium calculation of ADK which is accessible under `fetch_adk_equilibrium`. Calculate and plot the same angles. Do the results differ? If so, why do you think that might be?"
   ]
  },
  {
   "cell_type": "code",
   "execution_count": null,
   "metadata": {
    "ExecuteTime": {
     "end_time": "2021-05-25T08:42:49.400625Z",
     "start_time": "2021-05-25T08:41:01.592Z"
    },
    "solution2": "hidden"
   },
   "outputs": [],
   "source": [
    "# Bonus exercise -- solution\n",
    "from MDAnalysisData.datasets import fetch_adk_equilibrium\n",
    "adk_eq = fetch_adk_equilibrium()\n",
    "\n",
    "eq_u = mda.Universe(adk_eq.topology, adk_eq.trajectory)\n",
    "\n",
    "eq_times = np.empty(eq_u.trajectory.n_frames)\n",
    "eq_LID = np.empty(eq_u.trajectory.n_frames)\n",
    "eq_NMP = np.empty(eq_u.trajectory.n_frames)\n",
    "\n",
    "# iterate through the trajectory and gather data\n",
    "for i, ts in enumerate(eq_u.trajectory):\n",
    "    eq_times[i] = ts.time / 1000\n",
    "    eq_LID[i] = theta_LID(eq_u)\n",
    "    eq_NMP[i] = theta_NMP(eq_u)\n",
    "\n",
    "# plot\n",
    "ax1 = plt.subplot(121)\n",
    "ax1.scatter(eq_times, eq_NMP, label=\"NMP\", s=2)\n",
    "ax1.scatter(eq_times, eq_LID, label=\"LID\", s=2)\n",
    "ax1.set_xlabel(\"time (ns)\")\n",
    "ax1.set_ylabel(\"angle (degree)\")\n",
    "ax1.legend(loc=\"best\")\n",
    "ax2 = plt.subplot(122)\n",
    "ax2.scatter(eq_NMP, eq_LID, s=2)\n",
    "ax2.set_xlabel(r\"$\\theta_\\mathrm{NMP}$\")\n",
    "ax2.set_ylabel(r\"$\\theta_\\mathrm{LID}$\")\n",
    "ax2.set_aspect(1)\n",
    "plt.tight_layout()"
   ]
  },
  {
   "cell_type": "code",
   "execution_count": null,
   "metadata": {
    "ExecuteTime": {
     "end_time": "2021-05-25T08:42:49.401836Z",
     "start_time": "2021-05-25T08:41:01.594Z"
    }
   },
   "outputs": [],
   "source": [
    "# Bonus exercise"
   ]
  },
  {
   "cell_type": "markdown",
   "metadata": {
    "solution2": "hidden",
    "solution2_first": true
   },
   "source": [
    "**Bonus exercise 2** - Could you use these metrics (or others) to create a pseudo trajectory of the closed state for the ensemble of simulations?"
   ]
  },
  {
   "cell_type": "code",
   "execution_count": null,
   "metadata": {
    "ExecuteTime": {
     "end_time": "2021-05-25T08:42:49.403576Z",
     "start_time": "2021-05-25T08:41:01.597Z"
    },
    "solution2": "hidden"
   },
   "outputs": [],
   "source": [
    "# Bonus exercise 2\n",
    "# Let's define the closed state as theta LID < 110, and theta NMP < 50 (a bit abitrary, could be refined)\n",
    "\n",
    "indices = []\n",
    "\n",
    "# Using the previously defined `LID` and `NMP` arrays\n",
    "for i, (lid_angle, nmp_angle) in enumerate(zip(LID, NMP)):\n",
    "    if lid_angle < 110 and nmp_angle < 50:\n",
    "        indices.append(i)\n",
    "        \n",
    "# now write using the indices\n",
    "with mda.Writer('closed.dcd', n_atoms=adk_u.trajectory.n_atoms) as W:\n",
    "    for ts in adk_u.trajectory[indices]:\n",
    "        W.write(adk_u)\n",
    "        \n",
    "# now let's load the new trajectory and visualise it\n",
    "closed_adk_u = mda.Universe(adk.topology, 'closed.dcd')\n",
    "nv.show_mdanalysis(closed_adk_u)"
   ]
  },
  {
   "cell_type": "code",
   "execution_count": null,
   "metadata": {
    "ExecuteTime": {
     "end_time": "2021-05-25T08:42:49.405397Z",
     "start_time": "2021-05-25T08:41:01.600Z"
    }
   },
   "outputs": [],
   "source": [
    "# Bonus exercise 2"
   ]
  }
 ],
 "metadata": {
  "kernelspec": {
   "display_name": "Python 3",
   "language": "python",
   "name": "python3"
  },
  "language_info": {
   "codemirror_mode": {
    "name": "ipython",
    "version": 3
   },
   "file_extension": ".py",
   "mimetype": "text/x-python",
   "name": "python",
   "nbconvert_exporter": "python",
   "pygments_lexer": "ipython3",
   "version": "3.7.7"
  },
  "toc": {
   "base_numbering": 1,
   "nav_menu": {},
   "number_sections": true,
   "sideBar": true,
   "skip_h1_title": true,
   "title_cell": "Table of Contents",
   "title_sidebar": "Contents",
   "toc_cell": false,
   "toc_position": {},
   "toc_section_display": true,
   "toc_window_display": true
  }
 },
 "nbformat": 4,
 "nbformat_minor": 4
}
