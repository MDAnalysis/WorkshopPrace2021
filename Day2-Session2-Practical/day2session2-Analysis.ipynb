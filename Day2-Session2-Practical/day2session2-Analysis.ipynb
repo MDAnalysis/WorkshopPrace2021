{
 "cells": [
  {
   "cell_type": "markdown",
   "metadata": {},
   "source": [
    "## Writing Analysis classes\n",
    "\n",
    "Writing an Analysis class is a good way to share your analysis with other people.\n",
    "\n",
    "In this tutorial we will walk through writing an Analysis class to perform a very simple analysis; the average end to end distance for a polymer chain.\n",
    "\n",
    "**Additional resources**\n",
    " - During the workshop, feel free to ask questions at any time\n",
    " - For more on how to use MDAnalysis, see the [User Guide](https://userguide.mdanalysis.org/2.0.0-dev0/) and [documentation](https://docs.mdanalysis.org/2.0.0-dev0/)\n",
    " - Ask questions on the [user mailing list](https://groups.google.com/group/mdnalysis-discussion) or on [Discord](https://discord.gg/fXTSfDJyxE)\n",
    " - Report bugs on [GitHub](https://github.com/MDAnalysis/mdanalysis/issues?)"
   ]
  },
  {
   "cell_type": "markdown",
   "metadata": {},
   "source": [
    "### Loading the data\n",
    "\n",
    "First we'll load and briefly explore the dataset we'll be using.\n",
    "This is a dataset with 126 coarse-grained polymer chains in solvent."
   ]
  },
  {
   "cell_type": "code",
   "execution_count": null,
   "metadata": {},
   "outputs": [],
   "source": [
    "import MDAnalysis as mda\n",
    "\n",
    "import MDAnalysisData"
   ]
  },
  {
   "cell_type": "code",
   "execution_count": null,
   "metadata": {},
   "outputs": [],
   "source": [
    "data = MDAnalysisData.CG_fiber.fetch_CG_fiber()"
   ]
  },
  {
   "cell_type": "code",
   "execution_count": null,
   "metadata": {},
   "outputs": [],
   "source": [
    "u = mda.Universe(data.topology, data.trajectory)"
   ]
  },
  {
   "cell_type": "markdown",
   "metadata": {},
   "source": [
    "### Explore!\n",
    "\n",
    "Have a browse of the dataset to familiarise yourself with the names, residue names, etc in the system...\n",
    "It is fairly common to be given a dataset and have to figure out how good the topology information is!"
   ]
  },
  {
   "cell_type": "code",
   "execution_count": null,
   "metadata": {},
   "outputs": [],
   "source": [
    "u.atoms\n",
    "# ok we've got 8,000 atoms..."
   ]
  },
  {
   "cell_type": "code",
   "execution_count": null,
   "metadata": {},
   "outputs": [],
   "source": [
    "len(u.trajectory)\n",
    "# and a nice number of frames!"
   ]
  },
  {
   "cell_type": "code",
   "execution_count": null,
   "metadata": {},
   "outputs": [],
   "source": [
    "len(u.residues), set(u.atoms.resnames)\n",
    "# it looks like we've got A, B, C & D and Ion and W(ater)"
   ]
  },
  {
   "cell_type": "code",
   "execution_count": null,
   "metadata": {},
   "outputs": [],
   "source": [
    "len(u.segments), set(u.atoms.segids)\n",
    "# sadly chains don't seem to be grouped into segments"
   ]
  },
  {
   "cell_type": "code",
   "execution_count": null,
   "metadata": {},
   "outputs": [],
   "source": [
    "u.atoms.bonds\n",
    "# thankfully the system has bond information available!"
   ]
  },
  {
   "cell_type": "code",
   "execution_count": null,
   "metadata": {},
   "outputs": [],
   "source": [
    "# if we have bonds, we can define the fragments\n",
    "# reminder: a fragment is a a group of atoms fully traversible through its bonds, i.e. a \"molecule\"\n",
    "frags = u.atoms.fragments\n",
    "print(frags)"
   ]
  },
  {
   "cell_type": "code",
   "execution_count": null,
   "metadata": {},
   "outputs": [],
   "source": [
    "chain = frags[0]\n",
    "print(chain)"
   ]
  },
  {
   "cell_type": "code",
   "execution_count": null,
   "metadata": {},
   "outputs": [],
   "source": [
    "print([len(a.bonded_atoms) for a in chain])\n",
    "# hmm most atoms have 2 bonds, but some have 1..."
   ]
  },
  {
   "cell_type": "markdown",
   "metadata": {},
   "source": [
    "### Extracting our data\n",
    "\n",
    "Based upon what we've seen, "
   ]
  },
  {
   "cell_type": "code",
   "execution_count": null,
   "metadata": {},
   "outputs": [],
   "source": [
    "# grab all polymer chains, this is just fragments with more than one atom (others are solvent)\n",
    "chains = [ag for ag in u.atoms.fragments if (len(ag) > 1)]"
   ]
  },
  {
   "cell_type": "code",
   "execution_count": null,
   "metadata": {},
   "outputs": [],
   "source": [
    "def get_start_and_end(chain):\n",
    "    # for a CG chain, grab the first and last atoms in the chain\n",
    "    # we know that (for this system) if an atom only has one bond, it's on the end of the chain\n",
    "    start, end = [atom for atom in chain if len(atom.bonded_atoms) == 1]\n",
    "    return start, end"
   ]
  },
  {
   "cell_type": "code",
   "execution_count": null,
   "metadata": {},
   "outputs": [],
   "source": [
    "start, end = get_start_and_end(chains[0])\n",
    "\n",
    "print(start, end)"
   ]
  },
  {
   "cell_type": "code",
   "execution_count": null,
   "metadata": {},
   "outputs": [],
   "source": [
    "# the distance between these atoms can be calculated thus:\n",
    "mda.lib.distances.calc_bonds(start.position, end.position, box=u.dimensions)"
   ]
  },
  {
   "cell_type": "markdown",
   "metadata": {},
   "source": [
    "### Writing the Analysis class\n",
    "\n",
    "Now we've played a bit with what we want to do, it's time to roll it into a proper class.\n",
    "\n",
    "Remember:\n",
    "- the `__init__` function must request all the necessary pieces of data (i.e. the chains).  There won't be any chances later to get information from the user!  It is also important to call `super().__init__(trajectory)` to pass the trajectory to the base class so that the `run()` method works.\n",
    "- the `_prepare` function needs to setup the required data structures (lists, dicts etc) which later functions expect.  These won't be visible to the users, but are used to save intermediate values.  Remember that these need to be stored as \"`self.X`\" to be persistant to the class.\n",
    "- the `_single_frame` calculates the value of interest for a single given frame. Moving between frames is handled by the `run()` function.\n",
    "- `_conclude()` is called at the end to finalise everything.  At this point the data structure created in `_prepare` have been populated by many calls to `_single_frame`, and now these must be reduced to our final values in `.results`.\n",
    "\n",
    "The skeleton for the class then looks like this:"
   ]
  },
  {
   "cell_type": "code",
   "execution_count": null,
   "metadata": {},
   "outputs": [],
   "source": [
    "from MDAnalysis.analysis.base import AnalysisBase\n",
    "\n",
    "\n",
    "class EndToEndDistance(AnalysisBase):\n",
    "    def __init__(self):\n",
    "        pass\n",
    "    \n",
    "    def _prepare(self):\n",
    "        pass\n",
    "    \n",
    "    def _single_frame(self):\n",
    "        pass\n",
    "    \n",
    "    def _conclude(self):\n",
    "        pass"
   ]
  },
  {
   "cell_type": "markdown",
   "metadata": {},
   "source": [
    "## Solution\n",
    "\n",
    "A proposed solution is given below.\n",
    "\n",
    "One trick that has been used is that it is more efficient to calculate many distance at once in a single call to `calc_bonds` rather than calling this function once for each chain.\n",
    "To achieve this, the input (a list of tuples) has been \"transposed\" into two AtomGroups, one containing the \"first\" atom in each chain and the other containing all the \"last\" atom in each chain.\n",
    "\n",
    "Secondly, as we're only doing the mean average, we don't need to remember every value we calculate, but instead can do some of the reduction before `_conclude`.\n",
    "This sort of early reduction can prevent the storage (memory) requirements of your Analysis from becoming too large and slowing things down."
   ]
  },
  {
   "cell_type": "code",
   "execution_count": null,
   "metadata": {},
   "outputs": [],
   "source": [
    "from MDAnalysis.analysis.base import AnalysisBase\n",
    "\n",
    "\n",
    "class EndToEndDistance(AnalysisBase):\n",
    "    def __init__(self, starts_and_ends):\n",
    "        \"\"\"\n",
    "        Parameters\n",
    "        ----------\n",
    "        tops - list of tuples of (Atom, Atom)\n",
    "          a list containing the start and end of each chain\n",
    "        \"\"\"        \n",
    "        # we ask for a list of tuples, but we transpose these to two atomgroups\n",
    "        self.ag1 = sum(v[0] for v in starts_and_ends)\n",
    "        self.ag2 = sum(v[1] for v in starts_and_ends)\n",
    "        \n",
    "        # remember to set up the base class too \n",
    "        super().__init__(self.ag1.universe.trajectory)\n",
    "    \n",
    "    def _prepare(self):\n",
    "        # we will accumulate end to end values here\n",
    "        self.total_e2e = 0.0\n",
    "        self.n_frames = 0\n",
    "    \n",
    "    def _single_frame(self):\n",
    "        # we could call calc_bonds() individually for each chain,\n",
    "        # but it's more efficient to call it once and calculate all these distances at once\n",
    "        d = mda.lib.distances.calc_bonds(self.ag1.positions, self.ag2.positions, box=self.ag1.dimensions)\n",
    "        \n",
    "        # we can simply add the sum of all end-to-end distances to our accumulator\n",
    "        self.total_e2e += d.sum()\n",
    "        self.n_frames += 1\n",
    "    \n",
    "    def _conclude(self):\n",
    "        # our total needs to be averaged across\n",
    "        # - the number of frames\n",
    "        avg_e2e = self.total_e2e / self.n_frames\n",
    "        # - the number of chains\n",
    "        avg_e2e /= len(self.ag1)\n",
    "        \n",
    "        self.results.e2e_distance = avg_e2e"
   ]
  },
  {
   "cell_type": "code",
   "execution_count": null,
   "metadata": {},
   "outputs": [],
   "source": [
    "e2ed = EndToEndDistance([get_start_and_end(c) for c in chains])"
   ]
  },
  {
   "cell_type": "code",
   "execution_count": null,
   "metadata": {},
   "outputs": [],
   "source": [
    "e2ed.run()"
   ]
  },
  {
   "cell_type": "code",
   "execution_count": null,
   "metadata": {},
   "outputs": [],
   "source": [
    "e2ed.results"
   ]
  },
  {
   "cell_type": "markdown",
   "metadata": {},
   "source": [
    "## Extension work\n",
    "\n",
    "To extend this you could try calculating a timeseries of the end to end distance, or the autocorrelation of the end to end distance, which is an important metric for polymer systems.  The module `MDAnalysis.lib.correlations` contains some useful functions for calculating autocorrelations.\n",
    "\n",
    "Alternatively, feel free to work on your own ideas!"
   ]
  },
  {
   "cell_type": "code",
   "execution_count": null,
   "metadata": {},
   "outputs": [],
   "source": []
  }
 ],
 "metadata": {
  "kernelspec": {
   "display_name": "Python 3",
   "language": "python",
   "name": "python3"
  },
  "language_info": {
   "codemirror_mode": {
    "name": "ipython",
    "version": 3
   },
   "file_extension": ".py",
   "mimetype": "text/x-python",
   "name": "python",
   "nbconvert_exporter": "python",
   "pygments_lexer": "ipython3",
   "version": "3.8.10"
  },
  "toc": {
   "base_numbering": 1,
   "nav_menu": {},
   "number_sections": true,
   "sideBar": true,
   "skip_h1_title": true,
   "title_cell": "Table of Contents",
   "title_sidebar": "Contents",
   "toc_cell": false,
   "toc_position": {},
   "toc_section_display": true,
   "toc_window_display": false
  }
 },
 "nbformat": 4,
 "nbformat_minor": 4
}
