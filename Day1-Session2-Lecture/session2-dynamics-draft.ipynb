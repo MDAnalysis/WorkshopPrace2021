{
 "cells": [
  {
   "cell_type": "code",
   "execution_count": 68,
   "id": "3c59624b",
   "metadata": {
    "slideshow": {
     "slide_type": "skip"
    }
   },
   "outputs": [],
   "source": [
    "import warnings\n",
    "import numpy as np\n",
    "import matplotlib.pyplot as plt\n",
    "%matplotlib inline\n",
    "warnings.filterwarnings(\"ignore\")"
   ]
  },
  {
   "cell_type": "markdown",
   "id": "impressed-dream",
   "metadata": {
    "slideshow": {
     "slide_type": "slide"
    }
   },
   "source": [
    "# <center>Lecture 2: Handling Trajectory Data</center>"
   ]
  },
  {
   "cell_type": "markdown",
   "id": "legislative-thanksgiving",
   "metadata": {
    "slideshow": {
     "slide_type": "-"
    }
   },
   "source": [
    "<center>MDAnalysis workshop - PRACE/SURF 2021</center>"
   ]
  },
  {
   "cell_type": "markdown",
   "id": "e58ae60e",
   "metadata": {
    "slideshow": {
     "slide_type": "slide"
    }
   },
   "source": [
    "## Aims and objectives"
   ]
  },
  {
   "cell_type": "markdown",
   "id": "c10c0810",
   "metadata": {},
   "source": [
    "- Give a general overview of how MDAnalysis reads coordinate data\n",
    "- How to programmatically access / use trajectory data with the MDAnalysis API\n",
    "- How to write out coordinates"
   ]
  },
  {
   "cell_type": "markdown",
   "id": "71eed809",
   "metadata": {
    "slideshow": {
     "slide_type": "slide"
    }
   },
   "source": [
    "## Overview of File IO in MDAnalysis"
   ]
  },
  {
   "cell_type": "markdown",
   "id": "3bd041fb",
   "metadata": {
    "cell_style": "split"
   },
   "source": [
    "- Main file IO in MDAnalysis\n",
    "  - Topologies\n",
    "  - Coordinates (single frame & trajectories)\n",
    "  - Auxilliary (session 6)\n",
    "  \n",
    "- Topology & coordinates form the basis of Universe creation"
   ]
  },
  {
   "cell_type": "markdown",
   "id": "2be8e8fe",
   "metadata": {
    "cell_style": "split"
   },
   "source": [
    "<center><img src=\"imgs/MDA-overview.png\" alt=\"MDA-overview\" style=\"width: 700px;\"/></center>"
   ]
  },
  {
   "cell_type": "markdown",
   "id": "c817e210",
   "metadata": {
    "slideshow": {
     "slide_type": "slide"
    }
   },
   "source": [
    "## Topology files"
   ]
  },
  {
   "cell_type": "markdown",
   "id": "22c01732",
   "metadata": {
    "cell_style": "split"
   },
   "source": [
    "- 27 formats supported\n",
    "- Provides base information about the system\n",
    "  - e.g. atom names, elements, charges, bonds\n",
    "- MDAnalysis **does not** parse energy function related terms\n",
    "- Read only\n",
    "  - Except for topologies that contain coordinate data (PDB, GRO, etc...)\n",
    "- Only read once at Universe creation"
   ]
  },
  {
   "cell_type": "code",
   "execution_count": 21,
   "id": "d7161078",
   "metadata": {
    "cell_style": "split"
   },
   "outputs": [
    {
     "name": "stdout",
     "output_type": "stream",
     "text": [
      "['N' 'H1' 'H2' ... 'NA' 'NA' 'NA']\n",
      "[-0.30000001  0.33000001  0.33000001 ...  1.          1.\n",
      "  1.        ]\n"
     ]
    }
   ],
   "source": [
    "import MDAnalysis as mda\n",
    "from MDAnalysis.tests.datafiles import TPR\n",
    "\n",
    "u = mda.Universe(TPR)\n",
    "\n",
    "print(u.atoms.names)\n",
    "\n",
    "print(u.atoms.charges)"
   ]
  },
  {
   "cell_type": "markdown",
   "id": "c1ea9b33",
   "metadata": {
    "slideshow": {
     "slide_type": "slide"
    }
   },
   "source": [
    "## Coordinates files"
   ]
  },
  {
   "cell_type": "markdown",
   "id": "c80a2c01",
   "metadata": {
    "cell_style": "split"
   },
   "source": [
    "- 28 coordinate formats supported\n",
    "  - Extra file formats via [chemfiles](https://github.com/chemfiles/chemfiles.py) converter interface\n",
    "- Reads both single frame (e.g. MMTF, PQR) and trajectory files (e.g. XTC, DCD, NetCDF)\n",
    "- MDAnalysis can both read & write\n",
    "  - 15 / 28 coordinate file types have writers\n",
    "- Iterative IO model\n",
    "  - Data read from disk frame at a time as requested"
   ]
  },
  {
   "cell_type": "markdown",
   "id": "d1f9f850",
   "metadata": {
    "cell_style": "split"
   },
   "source": [
    "<center><img src=\"imgs/mda-coordinates.png\" alt=\"MDA-orview-of-coordinate-readers\" style=\"width: 700px;\"/></center>"
   ]
  },
  {
   "cell_type": "markdown",
   "id": "f13bf207",
   "metadata": {
    "slideshow": {
     "slide_type": "slide"
    }
   },
   "source": [
    "## General overview of coordinate IO"
   ]
  },
  {
   "cell_type": "markdown",
   "id": "47a65a1e",
   "metadata": {},
   "source": [
    "<center><img src=\"imgs/MDA-CoordinateReading.png\" alt=\"MDA-coordinate-workflow\" style=\"width: 1000px;\"/></center>"
   ]
  },
  {
   "cell_type": "markdown",
   "id": "689557f1",
   "metadata": {
    "slideshow": {
     "slide_type": "slide"
    }
   },
   "source": [
    "## Trajectory class: `Universe.trajectory`"
   ]
  },
  {
   "cell_type": "markdown",
   "id": "5d367cb0",
   "metadata": {
    "cell_style": "split",
    "slideshow": {
     "slide_type": "-"
    }
   },
   "source": [
    "- Main class for trajectory access\n",
    "  - Makes the Reader fetch the relevant data from disk\n",
    "  - Works on the basis of frames\n",
    "- Works as an iterator\n",
    "- Can be randomly seeked"
   ]
  },
  {
   "cell_type": "code",
   "execution_count": 22,
   "id": "93f2fa99",
   "metadata": {
    "cell_style": "split",
    "slideshow": {
     "slide_type": "-"
    }
   },
   "outputs": [
    {
     "data": {
      "text/plain": [
       "<NCDFReader /home/bioc1523/software/anaconda/install/envs/all/lib/python3.7/site-packages/MDAnalysisTests/data/Amber/ace_tip3p.nc with 10 frames of 1398 atoms>"
      ]
     },
     "execution_count": 22,
     "metadata": {},
     "output_type": "execute_result"
    }
   ],
   "source": [
    "from MDAnalysis.tests.datafiles import (PRM_NCBOX,\n",
    "                                        TRJ_NCBOX)\n",
    "\n",
    "u = mda.Universe(PRM_NCBOX, TRJ_NCBOX)\n",
    "\n",
    "u.trajectory"
   ]
  },
  {
   "cell_type": "markdown",
   "id": "3533c9aa",
   "metadata": {
    "slideshow": {
     "slide_type": "slide"
    }
   },
   "source": [
    "## Trajectory class: `Universe.trajectory`"
   ]
  },
  {
   "cell_type": "markdown",
   "id": "282273ed",
   "metadata": {
    "cell_style": "split",
    "slideshow": {
     "slide_type": "-"
    }
   },
   "source": [
    "- Main class for trajectory access\n",
    "  - Makes the Reader fetch the relevant data from disk\n",
    "  - Works on the basis of frames\n",
    "  - Time is available in **picoseconds**\n",
    "- Works as an iterator\n",
    "- Can be randomly seeked"
   ]
  },
  {
   "cell_type": "code",
   "execution_count": 23,
   "id": "2fec9915",
   "metadata": {
    "cell_style": "split"
   },
   "outputs": [
    {
     "name": "stdout",
     "output_type": "stream",
     "text": [
      "number of frames:  10\n",
      "current frame:  0\n",
      "current time:  1.0\n"
     ]
    }
   ],
   "source": [
    "print(\"number of frames: \", u.trajectory.n_frames)\n",
    "\n",
    "print(\"current frame: \", u.trajectory.frame)\n",
    "\n",
    "print(\"current time: \", u.trajectory.time)"
   ]
  },
  {
   "cell_type": "markdown",
   "id": "a2e2d9de",
   "metadata": {
    "slideshow": {
     "slide_type": "slide"
    }
   },
   "source": [
    "## Trajectory class: `Universe.trajectory`"
   ]
  },
  {
   "cell_type": "markdown",
   "id": "e57d38d2",
   "metadata": {
    "cell_style": "split",
    "slideshow": {
     "slide_type": "-"
    }
   },
   "source": [
    "- Main class for trajectory access\n",
    "  - Makes the Reader fetch the relevant data from disk\n",
    "  - Works on the basis of frames\n",
    "- Works as an iterator\n",
    "- Can be randomly seeked"
   ]
  },
  {
   "cell_type": "code",
   "execution_count": 24,
   "id": "2b40eeda",
   "metadata": {
    "cell_style": "split"
   },
   "outputs": [
    {
     "name": "stdout",
     "output_type": "stream",
     "text": [
      "current frame:  5\n",
      "current time:  6.0\n"
     ]
    }
   ],
   "source": [
    "# trajectories can be seeked\n",
    "u.trajectory[5]\n",
    "\n",
    "print(\"current frame: \", u.trajectory.frame)\n",
    "print(\"current time: \", u.trajectory.time)"
   ]
  },
  {
   "cell_type": "markdown",
   "id": "0e274ce8",
   "metadata": {
    "slideshow": {
     "slide_type": "slide"
    }
   },
   "source": [
    "## Trajectory class: `Universe.trajectory`"
   ]
  },
  {
   "cell_type": "markdown",
   "id": "7da82636",
   "metadata": {
    "cell_style": "split",
    "slideshow": {
     "slide_type": "-"
    }
   },
   "source": [
    "- Main class for trajectory access\n",
    "  - Makes the Reader fetch the relevant data from disk\n",
    "  - Works on the basis of frames\n",
    "- Works as an iterator\n",
    "- Can be randomly seeked"
   ]
  },
  {
   "cell_type": "code",
   "execution_count": 25,
   "id": "d7e8dc95",
   "metadata": {
    "cell_style": "split"
   },
   "outputs": [
    {
     "name": "stdout",
     "output_type": "stream",
     "text": [
      "current frame / time:  0 1.0\n",
      "current frame / time:  1 2.0\n",
      "current frame / time:  2 3.0\n",
      "current frame / time:  3 4.0\n",
      "current frame / time:  4 5.0\n",
      "current frame / time:  5 6.0\n",
      "current frame / time:  6 7.0\n",
      "current frame / time:  7 8.0\n",
      "current frame / time:  8 9.0\n",
      "current frame / time:  9 10.0\n"
     ]
    }
   ],
   "source": [
    "# trajectories can be iterated\n",
    "for ts in u.trajectory:\n",
    "    print('current frame / time: ', u.trajectory.frame,\n",
    "          u.trajectory.time)"
   ]
  },
  {
   "cell_type": "markdown",
   "id": "a020acd0",
   "metadata": {
    "slideshow": {
     "slide_type": "slide"
    }
   },
   "source": [
    "## Timestep class `Universe.trajectory.ts`"
   ]
  },
  {
   "cell_type": "markdown",
   "id": "5310e705",
   "metadata": {
    "cell_style": "split"
   },
   "source": [
    "- Class that holds the current frame's data\n",
    "  - Trajectory tells Reader to populate Timestep with a given frame\n",
    "  - Changes every time the trajectory seeks\n",
    "- Contains time-dependent information\n",
    "  - `positions`, `dimensions`, `time`, `frame number`, etc..\n",
    "- Data is then fed to other parts of the Universe\n",
    "  - i.e. `AtomGroup.positions` takes a copy of `ts.positions` given atoms"
   ]
  },
  {
   "cell_type": "code",
   "execution_count": 26,
   "id": "2e4f50ed",
   "metadata": {
    "cell_style": "split"
   },
   "outputs": [
    {
     "data": {
      "text/plain": [
       "< Timestep 0 with unit cell dimensions [28.818764 28.278753 27.726164 90.       90.       90.      ] >"
      ]
     },
     "execution_count": 26,
     "metadata": {},
     "output_type": "execute_result"
    }
   ],
   "source": [
    "u.trajectory.ts"
   ]
  },
  {
   "cell_type": "markdown",
   "id": "9951f0fb",
   "metadata": {
    "slideshow": {
     "slide_type": "slide"
    }
   },
   "source": [
    "## Timestep class `Universe.trajectory.ts`"
   ]
  },
  {
   "cell_type": "markdown",
   "id": "6312290a",
   "metadata": {
    "cell_style": "split"
   },
   "source": [
    "- Class that holds the current frame's data\n",
    "  - Trajectory tells Reader to populate Timestep with a given frame\n",
    "  - Changes every time the trajectory seeks\n",
    "- Contains time-dependent information\n",
    "  - `positions`, `dimensions`, `time`, `frame number`, etc..\n",
    "- Data is then fed to other parts of the Universe\n",
    "  - i.e. `AtomGroup.positions` takes a copy of `ts.positions` given atoms"
   ]
  },
  {
   "cell_type": "code",
   "execution_count": 30,
   "id": "82a9ba28",
   "metadata": {
    "cell_style": "split"
   },
   "outputs": [
    {
     "name": "stdout",
     "output_type": "stream",
     "text": [
      "positions:\n",
      " [[15.249873  12.578178  15.191731 ]\n",
      " [14.925511  13.58888   14.944009 ]\n",
      " [15.285703  14.3409605 15.645962 ]\n",
      " ...\n",
      " [ 3.9575078 14.525827  16.14651  ]\n",
      " [ 4.6214457 14.670319  15.472312 ]\n",
      " [ 4.3571763 14.856422  16.950998 ]]\n",
      "forces:\n",
      " [[  35.912895     7.5411134  -62.774    ]\n",
      " [ -90.35279    163.55951     27.480358 ]\n",
      " [  18.25486    -50.773525    18.73405  ]\n",
      " ...\n",
      " [-211.5503    -127.57705     14.248226 ]\n",
      " [  65.75678     44.437996   -59.866737 ]\n",
      " [  65.71979     47.376717    45.049736 ]]\n"
     ]
    }
   ],
   "source": [
    "# ts holds time-dependent data like positions and forces\n",
    "\n",
    "print('positions:\\n', u.trajectory.ts.positions)\n",
    "\n",
    "print('forces:\\n', u.trajectory.ts.forces)"
   ]
  },
  {
   "cell_type": "markdown",
   "id": "3447e7d4",
   "metadata": {
    "slideshow": {
     "slide_type": "slide"
    }
   },
   "source": [
    "## Timestep class `Universe.trajectory.ts`"
   ]
  },
  {
   "cell_type": "markdown",
   "id": "1aad11d3",
   "metadata": {
    "cell_style": "split"
   },
   "source": [
    "- Class that holds the current frame's data\n",
    "  - Trajectory tells Reader to populate Timestep with a given frame\n",
    "  - Changes every time the trajectory seeks\n",
    "- Contains time-dependent information\n",
    "  - `positions`, `dimensions`, `time`, `frame number`, etc..\n",
    "- Data is then fed to other parts of the Universe\n",
    "  - i.e. `AtomGroup.positions` takes a copy of `ts.positions` given atoms"
   ]
  },
  {
   "cell_type": "code",
   "execution_count": 32,
   "id": "860303dd",
   "metadata": {
    "cell_style": "split"
   },
   "outputs": [
    {
     "name": "stdout",
     "output_type": "stream",
     "text": [
      "position:\n",
      " [15.249873 12.578178 15.191731]\n",
      "atomgroup position:\n",
      " [15.249873 12.578178 15.191731]\n"
     ]
    }
   ],
   "source": [
    "# positions are passed to things like AtomGroups\n",
    "print('position:\\n', u.trajectory.ts.positions[0])\n",
    "\n",
    "print('atomgroup position:\\n', u.atoms[0].position)"
   ]
  },
  {
   "cell_type": "markdown",
   "id": "0b950156",
   "metadata": {
    "slideshow": {
     "slide_type": "slide"
    }
   },
   "source": [
    "## AtomGroups and UpdatingAtomGroups"
   ]
  },
  {
   "cell_type": "markdown",
   "id": "1f1a02c8",
   "metadata": {
    "cell_style": "split"
   },
   "source": [
    "- Main entry point for data is AtomGroup\n",
    "  - API preferred over `ts`\n",
    "\n",
    "- AtomGroups are statically defined\n",
    "  - Atoms don't change\n",
    "  - Only time-dependent variables change\n",
    "  \n",
    "- UpdatingAtomGroups\n",
    "  - Time dependent selection of atoms\n",
    "  - Expensive, but can be useful"
   ]
  },
  {
   "cell_type": "code",
   "execution_count": 46,
   "id": "2ffbce0b",
   "metadata": {
    "cell_style": "split"
   },
   "outputs": [
    {
     "name": "stdout",
     "output_type": "stream",
     "text": [
      "atoms:  1398\n",
      "atoms 1371\n"
     ]
    }
   ],
   "source": [
    "u.trajectory[0]\n",
    "\n",
    "# atoms with y coordinates > 1 Angstrom\n",
    "ag = u.select_atoms(\n",
    "    'prop y > 1',\n",
    "    updating=True)\n",
    "\n",
    "print('atoms: ', ag.n_atoms)\n",
    "\n",
    "u.trajectory[5]\n",
    "\n",
    "print('atoms', ag.n_atoms)"
   ]
  },
  {
   "cell_type": "markdown",
   "id": "c78d7580",
   "metadata": {
    "slideshow": {
     "slide_type": "slide"
    }
   },
   "source": [
    "## Example: TC5b Trp Cage"
   ]
  },
  {
   "cell_type": "markdown",
   "id": "1dd722ac",
   "metadata": {
    "cell_style": "split"
   },
   "source": [
    "- Implicit solvent simulation of TC5b\n",
    "  - Makes different folds over time\n",
    "\n",
    "\n",
    "- Can use NGLView to visualise the trajectory"
   ]
  },
  {
   "cell_type": "code",
   "execution_count": 94,
   "id": "93a9389d",
   "metadata": {
    "cell_style": "split"
   },
   "outputs": [
    {
     "data": {
      "application/vnd.jupyter.widget-view+json": {
       "model_id": "c9a58747c1844920b365ebb720f603de",
       "version_major": 2,
       "version_minor": 0
      },
      "text/plain": [
       "NGLWidget(max_frame=199)"
      ]
     },
     "metadata": {},
     "output_type": "display_data"
    }
   ],
   "source": [
    "import nglview as nv\n",
    "\n",
    "u = mda.Universe('data/TC5b.ff14igb8.HMR.parm7',\n",
    "                 'data/TC5b.nc')\n",
    "\n",
    "nv.show_mdanalysis(u)"
   ]
  },
  {
   "cell_type": "markdown",
   "id": "b5a7fdf2",
   "metadata": {
    "slideshow": {
     "slide_type": "slide"
    }
   },
   "source": [
    "## Example: TC5b Trp Cage"
   ]
  },
  {
   "cell_type": "markdown",
   "id": "4e5022aa",
   "metadata": {
    "cell_style": "split",
    "slideshow": {
     "slide_type": "-"
    }
   },
   "source": [
    "- Let's calculate a simple end-to-end alpha-carbon distance over the trajectory\n",
    "  - Very coarse evaluation of folding"
   ]
  },
  {
   "cell_type": "code",
   "execution_count": 95,
   "id": "5837acc2",
   "metadata": {
    "cell_style": "split"
   },
   "outputs": [
    {
     "data": {
      "text/plain": [
       "Text(0, 0.5, 'distance (Angstroms)')"
      ]
     },
     "execution_count": 95,
     "metadata": {},
     "output_type": "execute_result"
    },
    {
     "data": {
      "image/png": "[encoded data removed]",
      "text/plain": [
       "<Figure size 432x288 with 1 Axes>"
      ]
     },
     "metadata": {
      "needs_background": "light"
     },
     "output_type": "display_data"
    }
   ],
   "source": [
    "from MDAnalysis.lib.distances import calc_bonds\n",
    "\n",
    "nterm = u.select_atoms('name CA')[0]\n",
    "cterm = u.select_atoms('name CA')[-1]\n",
    "\n",
    "times = np.empty(u.trajectory.n_frames)\n",
    "distances = np.empty(u.trajectory.n_frames)\n",
    "\n",
    "for i, ts in enumerate(u.trajectory):\n",
    "    times[i] = u.trajectory.time / 1000\n",
    "    distances[i] = calc_bonds(nterm.position,\n",
    "                              cterm.position)\n",
    "    \n",
    "plt.plot(times, distances)\n",
    "plt.xlabel('time (ns)')\n",
    "plt.ylabel('distance (Angstroms)')"
   ]
  },
  {
   "cell_type": "markdown",
   "id": "04e82df8",
   "metadata": {
    "slideshow": {
     "slide_type": "slide"
    }
   },
   "source": [
    "## I/O Performance Considerations"
   ]
  },
  {
   "cell_type": "markdown",
   "id": "a219313c",
   "metadata": {},
   "source": [
    "- I/O is expensive - minimize wherever possible\n",
    "- Random seeking can be much more expensive than iterating\n",
    "- Binary are faster to read than ASCII\n",
    "- Lots of concurrent I/O calls can cause issues\n",
    "  - See parallelism session"
   ]
  },
  {
   "cell_type": "markdown",
   "id": "7b4d27ff",
   "metadata": {
    "slideshow": {
     "slide_type": "slide"
    }
   },
   "source": [
    "## MemoryReader"
   ]
  },
  {
   "cell_type": "markdown",
   "id": "79cf7dcb",
   "metadata": {},
   "source": [
    "- Transferring data to memory speeds up access to trajectory data\n",
    "  - ~ 1-2 orders of magnitude speedups\n",
    "  - Requires being able to store data in RAM\n",
    "\n",
    "- Changes to trajectory data are \"permanent\"\n",
    "  - Directly changes the memory object\n",
    "  - Can be useful\n",
    "  - example: trajectory aligning (`mda.align.AlignTraj`)\n",
    "  \n",
    "- Converters are usually MemoryReader instances\n",
    "  - See session 6"
   ]
  },
  {
   "cell_type": "markdown",
   "id": "45e8141b",
   "metadata": {
    "slideshow": {
     "slide_type": "slide"
    }
   },
   "source": [
    "## Writing coordinates"
   ]
  },
  {
   "cell_type": "markdown",
   "id": "020c5df4",
   "metadata": {
    "cell_style": "split"
   },
   "source": [
    "- MDAnalysis implements writers for most coordinate types\n",
    "- Can directly write from `AtomGroup` or use `MDAnalysis.Writer` class\n",
    "- Writers will automatically guess file type based on extension\n",
    "  - Can also pass a `format` keyword to enfore the file type"
   ]
  },
  {
   "cell_type": "code",
   "execution_count": 101,
   "id": "1f689e90",
   "metadata": {
    "cell_style": "split"
   },
   "outputs": [],
   "source": [
    "# AtomGroup of all atoms\n",
    "ag = u.atoms\n",
    "\n",
    "# write out a single frame\n",
    "ag.write('test.pdb')\n",
    "\n",
    "# write out all frames\n",
    "ag.write('test.xtc', frame=all)"
   ]
  },
  {
   "cell_type": "markdown",
   "id": "a7af20cd",
   "metadata": {
    "slideshow": {
     "slide_type": "slide"
    }
   },
   "source": [
    "## Writing coordinates"
   ]
  },
  {
   "cell_type": "markdown",
   "id": "d0a2f21e",
   "metadata": {
    "cell_style": "split"
   },
   "source": [
    "- MDAnalysis implements writers for most coordinate types\n",
    "- Can directly write from `AtomGroup` or use `MDAnalysis.Writer` class\n",
    "- Writers will automatically guess file type based on extension\n",
    "  - Can also pass a `format` keyword to enfore the file type"
   ]
  },
  {
   "cell_type": "code",
   "execution_count": 103,
   "id": "d58b52de",
   "metadata": {
    "cell_style": "split"
   },
   "outputs": [],
   "source": [
    "# Common to use mda.Writer as a context manager\n",
    "with mda.Writer('test.dcd', n_atoms=u.atoms.n_atoms,\n",
    "                format='DCD') as W:\n",
    "    # Iterate through trajectory to feed the writer\n",
    "    # in this case - downsample by skipping by 10\n",
    "    for ts in u.trajectory[::10]:\n",
    "        W.write(u)"
   ]
  },
  {
   "cell_type": "markdown",
   "id": "21b438a5",
   "metadata": {
    "slideshow": {
     "slide_type": "slide"
    }
   },
   "source": [
    "## Review"
   ]
  },
  {
   "cell_type": "markdown",
   "id": "ec0f82f2",
   "metadata": {},
   "source": [
    "- Universes are associated with a Reader when loading coordinates\n",
    "- `Universe.trajectory` allows for iterating through a trajectory\n",
    "- `Universe.trajectory.ts` is assigned time-dependent data which is passed to other parts of the Universe\n",
    "- Writing is achieved through either `AtomGroup.write()` or `MDAnalysis.Write`\n",
    "- I/O is expensive, transfering to memory can be helpful, but generally try to limit I/O calls"
   ]
  },
  {
   "cell_type": "markdown",
   "id": "e4110e5d",
   "metadata": {
    "slideshow": {
     "slide_type": "slide"
    }
   },
   "source": [
    "## Session 2 - Practical"
   ]
  },
  {
   "cell_type": "markdown",
   "id": "3bb16b09",
   "metadata": {},
   "source": [
    "- Notebook under Day1-Session2-Practical/session2.ipynb\n",
    "  - Covers concepts described here\n",
    "  - Also gives case study examples of how to iterate through trajectories to carry out analyses"
   ]
  }
 ],
 "metadata": {
  "celltoolbar": "Slideshow",
  "kernelspec": {
   "display_name": "Python 3",
   "language": "python",
   "name": "python3"
  },
  "language_info": {
   "codemirror_mode": {
    "name": "ipython",
    "version": 3
   },
   "file_extension": ".py",
   "mimetype": "text/x-python",
   "name": "python",
   "nbconvert_exporter": "python",
   "pygments_lexer": "ipython3",
   "version": "3.7.7"
  }
 },
 "nbformat": 4,
 "nbformat_minor": 5
}
