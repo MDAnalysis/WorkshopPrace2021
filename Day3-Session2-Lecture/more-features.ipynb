{
 "cells": [
  {
   "cell_type": "markdown",
   "id": "14b08d2a",
   "metadata": {},
   "source": [
    "# Some more features"
   ]
  },
  {
   "cell_type": "markdown",
   "id": "61c5da9e",
   "metadata": {},
   "source": [
    "## Auxiliary data"
   ]
  },
  {
   "cell_type": "markdown",
   "id": "0ccb76ca",
   "metadata": {},
   "source": [
    "### Add auxiliary data"
   ]
  },
  {
   "cell_type": "markdown",
   "id": "3c37bf05",
   "metadata": {},
   "source": [
    "### Accessing the data"
   ]
  },
  {
   "cell_type": "markdown",
   "id": "510ab655",
   "metadata": {},
   "source": [
    "## On-the-fly transformations"
   ]
  },
  {
   "cell_type": "markdown",
   "id": "26a0eaf1",
   "metadata": {},
   "source": [
    "### Why?"
   ]
  },
  {
   "cell_type": "markdown",
   "id": "556381fa",
   "metadata": {},
   "source": [
    "### Setting a workflow"
   ]
  },
  {
   "cell_type": "markdown",
   "id": "38c88f1c",
   "metadata": {},
   "source": [
    "### Transformations out of the box"
   ]
  },
  {
   "cell_type": "markdown",
   "id": "78e1cf98",
   "metadata": {},
   "source": [
    "#### Translation"
   ]
  },
  {
   "cell_type": "markdown",
   "id": "21ac5c49",
   "metadata": {},
   "source": [
    "#### Center in box"
   ]
  },
  {
   "cell_type": "markdown",
   "id": "a321e65c",
   "metadata": {},
   "source": [
    "#### Rotation"
   ]
  },
  {
   "cell_type": "markdown",
   "id": "ef790c93",
   "metadata": {},
   "source": [
    "#### Average position"
   ]
  },
  {
   "cell_type": "markdown",
   "id": "7d20e0c9",
   "metadata": {},
   "source": [
    "#### Fit translation"
   ]
  },
  {
   "cell_type": "markdown",
   "id": "2a32423a",
   "metadata": {},
   "source": [
    "#### Fit translation and rotation"
   ]
  },
  {
   "cell_type": "markdown",
   "id": "7a6cf0e0",
   "metadata": {},
   "source": [
    "#### Wrap"
   ]
  },
  {
   "cell_type": "markdown",
   "id": "5619b5b3",
   "metadata": {},
   "source": [
    "#### Unwrap"
   ]
  },
  {
   "cell_type": "markdown",
   "id": "b41f611c",
   "metadata": {},
   "source": [
    "### Writing a transformation"
   ]
  },
  {
   "cell_type": "code",
   "execution_count": null,
   "id": "78ea8408",
   "metadata": {},
   "outputs": [],
   "source": []
  }
 ],
 "metadata": {
  "kernelspec": {
   "display_name": "Python 3",
   "language": "python",
   "name": "python3"
  },
  "language_info": {
   "codemirror_mode": {
    "name": "ipython",
    "version": 3
   },
   "file_extension": ".py",
   "mimetype": "text/x-python",
   "name": "python",
   "nbconvert_exporter": "python",
   "pygments_lexer": "ipython3",
   "version": "3.7.6"
  }
 },
 "nbformat": 4,
 "nbformat_minor": 5
}
