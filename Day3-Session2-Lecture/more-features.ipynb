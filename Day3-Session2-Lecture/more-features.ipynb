{
 "cells": [
  {
   "cell_type": "markdown",
   "id": "14b08d2a",
   "metadata": {
    "slideshow": {
     "slide_type": "slide"
    }
   },
   "source": [
    "# Some more features"
   ]
  },
  {
   "cell_type": "markdown",
   "id": "61c5da9e",
   "metadata": {
    "slideshow": {
     "slide_type": "slide"
    }
   },
   "source": [
    "## Auxiliary data"
   ]
  },
  {
   "cell_type": "code",
   "execution_count": 1,
   "id": "84f331b9",
   "metadata": {},
   "outputs": [
    {
     "name": "stdout",
     "output_type": "stream",
     "text": [
      "[    0.        200.71288 -1552.2849  ...   128.4072   1386.0378\n",
      " -2699.3118 ]\n",
      "[   50.      -1082.6454   -658.32166 ...  -493.02954   589.8844\n",
      "  -739.2124 ]\n",
      "[  100.       -246.27269   146.52911 ...   484.32501  2332.3767\n",
      " -1801.6234 ]\n"
     ]
    },
    {
     "name": "stderr",
     "output_type": "stream",
     "text": [
      "c:\\users\\dr19502\\dev\\mdanalysis\\package\\MDAnalysis\\topology\\PDBParser.py:315: UserWarning: Element information is missing, elements attribute will not be populated. If needed these can be guessed using MDAnalysis.topology.guessers.\n",
      "  warnings.warn(\"Element information is missing, elements attribute \"\n"
     ]
    }
   ],
   "source": [
    "import MDAnalysis as mda\n",
    "from MDAnalysisTests.datafiles import PDB_sub_sol, XTC_sub_sol, XVG_BZ2\n",
    "\n",
    "# Create your universe as usual\n",
    "universe = mda.Universe(PDB_sub_sol, XTC_sub_sol)\n",
    "# Attach an auxiliary time serie with the name `forces`\n",
    "# In this example, the XVG file contains the force that applies to each atom.\n",
    "universe.trajectory.add_auxiliary('forces', XVG_BZ2)\n",
    "# Itarete through your trajectory, the time serie is kept in sync\n",
    "for time_step in universe.trajectory:\n",
    "    print(time_step.aux.forces)\n",
    "# The first element of each array is the time in picoseconds.\n",
    "# The next elements are the other columns of the XVG file."
   ]
  },
  {
   "cell_type": "markdown",
   "id": "510ab655",
   "metadata": {
    "slideshow": {
     "slide_type": "slide"
    }
   },
   "source": [
    "## On-the-fly transformations\n",
    "\n",
    "https://www.mdanalysis.org/2020/03/09/on-the-fly-transformations/"
   ]
  },
  {
   "cell_type": "markdown",
   "id": "26a0eaf1",
   "metadata": {
    "slideshow": {
     "slide_type": "slide"
    }
   },
   "source": [
    "### Why?"
   ]
  },
  {
   "cell_type": "code",
   "execution_count": 2,
   "id": "76c5466b",
   "metadata": {
    "cell_style": "split"
   },
   "outputs": [
    {
     "data": {
      "application/vnd.jupyter.widget-view+json": {
       "model_id": "334c2b6a114143e98d8b1f06c9b3f583",
       "version_major": 2,
       "version_minor": 0
      },
      "text/plain": [
       "_ColormakerRegistry()"
      ]
     },
     "metadata": {},
     "output_type": "display_data"
    }
   ],
   "source": [
    "import MDAnalysis as mda\n",
    "import MDAnalysisData\n",
    "import nglview as nv\n",
    "\n",
    "peptide = MDAnalysisData.datasets.fetch_membrane_peptide()\n",
    "u = mda.Universe(peptide.topology, peptide.trajectory)"
   ]
  },
  {
   "cell_type": "code",
   "execution_count": 4,
   "id": "c7a35a11",
   "metadata": {
    "cell_style": "split"
   },
   "outputs": [
    {
     "data": {
      "application/vnd.jupyter.widget-view+json": {
       "model_id": "6265f497cc0d4b64933ff0c949187a9b",
       "version_major": 2,
       "version_minor": 0
      },
      "text/plain": [
       "NGLWidget(max_frame=1000)"
      ]
     },
     "metadata": {},
     "output_type": "display_data"
    }
   ],
   "source": [
    "nv.show_mdanalysis(u)"
   ]
  },
  {
   "cell_type": "code",
   "execution_count": 5,
   "id": "b22081c0",
   "metadata": {
    "slideshow": {
     "slide_type": "slide"
    }
   },
   "outputs": [
    {
     "name": "stdout",
     "output_type": "stream",
     "text": [
      "[[64.1896   39.550003 12.84    ]\n",
      " [64.459595 37.61     11.610001]\n",
      " [63.449596 38.380005 12.35    ]\n",
      " [66.959595 41.060005 16.18    ]\n",
      " [66.73959  41.38     18.490002]\n",
      " [67.5896   43.170006 17.2     ]\n",
      " [66.6096   42.070004 17.2     ]\n",
      " [65.1996   42.47     17.08    ]\n",
      " [64.5196   43.100006 15.870001]]\n",
      "[[ 0.88000005 39.550003   12.84      ]\n",
      " [ 1.15       37.61       11.610001  ]\n",
      " [ 0.14       38.380005   12.35      ]\n",
      " [ 3.65       41.060005   16.18      ]\n",
      " [ 3.4300003  41.38       18.490002  ]\n",
      " [ 4.28       43.170006   17.2       ]\n",
      " [ 3.3000002  42.070004   17.2       ]\n",
      " [ 1.8900001  42.47       17.08      ]\n",
      " [ 1.21       43.100006   15.870001  ]]\n"
     ]
    }
   ],
   "source": [
    "u.atoms.unwrap()\n",
    "print(u.atoms.positions[[565, 566, 568, 841, 842, 843, 844, 845, 846], :])\n",
    "\n",
    "u.trajectory[1]\n",
    "u.trajectory[0]\n",
    "\n",
    "print(u.atoms.positions[[565, 566, 568, 841, 842, 843, 844, 845, 846], :])"
   ]
  },
  {
   "cell_type": "markdown",
   "id": "556381fa",
   "metadata": {
    "slideshow": {
     "slide_type": "slide"
    }
   },
   "source": [
    "### Setting a workflow"
   ]
  },
  {
   "cell_type": "code",
   "execution_count": 6,
   "id": "4955484c",
   "metadata": {
    "cell_style": "center"
   },
   "outputs": [],
   "source": [
    "import MDAnalysis as mda\n",
    "from MDAnalysis import transformations\n",
    "import MDAnalysisData\n",
    "import nglview as nv\n",
    "\n",
    "peptide = MDAnalysisData.datasets.fetch_membrane_peptide()\n",
    "u = mda.Universe(peptide.topology, peptide.trajectory)\n",
    "workflow = [transformations.unwrap(u.atoms)]\n",
    "u.trajectory.add_transformations(*workflow)"
   ]
  },
  {
   "cell_type": "code",
   "execution_count": 7,
   "id": "007e0768",
   "metadata": {
    "cell_style": "center",
    "slideshow": {
     "slide_type": "slide"
    }
   },
   "outputs": [
    {
     "data": {
      "application/vnd.jupyter.widget-view+json": {
       "model_id": "49f15af27e704e959ed09a5b6998fc79",
       "version_major": 2,
       "version_minor": 0
      },
      "text/plain": [
       "NGLWidget(max_frame=1000)"
      ]
     },
     "metadata": {},
     "output_type": "display_data"
    }
   ],
   "source": [
    "nv.show_mdanalysis(u)"
   ]
  },
  {
   "cell_type": "markdown",
   "id": "6aceef77",
   "metadata": {
    "slideshow": {
     "slide_type": "slide"
    }
   },
   "source": [
    "<p style=\"color: red; font-size: 300%;\">The transformation workflow can only be set once!</h1>"
   ]
  },
  {
   "cell_type": "markdown",
   "id": "e8a27fcf",
   "metadata": {
    "slideshow": {
     "slide_type": "slide"
    }
   },
   "source": [
    "## Combine transformations"
   ]
  },
  {
   "cell_type": "code",
   "execution_count": 8,
   "id": "21ef87cb",
   "metadata": {
    "cell_style": "split"
   },
   "outputs": [],
   "source": [
    "import MDAnalysis as mda\n",
    "from MDAnalysis import transformations\n",
    "import MDAnalysisData\n",
    "import nglview as nv\n",
    "\n",
    "peptide = MDAnalysisData.datasets.fetch_membrane_peptide()\n",
    "u = mda.Universe(peptide.topology, peptide.trajectory)\n",
    "helix = u.select_atoms('protein')\n",
    "workflow = [\n",
    "    transformations.unwrap(u.atoms),\n",
    "    transformations.center_in_box(helix),\n",
    "    transformations.wrap(u.atoms, compound='fragments')\n",
    "]\n",
    "u.trajectory.add_transformations(*workflow)"
   ]
  },
  {
   "cell_type": "code",
   "execution_count": 9,
   "id": "faa7b20a",
   "metadata": {
    "cell_style": "split"
   },
   "outputs": [
    {
     "data": {
      "application/vnd.jupyter.widget-view+json": {
       "model_id": "b8d161e50edd49bc91fcf95440809d49",
       "version_major": 2,
       "version_minor": 0
      },
      "text/plain": [
       "NGLWidget(max_frame=1000)"
      ]
     },
     "metadata": {},
     "output_type": "display_data"
    }
   ],
   "source": [
    "nv.show_mdanalysis(u)"
   ]
  },
  {
   "cell_type": "markdown",
   "id": "38c88f1c",
   "metadata": {
    "slideshow": {
     "slide_type": "slide"
    }
   },
   "source": [
    "### Transformations out of the box\n",
    "\n",
    "* translation\n",
    "* center in box\n",
    "* rotation\n",
    "* average position\n",
    "* fit (translation)\n",
    "* fit (translation and rotation)\n",
    "* wrap\n",
    "* unwrap"
   ]
  },
  {
   "cell_type": "markdown",
   "id": "b41f611c",
   "metadata": {
    "slideshow": {
     "slide_type": "slide"
    }
   },
   "source": [
    "### Writing a transformation"
   ]
  },
  {
   "cell_type": "code",
   "execution_count": 10,
   "id": "78ea8408",
   "metadata": {},
   "outputs": [],
   "source": [
    "import MDAnalysis as mda\n",
    "from MDAnalysis import transformations\n",
    "import MDAnalysisData\n",
    "import nglview as nv\n",
    "\n",
    "def up_by_40(ts):\n",
    "    ts.positions += [0, 0, 40]\n",
    "    return ts\n",
    "\n",
    "\n",
    "peptide = MDAnalysisData.datasets.fetch_membrane_peptide()\n",
    "u = mda.Universe(peptide.topology, peptide.trajectory)\n",
    "workflow = [up_by_40]\n",
    "u.trajectory.add_transformations(*workflow)"
   ]
  },
  {
   "cell_type": "code",
   "execution_count": 11,
   "id": "728a4ed7",
   "metadata": {
    "slideshow": {
     "slide_type": "slide"
    }
   },
   "outputs": [
    {
     "data": {
      "application/vnd.jupyter.widget-view+json": {
       "model_id": "21aef16dc6ae46ae966ea40a96bf8314",
       "version_major": 2,
       "version_minor": 0
      },
      "text/plain": [
       "NGLWidget(max_frame=1000)"
      ]
     },
     "metadata": {},
     "output_type": "display_data"
    }
   ],
   "source": [
    "v = nv.show_mdanalysis(u)\n",
    "v.add_unitcell()\n",
    "v"
   ]
  },
  {
   "cell_type": "code",
   "execution_count": 14,
   "id": "5937f0e3",
   "metadata": {
    "cell_style": "split"
   },
   "outputs": [],
   "source": [
    "class UpByX:\n",
    "    def __init__(self, x):\n",
    "        self.x = x\n",
    "    \n",
    "    def __call__(self, ts):\n",
    "        ts.positions += [0, 0, self.x]\n",
    "        return ts\n",
    "    \n",
    "peptide = MDAnalysisData.datasets.fetch_membrane_peptide()\n",
    "u = mda.Universe(peptide.topology, peptide.trajectory)\n",
    "workflow = [UpByX(20)]\n",
    "u.trajectory.add_transformations(*workflow)"
   ]
  },
  {
   "cell_type": "code",
   "execution_count": 15,
   "id": "d04e836c",
   "metadata": {
    "cell_style": "split"
   },
   "outputs": [
    {
     "data": {
      "application/vnd.jupyter.widget-view+json": {
       "model_id": "d25f1a6781b24e4c8d55538c2f095eed",
       "version_major": 2,
       "version_minor": 0
      },
      "text/plain": [
       "NGLWidget(max_frame=1000)"
      ]
     },
     "metadata": {},
     "output_type": "display_data"
    }
   ],
   "source": [
    "v = nv.show_mdanalysis(u)\n",
    "v.add_unitcell()\n",
    "v"
   ]
  }
 ],
 "metadata": {
  "celltoolbar": "Slideshow",
  "kernelspec": {
   "display_name": "Python 3",
   "language": "python",
   "name": "python3"
  },
  "language_info": {
   "codemirror_mode": {
    "name": "ipython",
    "version": 3
   },
   "file_extension": ".py",
   "mimetype": "text/x-python",
   "name": "python",
   "nbconvert_exporter": "python",
   "pygments_lexer": "ipython3",
   "version": "3.7.6"
  }
 },
 "nbformat": 4,
 "nbformat_minor": 5
}
