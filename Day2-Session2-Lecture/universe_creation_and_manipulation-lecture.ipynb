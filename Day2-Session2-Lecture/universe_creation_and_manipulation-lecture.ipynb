{
 "cells": [
  {
   "cell_type": "markdown",
   "id": "d0cb32fa",
   "metadata": {
    "slideshow": {
     "slide_type": "slide"
    }
   },
   "source": [
    "# Universe creation and manipulation"
   ]
  },
  {
   "cell_type": "code",
   "execution_count": 1,
   "id": "509605b7",
   "metadata": {},
   "outputs": [
    {
     "data": {
      "application/vnd.jupyter.widget-view+json": {
       "model_id": "e9ca9701412a48ffa21e3a3f6faf5529",
       "version_major": 2,
       "version_minor": 0
      },
      "text/plain": [
       "_ColormakerRegistry()"
      ]
     },
     "metadata": {},
     "output_type": "display_data"
    }
   ],
   "source": [
    "import MDAnalysis as mda\n",
    "import nglview as nv"
   ]
  },
  {
   "cell_type": "markdown",
   "id": "c8a1d6b1",
   "metadata": {
    "slideshow": {
     "slide_type": "slide"
    }
   },
   "source": [
    "* There is more than one way of creating a `Universe` depending on the needs;\n",
    "* The content of a `Universe` can be altered;\n",
    "* MDAnalysis can talk with other libraries."
   ]
  },
  {
   "cell_type": "markdown",
   "id": "188ac2e9",
   "metadata": {
    "slideshow": {
     "slide_type": "slide"
    }
   },
   "source": [
    "## Creating a `Universe`"
   ]
  },
  {
   "cell_type": "markdown",
   "id": "968ef82b",
   "metadata": {
    "slideshow": {
     "slide_type": "slide"
    }
   },
   "source": [
    "### The boring way"
   ]
  },
  {
   "cell_type": "code",
   "execution_count": 3,
   "id": "ac8587fd",
   "metadata": {},
   "outputs": [],
   "source": [
    "import MDAnalysis as mda\n",
    "from MDAnalysis.tests.datafiles import TPR, XTC\n",
    "u = mda.Universe(TPR, XTC)"
   ]
  },
  {
   "cell_type": "markdown",
   "id": "fb8afedf",
   "metadata": {},
   "source": [
    "```python\n",
    "mda.Universe(topology, trajectory)\n",
    "```"
   ]
  },
  {
   "cell_type": "markdown",
   "id": "afecfab1",
   "metadata": {
    "slideshow": {
     "slide_type": "slide"
    }
   },
   "source": [
    "### From a numpy array"
   ]
  },
  {
   "cell_type": "markdown",
   "id": "e1ee7b75",
   "metadata": {
    "slideshow": {
     "slide_type": "slide"
    }
   },
   "source": [
    "### From scratch"
   ]
  },
  {
   "cell_type": "markdown",
   "id": "22737364",
   "metadata": {
    "slideshow": {
     "slide_type": "slide"
    }
   },
   "source": [
    "### By copying another `Universe`"
   ]
  },
  {
   "cell_type": "markdown",
   "id": "621f0291",
   "metadata": {
    "slideshow": {
     "slide_type": "slide"
    }
   },
   "source": [
    "### By merging atom groups"
   ]
  },
  {
   "cell_type": "markdown",
   "id": "3498364e",
   "metadata": {
    "slideshow": {
     "slide_type": "slide"
    }
   },
   "source": [
    "## Moving atoms"
   ]
  },
  {
   "cell_type": "markdown",
   "id": "5b10557c",
   "metadata": {
    "slideshow": {
     "slide_type": "slide"
    }
   },
   "source": [
    "### Setting atom positions"
   ]
  },
  {
   "cell_type": "code",
   "execution_count": null,
   "id": "32bc9ed2",
   "metadata": {},
   "outputs": [],
   "source": [
    "u.atoms.positions = np.array(...)"
   ]
  },
  {
   "cell_type": "markdown",
   "id": "b11bf285",
   "metadata": {
    "slideshow": {
     "slide_type": "slide"
    }
   },
   "source": [
    "### Be careful! `AtomGroup.positions` returns a copy"
   ]
  },
  {
   "cell_type": "code",
   "execution_count": null,
   "id": "e9363cf3",
   "metadata": {},
   "outputs": [],
   "source": [
    "print(u.atoms.positions)\n",
    "u.atoms.positions += 10\n",
    "print(u.atoms.positions)"
   ]
  },
  {
   "cell_type": "markdown",
   "id": "2bf5983e",
   "metadata": {
    "slideshow": {
     "slide_type": "slide"
    }
   },
   "source": [
    "### Translation"
   ]
  },
  {
   "cell_type": "code",
   "execution_count": null,
   "id": "ff3a8543",
   "metadata": {},
   "outputs": [],
   "source": [
    "u.atoms.positions = u.atoms.positions + ..."
   ]
  },
  {
   "cell_type": "code",
   "execution_count": null,
   "id": "f5326634",
   "metadata": {},
   "outputs": [],
   "source": [
    "u.atoms.translate(...)"
   ]
  },
  {
   "cell_type": "markdown",
   "id": "2b6847f5",
   "metadata": {
    "slideshow": {
     "slide_type": "slide"
    }
   },
   "source": [
    "Building a crystal"
   ]
  },
  {
   "cell_type": "markdown",
   "id": "5fe7fe33",
   "metadata": {
    "slideshow": {
     "slide_type": "slide"
    }
   },
   "source": [
    "### Rotation"
   ]
  },
  {
   "cell_type": "code",
   "execution_count": null,
   "id": "7cee5446",
   "metadata": {},
   "outputs": [],
   "source": [
    "u.atoms.rotate(...)\n"
   ]
  },
  {
   "cell_type": "code",
   "execution_count": null,
   "id": "84921cdd",
   "metadata": {},
   "outputs": [],
   "source": [
    "u.atoms.rotateby(...)"
   ]
  },
  {
   "cell_type": "markdown",
   "id": "d5d65d08",
   "metadata": {
    "slideshow": {
     "slide_type": "slide"
    }
   },
   "source": [
    "### Geometric transformations"
   ]
  },
  {
   "cell_type": "code",
   "execution_count": null,
   "id": "fb6f733c",
   "metadata": {},
   "outputs": [],
   "source": [
    "u.atoms.transform(...)"
   ]
  },
  {
   "cell_type": "markdown",
   "id": "ca9baff4",
   "metadata": {
    "slideshow": {
     "slide_type": "slide"
    }
   },
   "source": [
    "### Periodic boundary conditions"
   ]
  },
  {
   "cell_type": "code",
   "execution_count": null,
   "id": "e3b1bb79",
   "metadata": {},
   "outputs": [],
   "source": [
    "u.atoms.unwrap()"
   ]
  },
  {
   "cell_type": "code",
   "execution_count": null,
   "id": "73adc7bf",
   "metadata": {},
   "outputs": [],
   "source": [
    "u.atoms.wrap()"
   ]
  },
  {
   "cell_type": "code",
   "execution_count": null,
   "id": "2f3a9b46",
   "metadata": {},
   "outputs": [],
   "source": [
    "u.atoms.pack_into_box(...)"
   ]
  },
  {
   "cell_type": "markdown",
   "id": "16930c44",
   "metadata": {
    "slideshow": {
     "slide_type": "slide"
    }
   },
   "source": [
    "### Be careful! Changes may not be permanent!"
   ]
  },
  {
   "cell_type": "markdown",
   "id": "edfaa6be",
   "metadata": {},
   "source": [
    "Tomorrow: on-the-fly transformations"
   ]
  },
  {
   "cell_type": "markdown",
   "id": "6f36b58f",
   "metadata": {
    "slideshow": {
     "slide_type": "slide"
    }
   },
   "source": [
    "## Talking to other libraries"
   ]
  },
  {
   "cell_type": "markdown",
   "id": "9640ab09",
   "metadata": {
    "slideshow": {
     "slide_type": "slide"
    }
   },
   "source": [
    "### Using files"
   ]
  },
  {
   "cell_type": "markdown",
   "id": "412b24c0",
   "metadata": {
    "slideshow": {
     "slide_type": "slide"
    }
   },
   "source": [
    "### Parmed"
   ]
  },
  {
   "cell_type": "markdown",
   "id": "04603354",
   "metadata": {
    "slideshow": {
     "slide_type": "slide"
    }
   },
   "source": [
    "### RDKit"
   ]
  },
  {
   "cell_type": "markdown",
   "id": "55dcf07f",
   "metadata": {
    "slideshow": {
     "slide_type": "slide"
    }
   },
   "source": [
    "### OpenMM"
   ]
  },
  {
   "cell_type": "code",
   "execution_count": null,
   "id": "13a56668",
   "metadata": {
    "slideshow": {
     "slide_type": "slide"
    }
   },
   "outputs": [],
   "source": []
  }
 ],
 "metadata": {
  "celltoolbar": "Slideshow",
  "kernelspec": {
   "display_name": "Python 3",
   "language": "python",
   "name": "python3"
  },
  "language_info": {
   "codemirror_mode": {
    "name": "ipython",
    "version": 3
   },
   "file_extension": ".py",
   "mimetype": "text/x-python",
   "name": "python",
   "nbconvert_exporter": "python",
   "pygments_lexer": "ipython3",
   "version": "3.7.6"
  }
 },
 "nbformat": 4,
 "nbformat_minor": 5
}
