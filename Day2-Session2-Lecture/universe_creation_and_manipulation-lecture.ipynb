{
 "cells": [
  {
   "cell_type": "markdown",
   "id": "d0cb32fa",
   "metadata": {
    "slideshow": {
     "slide_type": "slide"
    }
   },
   "source": [
    "# Universe creation and manipulation"
   ]
  },
  {
   "cell_type": "code",
   "execution_count": 1,
   "id": "509605b7",
   "metadata": {
    "slideshow": {
     "slide_type": "skip"
    }
   },
   "outputs": [
    {
     "data": {
      "application/vnd.jupyter.widget-view+json": {
       "model_id": "c382fa720ea84195b09b9cad6464b200",
       "version_major": 2,
       "version_minor": 0
      },
      "text/plain": [
       "_ColormakerRegistry()"
      ]
     },
     "metadata": {},
     "output_type": "display_data"
    }
   ],
   "source": [
    "import MDAnalysis as mda\n",
    "import nglview as nv\n",
    "import numpy as np"
   ]
  },
  {
   "cell_type": "markdown",
   "id": "c8a1d6b1",
   "metadata": {
    "slideshow": {
     "slide_type": "slide"
    }
   },
   "source": [
    "* There is more than one way of creating a `Universe` depending on the needs;\n",
    "* The content of a `Universe` can be altered;\n",
    "* MDAnalysis can talk with other libraries."
   ]
  },
  {
   "cell_type": "markdown",
   "id": "188ac2e9",
   "metadata": {
    "slideshow": {
     "slide_type": "slide"
    }
   },
   "source": [
    "## Creating a `Universe`"
   ]
  },
  {
   "cell_type": "markdown",
   "id": "968ef82b",
   "metadata": {
    "slideshow": {
     "slide_type": "slide"
    }
   },
   "source": [
    "### The boring way"
   ]
  },
  {
   "cell_type": "code",
   "execution_count": 2,
   "id": "ac8587fd",
   "metadata": {},
   "outputs": [
    {
     "data": {
      "text/plain": [
       "<Universe with 47681 atoms>"
      ]
     },
     "execution_count": 2,
     "metadata": {},
     "output_type": "execute_result"
    }
   ],
   "source": [
    "from MDAnalysis.tests.datafiles import TPR, XTC\n",
    "u = mda.Universe(TPR, XTC)\n",
    "u"
   ]
  },
  {
   "cell_type": "markdown",
   "id": "fb8afedf",
   "metadata": {},
   "source": [
    "```python\n",
    "mda.Universe(topology, trajectory)\n",
    "```"
   ]
  },
  {
   "cell_type": "markdown",
   "id": "afecfab1",
   "metadata": {
    "slideshow": {
     "slide_type": "slide"
    }
   },
   "source": [
    "### From a numpy array"
   ]
  },
  {
   "cell_type": "code",
   "execution_count": 3,
   "id": "0af5b8f1",
   "metadata": {
    "slideshow": {
     "slide_type": "skip"
    }
   },
   "outputs": [],
   "source": [
    "positions = u.atoms.positions"
   ]
  },
  {
   "cell_type": "code",
   "execution_count": 4,
   "id": "9786a89e",
   "metadata": {},
   "outputs": [
    {
     "name": "stdout",
     "output_type": "stream",
     "text": [
      "[[ 52.02       43.560005   31.550003 ]\n",
      " [ 51.190002   44.11       31.720001 ]\n",
      " [ 51.550003   42.83       31.04     ]\n",
      " ...\n",
      " [105.340004   74.07001    40.989998 ]\n",
      " [ 57.68       35.32       14.8      ]\n",
      " [ 62.960007   47.240005    3.7500002]]\n"
     ]
    },
    {
     "data": {
      "text/plain": [
       "<Universe with 47681 atoms>"
      ]
     },
     "execution_count": 4,
     "metadata": {},
     "output_type": "execute_result"
    }
   ],
   "source": [
    "print(positions)\n",
    "u = mda.Universe(TPR, positions)\n",
    "u"
   ]
  },
  {
   "cell_type": "markdown",
   "id": "e1ee7b75",
   "metadata": {
    "slideshow": {
     "slide_type": "slide"
    }
   },
   "source": [
    "### From scratch"
   ]
  },
  {
   "cell_type": "code",
   "execution_count": 5,
   "id": "0806e17b",
   "metadata": {
    "slideshow": {
     "slide_type": "skip"
    }
   },
   "outputs": [],
   "source": [
    "water_positions = u.select_atoms('resname SOL').residues[:2].atoms.select_atoms(\"not name MW\").positions"
   ]
  },
  {
   "cell_type": "code",
   "execution_count": 6,
   "id": "c8b3444f",
   "metadata": {
    "slideshow": {
     "slide_type": "-"
    }
   },
   "outputs": [],
   "source": [
    "u = mda.Universe.empty(\n",
    "    n_atoms=6, n_residues=2, n_segments=1,\n",
    "    atom_resindex=[0, 0, 0, 1, 1, 1],\n",
    "    residue_segindex=[0, 0],\n",
    "    trajectory=True\n",
    ")"
   ]
  },
  {
   "cell_type": "code",
   "execution_count": 7,
   "id": "9e1bf40e",
   "metadata": {
    "slideshow": {
     "slide_type": "slide"
    }
   },
   "outputs": [],
   "source": [
    "u.add_TopologyAttr('names', ['O', 'H1', 'H2'] * 2)\n",
    "u.add_TopologyAttr('elements', ['O', 'H', 'H'] * 2)\n",
    "u.add_TopologyAttr('resnames', ['HOH', 'HOH'])"
   ]
  },
  {
   "cell_type": "code",
   "execution_count": 8,
   "id": "ae9392c7",
   "metadata": {},
   "outputs": [],
   "source": [
    "u.add_bonds([(0, 1), (0, 2), (3, 4), (3, 5)])\n",
    "u.add_angles([(1, 0, 2), (4, 3, 5)])"
   ]
  },
  {
   "cell_type": "code",
   "execution_count": 9,
   "id": "1d88fb03",
   "metadata": {
    "slideshow": {
     "slide_type": "slide"
    }
   },
   "outputs": [
    {
     "name": "stdout",
     "output_type": "stream",
     "text": [
      "[[21.44      26.970001   3.5000002]\n",
      " [21.81      26.160002   3.14     ]\n",
      " [21.470001  27.59       2.77     ]\n",
      " [41.45      43.95      47.210003 ]\n",
      " [40.71      44.31      46.720005 ]\n",
      " [42.210003  44.14      46.670002 ]]\n"
     ]
    }
   ],
   "source": [
    "print(water_positions)\n",
    "u.atoms.positions = water_positions"
   ]
  },
  {
   "cell_type": "code",
   "execution_count": 11,
   "id": "92ac1a7c",
   "metadata": {
    "slideshow": {
     "slide_type": "slide"
    }
   },
   "outputs": [
    {
     "data": {
      "application/vnd.jupyter.widget-view+json": {
       "model_id": "990652ad5dc5417eb532ce21c0e2a7f0",
       "version_major": 2,
       "version_minor": 0
      },
      "text/plain": [
       "NGLWidget()"
      ]
     },
     "metadata": {},
     "output_type": "display_data"
    }
   ],
   "source": [
    "nv.show_mdanalysis(u)"
   ]
  },
  {
   "cell_type": "markdown",
   "id": "22737364",
   "metadata": {
    "slideshow": {
     "slide_type": "slide"
    }
   },
   "source": [
    "### By copying another `Universe`"
   ]
  },
  {
   "cell_type": "code",
   "execution_count": 12,
   "id": "ed5df1a4",
   "metadata": {},
   "outputs": [],
   "source": [
    "u2 = u.copy()"
   ]
  },
  {
   "cell_type": "markdown",
   "id": "621f0291",
   "metadata": {
    "slideshow": {
     "slide_type": "slide"
    }
   },
   "source": [
    "### By merging atom groups"
   ]
  },
  {
   "cell_type": "code",
   "execution_count": 13,
   "id": "91155fef",
   "metadata": {},
   "outputs": [
    {
     "data": {
      "text/plain": [
       "<Universe with 12 atoms>"
      ]
     },
     "execution_count": 13,
     "metadata": {},
     "output_type": "execute_result"
    }
   ],
   "source": [
    "u3 = mda.Merge(u.atoms, u2.atoms)\n",
    "u3"
   ]
  },
  {
   "cell_type": "markdown",
   "id": "3498364e",
   "metadata": {
    "slideshow": {
     "slide_type": "slide"
    }
   },
   "source": [
    "## Moving atoms"
   ]
  },
  {
   "cell_type": "markdown",
   "id": "5b10557c",
   "metadata": {
    "slideshow": {
     "slide_type": "slide"
    }
   },
   "source": [
    "### Setting atom positions"
   ]
  },
  {
   "cell_type": "code",
   "execution_count": null,
   "id": "32bc9ed2",
   "metadata": {},
   "outputs": [],
   "source": [
    "u.atoms.positions = np.array(...)"
   ]
  },
  {
   "cell_type": "markdown",
   "id": "b11bf285",
   "metadata": {
    "slideshow": {
     "slide_type": "slide"
    }
   },
   "source": [
    "### Be careful! `AtomGroup.positions` returns a copy"
   ]
  },
  {
   "cell_type": "code",
   "execution_count": 15,
   "id": "e9363cf3",
   "metadata": {},
   "outputs": [
    {
     "name": "stdout",
     "output_type": "stream",
     "text": [
      "Before [[21.44      26.970001   3.5000002]\n",
      " [21.81      26.160002   3.14     ]\n",
      " [21.470001  27.59       2.77     ]\n",
      " [41.45      43.95      47.210003 ]\n",
      " [40.71      44.31      46.720005 ]\n",
      " [42.210003  44.14      46.670002 ]]\n",
      "After [[21.44      26.970001   3.5000002]\n",
      " [21.81      26.160002   3.14     ]\n",
      " [21.470001  27.59       2.77     ]\n",
      " [41.45      43.95      47.210003 ]\n",
      " [40.71      44.31      46.720005 ]\n",
      " [42.210003  44.14      46.670002 ]]\n"
     ]
    }
   ],
   "source": [
    "print('Before', u.atoms.positions)\n",
    "positions = u.atoms.positions\n",
    "positions += 10\n",
    "print('After', u.atoms.positions)"
   ]
  },
  {
   "cell_type": "markdown",
   "id": "2bf5983e",
   "metadata": {
    "slideshow": {
     "slide_type": "slide"
    }
   },
   "source": [
    "### Translation"
   ]
  },
  {
   "cell_type": "code",
   "execution_count": null,
   "id": "ff3a8543",
   "metadata": {},
   "outputs": [],
   "source": [
    "u.atoms.positions += ..."
   ]
  },
  {
   "cell_type": "code",
   "execution_count": null,
   "id": "f5326634",
   "metadata": {},
   "outputs": [],
   "source": [
    "u.atoms.translate(...)"
   ]
  },
  {
   "cell_type": "code",
   "execution_count": 16,
   "id": "281a9033",
   "metadata": {
    "slideshow": {
     "slide_type": "slide"
    }
   },
   "outputs": [
    {
     "data": {
      "application/vnd.jupyter.widget-view+json": {
       "model_id": "48bb6948e56a4c7f9509bffd8b85b9b3",
       "version_major": 2,
       "version_minor": 0
      },
      "text/plain": [
       "NGLWidget()"
      ]
     },
     "metadata": {},
     "output_type": "display_data"
    }
   ],
   "source": [
    "from MDAnalysis.tests.datafiles import fullerene\n",
    "template = mda.Universe(fullerene)\n",
    "template.atoms.translate(-template.atoms.center_of_mass())\n",
    "nv.show_mdanalysis(template)"
   ]
  },
  {
   "cell_type": "code",
   "execution_count": 17,
   "id": "c075b615",
   "metadata": {
    "slideshow": {
     "slide_type": "slide"
    }
   },
   "outputs": [
    {
     "data": {
      "text/plain": [
       "[<AtomGroup with 60 atoms>,\n",
       " <AtomGroup with 60 atoms>,\n",
       " <AtomGroup with 60 atoms>,\n",
       " <AtomGroup with 60 atoms>,\n",
       " <AtomGroup with 60 atoms>,\n",
       " <AtomGroup with 60 atoms>,\n",
       " <AtomGroup with 60 atoms>,\n",
       " <AtomGroup with 60 atoms>,\n",
       " <AtomGroup with 60 atoms>,\n",
       " <AtomGroup with 60 atoms>,\n",
       " <AtomGroup with 60 atoms>,\n",
       " <AtomGroup with 60 atoms>,\n",
       " <AtomGroup with 60 atoms>,\n",
       " <AtomGroup with 60 atoms>,\n",
       " <AtomGroup with 60 atoms>,\n",
       " <AtomGroup with 60 atoms>,\n",
       " <AtomGroup with 60 atoms>,\n",
       " <AtomGroup with 60 atoms>,\n",
       " <AtomGroup with 60 atoms>,\n",
       " <AtomGroup with 60 atoms>,\n",
       " <AtomGroup with 60 atoms>,\n",
       " <AtomGroup with 60 atoms>,\n",
       " <AtomGroup with 60 atoms>,\n",
       " <AtomGroup with 60 atoms>,\n",
       " <AtomGroup with 60 atoms>,\n",
       " <AtomGroup with 60 atoms>,\n",
       " <AtomGroup with 60 atoms>,\n",
       " <AtomGroup with 60 atoms>,\n",
       " <AtomGroup with 60 atoms>,\n",
       " <AtomGroup with 60 atoms>,\n",
       " <AtomGroup with 60 atoms>,\n",
       " <AtomGroup with 60 atoms>,\n",
       " <AtomGroup with 60 atoms>,\n",
       " <AtomGroup with 60 atoms>,\n",
       " <AtomGroup with 60 atoms>,\n",
       " <AtomGroup with 60 atoms>,\n",
       " <AtomGroup with 60 atoms>,\n",
       " <AtomGroup with 60 atoms>,\n",
       " <AtomGroup with 60 atoms>,\n",
       " <AtomGroup with 60 atoms>,\n",
       " <AtomGroup with 60 atoms>,\n",
       " <AtomGroup with 60 atoms>,\n",
       " <AtomGroup with 60 atoms>,\n",
       " <AtomGroup with 60 atoms>,\n",
       " <AtomGroup with 60 atoms>,\n",
       " <AtomGroup with 60 atoms>,\n",
       " <AtomGroup with 60 atoms>,\n",
       " <AtomGroup with 60 atoms>,\n",
       " <AtomGroup with 60 atoms>,\n",
       " <AtomGroup with 60 atoms>,\n",
       " <AtomGroup with 60 atoms>,\n",
       " <AtomGroup with 60 atoms>,\n",
       " <AtomGroup with 60 atoms>,\n",
       " <AtomGroup with 60 atoms>,\n",
       " <AtomGroup with 60 atoms>,\n",
       " <AtomGroup with 60 atoms>,\n",
       " <AtomGroup with 60 atoms>,\n",
       " <AtomGroup with 60 atoms>,\n",
       " <AtomGroup with 60 atoms>,\n",
       " <AtomGroup with 60 atoms>,\n",
       " <AtomGroup with 60 atoms>,\n",
       " <AtomGroup with 60 atoms>,\n",
       " <AtomGroup with 60 atoms>,\n",
       " <AtomGroup with 60 atoms>,\n",
       " <AtomGroup with 60 atoms>,\n",
       " <AtomGroup with 60 atoms>,\n",
       " <AtomGroup with 60 atoms>,\n",
       " <AtomGroup with 60 atoms>,\n",
       " <AtomGroup with 60 atoms>,\n",
       " <AtomGroup with 60 atoms>,\n",
       " <AtomGroup with 60 atoms>,\n",
       " <AtomGroup with 60 atoms>,\n",
       " <AtomGroup with 60 atoms>,\n",
       " <AtomGroup with 60 atoms>,\n",
       " <AtomGroup with 60 atoms>,\n",
       " <AtomGroup with 60 atoms>,\n",
       " <AtomGroup with 60 atoms>,\n",
       " <AtomGroup with 60 atoms>,\n",
       " <AtomGroup with 60 atoms>,\n",
       " <AtomGroup with 60 atoms>,\n",
       " <AtomGroup with 60 atoms>,\n",
       " <AtomGroup with 60 atoms>,\n",
       " <AtomGroup with 60 atoms>,\n",
       " <AtomGroup with 60 atoms>,\n",
       " <AtomGroup with 60 atoms>,\n",
       " <AtomGroup with 60 atoms>,\n",
       " <AtomGroup with 60 atoms>,\n",
       " <AtomGroup with 60 atoms>,\n",
       " <AtomGroup with 60 atoms>,\n",
       " <AtomGroup with 60 atoms>,\n",
       " <AtomGroup with 60 atoms>,\n",
       " <AtomGroup with 60 atoms>,\n",
       " <AtomGroup with 60 atoms>,\n",
       " <AtomGroup with 60 atoms>,\n",
       " <AtomGroup with 60 atoms>,\n",
       " <AtomGroup with 60 atoms>,\n",
       " <AtomGroup with 60 atoms>,\n",
       " <AtomGroup with 60 atoms>,\n",
       " <AtomGroup with 60 atoms>,\n",
       " <AtomGroup with 60 atoms>,\n",
       " <AtomGroup with 60 atoms>,\n",
       " <AtomGroup with 60 atoms>,\n",
       " <AtomGroup with 60 atoms>,\n",
       " <AtomGroup with 60 atoms>,\n",
       " <AtomGroup with 60 atoms>,\n",
       " <AtomGroup with 60 atoms>,\n",
       " <AtomGroup with 60 atoms>,\n",
       " <AtomGroup with 60 atoms>,\n",
       " <AtomGroup with 60 atoms>,\n",
       " <AtomGroup with 60 atoms>,\n",
       " <AtomGroup with 60 atoms>,\n",
       " <AtomGroup with 60 atoms>,\n",
       " <AtomGroup with 60 atoms>,\n",
       " <AtomGroup with 60 atoms>,\n",
       " <AtomGroup with 60 atoms>,\n",
       " <AtomGroup with 60 atoms>,\n",
       " <AtomGroup with 60 atoms>,\n",
       " <AtomGroup with 60 atoms>,\n",
       " <AtomGroup with 60 atoms>,\n",
       " <AtomGroup with 60 atoms>,\n",
       " <AtomGroup with 60 atoms>,\n",
       " <AtomGroup with 60 atoms>,\n",
       " <AtomGroup with 60 atoms>,\n",
       " <AtomGroup with 60 atoms>,\n",
       " <AtomGroup with 60 atoms>]"
      ]
     },
     "execution_count": 17,
     "metadata": {},
     "output_type": "execute_result"
    }
   ],
   "source": [
    "distance = 10.0 * np.sqrt(2)  # sqrt(2) nm in Å\n",
    "all_fullerenes = []\n",
    "for i in range(5):\n",
    "    for j in range(5):\n",
    "        for k in range(5):\n",
    "            vector = np.array([i / 2, j / 2, k]) * distance\n",
    "            if i % 2 == 0 and j %2 != 0:\n",
    "                vector += [0.0, 0.0, distance / 2]\n",
    "            if i % 2 != 0 and j % 2 == 0:\n",
    "                vector += [0.0, 0.0, distance / 2]\n",
    "            fullerene_copy = template.copy()\n",
    "            fullerene_copy.atoms.translate(vector)\n",
    "            all_fullerenes.append(fullerene_copy.atoms)\n",
    "all_fullerenes"
   ]
  },
  {
   "cell_type": "code",
   "execution_count": 18,
   "id": "c0ed1dd1",
   "metadata": {
    "slideshow": {
     "slide_type": "slide"
    }
   },
   "outputs": [
    {
     "data": {
      "application/vnd.jupyter.widget-view+json": {
       "model_id": "b39407a127b8435596bcaa7bc06e98f1",
       "version_major": 2,
       "version_minor": 0
      },
      "text/plain": [
       "NGLWidget()"
      ]
     },
     "metadata": {},
     "output_type": "display_data"
    }
   ],
   "source": [
    "crystal = mda.Merge(*all_fullerenes)\n",
    "v = nv.show_mdanalysis(crystal)\n",
    "#v.camera = 'orthographic'\n",
    "v"
   ]
  },
  {
   "cell_type": "markdown",
   "id": "5fe7fe33",
   "metadata": {
    "slideshow": {
     "slide_type": "slide"
    }
   },
   "source": [
    "### Rotation"
   ]
  },
  {
   "cell_type": "code",
   "execution_count": null,
   "id": "7cee5446",
   "metadata": {},
   "outputs": [],
   "source": [
    "u.atoms.rotate(...)\n"
   ]
  },
  {
   "cell_type": "code",
   "execution_count": null,
   "id": "84921cdd",
   "metadata": {},
   "outputs": [],
   "source": [
    "u.atoms.rotateby(...)"
   ]
  },
  {
   "cell_type": "code",
   "execution_count": null,
   "id": "def9fc3b",
   "metadata": {},
   "outputs": [],
   "source": [
    "u.atoms.align_principal_axis(...)"
   ]
  },
  {
   "cell_type": "markdown",
   "id": "d5d65d08",
   "metadata": {
    "slideshow": {
     "slide_type": "slide"
    }
   },
   "source": [
    "### Geometric transformations"
   ]
  },
  {
   "cell_type": "code",
   "execution_count": null,
   "id": "fb6f733c",
   "metadata": {},
   "outputs": [],
   "source": [
    "u.atoms.transform(...)"
   ]
  },
  {
   "cell_type": "markdown",
   "id": "ca9baff4",
   "metadata": {
    "slideshow": {
     "slide_type": "slide"
    }
   },
   "source": [
    "### Periodic boundary conditions"
   ]
  },
  {
   "cell_type": "code",
   "execution_count": null,
   "id": "e3b1bb79",
   "metadata": {},
   "outputs": [],
   "source": [
    "u.atoms.unwrap(...)"
   ]
  },
  {
   "cell_type": "code",
   "execution_count": null,
   "id": "73adc7bf",
   "metadata": {},
   "outputs": [],
   "source": [
    "u.atoms.wrap(...)"
   ]
  },
  {
   "cell_type": "code",
   "execution_count": null,
   "id": "2f3a9b46",
   "metadata": {},
   "outputs": [],
   "source": [
    "u.atoms.pack_into_box(...)"
   ]
  },
  {
   "cell_type": "code",
   "execution_count": 19,
   "id": "f9d2f109",
   "metadata": {
    "slideshow": {
     "slide_type": "slide"
    }
   },
   "outputs": [
    {
     "data": {
      "application/vnd.jupyter.widget-view+json": {
       "model_id": "8d47d302ce4e4c2b83e3af1b24bbe74a",
       "version_major": 2,
       "version_minor": 0
      },
      "text/plain": [
       "NGLWidget()"
      ]
     },
     "metadata": {},
     "output_type": "display_data"
    }
   ],
   "source": [
    "from MDAnalysis.tests.datafiles import TPR, GRO\n",
    "u = mda.Universe(TPR, GRO)\n",
    "v = nv.show_mdanalysis(u)\n",
    "v.add_unitcell()\n",
    "v.add_ball_and_stick('SOL')\n",
    "v"
   ]
  },
  {
   "cell_type": "code",
   "execution_count": 20,
   "id": "3a57e370",
   "metadata": {
    "slideshow": {
     "slide_type": "slide"
    }
   },
   "outputs": [
    {
     "data": {
      "application/vnd.jupyter.widget-view+json": {
       "model_id": "59929fdd230a435cbddfa5a4e0ef7730",
       "version_major": 2,
       "version_minor": 0
      },
      "text/plain": [
       "NGLWidget()"
      ]
     },
     "metadata": {},
     "output_type": "display_data"
    }
   ],
   "source": [
    "protein = u.select_atoms('protein')\n",
    "protein.unwrap(compound='residues')\n",
    "\n",
    "v = nv.show_mdanalysis(u)\n",
    "v.add_unitcell()\n",
    "v.add_ball_and_stick('protein')\n",
    "v"
   ]
  },
  {
   "cell_type": "code",
   "execution_count": 21,
   "id": "65bad8ec",
   "metadata": {
    "slideshow": {
     "slide_type": "slide"
    }
   },
   "outputs": [
    {
     "data": {
      "application/vnd.jupyter.widget-view+json": {
       "model_id": "11d31138ec474be48a7bf57088a0b8cd",
       "version_major": 2,
       "version_minor": 0
      },
      "text/plain": [
       "NGLWidget()"
      ]
     },
     "metadata": {},
     "output_type": "display_data"
    }
   ],
   "source": [
    "protein = u.select_atoms('protein')\n",
    "protein.unwrap(compound='segments')\n",
    "\n",
    "v = nv.show_mdanalysis(u)\n",
    "v.add_unitcell()\n",
    "v"
   ]
  },
  {
   "cell_type": "code",
   "execution_count": 22,
   "id": "fb644eac",
   "metadata": {
    "slideshow": {
     "slide_type": "slide"
    }
   },
   "outputs": [
    {
     "data": {
      "application/vnd.jupyter.widget-view+json": {
       "model_id": "4f12736deeef400d9153089097022770",
       "version_major": 2,
       "version_minor": 0
      },
      "text/plain": [
       "NGLWidget()"
      ]
     },
     "metadata": {},
     "output_type": "display_data"
    }
   ],
   "source": [
    "protein = u.select_atoms('protein')\n",
    "protein.wrap()\n",
    "\n",
    "v = nv.show_mdanalysis(u)\n",
    "v.add_unitcell()\n",
    "v"
   ]
  },
  {
   "cell_type": "code",
   "execution_count": 23,
   "id": "8519513e",
   "metadata": {
    "slideshow": {
     "slide_type": "slide"
    }
   },
   "outputs": [
    {
     "data": {
      "application/vnd.jupyter.widget-view+json": {
       "model_id": "a7e4195fd7ae4dd495927902f36121e7",
       "version_major": 2,
       "version_minor": 0
      },
      "text/plain": [
       "NGLWidget()"
      ]
     },
     "metadata": {},
     "output_type": "display_data"
    }
   ],
   "source": [
    "v = nv.show_mdanalysis(u)\n",
    "v.add_unitcell()\n",
    "v.add_ball_and_stick('SOL')\n",
    "v"
   ]
  },
  {
   "cell_type": "code",
   "execution_count": 24,
   "id": "fd4bb2ff",
   "metadata": {
    "slideshow": {
     "slide_type": "slide"
    }
   },
   "outputs": [
    {
     "data": {
      "application/vnd.jupyter.widget-view+json": {
       "model_id": "1edd66c91b0c429aad67d3354d4ea3eb",
       "version_major": 2,
       "version_minor": 0
      },
      "text/plain": [
       "NGLWidget()"
      ]
     },
     "metadata": {},
     "output_type": "display_data"
    }
   ],
   "source": [
    "water = u.select_atoms('resname SOL')\n",
    "water.wrap(compound='residues')\n",
    "\n",
    "v = nv.show_mdanalysis(u)\n",
    "v.add_unitcell()\n",
    "v.add_ball_and_stick('SOL')\n",
    "v"
   ]
  },
  {
   "cell_type": "code",
   "execution_count": 25,
   "id": "c4dd3e6a",
   "metadata": {
    "slideshow": {
     "slide_type": "slide"
    }
   },
   "outputs": [
    {
     "data": {
      "application/vnd.jupyter.widget-view+json": {
       "model_id": "8f766130a5ec47b0b75fd0b9f4d38f85",
       "version_major": 2,
       "version_minor": 0
      },
      "text/plain": [
       "NGLWidget()"
      ]
     },
     "metadata": {},
     "output_type": "display_data"
    }
   ],
   "source": [
    "water = u.select_atoms('resname SOL')\n",
    "water.pack_into_box()\n",
    "\n",
    "v = nv.show_mdanalysis(u)\n",
    "v.add_unitcell()\n",
    "v.add_ball_and_stick('SOL')\n",
    "v"
   ]
  },
  {
   "cell_type": "markdown",
   "id": "16930c44",
   "metadata": {
    "slideshow": {
     "slide_type": "slide"
    }
   },
   "source": [
    "### Be careful! Changes may not be permanent!"
   ]
  },
  {
   "cell_type": "markdown",
   "id": "edfaa6be",
   "metadata": {},
   "source": [
    "Tomorrow: on-the-fly transformations"
   ]
  },
  {
   "cell_type": "markdown",
   "id": "6f36b58f",
   "metadata": {
    "slideshow": {
     "slide_type": "slide"
    }
   },
   "source": [
    "## Talking to other libraries"
   ]
  },
  {
   "cell_type": "markdown",
   "id": "9640ab09",
   "metadata": {
    "slideshow": {
     "slide_type": "slide"
    }
   },
   "source": [
    "### Using files"
   ]
  },
  {
   "cell_type": "code",
   "execution_count": null,
   "id": "ddb62f61",
   "metadata": {},
   "outputs": [],
   "source": [
    "u.atoms.write(...)"
   ]
  },
  {
   "cell_type": "markdown",
   "id": "412b24c0",
   "metadata": {
    "slideshow": {
     "slide_type": "slide"
    }
   },
   "source": [
    "### Parmed"
   ]
  },
  {
   "cell_type": "code",
   "execution_count": 26,
   "id": "f3d203bc",
   "metadata": {},
   "outputs": [
    {
     "data": {
      "text/plain": [
       "<Structure 1164 atoms; 274 residues; 1043 bonds; PBC (triclinic); NOT parametrized>"
      ]
     },
     "execution_count": 26,
     "metadata": {},
     "output_type": "execute_result"
    }
   ],
   "source": [
    "import parmed as pmd\n",
    "pmd.download_CIF('4lzt').save('4lzt.cif', overwrite=True)\n",
    "parmed_structure = pmd.load_file('4lzt.cif')\n",
    "parmed_structure"
   ]
  },
  {
   "cell_type": "code",
   "execution_count": 27,
   "id": "afdb0c56",
   "metadata": {},
   "outputs": [
    {
     "data": {
      "text/plain": [
       "<Universe with 1164 atoms>"
      ]
     },
     "execution_count": 27,
     "metadata": {},
     "output_type": "execute_result"
    }
   ],
   "source": [
    "u = mda.Universe(parmed_structure)\n",
    "u"
   ]
  },
  {
   "cell_type": "code",
   "execution_count": 28,
   "id": "5d95e0ab",
   "metadata": {
    "slideshow": {
     "slide_type": "slide"
    }
   },
   "outputs": [
    {
     "data": {
      "text/plain": [
       "<Structure 7500 atoms; 1 residues; 11250 bonds; PBC (triclinic); NOT parametrized>"
      ]
     },
     "execution_count": 28,
     "metadata": {},
     "output_type": "execute_result"
    }
   ],
   "source": [
    "parmed_crystal = crystal.atoms.convert_to.parmed()\n",
    "parmed_crystal"
   ]
  },
  {
   "cell_type": "markdown",
   "id": "04603354",
   "metadata": {
    "slideshow": {
     "slide_type": "slide"
    }
   },
   "source": [
    "### RDKit"
   ]
  },
  {
   "cell_type": "code",
   "execution_count": 29,
   "id": "20389e4f",
   "metadata": {},
   "outputs": [
    {
     "data": {
      "image/png": "[encoded data removed]",
      "text/plain": [
       "<rdkit.Chem.rdchem.Mol at 0x27eca478170>"
      ]
     },
     "execution_count": 29,
     "metadata": {},
     "output_type": "execute_result"
    }
   ],
   "source": [
    "from rdkit import Chem\n",
    "imatinib = Chem.MolFromSmiles('C1N(CCN(C1)Cc1ccc(cc1)C(Nc1cc(c(cc1)C)Nc1nccc(n1)c1cccnc1)=O)C ')\n",
    "Chem.AllChem.EmbedMolecule(imatinib)\n",
    "imatinib = Chem.AddHs(imatinib, addCoords=True)\n",
    "imatinib"
   ]
  },
  {
   "cell_type": "code",
   "execution_count": 30,
   "id": "be135980",
   "metadata": {},
   "outputs": [
    {
     "data": {
      "text/plain": [
       "<Universe with 68 atoms>"
      ]
     },
     "execution_count": 30,
     "metadata": {},
     "output_type": "execute_result"
    }
   ],
   "source": [
    "u = mda.Universe(imatinib)\n",
    "u"
   ]
  },
  {
   "cell_type": "code",
   "execution_count": 31,
   "id": "33cf1c22",
   "metadata": {
    "slideshow": {
     "slide_type": "slide"
    }
   },
   "outputs": [
    {
     "data": {
      "text/plain": [
       "<AtomGroup with 4 atoms>"
      ]
     },
     "execution_count": 31,
     "metadata": {},
     "output_type": "execute_result"
    }
   ],
   "source": [
    "selection = u.select_atoms('smarts cC(=O)N')\n",
    "selection"
   ]
  },
  {
   "cell_type": "code",
   "execution_count": 33,
   "id": "9f2af1e6",
   "metadata": {},
   "outputs": [
    {
     "data": {
      "application/vnd.jupyter.widget-view+json": {
       "model_id": "a52ab1e0cc3945c78b98d41ee54a2307",
       "version_major": 2,
       "version_minor": 0
      },
      "text/plain": [
       "NGLWidget()"
      ]
     },
     "metadata": {},
     "output_type": "display_data"
    }
   ],
   "source": [
    "nv.show_mdanalysis(selection)"
   ]
  },
  {
   "cell_type": "code",
   "execution_count": 34,
   "id": "f6a52007",
   "metadata": {
    "slideshow": {
     "slide_type": "slide"
    }
   },
   "outputs": [
    {
     "data": {
      "image/png": "[encoded data removed]",
      "text/plain": [
       "<rdkit.Chem.rdchem.RWMol at 0x27ed07e34e0>"
      ]
     },
     "execution_count": 34,
     "metadata": {},
     "output_type": "execute_result"
    }
   ],
   "source": [
    "rdkit_fullerene = crystal.residues[0].atoms.convert_to.rdkit(NoImplicit=False)\n",
    "rdkit_fullerene"
   ]
  },
  {
   "cell_type": "markdown",
   "id": "55dcf07f",
   "metadata": {
    "slideshow": {
     "slide_type": "slide"
    }
   },
   "source": [
    "### OpenMM"
   ]
  },
  {
   "cell_type": "code",
   "execution_count": 35,
   "id": "a5ff81a9",
   "metadata": {},
   "outputs": [
    {
     "data": {
      "text/plain": [
       "<simtk.openmm.app.pdbxfile.PDBxFile at 0x27ece717c08>"
      ]
     },
     "execution_count": 35,
     "metadata": {},
     "output_type": "execute_result"
    }
   ],
   "source": [
    "from simtk.openmm import app\n",
    "structure = app.PDBxFile('4lzt.cif')\n",
    "structure"
   ]
  },
  {
   "cell_type": "code",
   "execution_count": 36,
   "id": "13a56668",
   "metadata": {
    "slideshow": {
     "slide_type": "-"
    }
   },
   "outputs": [
    {
     "data": {
      "text/plain": [
       "<Universe with 1164 atoms>"
      ]
     },
     "execution_count": 36,
     "metadata": {},
     "output_type": "execute_result"
    }
   ],
   "source": [
    "u = mda.Universe(structure)\n",
    "u"
   ]
  },
  {
   "cell_type": "markdown",
   "id": "e4557791",
   "metadata": {},
   "source": [
    "This works on [`Topology`](http://docs.openmm.org/7.0.0/api-python/generated/simtk.openmm.app.topology.Topology.html), [`PDBFile`](http://docs.openmm.org/7.0.0/api-python/generated/simtk.openmm.app.pdbfile.PDBFile.html#), [`PDBxFile`](http://docs.openmm.org/7.0.0/api-python/generated/simtk.openmm.app.pdbxfile.PDBxFile.html#), [`Modeller`](http://docs.openmm.org/7.0.0/api-python/generated/simtk.openmm.app.modeller.Modeller.html#), and [`Simulation`](http://docs.openmm.org/7.0.0/api-python/generated/simtk.openmm.app.simulation.Simulation.html#) objects."
   ]
  }
 ],
 "metadata": {
  "celltoolbar": "Slideshow",
  "kernelspec": {
   "display_name": "Python 3",
   "language": "python",
   "name": "python3"
  },
  "language_info": {
   "codemirror_mode": {
    "name": "ipython",
    "version": 3
   },
   "file_extension": ".py",
   "mimetype": "text/x-python",
   "name": "python",
   "nbconvert_exporter": "python",
   "pygments_lexer": "ipython3",
   "version": "3.7.6"
  }
 },
 "nbformat": 4,
 "nbformat_minor": 5
}
