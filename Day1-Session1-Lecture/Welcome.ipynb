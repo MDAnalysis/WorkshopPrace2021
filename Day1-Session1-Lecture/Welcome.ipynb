{
 "cells": [
  {
   "cell_type": "markdown",
   "metadata": {
    "cell_style": "split",
    "slideshow": {
     "slide_type": "slide"
    }
   },
   "source": [
    "# Using MDAnalysis for efficient simulation pre- and post-processing\n",
    "\n",
    "**Workshop - May 2021 - PRACE / SARA**\n"
   ]
  },
  {
   "cell_type": "markdown",
   "metadata": {
    "cell_style": "split"
   },
   "source": [
    "<center><img src=\"imgs/mdalogo.png\" alt=\"mda\" style=\"width: 300px;\"/></center>"
   ]
  },
  {
   "cell_type": "markdown",
   "metadata": {
    "cell_style": "center"
   },
   "source": [
    "<center><img src=\"imgs/surflogo.svg\" alt=\"mda\" style=\"width: 100px;\"/><img src=\"imgs/pracelogo.png\" alt=\"mda\" style=\"width: 200px;\"/></center>"
   ]
  },
  {
   "cell_type": "markdown",
   "metadata": {
    "slideshow": {
     "slide_type": "slide"
    }
   },
   "source": [
    "# Welcome!"
   ]
  },
  {
   "cell_type": "markdown",
   "metadata": {
    "cell_style": "center",
    "slideshow": {
     "slide_type": "subslide"
    }
   },
   "source": [
    "**Welcome, on behalf of the workshop team:**"
   ]
  },
  {
   "cell_type": "markdown",
   "metadata": {
    "cell_style": "split"
   },
   "source": [
    " - Fiona Naughton (@fiona-naughton)\n",
    " - Irfan Alibay (@IAlibay)\n",
    " - Jonathan Barnoud (@jbarnoud)\n",
    " - Lily Wang (@lilyminium)\n",
    " - Manuel E Melo (@mnmelo)\n",
    " - Micaela Matta (@micaela-matta)\n",
    " - Oliver Beckstein (@orbeckst)\n",
    " - Richard Gowers (@richardjgowers)"
   ]
  },
  {
   "cell_type": "markdown",
   "metadata": {
    "cell_style": "split"
   },
   "source": [
    "### We're here to help (we don't bite!)"
   ]
  },
  {
   "cell_type": "markdown",
   "metadata": {
    "slideshow": {
     "slide_type": "subslide"
    }
   },
   "source": [
    "**How to reach out to us outside this workshop:**\n",
    " - On **github** https://github.com/MDAnalysis/mdanalysis/\n",
    "   - Report bugs and request features, and maybe even fix some yourself!\n",
    "\n",
    " - On the **mailing lists**: https://groups.google.com/group/mdnalysis-discussion (user discussion), and https://groups.google.com/g/mdnalysis-devel (development discussion)\n",
    "   - Ask questions, contribute to the discussion\n",
    "   \n",
    " - Join the **discord**! https://discord.gg/fXTSfDJyxE\n",
    "   - For both questions and off-topic discussion\n",
    "   - There's a channel just for this workshop (workshop-2021)\n",
    "   \n",
    "We're quite proud of the MDAnalysis community and we'd love for you to join us in any of these ways!"
   ]
  },
  {
   "cell_type": "markdown",
   "metadata": {
    "slideshow": {
     "slide_type": "slide"
    }
   },
   "source": [
    "## Code of conduct"
   ]
  },
  {
   "cell_type": "markdown",
   "metadata": {
    "cell_style": "split"
   },
   "source": [
    "We strive to be a friendly, inclusive community. \n",
    "\n",
    "Please help to keep it this way: be respectful and considerate towards each other, and remember we all come from different backgrounds and will not always agree - focus on resolving issues and learning from mistakes.\n",
    "\n",
    "Read the full Code of Conduct at: https://www.mdanalysis.org/pages/conduct/"
   ]
  },
  {
   "cell_type": "markdown",
   "metadata": {
    "cell_style": "split"
   },
   "source": [
    "**If there is something you'd like to report:**\n",
    " - Tell one of the workshop team\n",
    "     - Designated contact: Micaela (mattamicaela@gmail.com)\n",
    "     \n",
    "\n",
    "- Use the anonymous form on the code of conduct page"
   ]
  },
  {
   "cell_type": "markdown",
   "metadata": {
    "slideshow": {
     "slide_type": "slide"
    }
   },
   "source": [
    "# MDAnalysis"
   ]
  },
  {
   "cell_type": "markdown",
   "metadata": {
    "slideshow": {
     "slide_type": "-"
    }
   },
   "source": [
    " - A python library for analysis of simulation data - built by scientists, for scientists\n",
    "\n",
    "\n",
    " - Supports over 40 formats from a variety of simulation software\n",
    "\n",
    "\n",
    " - Flexible *and* fast\n",
    "\n",
    "\n",
    "\n",
    "*For example...*\n",
    "\n",
    "Have you ever wandered how we could automatically identify which lipid molecules belog to which leaflet in a lipid bilayer? It can be much harder than you'd think! But using the building blocks provided by MDAnalysis our guest lecturer **Dr. Bart Bruininks** has built a tool to do that. Hear about it at the end of the workshop today (optional, but highly encouraged)"
   ]
  },
  {
   "cell_type": "markdown",
   "metadata": {
    "cell_style": "center",
    "slideshow": {
     "slide_type": "slide"
    }
   },
   "source": [
    "# Workshop overview"
   ]
  },
  {
   "cell_type": "markdown",
   "metadata": {
    "cell_style": "center",
    "slideshow": {
     "slide_type": "subslide"
    }
   },
   "source": [
    "## Assumed knowledge\n",
    "\n",
    "This is a workshop about MDAnalysis - we're assuming you're already familiar with:\n",
    " - programming or python\n",
    " - basics of MD\n",
    " - details of SLURM\n",
    "\n",
    "We'll be replying on the **numpy** library for much of the analysis - we expect you to already know about it. You can go to the numpy tutorials (https://numpy.org/doc/stable/user/absolute_beginners.html) if you need to refresh."
   ]
  },
  {
   "cell_type": "markdown",
   "metadata": {
    "cell_style": "center",
    "slideshow": {
     "slide_type": "subslide"
    }
   },
   "source": [
    "We'll also be using the following libraries, but you're not expected to know about them and we won't be expanding on them:\n",
    " - **MDanalysisTests** and  **MDAnalysisData** (for pre-loaded example files)\n",
    " - **nglview** (for visualisation)\n",
    " - **openmm** (a simulation library)\n",
    " - **rdkit** (a chemoinformatics library)"
   ]
  },
  {
   "cell_type": "markdown",
   "metadata": {
    "slideshow": {
     "slide_type": "slide"
    }
   },
   "source": [
    "## Workshop format"
   ]
  },
  {
   "cell_type": "markdown",
   "metadata": {
    "cell_style": "split",
    "slideshow": {
     "slide_type": "-"
    }
   },
   "source": [
    "There are 6 session, each consisting of a *lecture* and a *practical*. Workshop material is hosted on SURFsara's Jupyter hub. \n",
    "\n"
   ]
  },
  {
   "cell_type": "markdown",
   "metadata": {
    "cell_style": "split",
    "slideshow": {
     "slide_type": "-"
    }
   },
   "source": [
    "<center>Accessing course material...</center>\n",
    "\n",
    "1. Log in at https://jupyter.lisa.surfsara.nl/jhlsrf005/hub/\n",
    "\n",
    "2. Start a server (choose course hours or outside course hours)\n",
    "\n",
    "3. Navigate to the appropriate session and click on the notebook to launch it"
   ]
  },
  {
   "cell_type": "markdown",
   "metadata": {
    "cell_style": "split",
    "slideshow": {
     "slide_type": "subslide"
    }
   },
   "source": [
    "  - Each day we'll enable the automatic download of that day's notebooks\n",
    "   - If you logged in to the server prior to the workshop start, it's possible you automatically downloaded outdated versions - this prevents more recent versions from taking over. Delete the contents of ~/JHL_notebooks/ and restart the server\n",
    "  - Notebooks with your work will be kept for later days"
   ]
  },
  {
   "cell_type": "markdown",
   "metadata": {
    "cell_style": "split",
    "slideshow": {
     "slide_type": "-"
    }
   },
   "source": [
    "<center>Accessing course material...</center>\n",
    "\n",
    "1. Log in at https://jupyter.lisa.surfsara.nl/jhlsrf005/hub/\n",
    "\n",
    "2. Start a server (choose course hours or outside course hours)\n",
    "\n",
    "3. Navigate to the appropriate session and click on the notebook to launch it"
   ]
  },
  {
   "cell_type": "markdown",
   "metadata": {
    "slideshow": {
     "slide_type": "-"
    }
   },
   "source": [
    " **Please log in now, and let us know if you have any issues so that these can hopefully be fixed soon!**"
   ]
  },
  {
   "cell_type": "markdown",
   "metadata": {
    "cell_style": "center",
    "slideshow": {
     "slide_type": "subslide"
    }
   },
   "source": [
    "## Schedule\n",
    "\n",
    "**Day 1: Wednesday 26th**\n",
    "\n",
    "- 13:10-15:00 CET **Session 1: Molecules**\n",
    "  - Introduction to MDAnalysis and loading structures\n",
    "  \n",
    "\n",
    "- 15:10-17:20 CET **Session 2: Dynamics**\n",
    "  - Using MDAnalysis to work with trajectory data\n",
    "\n",
    "\n",
    "- 17:30-18:00 CET **Invited Speaker: Dr Bart Bruininks** (optional, but highly recomended!)\n",
    "  - A \"real world\" use for MDAnalysis\n",
    "\n",
    "<center><strong>Consistent Leaflet Labeling</strong></center>\n",
    "    \n",
    "<center>on chole(steroids)</center>\n",
    "\n",
    "\n",
    "   "
   ]
  },
  {
   "cell_type": "markdown",
   "metadata": {
    "slideshow": {
     "slide_type": "subslide"
    }
   },
   "source": [
    "**Day 2: Thursday 27th**\n",
    "\n",
    " - 13:00-14:50 CET **Session 1: Analysis I**\n",
    "   - The existing analyses available through MDAnalysis and how to go about making new ones\n",
    " \n",
    " \n",
    " - 15:00-17:00 CET **Session 2: Manipulation I and Analysis II**\n",
    "   - Transforming and modifying Universes and AtomGroups; and an opportunity to work on an analysis class of your own\n",
    "\n",
    "\n",
    " - 17:00-18:00 CET **Office hours**\n",
    "   - Ask questions and get feedback on your own projects"
   ]
  },
  {
   "cell_type": "markdown",
   "metadata": {
    "slideshow": {
     "slide_type": "subslide"
    }
   },
   "source": [
    "**Day 3: Friday 28th**\n",
    "\n",
    " - 13:00-14:50 CET **Session 1: Parallelism**\n",
    "   - Using parallel processing to speed up your analysis\n",
    " \n",
    " - 15:00-17:00 CET **Session 2: Advanced functionality and Manipulation II**\n",
    "   - Transformations and aux data; and practical experience with manipulations\n",
    " \n",
    " - 17:00-18:00 CET **Office hours**\n",
    "    - Ask questions and get feedback on your own projects"
   ]
  },
  {
   "cell_type": "markdown",
   "metadata": {
    "slideshow": {
     "slide_type": "slide"
    }
   },
   "source": [
    "### Lectures"
   ]
  },
  {
   "cell_type": "markdown",
   "metadata": {
    "cell_style": "center",
    "slideshow": {
     "slide_type": "-"
    }
   },
   "source": [
    "- Held through webex with slides available on the workshop SURFsara JupyterHub so you can follow along or check back later\n",
    "  - Some lectures use RISE to turn a notebook into a presentation, so it may look a little different \n",
    "- Ask questions via chat/Q+A! If the presenter doesn't get a chance to answer, a non-presenting tutor will"
   ]
  },
  {
   "cell_type": "markdown",
   "metadata": {
    "slideshow": {
     "slide_type": "slide"
    }
   },
   "source": [
    "### Practicals"
   ]
  },
  {
   "cell_type": "markdown",
   "metadata": {
    "cell_style": "center",
    "slideshow": {
     "slide_type": "-"
    }
   },
   "source": [
    "- You'll be split into smaller groups in breakout rooms to work through jupyter notebooks, also on the workshop hub - where everything should be installed and ready for you \n",
    "  - Everyone works at their own pace - don't worry about finishing exactly \"on time\"\n",
    "  - We're using an extension so you can show/hide solutions - please give the exercise a good go before checking the solution!\n",
    "- Tutors will be there to check in on you come by, so please ask questions if you're stuck (if you have a question, it's likely that everyone does)!\n",
    "- We'll build in some breaks - go get a coffee, chat with your fellow workshop attendees, get some fresh air - and don't be afraid to take another break if needed\n",
    "\n",
    "\n"
   ]
  },
  {
   "cell_type": "markdown",
   "metadata": {
    "slideshow": {
     "slide_type": "slide"
    }
   },
   "source": [
    "### Office hours and personal projects\n",
    "\n",
    "**Own projects**\n",
    "\n",
    "We will walk you through structured examples - but you're highly encouraged to bring your own projects to the table!\n",
    "\n",
    "**Office Hours**\n",
    "- This consists of an assortment of devs hanging around to answer questions\n",
    "- \"Outside of course hours\" - so no IT support\n",
    "- Intended for help for your own projects\n",
    "\n"
   ]
  },
  {
   "cell_type": "markdown",
   "metadata": {
    "slideshow": {
     "slide_type": "slide"
    }
   },
   "source": [
    "By the end of this workshop you should have seen the basics of using pre-built analyses, writing your own analyses, and running analyses in a parallelizable way.\n",
    "\n",
    "You're always welcome to reach out to us again in the future!\n",
    "\n",
    " - The mailing lists, github or discord, as linked earlier\n",
    " - Also see the User Guide and Documentation\n",
    "  - Remember we're using the new 2.0.0-dev version, so we need to find the guide/docs for this version:\n",
    "    - https://userguide.mdanalysis.org/2.0.0-dev0/     \n",
    "    - https://docs.mdanalysis.org/2.0.0-dev0/"
   ]
  },
  {
   "cell_type": "markdown",
   "metadata": {
    "slideshow": {
     "slide_type": "slide"
    }
   },
   "source": [
    "## And now on to the first lecture!"
   ]
  }
 ],
 "metadata": {
  "celltoolbar": "Slideshow",
  "kernelspec": {
   "display_name": "Python 3",
   "language": "python",
   "name": "python3"
  },
  "language_info": {
   "codemirror_mode": {
    "name": "ipython",
    "version": 3
   },
   "file_extension": ".py",
   "mimetype": "text/x-python",
   "name": "python",
   "nbconvert_exporter": "python",
   "pygments_lexer": "ipython3",
   "version": "3.7.4"
  }
 },
 "nbformat": 4,
 "nbformat_minor": 2
}
