{
 "cells": [
  {
   "cell_type": "markdown",
   "metadata": {},
   "source": [
    "# Day 1, Lecture 2\n",
    "\n",
    "**Topic: dynamics**"
   ]
  },
  {
   "cell_type": "code",
   "execution_count": 31,
   "metadata": {},
   "outputs": [],
   "source": [
    "import numpy as np\n",
    "import matplotlib.pyplot as plt\n",
    "\n",
    "%matplotlib inline"
   ]
  },
  {
   "cell_type": "markdown",
   "metadata": {},
   "source": [
    "## Iterating over a trajectory"
   ]
  },
  {
   "cell_type": "code",
   "execution_count": 6,
   "metadata": {},
   "outputs": [
    {
     "data": {
      "application/vnd.jupyter.widget-view+json": {
       "model_id": "057e44746283487e8cb00c05ca0071d9",
       "version_major": 2,
       "version_minor": 0
      },
      "text/plain": []
     },
     "metadata": {},
     "output_type": "display_data"
    }
   ],
   "source": [
    "import MDAnalysis as mda\n",
    "import nglview as nv\n",
    "from MDAnalysis.tests.datafiles import PSF, DCD"
   ]
  },
  {
   "cell_type": "markdown",
   "metadata": {},
   "source": [
    "As in the earlier session, we can use NGLView to traverse through the trajectory visually."
   ]
  },
  {
   "cell_type": "code",
   "execution_count": 7,
   "metadata": {
    "scrolled": false
   },
   "outputs": [
    {
     "data": {
      "application/vnd.jupyter.widget-view+json": {
       "model_id": "2b69a78cb73a4018b19f3e463857856d",
       "version_major": 2,
       "version_minor": 0
      },
      "text/plain": [
       "NGLWidget(max_frame=97)"
      ]
     },
     "metadata": {},
     "output_type": "display_data"
    }
   ],
   "source": [
    "closed_to_open = mda.Universe(PSF, DCD)\n",
    "nv.show_mdanalysis(closed_to_open)"
   ]
  },
  {
   "cell_type": "markdown",
   "metadata": {},
   "source": [
    "### Working with AtomGroups: FRET distances"
   ]
  },
  {
   "cell_type": "markdown",
   "metadata": {},
   "source": [
    "Experimental FRET labels: distances\n",
    "\n",
    "<div>\n",
    "<img src=\"figures/fret_distances_adk.png\" alt=\"FRET distances\" width=\"250\"/>\n",
    "</div>\n",
    "\n",
    "\n",
    "* I52 - K145\n",
    "* A55 - V169\n",
    "* A127 - A194\n",
    "\n",
    "Calculate the C$_\\beta$ distances as proxies for the spin-label distances.\n",
    "\n",
    "Sampling large conformational is challenging with standard equilibrium MD. Therefore we used an enhanced sampling method (\"dynamic importance sampling\", DIMS) to generate transitions between closed and open apo AdK [2, 3] in addition to \"brute force\" equilibrium MD (on PSC Anton).\n"
   ]
  },
  {
   "cell_type": "code",
   "execution_count": 8,
   "metadata": {},
   "outputs": [],
   "source": [
    "beta = closed_to_open.select_atoms(\"name CB\")\n",
    "\n",
    "donors = beta.select_atoms(\"resname ILE and resid 52\", \n",
    "                           \"resname ALA and resid 55\",\n",
    "                           \"resname ALA and resid 127\")\n",
    "acceptors = beta.select_atoms(\"resname LYS and resid 145\", \n",
    "                           \"resname VAL and resid 169\",\n",
    "                           \"resname ALA and resid 194\")"
   ]
  },
  {
   "cell_type": "markdown",
   "metadata": {},
   "source": [
    "Indexing the trajectory sets the active frame to that index."
   ]
  },
  {
   "cell_type": "code",
   "execution_count": 13,
   "metadata": {},
   "outputs": [
    {
     "name": "stdout",
     "output_type": "stream",
     "text": [
      "Frame: 0\n",
      "Time: 0.9999999119200186\n"
     ]
    }
   ],
   "source": [
    "closed_to_open.trajectory[0]\n",
    "print(f\"Frame: {closed_to_open.trajectory.frame}\")\n",
    "print(f\"Time: {closed_to_open.trajectory.time}\")"
   ]
  },
  {
   "cell_type": "code",
   "execution_count": 14,
   "metadata": {},
   "outputs": [
    {
     "name": "stdout",
     "output_type": "stream",
     "text": [
      "Frame: 97\n",
      "Time: 97.99999136816182\n"
     ]
    }
   ],
   "source": [
    "closed_to_open.trajectory[-1]\n",
    "print(f\"Frame: {closed_to_open.trajectory.frame}\")\n",
    "print(f\"Time: {closed_to_open.trajectory.time}\")"
   ]
  },
  {
   "cell_type": "markdown",
   "metadata": {},
   "source": [
    "Setting the frame updates dynamic data such as positions. Note that the positions array itself does not update."
   ]
  },
  {
   "cell_type": "code",
   "execution_count": 16,
   "metadata": {},
   "outputs": [
    {
     "name": "stdout",
     "output_type": "stream",
     "text": [
      "0\n"
     ]
    },
    {
     "data": {
      "text/plain": [
       "array([[ -2.3910754, -16.362959 ,   3.6749218],\n",
       "       [ -7.6395893, -16.166595 ,   7.512685 ],\n",
       "       [-13.415007 ,  -5.2870574,  -8.834947 ]], dtype=float32)"
      ]
     },
     "execution_count": 16,
     "metadata": {},
     "output_type": "execute_result"
    }
   ],
   "source": [
    "closed_to_open.trajectory[0]\n",
    "print(closed_to_open.trajectory.frame)\n",
    "donor_positions = donors.positions\n",
    "donor_positions"
   ]
  },
  {
   "cell_type": "code",
   "execution_count": 17,
   "metadata": {},
   "outputs": [
    {
     "name": "stdout",
     "output_type": "stream",
     "text": [
      "97\n"
     ]
    },
    {
     "data": {
      "text/plain": [
       "array([[ -2.3910754, -16.362959 ,   3.6749218],\n",
       "       [ -7.6395893, -16.166595 ,   7.512685 ],\n",
       "       [-13.415007 ,  -5.2870574,  -8.834947 ]], dtype=float32)"
      ]
     },
     "execution_count": 17,
     "metadata": {},
     "output_type": "execute_result"
    }
   ],
   "source": [
    "closed_to_open.trajectory[-1]\n",
    "print(closed_to_open.trajectory.frame)\n",
    "donor_positions"
   ]
  },
  {
   "cell_type": "markdown",
   "metadata": {},
   "source": [
    "Rather, it's the AtomGroup that updates."
   ]
  },
  {
   "cell_type": "code",
   "execution_count": 18,
   "metadata": {},
   "outputs": [
    {
     "data": {
      "text/plain": [
       "array([[  4.171742  , -22.14687   ,  -2.0800915 ],\n",
       "       [  0.22647852, -27.779528  ,  -2.4970996 ],\n",
       "       [-25.531727  ,  -5.927316  ,  -3.3390718 ]], dtype=float32)"
      ]
     },
     "execution_count": 18,
     "metadata": {},
     "output_type": "execute_result"
    }
   ],
   "source": [
    "donors.positions"
   ]
  },
  {
   "cell_type": "markdown",
   "metadata": {},
   "source": [
    "The more common way to traverse through a trajectory (e.g. for analysis) is to iterate through it."
   ]
  },
  {
   "cell_type": "code",
   "execution_count": 19,
   "metadata": {},
   "outputs": [
    {
     "name": "stdout",
     "output_type": "stream",
     "text": [
      "Frame: 0, time: 0.9999999119200186\n",
      "Frame: 1, time: 1.9999998238400372\n",
      "Frame: 2, time: 2.999999735760056\n",
      "Frame: 3, time: 3.9999996476800743\n",
      "Frame: 4, time: 4.999999559600093\n",
      "Frame: 5, time: 5.999999471520112\n",
      "Frame: 6, time: 6.99999938344013\n",
      "Frame: 7, time: 7.999999295360149\n",
      "Frame: 8, time: 8.999999207280167\n",
      "Frame: 9, time: 9.999999119200186\n",
      "Frame: 10, time: 10.999999031120204\n",
      "Frame: 11, time: 11.999998943040223\n",
      "Frame: 12, time: 12.999998854960241\n",
      "Frame: 13, time: 13.99999876688026\n",
      "Frame: 14, time: 14.999998678800278\n",
      "Frame: 15, time: 15.999998590720297\n",
      "Frame: 16, time: 16.999998502640317\n",
      "Frame: 17, time: 17.999998414560334\n",
      "Frame: 18, time: 18.999998326480352\n",
      "Frame: 19, time: 19.999998238400373\n",
      "Frame: 20, time: 20.99999815032039\n",
      "Frame: 21, time: 21.999998062240408\n",
      "Frame: 22, time: 22.999997974160426\n",
      "Frame: 23, time: 23.999997886080447\n",
      "Frame: 24, time: 24.999997798000464\n",
      "Frame: 25, time: 25.999997709920482\n",
      "Frame: 26, time: 26.999997621840503\n",
      "Frame: 27, time: 27.99999753376052\n",
      "Frame: 28, time: 28.99999744568054\n",
      "Frame: 29, time: 29.999997357600556\n",
      "Frame: 30, time: 30.999997269520577\n",
      "Frame: 31, time: 31.999997181440595\n",
      "Frame: 32, time: 32.99999709336061\n",
      "Frame: 33, time: 33.99999700528063\n",
      "Frame: 34, time: 34.99999691720065\n",
      "Frame: 35, time: 35.99999682912067\n",
      "Frame: 36, time: 36.99999674104069\n",
      "Frame: 37, time: 37.999996652960704\n",
      "Frame: 38, time: 38.999996564880725\n",
      "Frame: 39, time: 39.999996476800746\n",
      "Frame: 40, time: 40.99999638872076\n",
      "Frame: 41, time: 41.99999630064078\n",
      "Frame: 42, time: 42.9999962125608\n",
      "Frame: 43, time: 43.999996124480816\n",
      "Frame: 44, time: 44.99999603640084\n",
      "Frame: 45, time: 45.99999594832085\n",
      "Frame: 46, time: 46.99999586024087\n",
      "Frame: 47, time: 47.999995772160894\n",
      "Frame: 48, time: 48.99999568408091\n",
      "Frame: 49, time: 49.99999559600093\n",
      "Frame: 50, time: 50.99999550792095\n",
      "Frame: 51, time: 51.999995419840964\n",
      "Frame: 52, time: 52.999995331760985\n",
      "Frame: 53, time: 53.999995243681006\n",
      "Frame: 54, time: 54.99999515560102\n",
      "Frame: 55, time: 55.99999506752104\n",
      "Frame: 56, time: 56.99999497944106\n",
      "Frame: 57, time: 57.99999489136108\n",
      "Frame: 58, time: 58.9999948032811\n",
      "Frame: 59, time: 59.99999471520111\n",
      "Frame: 60, time: 60.99999462712113\n",
      "Frame: 61, time: 61.999994539041154\n",
      "Frame: 62, time: 62.99999445096117\n",
      "Frame: 63, time: 63.99999436288119\n",
      "Frame: 64, time: 64.99999427480121\n",
      "Frame: 65, time: 65.99999418672122\n",
      "Frame: 66, time: 66.99999409864124\n",
      "Frame: 67, time: 67.99999401056127\n",
      "Frame: 68, time: 68.99999392248128\n",
      "Frame: 69, time: 69.9999938344013\n",
      "Frame: 70, time: 70.99999374632132\n",
      "Frame: 71, time: 71.99999365824134\n",
      "Frame: 72, time: 72.99999357016135\n",
      "Frame: 73, time: 73.99999348208138\n",
      "Frame: 74, time: 74.9999933940014\n",
      "Frame: 75, time: 75.99999330592141\n",
      "Frame: 76, time: 76.99999321784144\n",
      "Frame: 77, time: 77.99999312976145\n",
      "Frame: 78, time: 78.99999304168146\n",
      "Frame: 79, time: 79.99999295360149\n",
      "Frame: 80, time: 80.9999928655215\n",
      "Frame: 81, time: 81.99999277744152\n",
      "Frame: 82, time: 82.99999268936155\n",
      "Frame: 83, time: 83.99999260128156\n",
      "Frame: 84, time: 84.99999251320158\n",
      "Frame: 85, time: 85.9999924251216\n",
      "Frame: 86, time: 86.99999233704162\n",
      "Frame: 87, time: 87.99999224896163\n",
      "Frame: 88, time: 88.99999216088166\n",
      "Frame: 89, time: 89.99999207280167\n",
      "Frame: 90, time: 90.99999198472169\n",
      "Frame: 91, time: 91.9999918966417\n",
      "Frame: 92, time: 92.99999180856173\n",
      "Frame: 93, time: 93.99999172048175\n",
      "Frame: 94, time: 94.99999163240176\n",
      "Frame: 95, time: 95.99999154432179\n",
      "Frame: 96, time: 96.9999914562418\n",
      "Frame: 97, time: 97.99999136816182\n"
     ]
    }
   ],
   "source": [
    "for ts in closed_to_open.trajectory:\n",
    "    print(f\"Frame: {ts.frame}, time: {ts.time}\")"
   ]
  },
  {
   "cell_type": "markdown",
   "metadata": {},
   "source": [
    "You can also easily slice the trajectory."
   ]
  },
  {
   "cell_type": "code",
   "execution_count": 23,
   "metadata": {},
   "outputs": [
    {
     "name": "stdout",
     "output_type": "stream",
     "text": [
      "Frame: 2, time: 2.999999735760056\n",
      "Frame: 10, time: 10.999999031120204\n",
      "Frame: 18, time: 18.999998326480352\n",
      "Frame: 26, time: 26.999997621840503\n",
      "Frame: 34, time: 34.99999691720065\n",
      "Frame: 42, time: 42.9999962125608\n",
      "Frame: 50, time: 50.99999550792095\n",
      "Frame: 58, time: 58.9999948032811\n",
      "Frame: 66, time: 66.99999409864124\n",
      "Frame: 74, time: 74.9999933940014\n",
      "Frame: 82, time: 82.99999268936155\n",
      "Frame: 90, time: 90.99999198472169\n"
     ]
    }
   ],
   "source": [
    "for ts in closed_to_open.trajectory[2:92:8]:\n",
    "    print(f\"Frame: {ts.frame}, time: {ts.time}\")"
   ]
  },
  {
   "cell_type": "markdown",
   "metadata": {},
   "source": [
    "Let's apply this to the FRET analysis we did earlier. First, for convenience, let's codify the analysis into a function. The arguments (`donors`, `acceptors`) are `AtomGroup`s so that we can work the the updated positions arrays for each frame."
   ]
  },
  {
   "cell_type": "code",
   "execution_count": 26,
   "metadata": {},
   "outputs": [],
   "source": [
    "def calculate_fret_distances(donors, acceptors):\n",
    "    return np.linalg.norm(donors.positions - acceptors.positions, axis=1)"
   ]
  },
  {
   "cell_type": "code",
   "execution_count": 28,
   "metadata": {},
   "outputs": [
    {
     "name": "stdout",
     "output_type": "stream",
     "text": [
      "[[31.091139 12.611019 31.881138]\n",
      " [31.45864  12.313753 32.208305]\n",
      " [31.784407 12.565103 32.187794]]\n"
     ]
    }
   ],
   "source": [
    "distances = []\n",
    "times = []\n",
    "for ts in closed_to_open.trajectory:\n",
    "    d = calculate_fret_distances(donors, acceptors)\n",
    "    distances.append(d)\n",
    "    times.append(ts.time)\n",
    "print(distances[:3])"
   ]
  },
  {
   "cell_type": "code",
   "execution_count": 33,
   "metadata": {},
   "outputs": [
    {
     "data": {
      "image/png": "[encoded data removed]",
      "text/plain": [
       "<Figure size 432x288 with 1 Axes>"
      ]
     },
     "metadata": {
      "needs_background": "light"
     },
     "output_type": "display_data"
    }
   ],
   "source": [
    "import matplotlib.pyplot as plt\n",
    "\n",
    "plt.plot(times, distances)\n",
    "plt.legend((\"I52-K145\", \"A55-V169\", \"A127-A194\"))\n",
    "plt.xlabel(\"Time (ps)\")\n",
    "plt.ylabel(r\"Distance (Å)\");"
   ]
  },
  {
   "cell_type": "markdown",
   "metadata": {},
   "source": [
    "### Working with UpdatingAtomGroups: solvent shells"
   ]
  },
  {
   "cell_type": "code",
   "execution_count": 34,
   "metadata": {},
   "outputs": [
    {
     "name": "stderr",
     "output_type": "stream",
     "text": [
      "ifabp_water.psf: 2.19MB [00:00, 5.62MB/s]                            \n",
      "ifabp_water_0.pdb: 958kB [00:00, 2.71MB/s]                            \n",
      "rmsfit_ifabp_water_1.dcd: 74.7MB [00:01, 70.2MB/s]                            \n"
     ]
    }
   ],
   "source": [
    "from MDAnalysisData import datasets\n",
    "ifabp_data = datasets.fetch_ifabp_water()\n",
    "ifabp = mda.Universe(ifabp_data.topology, ifabp_data.trajectory)"
   ]
  },
  {
   "cell_type": "code",
   "execution_count": 36,
   "metadata": {},
   "outputs": [
    {
     "data": {
      "text/plain": [
       "<AtomGroup with 3868 atoms>"
      ]
     },
     "execution_count": 36,
     "metadata": {},
     "output_type": "execute_result"
    }
   ],
   "source": [
    "solvshell_static = ifabp.select_atoms(\"resname TIP3 and around 5.0 protein\")\n",
    "solvshell_static"
   ]
  },
  {
   "cell_type": "code",
   "execution_count": 37,
   "metadata": {},
   "outputs": [
    {
     "data": {
      "text/plain": [
       "<AtomGroup with 3868 atoms>"
      ]
     },
     "execution_count": 37,
     "metadata": {},
     "output_type": "execute_result"
    }
   ],
   "source": [
    "ifabp.trajectory[-1]\n",
    "solvshell_static"
   ]
  },
  {
   "cell_type": "code",
   "execution_count": 38,
   "metadata": {},
   "outputs": [
    {
     "data": {
      "text/plain": [
       "<AtomGroup with 2889 atoms, with selection 'resname TIP3 and around 5.0 protein' on the entire Universe.>"
      ]
     },
     "execution_count": 38,
     "metadata": {},
     "output_type": "execute_result"
    }
   ],
   "source": [
    "solvshell_updating = ifabp.select_atoms(\"resname TIP3 and around 5.0 protein\", updating=True)\n",
    "solvshell_updating"
   ]
  },
  {
   "cell_type": "code",
   "execution_count": 39,
   "metadata": {},
   "outputs": [
    {
     "data": {
      "text/plain": [
       "<AtomGroup with 3868 atoms, with selection 'resname TIP3 and around 5.0 protein' on the entire Universe.>"
      ]
     },
     "execution_count": 39,
     "metadata": {},
     "output_type": "execute_result"
    }
   ],
   "source": [
    "ifabp.trajectory[0]\n",
    "solvshell_updating"
   ]
  },
  {
   "cell_type": "code",
   "execution_count": 40,
   "metadata": {},
   "outputs": [
    {
     "name": "stdout",
     "output_type": "stream",
     "text": [
      "[1449, 1458, 1482]\n"
     ]
    }
   ],
   "source": [
    "times = []\n",
    "n_waters = []\n",
    "for ts in ifabp.trajectory:\n",
    "    times.append(ts.time)\n",
    "    n_waters.append(len(solvshell_updating.residues))\n",
    "print(n_waters[:3])"
   ]
  },
  {
   "cell_type": "markdown",
   "metadata": {},
   "source": [
    "# uhhh why are the times negative"
   ]
  },
  {
   "cell_type": "code",
   "execution_count": 43,
   "metadata": {},
   "outputs": [
    {
     "data": {
      "image/png": "[encoded data removed]",
      "text/plain": [
       "<Figure size 432x288 with 1 Axes>"
      ]
     },
     "metadata": {
      "needs_background": "light"
     },
     "output_type": "display_data"
    }
   ],
   "source": [
    "plt.plot(times, n_waters)\n",
    "plt.xlabel(\"Time (ps)\")\n",
    "plt.ylabel(r\"# waters within 5 $\\AA$ of protein\");"
   ]
  },
  {
   "cell_type": "code",
   "execution_count": null,
   "metadata": {},
   "outputs": [],
   "source": []
  }
 ],
 "metadata": {
  "kernelspec": {
   "display_name": "Python (mda-workshop)",
   "language": "python",
   "name": "mda-workshop"
  },
  "language_info": {
   "codemirror_mode": {
    "name": "ipython",
    "version": 3
   },
   "file_extension": ".py",
   "mimetype": "text/x-python",
   "name": "python",
   "nbconvert_exporter": "python",
   "pygments_lexer": "ipython3",
   "version": "3.8.10"
  }
 },
 "nbformat": 4,
 "nbformat_minor": 4
}
