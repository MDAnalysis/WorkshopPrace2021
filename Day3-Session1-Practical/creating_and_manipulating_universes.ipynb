{
 "cells": [
  {
   "cell_type": "markdown",
   "id": "becfa599",
   "metadata": {},
   "source": [
    "# Universe creation and manipulation\n",
    "\n",
    "Using MDAnalysis, RDKit, and OpenMM we will create an alpha helix from a sequence of amino acids. There are better tools to do that specific task, but it will make us use various interesting features of MDAnalysis."
   ]
  },
  {
   "cell_type": "code",
   "execution_count": 1,
   "id": "3c25e4f6",
   "metadata": {},
   "outputs": [
    {
     "data": {
      "application/vnd.jupyter.widget-view+json": {
       "model_id": "ef8e3e706ee64daaa1e6830ce14facab",
       "version_major": 2,
       "version_minor": 0
      },
      "text/plain": [
       "_ColormakerRegistry()"
      ]
     },
     "metadata": {},
     "output_type": "display_data"
    }
   ],
   "source": [
    "import MDAnalysis as mda\n",
    "import nglview as nv"
   ]
  },
  {
   "cell_type": "code",
   "execution_count": 2,
   "id": "35433f6c",
   "metadata": {},
   "outputs": [],
   "source": [
    "from simtk import openmm, unit\n",
    "from simtk.openmm import app\n",
    "import pdbfixer"
   ]
  },
  {
   "cell_type": "code",
   "execution_count": 3,
   "id": "1ffef7a5",
   "metadata": {},
   "outputs": [],
   "source": [
    "import rdkit"
   ]
  },
  {
   "cell_type": "code",
   "execution_count": 4,
   "id": "ffe32abd",
   "metadata": {},
   "outputs": [],
   "source": [
    "import numpy as np"
   ]
  },
  {
   "cell_type": "markdown",
   "id": "941cf5af",
   "metadata": {},
   "source": [
    "## Creating a topology from a sequence using RDKit"
   ]
  },
  {
   "cell_type": "code",
   "execution_count": 5,
   "id": "00fee728",
   "metadata": {},
   "outputs": [
    {
     "data": {
      "image/png": "[encoded data removed]",
      "text/plain": [
       "<rdkit.Chem.rdchem.Mol at 0x22ebc4449e0>"
      ]
     },
     "execution_count": 5,
     "metadata": {},
     "output_type": "execute_result"
    }
   ],
   "source": [
    "peptide = rdkit.Chem.MolFromSequence('GWWLALALALALALALWWA')\n",
    "peptide"
   ]
  },
  {
   "cell_type": "code",
   "execution_count": 6,
   "id": "292e7bf2",
   "metadata": {},
   "outputs": [
    {
     "data": {
      "text/plain": [
       "0"
      ]
     },
     "execution_count": 6,
     "metadata": {},
     "output_type": "execute_result"
    }
   ],
   "source": [
    "peptide.Compute2DCoords()"
   ]
  },
  {
   "cell_type": "markdown",
   "id": "db430f8b",
   "metadata": {},
   "source": [
    "## Fix the backbone with MDAnalysis\n",
    "\n",
    "At this point we have the correct topology, but the coordinates of the atoms are completely wrong."
   ]
  },
  {
   "cell_type": "markdown",
   "id": "fd086f10",
   "metadata": {},
   "source": [
    "### Loading the structure in MDAnalysis\n",
    "\n",
    "MDAnalysis tries to be interoperable with as many tools as possible. Since version 2.0.0, it is possible to create a universe from an RDKit molecule, and vice versa.\n",
    "\n",
    "Create a universe `u` from our RDKit peptive, then visualise the universe using NGLview."
   ]
  },
  {
   "cell_type": "code",
   "execution_count": 7,
   "id": "75f9ce27",
   "metadata": {},
   "outputs": [],
   "source": [
    "u = mda.Universe(peptide)"
   ]
  },
  {
   "cell_type": "code",
   "execution_count": 8,
   "id": "16a2ad4c",
   "metadata": {},
   "outputs": [
    {
     "name": "stderr",
     "output_type": "stream",
     "text": [
      "c:\\users\\dr19502\\dev\\mdanalysis\\package\\MDAnalysis\\coordinates\\PDB.py:749: UserWarning: Unit cell dimensions not found. CRYST1 record set to unitary values.\n",
      "  warnings.warn(\"Unit cell dimensions not found. \"\n",
      "c:\\users\\dr19502\\dev\\mdanalysis\\package\\MDAnalysis\\coordinates\\PDB.py:1083: UserWarning: Found no information for attr: 'record_types' Using default value of 'ATOM'\n",
      "  \"\".format(attrname, default))\n"
     ]
    },
    {
     "data": {
      "application/vnd.jupyter.widget-view+json": {
       "model_id": "b15e82a64124482fa908c35f6fc70520",
       "version_major": 2,
       "version_minor": 0
      },
      "text/plain": [
       "NGLWidget()"
      ]
     },
     "metadata": {},
     "output_type": "display_data"
    }
   ],
   "source": [
    "v = nv.show_mdanalysis(u)\n",
    "v.add_ball_and_stick()\n",
    "v"
   ]
  },
  {
   "cell_type": "markdown",
   "id": "5dbd903c",
   "metadata": {},
   "source": [
    "### Finding the phi angles\n",
    "\n",
    "To create an alpha helix, we need to set the phi, psi, and omega dihedral angles to -60°, -50°, and 180°, respectivelly. The phi angle for a given residue is defined by the atoms `C` of the previous residue, `N`, `CA`, and `C`. The psi angle is defined by the atoms `N`, `C`, `CA`, and `N` from the next residue. Omega is defined by atoms `CA` and `C` of the previous residue, `N`, and `CA`.\n",
    "\n",
    "Before we can set the dihedral angles, we need to find them and get their current values. For each residue, create an atom group containing the 4 defining atoms of the phi angle."
   ]
  },
  {
   "cell_type": "code",
   "execution_count": 9,
   "id": "c594838a",
   "metadata": {},
   "outputs": [
    {
     "data": {
      "text/plain": [
       "[None,\n",
       " <AtomGroup with 4 atoms>,\n",
       " <AtomGroup with 4 atoms>,\n",
       " <AtomGroup with 4 atoms>,\n",
       " <AtomGroup with 4 atoms>,\n",
       " <AtomGroup with 4 atoms>,\n",
       " <AtomGroup with 4 atoms>,\n",
       " <AtomGroup with 4 atoms>,\n",
       " <AtomGroup with 4 atoms>,\n",
       " <AtomGroup with 4 atoms>,\n",
       " <AtomGroup with 4 atoms>,\n",
       " <AtomGroup with 4 atoms>,\n",
       " <AtomGroup with 4 atoms>,\n",
       " <AtomGroup with 4 atoms>,\n",
       " <AtomGroup with 4 atoms>,\n",
       " <AtomGroup with 4 atoms>,\n",
       " <AtomGroup with 4 atoms>,\n",
       " <AtomGroup with 4 atoms>,\n",
       " <AtomGroup with 4 atoms>]"
      ]
     },
     "execution_count": 9,
     "metadata": {},
     "output_type": "execute_result"
    }
   ],
   "source": [
    "u.residues.phi_selections()"
   ]
  },
  {
   "cell_type": "markdown",
   "id": "9ee2cb98",
   "metadata": {},
   "source": [
    "Calculate the angle in degrees for each phi angle."
   ]
  },
  {
   "cell_type": "code",
   "execution_count": 10,
   "id": "b0c8646e",
   "metadata": {},
   "outputs": [
    {
     "data": {
      "text/plain": [
       "[0.0,\n",
       " 0.0,\n",
       " 0.0,\n",
       " 0.0,\n",
       " 0.0,\n",
       " 180.0,\n",
       " -180.0,\n",
       " 0.0,\n",
       " 0.0,\n",
       " 0.0,\n",
       " 180.0,\n",
       " 180.0,\n",
       " 0.0,\n",
       " 0.0,\n",
       " 0.0,\n",
       " 0.0,\n",
       " 0.0,\n",
       " 0.0]"
      ]
     },
     "execution_count": 10,
     "metadata": {},
     "output_type": "execute_result"
    }
   ],
   "source": [
    "[ag.dihedral.value() for ag in u.residues.phi_selections() if ag is not None]"
   ]
  },
  {
   "cell_type": "markdown",
   "id": "9877caac",
   "metadata": {},
   "source": [
    "### Rotating around a bond\n",
    "\n"
   ]
  },
  {
   "cell_type": "markdown",
   "id": "51bb0e02",
   "metadata": {},
   "source": [
    "### Building the helix"
   ]
  },
  {
   "cell_type": "code",
   "execution_count": 11,
   "id": "22bccedd",
   "metadata": {},
   "outputs": [],
   "source": [
    "def set_dihedrals(ag, target_dihedral, dihedral_name):\n",
    "    all_atoms = ag.universe.atoms\n",
    "    \n",
    "    for residue in ag.residues:\n",
    "        if dihedral_name == 'phi':\n",
    "            dihedral_selection = residue.phi_selection()\n",
    "        elif dihedral_name == 'psi':\n",
    "            dihedral_selection = residue.psi_selection()\n",
    "        elif dihedral_name == 'omega':\n",
    "            dihedral_selection = residue.omega_selection()\n",
    "        else:\n",
    "            raise ValueError(f'dihedral_name cannot be \"{dihedral_name}\"')\n",
    "\n",
    "        if dihedral_selection is None:\n",
    "            continue\n",
    "\n",
    "        central_bond = dihedral_selection.intra_bonds[1]\n",
    "        bond_vector = central_bond.atoms[1].position - central_bond.atoms[0].position\n",
    "        center = central_bond.atoms[1].position\n",
    "\n",
    "        mobile = all_atoms[central_bond.atoms[1].ix:] & ag\n",
    "        \n",
    "        dihedral = dihedral_selection.dihedral.value()\n",
    "        dihedral_delta = target_dihedral - dihedral\n",
    "\n",
    "        mobile.rotateby(dihedral_delta, bond_vector, center)"
   ]
  },
  {
   "cell_type": "code",
   "execution_count": 12,
   "id": "3e46e99f",
   "metadata": {},
   "outputs": [],
   "source": [
    "set_dihedrals(u.atoms, -60, 'phi')"
   ]
  },
  {
   "cell_type": "code",
   "execution_count": 13,
   "id": "fc06e01c",
   "metadata": {},
   "outputs": [],
   "source": [
    "set_dihedrals(u.atoms, -50, 'psi')"
   ]
  },
  {
   "cell_type": "code",
   "execution_count": 14,
   "id": "a9ef8604",
   "metadata": {},
   "outputs": [],
   "source": [
    "set_dihedrals(u.atoms, 180, 'omega')"
   ]
  },
  {
   "cell_type": "code",
   "execution_count": 15,
   "id": "2c5df703",
   "metadata": {},
   "outputs": [
    {
     "data": {
      "application/vnd.jupyter.widget-view+json": {
       "model_id": "779c05da4d1f477ab0c7075caaaea55e",
       "version_major": 2,
       "version_minor": 0
      },
      "text/plain": [
       "NGLWidget()"
      ]
     },
     "metadata": {},
     "output_type": "display_data"
    }
   ],
   "source": [
    "v = nv.show_mdanalysis(u)\n",
    "v.add_ball_and_stick()\n",
    "v"
   ]
  },
  {
   "cell_type": "markdown",
   "id": "53e4978e",
   "metadata": {},
   "source": [
    "## Fix the side chains with OpenMM"
   ]
  },
  {
   "cell_type": "markdown",
   "id": "3f35901b",
   "metadata": {},
   "source": [
    "### Setting a box size"
   ]
  },
  {
   "cell_type": "code",
   "execution_count": 16,
   "id": "62ffcb0f",
   "metadata": {},
   "outputs": [],
   "source": [
    "u.dimensions = [100, 100, 100, 90, 90, 90]"
   ]
  },
  {
   "cell_type": "markdown",
   "id": "bf982abc",
   "metadata": {},
   "source": [
    "### Adding the hydrogen atoms"
   ]
  },
  {
   "cell_type": "code",
   "execution_count": 17,
   "id": "831a63d5",
   "metadata": {},
   "outputs": [],
   "source": [
    "u.atoms.write('walp_broken.pdb')"
   ]
  },
  {
   "cell_type": "code",
   "execution_count": 18,
   "id": "11171e59",
   "metadata": {},
   "outputs": [],
   "source": [
    "fixer = pdbfixer.PDBFixer('walp_broken.pdb')"
   ]
  },
  {
   "cell_type": "code",
   "execution_count": 19,
   "id": "ce6f19b8",
   "metadata": {},
   "outputs": [],
   "source": [
    "fixer.findMissingResidues()\n",
    "fixer.findMissingAtoms()"
   ]
  },
  {
   "cell_type": "code",
   "execution_count": 20,
   "id": "f1a7f0fc",
   "metadata": {},
   "outputs": [
    {
     "data": {
      "text/plain": [
       "{}"
      ]
     },
     "execution_count": 20,
     "metadata": {},
     "output_type": "execute_result"
    }
   ],
   "source": [
    "fixer.missingAtoms"
   ]
  },
  {
   "cell_type": "code",
   "execution_count": 21,
   "id": "3f131b37",
   "metadata": {},
   "outputs": [],
   "source": [
    "fixer.addMissingHydrogens()"
   ]
  },
  {
   "cell_type": "code",
   "execution_count": 22,
   "id": "d2655b0a",
   "metadata": {},
   "outputs": [],
   "source": [
    "fixer.addMissingAtoms()"
   ]
  },
  {
   "cell_type": "code",
   "execution_count": 23,
   "id": "3a054285",
   "metadata": {},
   "outputs": [
    {
     "data": {
      "text/plain": [
       "{}"
      ]
     },
     "execution_count": 23,
     "metadata": {},
     "output_type": "execute_result"
    }
   ],
   "source": [
    "fixer.missingTerminals"
   ]
  },
  {
   "cell_type": "code",
   "execution_count": 24,
   "id": "cefe882b",
   "metadata": {},
   "outputs": [],
   "source": [
    "fixer.findNonstandardResidues()"
   ]
  },
  {
   "cell_type": "code",
   "execution_count": 25,
   "id": "c00a4588",
   "metadata": {},
   "outputs": [
    {
     "data": {
      "text/plain": [
       "[]"
      ]
     },
     "execution_count": 25,
     "metadata": {},
     "output_type": "execute_result"
    }
   ],
   "source": [
    "fixer.nonstandardResidues"
   ]
  },
  {
   "cell_type": "code",
   "execution_count": 26,
   "id": "c209ed4a",
   "metadata": {},
   "outputs": [],
   "source": [
    "fixer.replaceNonstandardResidues()"
   ]
  },
  {
   "cell_type": "markdown",
   "id": "a518e824",
   "metadata": {},
   "source": [
    "### Loading the structure with hydrogen atoms in MDAnalysis"
   ]
  },
  {
   "cell_type": "code",
   "execution_count": 27,
   "id": "a13660c2",
   "metadata": {},
   "outputs": [],
   "source": [
    "q = fixer.positions.value_in_unit(unit.angstrom)"
   ]
  },
  {
   "cell_type": "code",
   "execution_count": 28,
   "id": "43257598",
   "metadata": {},
   "outputs": [
    {
     "data": {
      "text/plain": [
       "[7.843999862670898, -8.059999942779541, 0.0]"
      ]
     },
     "execution_count": 28,
     "metadata": {},
     "output_type": "execute_result"
    }
   ],
   "source": [
    "list(q[0])"
   ]
  },
  {
   "cell_type": "code",
   "execution_count": 29,
   "id": "4d18fc10",
   "metadata": {},
   "outputs": [],
   "source": [
    "a = mda.Universe(fixer.topology, np.array(q), topology_format='OPENMMTOPOLOGY')"
   ]
  },
  {
   "cell_type": "code",
   "execution_count": 30,
   "id": "57561139",
   "metadata": {},
   "outputs": [
    {
     "data": {
      "text/plain": [
       "<Universe with 309 atoms>"
      ]
     },
     "execution_count": 30,
     "metadata": {},
     "output_type": "execute_result"
    }
   ],
   "source": [
    "a"
   ]
  },
  {
   "cell_type": "code",
   "execution_count": 31,
   "id": "ef2e29ef",
   "metadata": {},
   "outputs": [],
   "source": [
    "backbone = a.select_atoms('name N CA C')\n",
    "backbone_id = backbone.ix\n",
    "backbobe_pos = backbone.positions"
   ]
  },
  {
   "cell_type": "code",
   "execution_count": 32,
   "id": "a269f589",
   "metadata": {},
   "outputs": [
    {
     "data": {
      "text/plain": [
       "array(['N', 'CA', 'C', 'N', 'CA', 'C', 'N', 'CA', 'C', 'N', 'CA', 'C',\n",
       "       'N', 'CA', 'C', 'N', 'CA', 'C', 'N', 'CA', 'C', 'N', 'CA', 'C',\n",
       "       'N', 'CA', 'C', 'N', 'CA', 'C', 'N', 'CA', 'C', 'N', 'CA', 'C',\n",
       "       'N', 'CA', 'C', 'N', 'CA', 'C', 'N', 'CA', 'C', 'N', 'CA', 'C',\n",
       "       'N', 'CA', 'C', 'N', 'CA', 'C', 'N', 'CA', 'C'], dtype=object)"
      ]
     },
     "execution_count": 32,
     "metadata": {},
     "output_type": "execute_result"
    }
   ],
   "source": [
    "backbone.names"
   ]
  },
  {
   "cell_type": "markdown",
   "id": "d27fef75",
   "metadata": {},
   "source": [
    "### Buiding the simulation for the energy minimisation"
   ]
  },
  {
   "cell_type": "code",
   "execution_count": 33,
   "id": "97c52d7f",
   "metadata": {},
   "outputs": [],
   "source": [
    "forcefield = app.ForceField('amber10.xml', 'amber10_obc.xml')"
   ]
  },
  {
   "cell_type": "code",
   "execution_count": 34,
   "id": "708bee3a",
   "metadata": {},
   "outputs": [],
   "source": [
    "system = forcefield.createSystem(fixer.topology)"
   ]
  },
  {
   "cell_type": "code",
   "execution_count": 35,
   "id": "1a1f159b",
   "metadata": {},
   "outputs": [],
   "source": [
    "force = openmm.CustomExternalForce('k * periodicdistance(x, y, z, x0, y0, z0)^2')\n",
    "force.addGlobalParameter('k', 1e5 * unit.kilocalorie_per_mole / unit.nanometer ** 2)\n",
    "force.addPerParticleParameter('x0')\n",
    "force.addPerParticleParameter('y0')\n",
    "force.addPerParticleParameter('z0')\n",
    "\n",
    "for atom in backbone:\n",
    "    position = [pos / 10 for pos in atom.position]\n",
    "    force.addParticle(int(atom.ix), position)"
   ]
  },
  {
   "cell_type": "code",
   "execution_count": 36,
   "id": "3f4a3ad1",
   "metadata": {},
   "outputs": [
    {
     "data": {
      "text/plain": [
       "6"
      ]
     },
     "execution_count": 36,
     "metadata": {},
     "output_type": "execute_result"
    }
   ],
   "source": [
    "system.addForce(force)"
   ]
  },
  {
   "cell_type": "code",
   "execution_count": 37,
   "id": "2f418786",
   "metadata": {},
   "outputs": [],
   "source": [
    "integrator = openmm.LangevinIntegrator(300 * unit.kelvin, 1 / unit.picosecond, 2 * unit.femtosecond)"
   ]
  },
  {
   "cell_type": "code",
   "execution_count": 38,
   "id": "c6e6ed71",
   "metadata": {},
   "outputs": [],
   "source": [
    "simulation = app.Simulation(fixer.topology, system, integrator)"
   ]
  },
  {
   "cell_type": "code",
   "execution_count": 39,
   "id": "c1a1aa50",
   "metadata": {},
   "outputs": [
    {
     "data": {
      "text/plain": [
       "Quantity(value=[Vec3(x=10.0, y=0.0, z=0.0), Vec3(x=0.0, y=10.0, z=0.0), Vec3(x=0.0, y=0.0, z=10.0)], unit=nanometer)"
      ]
     },
     "execution_count": 39,
     "metadata": {},
     "output_type": "execute_result"
    }
   ],
   "source": [
    "simulation.context.getState().getPeriodicBoxVectors()"
   ]
  },
  {
   "cell_type": "code",
   "execution_count": 40,
   "id": "e989543e",
   "metadata": {},
   "outputs": [],
   "source": [
    "simulation.context.setPositions(fixer.positions)"
   ]
  },
  {
   "cell_type": "code",
   "execution_count": 41,
   "id": "4eac3f80",
   "metadata": {},
   "outputs": [],
   "source": [
    "simulation.minimizeEnergy()"
   ]
  },
  {
   "cell_type": "markdown",
   "id": "e5ccfd27",
   "metadata": {},
   "source": [
    "## Check the final backbone with MDAnalysis"
   ]
  },
  {
   "cell_type": "code",
   "execution_count": 42,
   "id": "5993a7ef",
   "metadata": {},
   "outputs": [
    {
     "name": "stderr",
     "output_type": "stream",
     "text": [
      "c:\\users\\dr19502\\dev\\mdanalysis\\package\\MDAnalysis\\coordinates\\base.py:873: UserWarning: Reader has no dt information, set to 1.0 ps\n",
      "  warnings.warn(\"Reader has no dt information, set to 1.0 ps\")\n"
     ]
    }
   ],
   "source": [
    "minimized = mda.Universe(simulation)"
   ]
  },
  {
   "cell_type": "code",
   "execution_count": 43,
   "id": "e3f80e28",
   "metadata": {},
   "outputs": [
    {
     "name": "stderr",
     "output_type": "stream",
     "text": [
      "c:\\users\\dr19502\\dev\\mdanalysis\\package\\MDAnalysis\\coordinates\\PDB.py:1083: UserWarning: Found no information for attr: 'altLocs' Using default value of ' '\n",
      "  \"\".format(attrname, default))\n",
      "c:\\users\\dr19502\\dev\\mdanalysis\\package\\MDAnalysis\\coordinates\\PDB.py:1083: UserWarning: Found no information for attr: 'icodes' Using default value of ' '\n",
      "  \"\".format(attrname, default))\n",
      "c:\\users\\dr19502\\dev\\mdanalysis\\package\\MDAnalysis\\coordinates\\PDB.py:1083: UserWarning: Found no information for attr: 'occupancies' Using default value of '1.0'\n",
      "  \"\".format(attrname, default))\n",
      "c:\\users\\dr19502\\dev\\mdanalysis\\package\\MDAnalysis\\coordinates\\PDB.py:1083: UserWarning: Found no information for attr: 'tempfactors' Using default value of '0.0'\n",
      "  \"\".format(attrname, default))\n"
     ]
    },
    {
     "data": {
      "application/vnd.jupyter.widget-view+json": {
       "model_id": "d3919b7ad69040c29c35d2e08786b2bf",
       "version_major": 2,
       "version_minor": 0
      },
      "text/plain": [
       "NGLWidget()"
      ]
     },
     "metadata": {},
     "output_type": "display_data"
    }
   ],
   "source": [
    "v = nv.show_mdanalysis(minimized)\n",
    "v.add_ball_and_stick()\n",
    "v"
   ]
  },
  {
   "cell_type": "code",
   "execution_count": 44,
   "id": "f0d4b430",
   "metadata": {},
   "outputs": [
    {
     "data": {
      "text/plain": [
       "[-59.492220507734224,\n",
       " -60.36865323259409,\n",
       " -58.68129392560252,\n",
       " -59.26391457277813,\n",
       " -61.11078533982478,\n",
       " -58.6628735923284,\n",
       " -59.35799157407433,\n",
       " -58.86658362418761,\n",
       " -61.01399940549937,\n",
       " -58.38069948697132,\n",
       " -59.79951127158953,\n",
       " -59.164112548113074,\n",
       " -61.076382175780886,\n",
       " -58.593848505071826,\n",
       " -62.689985060619804,\n",
       " -59.79354020396948,\n",
       " -62.00291144652154,\n",
       " -60.620870911498464]"
      ]
     },
     "execution_count": 44,
     "metadata": {},
     "output_type": "execute_result"
    }
   ],
   "source": [
    "[ag.dihedral.value() for ag in minimized.residues.phi_selections() if ag is not None]"
   ]
  },
  {
   "cell_type": "code",
   "execution_count": 45,
   "id": "f085053f",
   "metadata": {},
   "outputs": [
    {
     "data": {
      "text/plain": [
       "[-51.555597858910645,\n",
       " -51.387671881706126,\n",
       " -50.20910283717849,\n",
       " -55.43582778337577,\n",
       " -50.77139265256178,\n",
       " -53.99281530648902,\n",
       " -51.00621673401099,\n",
       " -54.60458027560704,\n",
       " -50.81309219954772,\n",
       " -53.89285894478256,\n",
       " -50.983358292454646,\n",
       " -54.41553220856698,\n",
       " -50.23137939576318,\n",
       " -53.86027979626206,\n",
       " -50.67159948532674,\n",
       " -51.19996069033115,\n",
       " -49.40124500818488,\n",
       " -50.04375245446344]"
      ]
     },
     "execution_count": 45,
     "metadata": {},
     "output_type": "execute_result"
    }
   ],
   "source": [
    "[ag.dihedral.value() for ag in minimized.residues.psi_selections() if ag is not None]"
   ]
  },
  {
   "cell_type": "code",
   "execution_count": 46,
   "id": "272a851c",
   "metadata": {},
   "outputs": [
    {
     "data": {
      "text/plain": [
       "[-179.09017084670757,\n",
       " -179.9805511738878,\n",
       " 179.9561825839601,\n",
       " -178.44132769853996,\n",
       " -179.01594098560065,\n",
       " -178.5223353712873,\n",
       " -179.7523365905133,\n",
       " -178.6857342141093,\n",
       " -179.35116647163497,\n",
       " -178.70508828287615,\n",
       " -179.6648320236203,\n",
       " -178.64227741313428,\n",
       " -179.7972128260878,\n",
       " -178.6489635149483,\n",
       " -179.20789711105743,\n",
       " -179.6836603475026,\n",
       " 179.59541444197853,\n",
       " -179.83681754484314]"
      ]
     },
     "execution_count": 46,
     "metadata": {},
     "output_type": "execute_result"
    }
   ],
   "source": [
    "[ag.dihedral.value() for ag in minimized.residues.omega_selections() if ag is not None]"
   ]
  },
  {
   "cell_type": "code",
   "execution_count": null,
   "id": "9c1a0a00",
   "metadata": {},
   "outputs": [],
   "source": []
  }
 ],
 "metadata": {
  "kernelspec": {
   "display_name": "Python 3",
   "language": "python",
   "name": "python3"
  },
  "language_info": {
   "codemirror_mode": {
    "name": "ipython",
    "version": 3
   },
   "file_extension": ".py",
   "mimetype": "text/x-python",
   "name": "python",
   "nbconvert_exporter": "python",
   "pygments_lexer": "ipython3",
   "version": "3.7.6"
  }
 },
 "nbformat": 4,
 "nbformat_minor": 5
}
